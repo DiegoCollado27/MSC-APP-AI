{
  "nbformat": 4,
  "nbformat_minor": 0,
  "metadata": {
    "colab": {
      "provenance": []
    },
    "kernelspec": {
      "name": "python3",
      "display_name": "Python 3"
    },
    "language_info": {
      "name": "python"
    }
  },
  "cells": [
    {
      "cell_type": "markdown",
      "source": [
        "Cuaderno basado en:\n",
        "Skforecast: forecasting series temporales con Python y Scikitlearn by Joaquín Amat Rodrigo and Javier Escobar Ortiz, available under a Attribution 4.0 International (CC BY 4.0) at https://www.cienciadedatos.net/py27-forecasting-series-temporales-python-scikitlearn.html"
      ],
      "metadata": {
        "id": "vdge0iIKAhZQ"
      }
    },
    {
      "cell_type": "code",
      "execution_count": null,
      "metadata": {
        "id": "aPJT8ibNvMMf"
      },
      "outputs": [],
      "source": [
        "!pip install skforecast\n"
      ]
    },
    {
      "cell_type": "markdown",
      "source": [
        "# **IMPORTAR BIBLIOTECAS**"
      ],
      "metadata": {
        "id": "wCUEeqOHz0FL"
      }
    },
    {
      "cell_type": "code",
      "source": [
        "# Data manipulation\n",
        "# ==============================================================================\n",
        "import numpy as np\n",
        "import pandas as pd\n",
        "\n",
        "# Plots\n",
        "# ==============================================================================\n",
        "import matplotlib.pyplot as plt\n",
        "plt.style.use('fivethirtyeight')\n",
        "plt.rcParams['lines.linewidth'] = 1.5\n",
        "%matplotlib inline\n",
        "\n",
        "# Modeling and Forecasting\n",
        "# ==============================================================================\n",
        "from sklearn.linear_model import LinearRegression\n",
        "from sklearn.linear_model import Lasso\n",
        "from sklearn.ensemble import RandomForestRegressor\n",
        "from sklearn.metrics import mean_squared_error\n",
        "from sklearn.preprocessing import StandardScaler\n",
        "from sklearn.pipeline import make_pipeline\n",
        "\n",
        "from skforecast.ForecasterAutoreg import ForecasterAutoreg\n",
        "from skforecast.ForecasterAutoregCustom import ForecasterAutoregCustom\n",
        "from skforecast.ForecasterAutoregDirect import ForecasterAutoregDirect\n",
        "from skforecast.model_selection import grid_search_forecaster\n",
        "from skforecast.model_selection import backtesting_forecaster\n",
        "from skforecast.utils import save_forecaster\n",
        "from skforecast.utils import load_forecaster\n",
        "\n",
        "# Warnings configuration\n",
        "# ==============================================================================\n",
        "import warnings\n",
        "# warnings.filterwarnings('ignore')"
      ],
      "metadata": {
        "id": "1TRToEkyvixI"
      },
      "execution_count": null,
      "outputs": []
    },
    {
      "cell_type": "markdown",
      "source": [
        "# ***CARGA DE DATOS***"
      ],
      "metadata": {
        "id": "APjIPXNM0GHs"
      }
    },
    {
      "cell_type": "code",
      "source": [
        "# Descarga de datos - REEMPLAZAR POR CONJUNTO DE DATOS SELECCIONADO\n",
        "# ==============================================================================\n",
        "datos = pd.read_csv('direccion/del/fichero', sep=',')"
      ],
      "metadata": {
        "id": "vY9V63-ugLlJ"
      },
      "execution_count": null,
      "outputs": []
    },
    {
      "cell_type": "markdown",
      "source": [
        "# ***PREPARACIÓN DE DATOS***"
      ],
      "metadata": {
        "id": "-8DDhcR10vcT"
      }
    },
    {
      "cell_type": "code",
      "source": [
        "# Preparación de los datos\n",
        "# Se espera un fichero con la columna 'fecha', la variable 'y' y, al menos\n",
        "# una variable exógena\n",
        "# ==============================================================================\n",
        "datos['fecha'] = pd.to_datetime(datos['fecha'], format='%Y/%m/%d') #Ajustar según el tipo de datos\n",
        "datos = datos.set_index('fecha')\n",
        "datos = datos.rename(columns={'x': 'y'}) # Renombrar columnas en caso de ser necesario\n",
        "datos = datos.asfreq('MS') # Ajustar la frecuencia al tipo de datos\n",
        "datos = datos.sort_index()\n",
        "datos.head()"
      ],
      "metadata": {
        "id": "lRFbanX0g4Yg"
      },
      "execution_count": null,
      "outputs": []
    },
    {
      "cell_type": "code",
      "source": [
        "print(f'Número de filas con missing values: {datos.isnull().any(axis=1).mean()}')"
      ],
      "metadata": {
        "id": "Lx6SF9nUiZQu"
      },
      "execution_count": null,
      "outputs": []
    },
    {
      "cell_type": "code",
      "source": [
        "# Verificar que un índice temporal está completo\n",
        "# ==============================================================================\n",
        "(datos.index == pd.date_range(\n",
        "                    start = datos.index.min(),\n",
        "                    end   = datos.index.max(),\n",
        "                    freq  = datos.index.freq)\n",
        ").all()"
      ],
      "metadata": {
        "id": "BxIIVoDYih9o"
      },
      "execution_count": null,
      "outputs": []
    },
    {
      "cell_type": "code",
      "source": [
        "# Generación de conjuntos de datos train-test\n",
        "# ==============================================================================\n",
        "steps = 36 # Definir el tamaño del conjunto de test\n",
        "datos_train = datos[:-steps]\n",
        "datos_test  = datos[-steps:]\n",
        "\n",
        "print(f\"Fechas train : {datos_train.index.min()} --- {datos_train.index.max()}  (n={len(datos_train)})\")\n",
        "print(f\"Fechas test  : {datos_test.index.min()} --- {datos_test.index.max()}  (n={len(datos_test)})\")\n",
        "\n",
        "fig, ax = plt.subplots(figsize=(9, 4))\n",
        "datos_train['y'].plot(ax=ax, label='train')\n",
        "datos_test['y'].plot(ax=ax, label='test')\n",
        "ax.legend();"
      ],
      "metadata": {
        "id": "Gh4M2Z0ckKs2"
      },
      "execution_count": null,
      "outputs": []
    },
    {
      "cell_type": "markdown",
      "source": [
        "### **EXPERIMENTO #1**"
      ],
      "metadata": {
        "id": "LkJFZFyi3nM7"
      }
    },
    {
      "cell_type": "code",
      "source": [
        "# Crear y entrenar forecaster\n",
        "# ==============================================================================\n",
        "forecaster = ForecasterAutoreg(\n",
        "                regressor = RandomForestRegressor(random_state=123),\n",
        "                lags = 6\n",
        "             )\n",
        "\n",
        "forecaster.fit(y=datos_train['y']) # cambiar el nombre de la variable objetivo\n",
        "forecaster"
      ],
      "metadata": {
        "id": "qdtd246l68_-"
      },
      "execution_count": null,
      "outputs": []
    },
    {
      "cell_type": "code",
      "source": [
        "# Generación de Predicciones\n",
        "# ==============================================================================\n",
        "steps = 36 # número de predicciones\n",
        "predicciones = forecaster.predict(steps=steps)\n",
        "predicciones.head(5)"
      ],
      "metadata": {
        "id": "iCeGPHjV7k48"
      },
      "execution_count": null,
      "outputs": []
    },
    {
      "cell_type": "code",
      "source": [
        "# Gráfico\n",
        "# ==============================================================================\n",
        "fig, ax = plt.subplots(figsize=(9, 4))\n",
        "datos_train['y'].plot(ax=ax, label='train')\n",
        "datos_test['y'].plot(ax=ax, label='test')\n",
        "predicciones.plot(ax=ax, label='predicciones')\n",
        "ax.legend();"
      ],
      "metadata": {
        "id": "c3u4OrRh7sSf"
      },
      "execution_count": null,
      "outputs": []
    },
    {
      "cell_type": "markdown",
      "source": [
        "### **EXPERIMENTO #2**"
      ],
      "metadata": {
        "id": "ERiMBs7h4dwa"
      }
    },
    {
      "cell_type": "code",
      "source": [
        "# Grid search de hiperparámetros\n",
        "# ==============================================================================\n",
        "steps = 36\n",
        "forecaster = ForecasterAutoreg(\n",
        "                regressor = RandomForestRegressor(random_state=123),\n",
        "                lags      = 12 # Este valor será remplazado en el grid search\n",
        "             )\n",
        "\n",
        "# Lags utilizados como predictores\n",
        "lags_grid = [10, 20]\n",
        "\n",
        "# Hiperparámetros del regresor\n",
        "# https://scikit-learn.org/stable/modules/generated/sklearn.ensemble.RandomForestRegressor.html\n",
        "\n",
        "param_grid = {'n_estimators': [100, 500],\n",
        "              'max_depth': [3, 5, 10]}\n",
        "\n",
        "resultados_grid = grid_search_forecaster(\n",
        "                        forecaster         = forecaster,\n",
        "                        y                  = datos_train['y'],\n",
        "                        param_grid         = param_grid,\n",
        "                        lags_grid          = lags_grid,\n",
        "                        steps              = steps,\n",
        "                        refit              = True,\n",
        "                        metric             = 'mean_squared_error',\n",
        "                        initial_train_size = int(len(datos_train)*0.5),\n",
        "                        fixed_train_size   = False,\n",
        "                        return_best        = True,\n",
        "                        verbose            = False\n",
        "                   )"
      ],
      "metadata": {
        "id": "zuW3pw-e8yNh"
      },
      "execution_count": null,
      "outputs": []
    },
    {
      "cell_type": "code",
      "source": [
        "# Resultados Grid Search\n",
        "# ==============================================================================\n",
        "resultados_grid"
      ],
      "metadata": {
        "id": "HSbfS_6W9ZDS"
      },
      "execution_count": null,
      "outputs": []
    },
    {
      "cell_type": "code",
      "source": [
        "# Crear y entrenar forecaster con mejores hiperparámetros\n",
        "# ==============================================================================\n",
        "regressor = RandomForestRegressor(max_depth=3, n_estimators=500, random_state=123)\n",
        "forecaster = ForecasterAutoreg(\n",
        "                regressor = regressor,\n",
        "                lags      = 20\n",
        "             )\n",
        "\n",
        "forecaster.fit(y=datos_train['y'])"
      ],
      "metadata": {
        "id": "GtsCozeY9vqf"
      },
      "execution_count": null,
      "outputs": []
    },
    {
      "cell_type": "code",
      "source": [
        "# Predicciones\n",
        "# ==============================================================================\n",
        "predicciones = forecaster.predict(steps=steps)"
      ],
      "metadata": {
        "id": "8_0ej9PH92dw"
      },
      "execution_count": null,
      "outputs": []
    },
    {
      "cell_type": "code",
      "source": [
        "# Gráfico\n",
        "# ==============================================================================\n",
        "fig, ax = plt.subplots(figsize=(9, 4))\n",
        "datos_train['y'].plot(ax=ax, label='train')\n",
        "datos_test['y'].plot(ax=ax, label='test')\n",
        "predicciones.plot(ax=ax, label='predicciones')\n",
        "ax.legend();"
      ],
      "metadata": {
        "id": "k_hgsmOO9_ip"
      },
      "execution_count": null,
      "outputs": []
    },
    {
      "cell_type": "code",
      "source": [
        "# Error de test\n",
        "# ==============================================================================\n",
        "error_mse = mean_squared_error(\n",
        "                y_true = datos_test['y'],\n",
        "                y_pred = predicciones\n",
        "            )\n",
        "\n",
        "print(f\"Error de test (mse) {error_mse}\")"
      ],
      "metadata": {
        "id": "2kgDX0-v-O20"
      },
      "execution_count": null,
      "outputs": []
    },
    {
      "cell_type": "markdown",
      "source": [
        "### **EXPERIMENTO #3**"
      ],
      "metadata": {
        "id": "6YR4Sp1q7n4i"
      }
    },
    {
      "cell_type": "code",
      "source": [
        "# Backtesting\n",
        "# ==============================================================================\n",
        "steps = 36\n",
        "n_backtesting = 36*3 # Se separan para el backtest los últimos 9 años\n",
        "\n",
        "metrica, predicciones_backtest = backtesting_forecaster(\n",
        "                                    forecaster         = forecaster,\n",
        "                                    y                  = datos['y'],\n",
        "                                    initial_train_size = len(datos) - n_backtesting,\n",
        "                                    fixed_train_size   = False,\n",
        "                                    steps              = steps,\n",
        "                                    refit              = True,\n",
        "                                    metric             = 'mean_squared_error',\n",
        "                                    verbose            = True\n",
        "                                 )\n",
        "\n",
        "print(f\"Error de backtest: {metrica}\")"
      ],
      "metadata": {
        "id": "0UifzeZoApLx"
      },
      "execution_count": null,
      "outputs": []
    },
    {
      "cell_type": "code",
      "source": [
        "fig, ax = plt.subplots(figsize=(9, 4))\n",
        "datos.loc[predicciones_backtest.index, 'y'].plot(ax=ax, label='test')\n",
        "predicciones_backtest.plot(ax=ax, label='predicciones')\n",
        "ax.legend();"
      ],
      "metadata": {
        "id": "mQNHzHBDA8nT"
      },
      "execution_count": null,
      "outputs": []
    },
    {
      "cell_type": "code",
      "source": [
        "# Importancia predictores\n",
        "# ==============================================================================\n",
        "importancia = forecaster.get_feature_importances()\n",
        "importancia"
      ],
      "metadata": {
        "id": "0GAN1oZbBXPY"
      },
      "execution_count": null,
      "outputs": []
    },
    {
      "cell_type": "markdown",
      "source": [
        "### **EXPERIMENTO #4**"
      ],
      "metadata": {
        "id": "qHspp86y8kV-"
      }
    },
    {
      "cell_type": "code",
      "source": [
        "fig, ax = plt.subplots(figsize=(9, 4))\n",
        "datos['y'].plot(ax=ax, label='y')\n",
        "datos['exog_1'].plot(ax=ax, label='variable exógena')\n",
        "ax.legend();"
      ],
      "metadata": {
        "id": "x9Zr7Y4OB5l1"
      },
      "execution_count": null,
      "outputs": []
    },
    {
      "cell_type": "code",
      "source": [
        "# Separación datos train-test\n",
        "# ==============================================================================\n",
        "steps = 36\n",
        "datos_train = datos[:-steps]\n",
        "datos_test  = datos[-steps:]\n",
        "\n",
        "print(f\"Fechas train : {datos_train.index.min()} --- {datos_train.index.max()}  (n={len(datos_train)})\")\n",
        "print(f\"Fechas test  : {datos_test.index.min()} --- {datos_test.index.max()}  (n={len(datos_test)})\")\n"
      ],
      "metadata": {
        "id": "sbwxjpYiCDQN",
        "colab": {
          "base_uri": "https://localhost:8080/"
        },
        "outputId": "2d373b12-2736-4939-865f-3731e16a71b6"
      },
      "execution_count": null,
      "outputs": [
        {
          "output_type": "stream",
          "name": "stdout",
          "text": [
            "Fechas train : 1992-04-01 00:00:00 --- 2005-06-01 00:00:00  (n=159)\n",
            "Fechas test  : 2005-07-01 00:00:00 --- 2008-06-01 00:00:00  (n=36)\n"
          ]
        }
      ]
    },
    {
      "cell_type": "code",
      "source": [
        "# Crear y entrenar forecaster\n",
        "# ==============================================================================\n",
        "forecaster = ForecasterAutoreg(\n",
        "                regressor = RandomForestRegressor(random_state=123),\n",
        "                lags      = 8\n",
        "             )\n",
        "\n",
        "forecaster.fit(y=datos_train['y'], exog=datos_train['exog_1'])\n",
        "forecaster"
      ],
      "metadata": {
        "id": "gxHHgheWCJkk"
      },
      "execution_count": null,
      "outputs": []
    },
    {
      "cell_type": "code",
      "source": [
        "# Predicciones\n",
        "# ==============================================================================\n",
        "predicciones = forecaster.predict(steps=steps, exog=datos_test['exog_1'])"
      ],
      "metadata": {
        "id": "8rAGRVgTCyZo"
      },
      "execution_count": null,
      "outputs": []
    },
    {
      "cell_type": "code",
      "source": [
        "# Gráfico\n",
        "# ==============================================================================\n",
        "fig, ax=plt.subplots(figsize=(9, 4))\n",
        "datos_train['y'].plot(ax=ax, label='train')\n",
        "datos_test['y'].plot(ax=ax, label='test')\n",
        "predicciones.plot(ax=ax, label='predicciones')\n",
        "ax.legend();"
      ],
      "metadata": {
        "id": "Qav1uhRnC1qA"
      },
      "execution_count": null,
      "outputs": []
    },
    {
      "cell_type": "markdown",
      "source": [
        "### **EXPERIMENTO #5**"
      ],
      "metadata": {
        "id": "bvGcgBtq9WTN"
      }
    },
    {
      "cell_type": "code",
      "source": [
        "# Grid search de hiperparámetros\n",
        "# ==============================================================================\n",
        "steps = 36\n",
        "forecaster = ForecasterAutoreg(\n",
        "                regressor = RandomForestRegressor(random_state=123),\n",
        "                lags      = 12 # Este valor será remplazado en el grid search\n",
        "             )\n",
        "\n",
        "lags_grid = [5, 12, 20]\n",
        "\n",
        "param_grid = {'n_estimators': [50, 100, 500],\n",
        "              'max_depth': [3, 5, 10]}\n",
        "\n",
        "resultados_grid = grid_search_forecaster(\n",
        "                        forecaster         = forecaster,\n",
        "                        y                  = datos_train['y'],\n",
        "                        exog               = datos_train['exog_1'],\n",
        "                        param_grid         = param_grid,\n",
        "                        lags_grid          = lags_grid,\n",
        "                        steps              = steps,\n",
        "                        refit              = True,\n",
        "                        metric             = 'mean_squared_error',\n",
        "                        initial_train_size = int(len(datos_train)*0.5),\n",
        "                        fixed_train_size   = False,\n",
        "                        return_best        = True,\n",
        "                        verbose            = False\n",
        "                    )"
      ],
      "metadata": {
        "id": "zumtwAzoC9CQ"
      },
      "execution_count": null,
      "outputs": []
    },
    {
      "cell_type": "code",
      "source": [
        "# Resultados Grid Search\n",
        "# ==============================================================================\n",
        "resultados_grid.head()\n"
      ],
      "metadata": {
        "id": "HUfy3PvtDSnF"
      },
      "execution_count": null,
      "outputs": []
    },
    {
      "cell_type": "code",
      "source": [
        "# Predicciones\n",
        "# ==============================================================================\n",
        "predicciones = forecaster.predict(steps=steps, exog=datos_test['exog_1'])\n",
        "\n",
        "# Gráfico\n",
        "# ==============================================================================\n",
        "fig, ax=plt.subplots(figsize=(9, 4))\n",
        "datos_train['y'].plot(ax=ax, label='train')\n",
        "datos_test['y'].plot(ax=ax, label='test')\n",
        "predicciones.plot(ax=ax, label='predicciones')\n",
        "ax.legend();"
      ],
      "metadata": {
        "id": "s1-fHieCEJCe"
      },
      "execution_count": null,
      "outputs": []
    },
    {
      "cell_type": "markdown",
      "source": [
        "### **EXPERIMENTO #6**"
      ],
      "metadata": {
        "id": "B56KoHPW-GL2"
      }
    },
    {
      "cell_type": "code",
      "source": [
        "# Función para calcular los predictores a partir de la serie temporal\n",
        "# ==============================================================================\n",
        "def custom_predictors(y):\n",
        "    '''\n",
        "    Crear los 10 primeros lags de una serie temporal.\n",
        "    Calcular media móvil con ventana 20.\n",
        "    '''\n",
        "\n",
        "    lags = y[-1:-11:-1]\n",
        "    mean = np.mean(y[-20:])\n",
        "    predictors = np.hstack([lags, mean])\n",
        "\n",
        "    return predictors"
      ],
      "metadata": {
        "id": "Q9-Okk7wEzW9"
      },
      "execution_count": null,
      "outputs": []
    },
    {
      "cell_type": "code",
      "source": [
        "# Crear y entrenar forecaster\n",
        "# ==============================================================================\n",
        "forecaster = ForecasterAutoregCustom(\n",
        "                regressor      = RandomForestRegressor(random_state=123),\n",
        "                fun_predictors = custom_predictors,\n",
        "                window_size    = 20\n",
        "             )\n",
        "\n",
        "forecaster.fit(y=datos_train['y'])\n",
        "forecaster"
      ],
      "metadata": {
        "id": "K9lhUU51E1Yc"
      },
      "execution_count": null,
      "outputs": []
    },
    {
      "cell_type": "code",
      "source": [
        "print(forecaster.source_code_fun_predictors)\n"
      ],
      "metadata": {
        "id": "lR_I4BOOFJFq"
      },
      "execution_count": null,
      "outputs": []
    },
    {
      "cell_type": "code",
      "source": [
        "# Predicciones\n",
        "# ==============================================================================\n",
        "steps = 36\n",
        "predicciones = forecaster.predict(steps=steps)\n"
      ],
      "metadata": {
        "id": "HsOIDIBtFfhs"
      },
      "execution_count": null,
      "outputs": []
    },
    {
      "cell_type": "code",
      "source": [
        "# Gráfico\n",
        "# ==============================================================================\n",
        "fig, ax = plt.subplots(figsize=(9, 4))\n",
        "datos_train['y'].plot(ax=ax, label='train')\n",
        "datos_test['y'].plot(ax=ax, label='test')\n",
        "predicciones.plot(ax=ax, label='predicciones')\n",
        "ax.legend();"
      ],
      "metadata": {
        "id": "CDbXSBpfFiMU"
      },
      "execution_count": null,
      "outputs": []
    },
    {
      "cell_type": "markdown",
      "source": [
        "### **EXPERIMENTO #7**"
      ],
      "metadata": {
        "id": "hSwA9ILp_80o"
      }
    },
    {
      "cell_type": "code",
      "source": [
        "# Crear y entrenar forecaster\n",
        "# ==============================================================================\n",
        "forecaster = ForecasterAutoreg(\n",
        "                    regressor = LinearRegression(),\n",
        "                    lags = 15\n",
        "             )\n",
        "\n",
        "forecaster.fit(y=datos_train['y'])\n",
        "\n",
        "# Intervalos de predicción\n",
        "# ==============================================================================\n",
        "predicciones = forecaster.predict_interval(\n",
        "                    steps    = steps,\n",
        "                    interval = [1, 99],\n",
        "                    n_boot   = 500\n",
        "               )\n",
        "\n",
        "predicciones.head(5)"
      ],
      "metadata": {
        "id": "F3acuOpkHBI7"
      },
      "execution_count": null,
      "outputs": []
    },
    {
      "cell_type": "code",
      "source": [
        "# Error de predicción\n",
        "# ==============================================================================\n",
        "error_mse = mean_squared_error(\n",
        "                y_true = datos_test['y'],\n",
        "                y_pred = predicciones['pred']\n",
        "            )\n",
        "\n",
        "print(f\"Error de test (mse): {error_mse}\")\n",
        "\n",
        "# Gráfico\n",
        "# ==============================================================================\n",
        "fig, ax = plt.subplots(figsize=(9, 4))\n",
        "datos_test['y'].plot(ax=ax, label='test')\n",
        "predicciones['pred'].plot(ax=ax, label='predicciones')\n",
        "ax.fill_between(\n",
        "    predicciones.index,\n",
        "    predicciones['lower_bound'],\n",
        "    predicciones['upper_bound'],\n",
        "    color = 'red',\n",
        "    alpha = 0.2\n",
        ")\n",
        "ax.legend();"
      ],
      "metadata": {
        "id": "ldQKleWLH7VD"
      },
      "execution_count": null,
      "outputs": []
    }
  ]
}