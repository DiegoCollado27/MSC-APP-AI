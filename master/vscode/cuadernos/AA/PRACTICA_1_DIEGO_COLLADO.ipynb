{
  "nbformat": 4,
  "nbformat_minor": 0,
  "metadata": {
    "colab": {
      "provenance": []
    },
    "kernelspec": {
      "name": "python3",
      "display_name": "Python 3"
    },
    "language_info": {
      "name": "python"
    }
  },
  "cells": [
    {
      "cell_type": "markdown",
      "source": [
        "**PRÁCTICA 1**\n",
        "\n",
        "El objetivo de esta práctica es entrenar dos modelos, uno con regresión logistica y otro con un arbol de decisión y comparar los resultados de ambos.\n",
        "Los datos usados son un conjunto de información sobre casos de infarto."
      ],
      "metadata": {
        "id": "ungNwSwPOGcU"
      }
    },
    {
      "cell_type": "markdown",
      "source": [
        "Primero vamos a importar las librerias que se han usado"
      ],
      "metadata": {
        "id": "KPKtz07MOqZp"
      }
    },
    {
      "cell_type": "code",
      "execution_count": 76,
      "metadata": {
        "id": "hK6367k4NeOK"
      },
      "outputs": [],
      "source": [
        "import sklearn\n",
        "from sklearn.linear_model import LogisticRegression\n",
        "from sklearn.tree import DecisionTreeClassifier\n",
        "from sklearn.model_selection import train_test_split\n",
        "from sklearn import tree\n",
        "from sklearn.metrics import recall_score\n",
        "from sklearn.metrics import accuracy_score\n",
        "from sklearn.metrics import confusion_matrix, ConfusionMatrixDisplay\n",
        "from sklearn.metrics import f1_score\n",
        "from sklearn.metrics import det_curve\n",
        "from sklearn.preprocessing import MinMaxScaler, StandardScaler\n",
        "from imblearn.over_sampling import RandomOverSampler\n",
        "from imblearn.under_sampling import RandomUnderSampler\n",
        "from sklearn.ensemble import RandomForestClassifier\n",
        "from collections import Counter\n",
        "import matplotlib.pyplot as plt\n",
        "import  pandas as pd\n",
        "import numpy as np"
      ]
    },
    {
      "cell_type": "markdown",
      "source": [
        "**PARTE 1. PROCESADO DE LOS DATOS**"
      ],
      "metadata": {
        "id": "ZyJoHBNzXl33"
      }
    },
    {
      "cell_type": "markdown",
      "source": [
        "el siguiente paso es comenzar a subir los datos y conocerlos (los datos deberian estar junto con la entrega)"
      ],
      "metadata": {
        "id": "0mS-SDk0O1pZ"
      }
    },
    {
      "cell_type": "code",
      "source": [
        "lectura = pd.read_csv('datos_infarto.csv')\n",
        "lectura.head()"
      ],
      "metadata": {
        "id": "u2SXlliYO1KP",
        "colab": {
          "base_uri": "https://localhost:8080/",
          "height": 206
        },
        "outputId": "19bac8fa-484e-4e51-d6b7-6511473246d6"
      },
      "execution_count": 3,
      "outputs": [
        {
          "output_type": "execute_result",
          "data": {
            "text/plain": [
              "   ID  Genero    Tipo_Trabajo Residencia_habitual Casado  Edad  Hipertension  \\\n",
              "0   1  Hombre        Autonomo              Ciudad     Si  80.0             0   \n",
              "1   2  Hombre     Funcionario              Ciudad     No  48.0             0   \n",
              "2   3   Mujer  Sector Privado               Rural     No  82.0             1   \n",
              "3   4  Hombre  Sector Privado               Rural     Si  74.0             0   \n",
              "4   5   Mujer  Sector Privado               Rural     Si  72.0             1   \n",
              "\n",
              "   Enfermedad_Corazon            Fumador  Nivel_medio_glucosa   IMC  Infarto  \n",
              "0                   1  Fumo en el pasado               252.72  30.5        1  \n",
              "1                   0    Nunca ha fumado                84.20  29.7        1  \n",
              "2                   1  Fumo en el pasado                84.03  26.5        1  \n",
              "3                   0  Fumo en el pasado               219.72  33.7        1  \n",
              "4                   0  Fumo en el pasado                74.63  23.1        1  "
            ],
            "text/html": [
              "\n",
              "  <div id=\"df-fb6047f3-5f2f-4a31-acf0-a467fd42c732\" class=\"colab-df-container\">\n",
              "    <div>\n",
              "<style scoped>\n",
              "    .dataframe tbody tr th:only-of-type {\n",
              "        vertical-align: middle;\n",
              "    }\n",
              "\n",
              "    .dataframe tbody tr th {\n",
              "        vertical-align: top;\n",
              "    }\n",
              "\n",
              "    .dataframe thead th {\n",
              "        text-align: right;\n",
              "    }\n",
              "</style>\n",
              "<table border=\"1\" class=\"dataframe\">\n",
              "  <thead>\n",
              "    <tr style=\"text-align: right;\">\n",
              "      <th></th>\n",
              "      <th>ID</th>\n",
              "      <th>Genero</th>\n",
              "      <th>Tipo_Trabajo</th>\n",
              "      <th>Residencia_habitual</th>\n",
              "      <th>Casado</th>\n",
              "      <th>Edad</th>\n",
              "      <th>Hipertension</th>\n",
              "      <th>Enfermedad_Corazon</th>\n",
              "      <th>Fumador</th>\n",
              "      <th>Nivel_medio_glucosa</th>\n",
              "      <th>IMC</th>\n",
              "      <th>Infarto</th>\n",
              "    </tr>\n",
              "  </thead>\n",
              "  <tbody>\n",
              "    <tr>\n",
              "      <th>0</th>\n",
              "      <td>1</td>\n",
              "      <td>Hombre</td>\n",
              "      <td>Autonomo</td>\n",
              "      <td>Ciudad</td>\n",
              "      <td>Si</td>\n",
              "      <td>80.0</td>\n",
              "      <td>0</td>\n",
              "      <td>1</td>\n",
              "      <td>Fumo en el pasado</td>\n",
              "      <td>252.72</td>\n",
              "      <td>30.5</td>\n",
              "      <td>1</td>\n",
              "    </tr>\n",
              "    <tr>\n",
              "      <th>1</th>\n",
              "      <td>2</td>\n",
              "      <td>Hombre</td>\n",
              "      <td>Funcionario</td>\n",
              "      <td>Ciudad</td>\n",
              "      <td>No</td>\n",
              "      <td>48.0</td>\n",
              "      <td>0</td>\n",
              "      <td>0</td>\n",
              "      <td>Nunca ha fumado</td>\n",
              "      <td>84.20</td>\n",
              "      <td>29.7</td>\n",
              "      <td>1</td>\n",
              "    </tr>\n",
              "    <tr>\n",
              "      <th>2</th>\n",
              "      <td>3</td>\n",
              "      <td>Mujer</td>\n",
              "      <td>Sector Privado</td>\n",
              "      <td>Rural</td>\n",
              "      <td>No</td>\n",
              "      <td>82.0</td>\n",
              "      <td>1</td>\n",
              "      <td>1</td>\n",
              "      <td>Fumo en el pasado</td>\n",
              "      <td>84.03</td>\n",
              "      <td>26.5</td>\n",
              "      <td>1</td>\n",
              "    </tr>\n",
              "    <tr>\n",
              "      <th>3</th>\n",
              "      <td>4</td>\n",
              "      <td>Hombre</td>\n",
              "      <td>Sector Privado</td>\n",
              "      <td>Rural</td>\n",
              "      <td>Si</td>\n",
              "      <td>74.0</td>\n",
              "      <td>0</td>\n",
              "      <td>0</td>\n",
              "      <td>Fumo en el pasado</td>\n",
              "      <td>219.72</td>\n",
              "      <td>33.7</td>\n",
              "      <td>1</td>\n",
              "    </tr>\n",
              "    <tr>\n",
              "      <th>4</th>\n",
              "      <td>5</td>\n",
              "      <td>Mujer</td>\n",
              "      <td>Sector Privado</td>\n",
              "      <td>Rural</td>\n",
              "      <td>Si</td>\n",
              "      <td>72.0</td>\n",
              "      <td>1</td>\n",
              "      <td>0</td>\n",
              "      <td>Fumo en el pasado</td>\n",
              "      <td>74.63</td>\n",
              "      <td>23.1</td>\n",
              "      <td>1</td>\n",
              "    </tr>\n",
              "  </tbody>\n",
              "</table>\n",
              "</div>\n",
              "    <div class=\"colab-df-buttons\">\n",
              "\n",
              "  <div class=\"colab-df-container\">\n",
              "    <button class=\"colab-df-convert\" onclick=\"convertToInteractive('df-fb6047f3-5f2f-4a31-acf0-a467fd42c732')\"\n",
              "            title=\"Convert this dataframe to an interactive table.\"\n",
              "            style=\"display:none;\">\n",
              "\n",
              "  <svg xmlns=\"http://www.w3.org/2000/svg\" height=\"24px\" viewBox=\"0 -960 960 960\">\n",
              "    <path d=\"M120-120v-720h720v720H120Zm60-500h600v-160H180v160Zm220 220h160v-160H400v160Zm0 220h160v-160H400v160ZM180-400h160v-160H180v160Zm440 0h160v-160H620v160ZM180-180h160v-160H180v160Zm440 0h160v-160H620v160Z\"/>\n",
              "  </svg>\n",
              "    </button>\n",
              "\n",
              "  <style>\n",
              "    .colab-df-container {\n",
              "      display:flex;\n",
              "      gap: 12px;\n",
              "    }\n",
              "\n",
              "    .colab-df-convert {\n",
              "      background-color: #E8F0FE;\n",
              "      border: none;\n",
              "      border-radius: 50%;\n",
              "      cursor: pointer;\n",
              "      display: none;\n",
              "      fill: #1967D2;\n",
              "      height: 32px;\n",
              "      padding: 0 0 0 0;\n",
              "      width: 32px;\n",
              "    }\n",
              "\n",
              "    .colab-df-convert:hover {\n",
              "      background-color: #E2EBFA;\n",
              "      box-shadow: 0px 1px 2px rgba(60, 64, 67, 0.3), 0px 1px 3px 1px rgba(60, 64, 67, 0.15);\n",
              "      fill: #174EA6;\n",
              "    }\n",
              "\n",
              "    .colab-df-buttons div {\n",
              "      margin-bottom: 4px;\n",
              "    }\n",
              "\n",
              "    [theme=dark] .colab-df-convert {\n",
              "      background-color: #3B4455;\n",
              "      fill: #D2E3FC;\n",
              "    }\n",
              "\n",
              "    [theme=dark] .colab-df-convert:hover {\n",
              "      background-color: #434B5C;\n",
              "      box-shadow: 0px 1px 3px 1px rgba(0, 0, 0, 0.15);\n",
              "      filter: drop-shadow(0px 1px 2px rgba(0, 0, 0, 0.3));\n",
              "      fill: #FFFFFF;\n",
              "    }\n",
              "  </style>\n",
              "\n",
              "    <script>\n",
              "      const buttonEl =\n",
              "        document.querySelector('#df-fb6047f3-5f2f-4a31-acf0-a467fd42c732 button.colab-df-convert');\n",
              "      buttonEl.style.display =\n",
              "        google.colab.kernel.accessAllowed ? 'block' : 'none';\n",
              "\n",
              "      async function convertToInteractive(key) {\n",
              "        const element = document.querySelector('#df-fb6047f3-5f2f-4a31-acf0-a467fd42c732');\n",
              "        const dataTable =\n",
              "          await google.colab.kernel.invokeFunction('convertToInteractive',\n",
              "                                                    [key], {});\n",
              "        if (!dataTable) return;\n",
              "\n",
              "        const docLinkHtml = 'Like what you see? Visit the ' +\n",
              "          '<a target=\"_blank\" href=https://colab.research.google.com/notebooks/data_table.ipynb>data table notebook</a>'\n",
              "          + ' to learn more about interactive tables.';\n",
              "        element.innerHTML = '';\n",
              "        dataTable['output_type'] = 'display_data';\n",
              "        await google.colab.output.renderOutput(dataTable, element);\n",
              "        const docLink = document.createElement('div');\n",
              "        docLink.innerHTML = docLinkHtml;\n",
              "        element.appendChild(docLink);\n",
              "      }\n",
              "    </script>\n",
              "  </div>\n",
              "\n",
              "\n",
              "<div id=\"df-965f65bb-792c-4585-bdce-67968f0b5737\">\n",
              "  <button class=\"colab-df-quickchart\" onclick=\"quickchart('df-965f65bb-792c-4585-bdce-67968f0b5737')\"\n",
              "            title=\"Suggest charts.\"\n",
              "            style=\"display:none;\">\n",
              "\n",
              "<svg xmlns=\"http://www.w3.org/2000/svg\" height=\"24px\"viewBox=\"0 0 24 24\"\n",
              "     width=\"24px\">\n",
              "    <g>\n",
              "        <path d=\"M19 3H5c-1.1 0-2 .9-2 2v14c0 1.1.9 2 2 2h14c1.1 0 2-.9 2-2V5c0-1.1-.9-2-2-2zM9 17H7v-7h2v7zm4 0h-2V7h2v10zm4 0h-2v-4h2v4z\"/>\n",
              "    </g>\n",
              "</svg>\n",
              "  </button>\n",
              "\n",
              "<style>\n",
              "  .colab-df-quickchart {\n",
              "      --bg-color: #E8F0FE;\n",
              "      --fill-color: #1967D2;\n",
              "      --hover-bg-color: #E2EBFA;\n",
              "      --hover-fill-color: #174EA6;\n",
              "      --disabled-fill-color: #AAA;\n",
              "      --disabled-bg-color: #DDD;\n",
              "  }\n",
              "\n",
              "  [theme=dark] .colab-df-quickchart {\n",
              "      --bg-color: #3B4455;\n",
              "      --fill-color: #D2E3FC;\n",
              "      --hover-bg-color: #434B5C;\n",
              "      --hover-fill-color: #FFFFFF;\n",
              "      --disabled-bg-color: #3B4455;\n",
              "      --disabled-fill-color: #666;\n",
              "  }\n",
              "\n",
              "  .colab-df-quickchart {\n",
              "    background-color: var(--bg-color);\n",
              "    border: none;\n",
              "    border-radius: 50%;\n",
              "    cursor: pointer;\n",
              "    display: none;\n",
              "    fill: var(--fill-color);\n",
              "    height: 32px;\n",
              "    padding: 0;\n",
              "    width: 32px;\n",
              "  }\n",
              "\n",
              "  .colab-df-quickchart:hover {\n",
              "    background-color: var(--hover-bg-color);\n",
              "    box-shadow: 0 1px 2px rgba(60, 64, 67, 0.3), 0 1px 3px 1px rgba(60, 64, 67, 0.15);\n",
              "    fill: var(--button-hover-fill-color);\n",
              "  }\n",
              "\n",
              "  .colab-df-quickchart-complete:disabled,\n",
              "  .colab-df-quickchart-complete:disabled:hover {\n",
              "    background-color: var(--disabled-bg-color);\n",
              "    fill: var(--disabled-fill-color);\n",
              "    box-shadow: none;\n",
              "  }\n",
              "\n",
              "  .colab-df-spinner {\n",
              "    border: 2px solid var(--fill-color);\n",
              "    border-color: transparent;\n",
              "    border-bottom-color: var(--fill-color);\n",
              "    animation:\n",
              "      spin 1s steps(1) infinite;\n",
              "  }\n",
              "\n",
              "  @keyframes spin {\n",
              "    0% {\n",
              "      border-color: transparent;\n",
              "      border-bottom-color: var(--fill-color);\n",
              "      border-left-color: var(--fill-color);\n",
              "    }\n",
              "    20% {\n",
              "      border-color: transparent;\n",
              "      border-left-color: var(--fill-color);\n",
              "      border-top-color: var(--fill-color);\n",
              "    }\n",
              "    30% {\n",
              "      border-color: transparent;\n",
              "      border-left-color: var(--fill-color);\n",
              "      border-top-color: var(--fill-color);\n",
              "      border-right-color: var(--fill-color);\n",
              "    }\n",
              "    40% {\n",
              "      border-color: transparent;\n",
              "      border-right-color: var(--fill-color);\n",
              "      border-top-color: var(--fill-color);\n",
              "    }\n",
              "    60% {\n",
              "      border-color: transparent;\n",
              "      border-right-color: var(--fill-color);\n",
              "    }\n",
              "    80% {\n",
              "      border-color: transparent;\n",
              "      border-right-color: var(--fill-color);\n",
              "      border-bottom-color: var(--fill-color);\n",
              "    }\n",
              "    90% {\n",
              "      border-color: transparent;\n",
              "      border-bottom-color: var(--fill-color);\n",
              "    }\n",
              "  }\n",
              "</style>\n",
              "\n",
              "  <script>\n",
              "    async function quickchart(key) {\n",
              "      const quickchartButtonEl =\n",
              "        document.querySelector('#' + key + ' button');\n",
              "      quickchartButtonEl.disabled = true;  // To prevent multiple clicks.\n",
              "      quickchartButtonEl.classList.add('colab-df-spinner');\n",
              "      try {\n",
              "        const charts = await google.colab.kernel.invokeFunction(\n",
              "            'suggestCharts', [key], {});\n",
              "      } catch (error) {\n",
              "        console.error('Error during call to suggestCharts:', error);\n",
              "      }\n",
              "      quickchartButtonEl.classList.remove('colab-df-spinner');\n",
              "      quickchartButtonEl.classList.add('colab-df-quickchart-complete');\n",
              "    }\n",
              "    (() => {\n",
              "      let quickchartButtonEl =\n",
              "        document.querySelector('#df-965f65bb-792c-4585-bdce-67968f0b5737 button');\n",
              "      quickchartButtonEl.style.display =\n",
              "        google.colab.kernel.accessAllowed ? 'block' : 'none';\n",
              "    })();\n",
              "  </script>\n",
              "</div>\n",
              "    </div>\n",
              "  </div>\n"
            ]
          },
          "metadata": {},
          "execution_count": 3
        }
      ]
    },
    {
      "cell_type": "markdown",
      "source": [
        "En un primer análisis podemos ver varias cosas que nos pueden chirriar, por lo general la columna de id la eliminamos para evitar problemas (de hecho en este caso es esencial ya que la columna de id en este caso es identificativa de cada enfermedad por lo que si la usamos, nuestro clasificador simplemente aprendera esta norma)"
      ],
      "metadata": {
        "id": "YiYs5itbcTUR"
      }
    },
    {
      "cell_type": "code",
      "source": [
        "lectura = lectura.drop(['ID'], axis=1)"
      ],
      "metadata": {
        "id": "H6YYqNr2TOhW"
      },
      "execution_count": 7,
      "outputs": []
    },
    {
      "cell_type": "markdown",
      "source": [
        "Antes de continuar vamos a dejar ya separados los labels y nuestros datos para trabajar sobre ellos"
      ],
      "metadata": {
        "id": "MEl-A-QYUj_o"
      }
    },
    {
      "cell_type": "code",
      "source": [
        "y = lectura['Infarto']\n",
        "x = lectura.drop(['Infarto'], axis=1)"
      ],
      "metadata": {
        "id": "5NYLEvDPUrOU"
      },
      "execution_count": 9,
      "outputs": []
    },
    {
      "cell_type": "markdown",
      "source": [
        "Después algo muy importante que salta a la vista es el tipo de datos que tenemos, vamos a comprobarlo aunque a simple vista lo veamos"
      ],
      "metadata": {
        "id": "CWo_bCyxTmP3"
      }
    },
    {
      "cell_type": "code",
      "source": [
        "lectura.dtypes"
      ],
      "metadata": {
        "colab": {
          "base_uri": "https://localhost:8080/"
        },
        "id": "-TleDwdfT4XE",
        "outputId": "a0d3e2ca-2438-4168-8407-cf73430e83a0"
      },
      "execution_count": 10,
      "outputs": [
        {
          "output_type": "execute_result",
          "data": {
            "text/plain": [
              "Genero                  object\n",
              "Tipo_Trabajo            object\n",
              "Residencia_habitual     object\n",
              "Casado                  object\n",
              "Edad                   float64\n",
              "Hipertension             int64\n",
              "Enfermedad_Corazon       int64\n",
              "Fumador                 object\n",
              "Nivel_medio_glucosa    float64\n",
              "IMC                    float64\n",
              "Infarto                  int64\n",
              "dtype: object"
            ]
          },
          "metadata": {},
          "execution_count": 10
        }
      ]
    },
    {
      "cell_type": "markdown",
      "source": [
        "observamos como tenemos varias columnas de tipo object que no podremos meter de manera directa a nuestro clasificador, la mejor manera de abordar esto es con la función de dummies que nos convierte cada columna con valor object en diferentes columnas con valores binarios para cada posibilidad, viendolo se entiende mejor"
      ],
      "metadata": {
        "id": "SwfDRx-8UBDZ"
      }
    },
    {
      "cell_type": "code",
      "source": [
        "columnas_a_dummies = ['Genero','Tipo_Trabajo','Residencia_habitual','Casado','Fumador'] #elegimos las columnas que queremos transformar\n",
        "df_dummies = pd.get_dummies(x, columns=columnas_a_dummies) #las transformamos y las metemos en el nuevo dataframe\n",
        "colnomod = ['Edad','Hipertension','Enfermedad_Corazon','Nivel_medio_glucosa','IMC']\n",
        "df_dummies[colnomod] = x[colnomod] #introducimos el resto de columnas en e nuevo dataframe\n",
        "df_dummies.head()"
      ],
      "metadata": {
        "colab": {
          "base_uri": "https://localhost:8080/",
          "height": 243
        },
        "id": "20s6ZorCUeUs",
        "outputId": "2b772d2b-42c5-4122-b109-2789beeccbc6"
      },
      "execution_count": 11,
      "outputs": [
        {
          "output_type": "execute_result",
          "data": {
            "text/plain": [
              "   Edad  Hipertension  Enfermedad_Corazon  Nivel_medio_glucosa   IMC  \\\n",
              "0  80.0             0                   1               252.72  30.5   \n",
              "1  48.0             0                   0                84.20  29.7   \n",
              "2  82.0             1                   1                84.03  26.5   \n",
              "3  74.0             0                   0               219.72  33.7   \n",
              "4  72.0             1                   0                74.63  23.1   \n",
              "\n",
              "   Genero_Hombre  Genero_Mujer  Tipo_Trabajo_Autonomo  \\\n",
              "0              1             0                      1   \n",
              "1              1             0                      0   \n",
              "2              0             1                      0   \n",
              "3              1             0                      0   \n",
              "4              0             1                      0   \n",
              "\n",
              "   Tipo_Trabajo_Funcionario  Tipo_Trabajo_Menor  Tipo_Trabajo_Sector Privado  \\\n",
              "0                         0                   0                            0   \n",
              "1                         1                   0                            0   \n",
              "2                         0                   0                            1   \n",
              "3                         0                   0                            1   \n",
              "4                         0                   0                            1   \n",
              "\n",
              "   Residencia_habitual_Ciudad  Residencia_habitual_Rural  Casado_No  \\\n",
              "0                           1                          0          0   \n",
              "1                           1                          0          1   \n",
              "2                           0                          1          1   \n",
              "3                           0                          1          0   \n",
              "4                           0                          1          0   \n",
              "\n",
              "   Casado_Si  Fumador_Fuma  Fumador_Fumo en el pasado  Fumador_No Contesta  \\\n",
              "0          1             0                          1                    0   \n",
              "1          0             0                          0                    0   \n",
              "2          0             0                          1                    0   \n",
              "3          1             0                          1                    0   \n",
              "4          1             0                          1                    0   \n",
              "\n",
              "   Fumador_Nunca ha fumado  \n",
              "0                        0  \n",
              "1                        1  \n",
              "2                        0  \n",
              "3                        0  \n",
              "4                        0  "
            ],
            "text/html": [
              "\n",
              "  <div id=\"df-8fcc0ed6-c67d-488e-a853-48fa1c2cecd9\" class=\"colab-df-container\">\n",
              "    <div>\n",
              "<style scoped>\n",
              "    .dataframe tbody tr th:only-of-type {\n",
              "        vertical-align: middle;\n",
              "    }\n",
              "\n",
              "    .dataframe tbody tr th {\n",
              "        vertical-align: top;\n",
              "    }\n",
              "\n",
              "    .dataframe thead th {\n",
              "        text-align: right;\n",
              "    }\n",
              "</style>\n",
              "<table border=\"1\" class=\"dataframe\">\n",
              "  <thead>\n",
              "    <tr style=\"text-align: right;\">\n",
              "      <th></th>\n",
              "      <th>Edad</th>\n",
              "      <th>Hipertension</th>\n",
              "      <th>Enfermedad_Corazon</th>\n",
              "      <th>Nivel_medio_glucosa</th>\n",
              "      <th>IMC</th>\n",
              "      <th>Genero_Hombre</th>\n",
              "      <th>Genero_Mujer</th>\n",
              "      <th>Tipo_Trabajo_Autonomo</th>\n",
              "      <th>Tipo_Trabajo_Funcionario</th>\n",
              "      <th>Tipo_Trabajo_Menor</th>\n",
              "      <th>Tipo_Trabajo_Sector Privado</th>\n",
              "      <th>Residencia_habitual_Ciudad</th>\n",
              "      <th>Residencia_habitual_Rural</th>\n",
              "      <th>Casado_No</th>\n",
              "      <th>Casado_Si</th>\n",
              "      <th>Fumador_Fuma</th>\n",
              "      <th>Fumador_Fumo en el pasado</th>\n",
              "      <th>Fumador_No Contesta</th>\n",
              "      <th>Fumador_Nunca ha fumado</th>\n",
              "    </tr>\n",
              "  </thead>\n",
              "  <tbody>\n",
              "    <tr>\n",
              "      <th>0</th>\n",
              "      <td>80.0</td>\n",
              "      <td>0</td>\n",
              "      <td>1</td>\n",
              "      <td>252.72</td>\n",
              "      <td>30.5</td>\n",
              "      <td>1</td>\n",
              "      <td>0</td>\n",
              "      <td>1</td>\n",
              "      <td>0</td>\n",
              "      <td>0</td>\n",
              "      <td>0</td>\n",
              "      <td>1</td>\n",
              "      <td>0</td>\n",
              "      <td>0</td>\n",
              "      <td>1</td>\n",
              "      <td>0</td>\n",
              "      <td>1</td>\n",
              "      <td>0</td>\n",
              "      <td>0</td>\n",
              "    </tr>\n",
              "    <tr>\n",
              "      <th>1</th>\n",
              "      <td>48.0</td>\n",
              "      <td>0</td>\n",
              "      <td>0</td>\n",
              "      <td>84.20</td>\n",
              "      <td>29.7</td>\n",
              "      <td>1</td>\n",
              "      <td>0</td>\n",
              "      <td>0</td>\n",
              "      <td>1</td>\n",
              "      <td>0</td>\n",
              "      <td>0</td>\n",
              "      <td>1</td>\n",
              "      <td>0</td>\n",
              "      <td>1</td>\n",
              "      <td>0</td>\n",
              "      <td>0</td>\n",
              "      <td>0</td>\n",
              "      <td>0</td>\n",
              "      <td>1</td>\n",
              "    </tr>\n",
              "    <tr>\n",
              "      <th>2</th>\n",
              "      <td>82.0</td>\n",
              "      <td>1</td>\n",
              "      <td>1</td>\n",
              "      <td>84.03</td>\n",
              "      <td>26.5</td>\n",
              "      <td>0</td>\n",
              "      <td>1</td>\n",
              "      <td>0</td>\n",
              "      <td>0</td>\n",
              "      <td>0</td>\n",
              "      <td>1</td>\n",
              "      <td>0</td>\n",
              "      <td>1</td>\n",
              "      <td>1</td>\n",
              "      <td>0</td>\n",
              "      <td>0</td>\n",
              "      <td>1</td>\n",
              "      <td>0</td>\n",
              "      <td>0</td>\n",
              "    </tr>\n",
              "    <tr>\n",
              "      <th>3</th>\n",
              "      <td>74.0</td>\n",
              "      <td>0</td>\n",
              "      <td>0</td>\n",
              "      <td>219.72</td>\n",
              "      <td>33.7</td>\n",
              "      <td>1</td>\n",
              "      <td>0</td>\n",
              "      <td>0</td>\n",
              "      <td>0</td>\n",
              "      <td>0</td>\n",
              "      <td>1</td>\n",
              "      <td>0</td>\n",
              "      <td>1</td>\n",
              "      <td>0</td>\n",
              "      <td>1</td>\n",
              "      <td>0</td>\n",
              "      <td>1</td>\n",
              "      <td>0</td>\n",
              "      <td>0</td>\n",
              "    </tr>\n",
              "    <tr>\n",
              "      <th>4</th>\n",
              "      <td>72.0</td>\n",
              "      <td>1</td>\n",
              "      <td>0</td>\n",
              "      <td>74.63</td>\n",
              "      <td>23.1</td>\n",
              "      <td>0</td>\n",
              "      <td>1</td>\n",
              "      <td>0</td>\n",
              "      <td>0</td>\n",
              "      <td>0</td>\n",
              "      <td>1</td>\n",
              "      <td>0</td>\n",
              "      <td>1</td>\n",
              "      <td>0</td>\n",
              "      <td>1</td>\n",
              "      <td>0</td>\n",
              "      <td>1</td>\n",
              "      <td>0</td>\n",
              "      <td>0</td>\n",
              "    </tr>\n",
              "  </tbody>\n",
              "</table>\n",
              "</div>\n",
              "    <div class=\"colab-df-buttons\">\n",
              "\n",
              "  <div class=\"colab-df-container\">\n",
              "    <button class=\"colab-df-convert\" onclick=\"convertToInteractive('df-8fcc0ed6-c67d-488e-a853-48fa1c2cecd9')\"\n",
              "            title=\"Convert this dataframe to an interactive table.\"\n",
              "            style=\"display:none;\">\n",
              "\n",
              "  <svg xmlns=\"http://www.w3.org/2000/svg\" height=\"24px\" viewBox=\"0 -960 960 960\">\n",
              "    <path d=\"M120-120v-720h720v720H120Zm60-500h600v-160H180v160Zm220 220h160v-160H400v160Zm0 220h160v-160H400v160ZM180-400h160v-160H180v160Zm440 0h160v-160H620v160ZM180-180h160v-160H180v160Zm440 0h160v-160H620v160Z\"/>\n",
              "  </svg>\n",
              "    </button>\n",
              "\n",
              "  <style>\n",
              "    .colab-df-container {\n",
              "      display:flex;\n",
              "      gap: 12px;\n",
              "    }\n",
              "\n",
              "    .colab-df-convert {\n",
              "      background-color: #E8F0FE;\n",
              "      border: none;\n",
              "      border-radius: 50%;\n",
              "      cursor: pointer;\n",
              "      display: none;\n",
              "      fill: #1967D2;\n",
              "      height: 32px;\n",
              "      padding: 0 0 0 0;\n",
              "      width: 32px;\n",
              "    }\n",
              "\n",
              "    .colab-df-convert:hover {\n",
              "      background-color: #E2EBFA;\n",
              "      box-shadow: 0px 1px 2px rgba(60, 64, 67, 0.3), 0px 1px 3px 1px rgba(60, 64, 67, 0.15);\n",
              "      fill: #174EA6;\n",
              "    }\n",
              "\n",
              "    .colab-df-buttons div {\n",
              "      margin-bottom: 4px;\n",
              "    }\n",
              "\n",
              "    [theme=dark] .colab-df-convert {\n",
              "      background-color: #3B4455;\n",
              "      fill: #D2E3FC;\n",
              "    }\n",
              "\n",
              "    [theme=dark] .colab-df-convert:hover {\n",
              "      background-color: #434B5C;\n",
              "      box-shadow: 0px 1px 3px 1px rgba(0, 0, 0, 0.15);\n",
              "      filter: drop-shadow(0px 1px 2px rgba(0, 0, 0, 0.3));\n",
              "      fill: #FFFFFF;\n",
              "    }\n",
              "  </style>\n",
              "\n",
              "    <script>\n",
              "      const buttonEl =\n",
              "        document.querySelector('#df-8fcc0ed6-c67d-488e-a853-48fa1c2cecd9 button.colab-df-convert');\n",
              "      buttonEl.style.display =\n",
              "        google.colab.kernel.accessAllowed ? 'block' : 'none';\n",
              "\n",
              "      async function convertToInteractive(key) {\n",
              "        const element = document.querySelector('#df-8fcc0ed6-c67d-488e-a853-48fa1c2cecd9');\n",
              "        const dataTable =\n",
              "          await google.colab.kernel.invokeFunction('convertToInteractive',\n",
              "                                                    [key], {});\n",
              "        if (!dataTable) return;\n",
              "\n",
              "        const docLinkHtml = 'Like what you see? Visit the ' +\n",
              "          '<a target=\"_blank\" href=https://colab.research.google.com/notebooks/data_table.ipynb>data table notebook</a>'\n",
              "          + ' to learn more about interactive tables.';\n",
              "        element.innerHTML = '';\n",
              "        dataTable['output_type'] = 'display_data';\n",
              "        await google.colab.output.renderOutput(dataTable, element);\n",
              "        const docLink = document.createElement('div');\n",
              "        docLink.innerHTML = docLinkHtml;\n",
              "        element.appendChild(docLink);\n",
              "      }\n",
              "    </script>\n",
              "  </div>\n",
              "\n",
              "\n",
              "<div id=\"df-5b3f09e9-ef60-4294-be02-d6ce6ebf0837\">\n",
              "  <button class=\"colab-df-quickchart\" onclick=\"quickchart('df-5b3f09e9-ef60-4294-be02-d6ce6ebf0837')\"\n",
              "            title=\"Suggest charts.\"\n",
              "            style=\"display:none;\">\n",
              "\n",
              "<svg xmlns=\"http://www.w3.org/2000/svg\" height=\"24px\"viewBox=\"0 0 24 24\"\n",
              "     width=\"24px\">\n",
              "    <g>\n",
              "        <path d=\"M19 3H5c-1.1 0-2 .9-2 2v14c0 1.1.9 2 2 2h14c1.1 0 2-.9 2-2V5c0-1.1-.9-2-2-2zM9 17H7v-7h2v7zm4 0h-2V7h2v10zm4 0h-2v-4h2v4z\"/>\n",
              "    </g>\n",
              "</svg>\n",
              "  </button>\n",
              "\n",
              "<style>\n",
              "  .colab-df-quickchart {\n",
              "      --bg-color: #E8F0FE;\n",
              "      --fill-color: #1967D2;\n",
              "      --hover-bg-color: #E2EBFA;\n",
              "      --hover-fill-color: #174EA6;\n",
              "      --disabled-fill-color: #AAA;\n",
              "      --disabled-bg-color: #DDD;\n",
              "  }\n",
              "\n",
              "  [theme=dark] .colab-df-quickchart {\n",
              "      --bg-color: #3B4455;\n",
              "      --fill-color: #D2E3FC;\n",
              "      --hover-bg-color: #434B5C;\n",
              "      --hover-fill-color: #FFFFFF;\n",
              "      --disabled-bg-color: #3B4455;\n",
              "      --disabled-fill-color: #666;\n",
              "  }\n",
              "\n",
              "  .colab-df-quickchart {\n",
              "    background-color: var(--bg-color);\n",
              "    border: none;\n",
              "    border-radius: 50%;\n",
              "    cursor: pointer;\n",
              "    display: none;\n",
              "    fill: var(--fill-color);\n",
              "    height: 32px;\n",
              "    padding: 0;\n",
              "    width: 32px;\n",
              "  }\n",
              "\n",
              "  .colab-df-quickchart:hover {\n",
              "    background-color: var(--hover-bg-color);\n",
              "    box-shadow: 0 1px 2px rgba(60, 64, 67, 0.3), 0 1px 3px 1px rgba(60, 64, 67, 0.15);\n",
              "    fill: var(--button-hover-fill-color);\n",
              "  }\n",
              "\n",
              "  .colab-df-quickchart-complete:disabled,\n",
              "  .colab-df-quickchart-complete:disabled:hover {\n",
              "    background-color: var(--disabled-bg-color);\n",
              "    fill: var(--disabled-fill-color);\n",
              "    box-shadow: none;\n",
              "  }\n",
              "\n",
              "  .colab-df-spinner {\n",
              "    border: 2px solid var(--fill-color);\n",
              "    border-color: transparent;\n",
              "    border-bottom-color: var(--fill-color);\n",
              "    animation:\n",
              "      spin 1s steps(1) infinite;\n",
              "  }\n",
              "\n",
              "  @keyframes spin {\n",
              "    0% {\n",
              "      border-color: transparent;\n",
              "      border-bottom-color: var(--fill-color);\n",
              "      border-left-color: var(--fill-color);\n",
              "    }\n",
              "    20% {\n",
              "      border-color: transparent;\n",
              "      border-left-color: var(--fill-color);\n",
              "      border-top-color: var(--fill-color);\n",
              "    }\n",
              "    30% {\n",
              "      border-color: transparent;\n",
              "      border-left-color: var(--fill-color);\n",
              "      border-top-color: var(--fill-color);\n",
              "      border-right-color: var(--fill-color);\n",
              "    }\n",
              "    40% {\n",
              "      border-color: transparent;\n",
              "      border-right-color: var(--fill-color);\n",
              "      border-top-color: var(--fill-color);\n",
              "    }\n",
              "    60% {\n",
              "      border-color: transparent;\n",
              "      border-right-color: var(--fill-color);\n",
              "    }\n",
              "    80% {\n",
              "      border-color: transparent;\n",
              "      border-right-color: var(--fill-color);\n",
              "      border-bottom-color: var(--fill-color);\n",
              "    }\n",
              "    90% {\n",
              "      border-color: transparent;\n",
              "      border-bottom-color: var(--fill-color);\n",
              "    }\n",
              "  }\n",
              "</style>\n",
              "\n",
              "  <script>\n",
              "    async function quickchart(key) {\n",
              "      const quickchartButtonEl =\n",
              "        document.querySelector('#' + key + ' button');\n",
              "      quickchartButtonEl.disabled = true;  // To prevent multiple clicks.\n",
              "      quickchartButtonEl.classList.add('colab-df-spinner');\n",
              "      try {\n",
              "        const charts = await google.colab.kernel.invokeFunction(\n",
              "            'suggestCharts', [key], {});\n",
              "      } catch (error) {\n",
              "        console.error('Error during call to suggestCharts:', error);\n",
              "      }\n",
              "      quickchartButtonEl.classList.remove('colab-df-spinner');\n",
              "      quickchartButtonEl.classList.add('colab-df-quickchart-complete');\n",
              "    }\n",
              "    (() => {\n",
              "      let quickchartButtonEl =\n",
              "        document.querySelector('#df-5b3f09e9-ef60-4294-be02-d6ce6ebf0837 button');\n",
              "      quickchartButtonEl.style.display =\n",
              "        google.colab.kernel.accessAllowed ? 'block' : 'none';\n",
              "    })();\n",
              "  </script>\n",
              "</div>\n",
              "    </div>\n",
              "  </div>\n"
            ]
          },
          "metadata": {},
          "execution_count": 11
        }
      ]
    },
    {
      "cell_type": "markdown",
      "source": [
        "de manera sencilla vemos como para cada columna ahora tenemos las diferentes posibilidades en 1 y 0"
      ],
      "metadata": {
        "id": "_8FZ29HAVTdA"
      }
    },
    {
      "cell_type": "markdown",
      "source": [
        "este siguiente paso es opcional pero casi siempre recomendable hacerlo, que es normalizar o escalar los datos para que todos esten entre 0 y 1, esto facilita la interpretación de los datos. Lo hacemos de manera sencilla con la funcion minmax()"
      ],
      "metadata": {
        "id": "5s6RSu9BVcBw"
      }
    },
    {
      "cell_type": "code",
      "source": [
        "min_max_scaler = MinMaxScaler()\n",
        "data_min_max = min_max_scaler.fit_transform(df_dummies)\n",
        "data_min_max_df = pd.DataFrame(data_min_max, columns=df_dummies.columns)\n",
        "data_min_max_df.head()"
      ],
      "metadata": {
        "colab": {
          "base_uri": "https://localhost:8080/",
          "height": 243
        },
        "id": "1VRB10RQWgAb",
        "outputId": "f48e3317-d995-4ce0-b057-fc8069a0c337"
      },
      "execution_count": 13,
      "outputs": [
        {
          "output_type": "execute_result",
          "data": {
            "text/plain": [
              "       Edad  Hipertension  Enfermedad_Corazon  Nivel_medio_glucosa       IMC  \\\n",
              "0  0.975586           0.0                 1.0             0.912196  0.472779   \n",
              "1  0.584961           0.0                 0.0             0.134244  0.449857   \n",
              "2  1.000000           1.0                 1.0             0.133460  0.358166   \n",
              "3  0.902344           0.0                 0.0             0.759856  0.564470   \n",
              "4  0.877930           1.0                 0.0             0.090066  0.260745   \n",
              "\n",
              "   Genero_Hombre  Genero_Mujer  Tipo_Trabajo_Autonomo  \\\n",
              "0            1.0           0.0                    1.0   \n",
              "1            1.0           0.0                    0.0   \n",
              "2            0.0           1.0                    0.0   \n",
              "3            1.0           0.0                    0.0   \n",
              "4            0.0           1.0                    0.0   \n",
              "\n",
              "   Tipo_Trabajo_Funcionario  Tipo_Trabajo_Menor  Tipo_Trabajo_Sector Privado  \\\n",
              "0                       0.0                 0.0                          0.0   \n",
              "1                       1.0                 0.0                          0.0   \n",
              "2                       0.0                 0.0                          1.0   \n",
              "3                       0.0                 0.0                          1.0   \n",
              "4                       0.0                 0.0                          1.0   \n",
              "\n",
              "   Residencia_habitual_Ciudad  Residencia_habitual_Rural  Casado_No  \\\n",
              "0                         1.0                        0.0        0.0   \n",
              "1                         1.0                        0.0        1.0   \n",
              "2                         0.0                        1.0        1.0   \n",
              "3                         0.0                        1.0        0.0   \n",
              "4                         0.0                        1.0        0.0   \n",
              "\n",
              "   Casado_Si  Fumador_Fuma  Fumador_Fumo en el pasado  Fumador_No Contesta  \\\n",
              "0        1.0           0.0                        1.0                  0.0   \n",
              "1        0.0           0.0                        0.0                  0.0   \n",
              "2        0.0           0.0                        1.0                  0.0   \n",
              "3        1.0           0.0                        1.0                  0.0   \n",
              "4        1.0           0.0                        1.0                  0.0   \n",
              "\n",
              "   Fumador_Nunca ha fumado  \n",
              "0                      0.0  \n",
              "1                      1.0  \n",
              "2                      0.0  \n",
              "3                      0.0  \n",
              "4                      0.0  "
            ],
            "text/html": [
              "\n",
              "  <div id=\"df-9ba7897a-a323-4e3c-9c2a-8b4c7fbdf927\" class=\"colab-df-container\">\n",
              "    <div>\n",
              "<style scoped>\n",
              "    .dataframe tbody tr th:only-of-type {\n",
              "        vertical-align: middle;\n",
              "    }\n",
              "\n",
              "    .dataframe tbody tr th {\n",
              "        vertical-align: top;\n",
              "    }\n",
              "\n",
              "    .dataframe thead th {\n",
              "        text-align: right;\n",
              "    }\n",
              "</style>\n",
              "<table border=\"1\" class=\"dataframe\">\n",
              "  <thead>\n",
              "    <tr style=\"text-align: right;\">\n",
              "      <th></th>\n",
              "      <th>Edad</th>\n",
              "      <th>Hipertension</th>\n",
              "      <th>Enfermedad_Corazon</th>\n",
              "      <th>Nivel_medio_glucosa</th>\n",
              "      <th>IMC</th>\n",
              "      <th>Genero_Hombre</th>\n",
              "      <th>Genero_Mujer</th>\n",
              "      <th>Tipo_Trabajo_Autonomo</th>\n",
              "      <th>Tipo_Trabajo_Funcionario</th>\n",
              "      <th>Tipo_Trabajo_Menor</th>\n",
              "      <th>Tipo_Trabajo_Sector Privado</th>\n",
              "      <th>Residencia_habitual_Ciudad</th>\n",
              "      <th>Residencia_habitual_Rural</th>\n",
              "      <th>Casado_No</th>\n",
              "      <th>Casado_Si</th>\n",
              "      <th>Fumador_Fuma</th>\n",
              "      <th>Fumador_Fumo en el pasado</th>\n",
              "      <th>Fumador_No Contesta</th>\n",
              "      <th>Fumador_Nunca ha fumado</th>\n",
              "    </tr>\n",
              "  </thead>\n",
              "  <tbody>\n",
              "    <tr>\n",
              "      <th>0</th>\n",
              "      <td>0.975586</td>\n",
              "      <td>0.0</td>\n",
              "      <td>1.0</td>\n",
              "      <td>0.912196</td>\n",
              "      <td>0.472779</td>\n",
              "      <td>1.0</td>\n",
              "      <td>0.0</td>\n",
              "      <td>1.0</td>\n",
              "      <td>0.0</td>\n",
              "      <td>0.0</td>\n",
              "      <td>0.0</td>\n",
              "      <td>1.0</td>\n",
              "      <td>0.0</td>\n",
              "      <td>0.0</td>\n",
              "      <td>1.0</td>\n",
              "      <td>0.0</td>\n",
              "      <td>1.0</td>\n",
              "      <td>0.0</td>\n",
              "      <td>0.0</td>\n",
              "    </tr>\n",
              "    <tr>\n",
              "      <th>1</th>\n",
              "      <td>0.584961</td>\n",
              "      <td>0.0</td>\n",
              "      <td>0.0</td>\n",
              "      <td>0.134244</td>\n",
              "      <td>0.449857</td>\n",
              "      <td>1.0</td>\n",
              "      <td>0.0</td>\n",
              "      <td>0.0</td>\n",
              "      <td>1.0</td>\n",
              "      <td>0.0</td>\n",
              "      <td>0.0</td>\n",
              "      <td>1.0</td>\n",
              "      <td>0.0</td>\n",
              "      <td>1.0</td>\n",
              "      <td>0.0</td>\n",
              "      <td>0.0</td>\n",
              "      <td>0.0</td>\n",
              "      <td>0.0</td>\n",
              "      <td>1.0</td>\n",
              "    </tr>\n",
              "    <tr>\n",
              "      <th>2</th>\n",
              "      <td>1.000000</td>\n",
              "      <td>1.0</td>\n",
              "      <td>1.0</td>\n",
              "      <td>0.133460</td>\n",
              "      <td>0.358166</td>\n",
              "      <td>0.0</td>\n",
              "      <td>1.0</td>\n",
              "      <td>0.0</td>\n",
              "      <td>0.0</td>\n",
              "      <td>0.0</td>\n",
              "      <td>1.0</td>\n",
              "      <td>0.0</td>\n",
              "      <td>1.0</td>\n",
              "      <td>1.0</td>\n",
              "      <td>0.0</td>\n",
              "      <td>0.0</td>\n",
              "      <td>1.0</td>\n",
              "      <td>0.0</td>\n",
              "      <td>0.0</td>\n",
              "    </tr>\n",
              "    <tr>\n",
              "      <th>3</th>\n",
              "      <td>0.902344</td>\n",
              "      <td>0.0</td>\n",
              "      <td>0.0</td>\n",
              "      <td>0.759856</td>\n",
              "      <td>0.564470</td>\n",
              "      <td>1.0</td>\n",
              "      <td>0.0</td>\n",
              "      <td>0.0</td>\n",
              "      <td>0.0</td>\n",
              "      <td>0.0</td>\n",
              "      <td>1.0</td>\n",
              "      <td>0.0</td>\n",
              "      <td>1.0</td>\n",
              "      <td>0.0</td>\n",
              "      <td>1.0</td>\n",
              "      <td>0.0</td>\n",
              "      <td>1.0</td>\n",
              "      <td>0.0</td>\n",
              "      <td>0.0</td>\n",
              "    </tr>\n",
              "    <tr>\n",
              "      <th>4</th>\n",
              "      <td>0.877930</td>\n",
              "      <td>1.0</td>\n",
              "      <td>0.0</td>\n",
              "      <td>0.090066</td>\n",
              "      <td>0.260745</td>\n",
              "      <td>0.0</td>\n",
              "      <td>1.0</td>\n",
              "      <td>0.0</td>\n",
              "      <td>0.0</td>\n",
              "      <td>0.0</td>\n",
              "      <td>1.0</td>\n",
              "      <td>0.0</td>\n",
              "      <td>1.0</td>\n",
              "      <td>0.0</td>\n",
              "      <td>1.0</td>\n",
              "      <td>0.0</td>\n",
              "      <td>1.0</td>\n",
              "      <td>0.0</td>\n",
              "      <td>0.0</td>\n",
              "    </tr>\n",
              "  </tbody>\n",
              "</table>\n",
              "</div>\n",
              "    <div class=\"colab-df-buttons\">\n",
              "\n",
              "  <div class=\"colab-df-container\">\n",
              "    <button class=\"colab-df-convert\" onclick=\"convertToInteractive('df-9ba7897a-a323-4e3c-9c2a-8b4c7fbdf927')\"\n",
              "            title=\"Convert this dataframe to an interactive table.\"\n",
              "            style=\"display:none;\">\n",
              "\n",
              "  <svg xmlns=\"http://www.w3.org/2000/svg\" height=\"24px\" viewBox=\"0 -960 960 960\">\n",
              "    <path d=\"M120-120v-720h720v720H120Zm60-500h600v-160H180v160Zm220 220h160v-160H400v160Zm0 220h160v-160H400v160ZM180-400h160v-160H180v160Zm440 0h160v-160H620v160ZM180-180h160v-160H180v160Zm440 0h160v-160H620v160Z\"/>\n",
              "  </svg>\n",
              "    </button>\n",
              "\n",
              "  <style>\n",
              "    .colab-df-container {\n",
              "      display:flex;\n",
              "      gap: 12px;\n",
              "    }\n",
              "\n",
              "    .colab-df-convert {\n",
              "      background-color: #E8F0FE;\n",
              "      border: none;\n",
              "      border-radius: 50%;\n",
              "      cursor: pointer;\n",
              "      display: none;\n",
              "      fill: #1967D2;\n",
              "      height: 32px;\n",
              "      padding: 0 0 0 0;\n",
              "      width: 32px;\n",
              "    }\n",
              "\n",
              "    .colab-df-convert:hover {\n",
              "      background-color: #E2EBFA;\n",
              "      box-shadow: 0px 1px 2px rgba(60, 64, 67, 0.3), 0px 1px 3px 1px rgba(60, 64, 67, 0.15);\n",
              "      fill: #174EA6;\n",
              "    }\n",
              "\n",
              "    .colab-df-buttons div {\n",
              "      margin-bottom: 4px;\n",
              "    }\n",
              "\n",
              "    [theme=dark] .colab-df-convert {\n",
              "      background-color: #3B4455;\n",
              "      fill: #D2E3FC;\n",
              "    }\n",
              "\n",
              "    [theme=dark] .colab-df-convert:hover {\n",
              "      background-color: #434B5C;\n",
              "      box-shadow: 0px 1px 3px 1px rgba(0, 0, 0, 0.15);\n",
              "      filter: drop-shadow(0px 1px 2px rgba(0, 0, 0, 0.3));\n",
              "      fill: #FFFFFF;\n",
              "    }\n",
              "  </style>\n",
              "\n",
              "    <script>\n",
              "      const buttonEl =\n",
              "        document.querySelector('#df-9ba7897a-a323-4e3c-9c2a-8b4c7fbdf927 button.colab-df-convert');\n",
              "      buttonEl.style.display =\n",
              "        google.colab.kernel.accessAllowed ? 'block' : 'none';\n",
              "\n",
              "      async function convertToInteractive(key) {\n",
              "        const element = document.querySelector('#df-9ba7897a-a323-4e3c-9c2a-8b4c7fbdf927');\n",
              "        const dataTable =\n",
              "          await google.colab.kernel.invokeFunction('convertToInteractive',\n",
              "                                                    [key], {});\n",
              "        if (!dataTable) return;\n",
              "\n",
              "        const docLinkHtml = 'Like what you see? Visit the ' +\n",
              "          '<a target=\"_blank\" href=https://colab.research.google.com/notebooks/data_table.ipynb>data table notebook</a>'\n",
              "          + ' to learn more about interactive tables.';\n",
              "        element.innerHTML = '';\n",
              "        dataTable['output_type'] = 'display_data';\n",
              "        await google.colab.output.renderOutput(dataTable, element);\n",
              "        const docLink = document.createElement('div');\n",
              "        docLink.innerHTML = docLinkHtml;\n",
              "        element.appendChild(docLink);\n",
              "      }\n",
              "    </script>\n",
              "  </div>\n",
              "\n",
              "\n",
              "<div id=\"df-cf60f776-620d-41e2-b1ab-51b58dd2eced\">\n",
              "  <button class=\"colab-df-quickchart\" onclick=\"quickchart('df-cf60f776-620d-41e2-b1ab-51b58dd2eced')\"\n",
              "            title=\"Suggest charts.\"\n",
              "            style=\"display:none;\">\n",
              "\n",
              "<svg xmlns=\"http://www.w3.org/2000/svg\" height=\"24px\"viewBox=\"0 0 24 24\"\n",
              "     width=\"24px\">\n",
              "    <g>\n",
              "        <path d=\"M19 3H5c-1.1 0-2 .9-2 2v14c0 1.1.9 2 2 2h14c1.1 0 2-.9 2-2V5c0-1.1-.9-2-2-2zM9 17H7v-7h2v7zm4 0h-2V7h2v10zm4 0h-2v-4h2v4z\"/>\n",
              "    </g>\n",
              "</svg>\n",
              "  </button>\n",
              "\n",
              "<style>\n",
              "  .colab-df-quickchart {\n",
              "      --bg-color: #E8F0FE;\n",
              "      --fill-color: #1967D2;\n",
              "      --hover-bg-color: #E2EBFA;\n",
              "      --hover-fill-color: #174EA6;\n",
              "      --disabled-fill-color: #AAA;\n",
              "      --disabled-bg-color: #DDD;\n",
              "  }\n",
              "\n",
              "  [theme=dark] .colab-df-quickchart {\n",
              "      --bg-color: #3B4455;\n",
              "      --fill-color: #D2E3FC;\n",
              "      --hover-bg-color: #434B5C;\n",
              "      --hover-fill-color: #FFFFFF;\n",
              "      --disabled-bg-color: #3B4455;\n",
              "      --disabled-fill-color: #666;\n",
              "  }\n",
              "\n",
              "  .colab-df-quickchart {\n",
              "    background-color: var(--bg-color);\n",
              "    border: none;\n",
              "    border-radius: 50%;\n",
              "    cursor: pointer;\n",
              "    display: none;\n",
              "    fill: var(--fill-color);\n",
              "    height: 32px;\n",
              "    padding: 0;\n",
              "    width: 32px;\n",
              "  }\n",
              "\n",
              "  .colab-df-quickchart:hover {\n",
              "    background-color: var(--hover-bg-color);\n",
              "    box-shadow: 0 1px 2px rgba(60, 64, 67, 0.3), 0 1px 3px 1px rgba(60, 64, 67, 0.15);\n",
              "    fill: var(--button-hover-fill-color);\n",
              "  }\n",
              "\n",
              "  .colab-df-quickchart-complete:disabled,\n",
              "  .colab-df-quickchart-complete:disabled:hover {\n",
              "    background-color: var(--disabled-bg-color);\n",
              "    fill: var(--disabled-fill-color);\n",
              "    box-shadow: none;\n",
              "  }\n",
              "\n",
              "  .colab-df-spinner {\n",
              "    border: 2px solid var(--fill-color);\n",
              "    border-color: transparent;\n",
              "    border-bottom-color: var(--fill-color);\n",
              "    animation:\n",
              "      spin 1s steps(1) infinite;\n",
              "  }\n",
              "\n",
              "  @keyframes spin {\n",
              "    0% {\n",
              "      border-color: transparent;\n",
              "      border-bottom-color: var(--fill-color);\n",
              "      border-left-color: var(--fill-color);\n",
              "    }\n",
              "    20% {\n",
              "      border-color: transparent;\n",
              "      border-left-color: var(--fill-color);\n",
              "      border-top-color: var(--fill-color);\n",
              "    }\n",
              "    30% {\n",
              "      border-color: transparent;\n",
              "      border-left-color: var(--fill-color);\n",
              "      border-top-color: var(--fill-color);\n",
              "      border-right-color: var(--fill-color);\n",
              "    }\n",
              "    40% {\n",
              "      border-color: transparent;\n",
              "      border-right-color: var(--fill-color);\n",
              "      border-top-color: var(--fill-color);\n",
              "    }\n",
              "    60% {\n",
              "      border-color: transparent;\n",
              "      border-right-color: var(--fill-color);\n",
              "    }\n",
              "    80% {\n",
              "      border-color: transparent;\n",
              "      border-right-color: var(--fill-color);\n",
              "      border-bottom-color: var(--fill-color);\n",
              "    }\n",
              "    90% {\n",
              "      border-color: transparent;\n",
              "      border-bottom-color: var(--fill-color);\n",
              "    }\n",
              "  }\n",
              "</style>\n",
              "\n",
              "  <script>\n",
              "    async function quickchart(key) {\n",
              "      const quickchartButtonEl =\n",
              "        document.querySelector('#' + key + ' button');\n",
              "      quickchartButtonEl.disabled = true;  // To prevent multiple clicks.\n",
              "      quickchartButtonEl.classList.add('colab-df-spinner');\n",
              "      try {\n",
              "        const charts = await google.colab.kernel.invokeFunction(\n",
              "            'suggestCharts', [key], {});\n",
              "      } catch (error) {\n",
              "        console.error('Error during call to suggestCharts:', error);\n",
              "      }\n",
              "      quickchartButtonEl.classList.remove('colab-df-spinner');\n",
              "      quickchartButtonEl.classList.add('colab-df-quickchart-complete');\n",
              "    }\n",
              "    (() => {\n",
              "      let quickchartButtonEl =\n",
              "        document.querySelector('#df-cf60f776-620d-41e2-b1ab-51b58dd2eced button');\n",
              "      quickchartButtonEl.style.display =\n",
              "        google.colab.kernel.accessAllowed ? 'block' : 'none';\n",
              "    })();\n",
              "  </script>\n",
              "</div>\n",
              "    </div>\n",
              "  </div>\n"
            ]
          },
          "metadata": {},
          "execution_count": 13
        }
      ]
    },
    {
      "cell_type": "markdown",
      "source": [
        "Ya tenemos nuestros datos separados, transformados y normalizados, el ultimo paso es comprobar que no tenemos ningun dato vacío o null"
      ],
      "metadata": {
        "id": "PdIUQoUmXB5u"
      }
    },
    {
      "cell_type": "code",
      "source": [
        "data_min_max_df.isnull().sum()"
      ],
      "metadata": {
        "colab": {
          "base_uri": "https://localhost:8080/"
        },
        "id": "YOt-D2HHWxKf",
        "outputId": "84b488cf-b77d-4974-b639-0faa6b735865"
      },
      "execution_count": 14,
      "outputs": [
        {
          "output_type": "execute_result",
          "data": {
            "text/plain": [
              "Edad                           0\n",
              "Hipertension                   0\n",
              "Enfermedad_Corazon             0\n",
              "Nivel_medio_glucosa            0\n",
              "IMC                            0\n",
              "Genero_Hombre                  0\n",
              "Genero_Mujer                   0\n",
              "Tipo_Trabajo_Autonomo          0\n",
              "Tipo_Trabajo_Funcionario       0\n",
              "Tipo_Trabajo_Menor             0\n",
              "Tipo_Trabajo_Sector Privado    0\n",
              "Residencia_habitual_Ciudad     0\n",
              "Residencia_habitual_Rural      0\n",
              "Casado_No                      0\n",
              "Casado_Si                      0\n",
              "Fumador_Fuma                   0\n",
              "Fumador_Fumo en el pasado      0\n",
              "Fumador_No Contesta            0\n",
              "Fumador_Nunca ha fumado        0\n",
              "dtype: int64"
            ]
          },
          "metadata": {},
          "execution_count": 14
        }
      ]
    },
    {
      "cell_type": "markdown",
      "source": [
        "Con esto hemos terminado el procesado de nuestros datos por lo que podemos entrar en la segunda parte, el entrenamiento"
      ],
      "metadata": {
        "id": "e_x68j6UXT6a"
      }
    },
    {
      "cell_type": "markdown",
      "source": [
        "**PARTE 2. ENTRENAMIENTO**"
      ],
      "metadata": {
        "id": "AXIqKcpzXchJ"
      }
    },
    {
      "cell_type": "markdown",
      "source": [
        "El primer paso antes de comenzar con los entrenamientos es dividir nuestros datos en train y test (en este caso no usaremos validación), para esto sklearn tiene una función que nos permite hacerlo de manera directa, vamos a mantener un 15% para nuestros datos de test"
      ],
      "metadata": {
        "id": "yTXkdtbiXfHc"
      }
    },
    {
      "cell_type": "code",
      "source": [
        "x_train, x_test, y_train, y_test = train_test_split(data_min_max_df, y, test_size=0.15, random_state=42)#para mantener los mismos resultados dejamos el random state en 42 por ejemplo"
      ],
      "metadata": {
        "id": "6hYYg98YX-iz"
      },
      "execution_count": 15,
      "outputs": []
    },
    {
      "cell_type": "markdown",
      "source": [
        "vamos a comprobar los tamaños\n"
      ],
      "metadata": {
        "id": "0EhyDE0_YJkN"
      }
    },
    {
      "cell_type": "code",
      "source": [
        "print(x_train.shape)\n",
        "print(x_test.shape)"
      ],
      "metadata": {
        "colab": {
          "base_uri": "https://localhost:8080/"
        },
        "id": "dcbwL_r3YJLD",
        "outputId": "9b6375a1-a40b-4bed-8ecd-6bec7abf1c2e"
      },
      "execution_count": 16,
      "outputs": [
        {
          "output_type": "stream",
          "name": "stdout",
          "text": [
            "(4236, 19)\n",
            "(748, 19)\n"
          ]
        }
      ]
    },
    {
      "cell_type": "markdown",
      "source": [
        "Una vez tenemos nuestros datos separados tenemos que comprobar una ultima cosa y que sera esencial en este problema, y es comprobar si los datos estan balanceados, es decir si tenemos un numero parecido de casos de infarto y de no infarto"
      ],
      "metadata": {
        "id": "sL8gtd1iYUap"
      }
    },
    {
      "cell_type": "code",
      "source": [
        "y.value_counts()"
      ],
      "metadata": {
        "colab": {
          "base_uri": "https://localhost:8080/"
        },
        "id": "hIlSAbeTYiuD",
        "outputId": "370ad40b-25db-4e2f-a26e-a27ad05122eb"
      },
      "execution_count": 17,
      "outputs": [
        {
          "output_type": "execute_result",
          "data": {
            "text/plain": [
              "0    4734\n",
              "1     250\n",
              "Name: Infarto, dtype: int64"
            ]
          },
          "metadata": {},
          "execution_count": 17
        }
      ]
    },
    {
      "cell_type": "markdown",
      "source": [
        "Vemos que esta muy desbalanceado, algo que es de entener al ser unos datos de infarto, es mas común no tenerlo, para evitar problemas con nuestro entrenamiento y poder evitar todo lo posible un overfitting, podemos realizar un undersampling o un oversampling, aunque en este caso los dos arrojan unos resultados parecidos vamos a realizar un oversmapling para la regresión logistica y un undersampling para el arbol de decision (recordar que esto es solo para el entrenamiento)"
      ],
      "metadata": {
        "id": "5KtYVoWOY3Vj"
      }
    },
    {
      "cell_type": "code",
      "source": [
        "oversample = RandomOverSampler(sampling_strategy='minority', random_state=42)\n",
        "undersample = RandomUnderSampler(sampling_strategy='majority', random_state=42)\n",
        "x_under, y_under = undersample.fit_resample(x_train, y_train)\n",
        "x_over, y_over = oversample.fit_resample(x_train, y_train)\n",
        "print(y_over.value_counts())"
      ],
      "metadata": {
        "colab": {
          "base_uri": "https://localhost:8080/"
        },
        "id": "c6SnptK8ZWLb",
        "outputId": "5be96788-ab3b-4488-bf86-275e95e49f99"
      },
      "execution_count": 20,
      "outputs": [
        {
          "output_type": "stream",
          "name": "stdout",
          "text": [
            "1    4030\n",
            "0    4030\n",
            "Name: Infarto, dtype: int64\n"
          ]
        }
      ]
    },
    {
      "cell_type": "markdown",
      "source": [
        "tenemos todo preparado para entrenar nuestros modelos asi que vamos con ellos"
      ],
      "metadata": {
        "id": "wtii62qdZvMQ"
      }
    },
    {
      "cell_type": "markdown",
      "source": [
        "PARTE 2.1 LOGISTIC REGRESSION"
      ],
      "metadata": {
        "id": "0mrjXI8VZ0Vr"
      }
    },
    {
      "cell_type": "markdown",
      "source": [
        "Vamos a crearnos una clase con este clasificador, sklearn nos permite hacer los entrenamientos de manera muy sencilla"
      ],
      "metadata": {
        "id": "SkGvS2auZ6Sk"
      }
    },
    {
      "cell_type": "code",
      "source": [
        "def LR (x_train, y_train):\n",
        "    lr = LogisticRegression() #es una LR basica, para este problema no necesitamos ajustar mucho mas los hiperparametros aunque en practicas mas avanzadas necesitaremos usar un grid search o derivados\n",
        "    lr.fit(x_train, y_train)#entrenamiento\n",
        "    y_pred = lr.predict(x_test)#test\n",
        "    return y_pred#devolver los resultados"
      ],
      "metadata": {
        "id": "ybUhjRh_Z4yL"
      },
      "execution_count": 21,
      "outputs": []
    },
    {
      "cell_type": "markdown",
      "source": [
        "Vamos a crear nuestro modelo y entrenarlo"
      ],
      "metadata": {
        "id": "LZa-2201bY1n"
      }
    },
    {
      "cell_type": "code",
      "source": [
        "model = LR(x_over, y_over)"
      ],
      "metadata": {
        "id": "qlN8bxeTbcg8"
      },
      "execution_count": 25,
      "outputs": []
    },
    {
      "cell_type": "markdown",
      "source": [
        "como segundo paso deberiamos crear una clase con las metricas para poder evaluar nuestro modelo comparando los labels de test y los de la predicción, en este caso he seleccionado: El error medio, la accuracy, el F1 score, Matriz de confusión (normalizada para entender mejor debido al desbalance), y el recall. Sklearn nos permite hacer esto de manera muy sencilla. Para esta practica he omitido metricas como la ROC curve que en practicas posteriores si usaremos"
      ],
      "metadata": {
        "id": "wq25ViklaxJo"
      }
    },
    {
      "cell_type": "code",
      "source": [
        "def metrics(y_test,y_pred):\n",
        "    err= np.mean(np.abs(y_test-y_pred))\n",
        "    print(f'Error: {err}')\n",
        "    acc = accuracy_score(y_test, y_pred)\n",
        "    print(f'Accuracy: {acc}')\n",
        "    F1 = f1_score(y_test, y_pred, average='weighted')\n",
        "    print(f'F1: {F1}')\n",
        "    rec = recall_score(y_test, y_pred)\n",
        "    print(f'Recall: {rec}')\n",
        "    conf = confusion_matrix(y_test, y_pred, normalize='true')\n",
        "    disp = ConfusionMatrixDisplay(confusion_matrix=conf)\n",
        "    disp.plot()\n",
        "    plt.show()"
      ],
      "metadata": {
        "id": "Oi6RESajcFBH"
      },
      "execution_count": 26,
      "outputs": []
    },
    {
      "cell_type": "markdown",
      "source": [
        "vamos a comprobar que tal le ha ido a nuestro modelo"
      ],
      "metadata": {
        "id": "F3zIywp8cM8g"
      }
    },
    {
      "cell_type": "code",
      "source": [
        "metrics(y_test, model)"
      ],
      "metadata": {
        "colab": {
          "base_uri": "https://localhost:8080/",
          "height": 522
        },
        "id": "u7LMm1QNcP2W",
        "outputId": "a69b4fc2-e7ad-4e23-b974-15d5f812443a"
      },
      "execution_count": 27,
      "outputs": [
        {
          "output_type": "stream",
          "name": "stdout",
          "text": [
            "Error: 0.23663101604278075\n",
            "Accuracy: 0.7633689839572193\n",
            "F1: 0.8245944767797072\n",
            "Recall: 0.8181818181818182\n"
          ]
        },
        {
          "output_type": "display_data",
          "data": {
            "text/plain": [
              "<Figure size 640x480 with 2 Axes>"
            ],
            "image/png": "[encoded data removed]"
          },
          "metadata": {}
        }
      ]
    },
    {
      "cell_type": "markdown",
      "source": [
        "pese a que no hemos obtenido unos resultados escandalosos no los podemos llamar malos, y mas teniendo en cuenta que no hemos ajustado ningun hiperparámetro. La matriz de confusion nos deja ver que nuestro modelo es mejor acertando casos de infarto algo que para este contexto es lo mejor. para el resto de datos:\n",
        "\n",
        "Error: El error (0.2366) es una métrica que mide la proporción de predicciones incorrectas en relación con el número total de predicciones. En este caso, parece que alrededor del 23.66% de las predicciones del modelo son incorrectas.\n",
        "\n",
        "Accuracy: La precisión (0.7634) es la métrica que mide la proporción de predicciones correctas en relación con el número total de predicciones. En este caso, el 76.34% de las predicciones son correctas.\n",
        "\n",
        "Recall: El recall (sensibilidad) (0.8182) mide la proporción de casos positivos reales que el modelo ha identificado correctamente. En este caso, el modelo ha identificado correctamente el 81.82% de los casos positivos.\n",
        "\n",
        "F1-Score: El socore F1 (0.8246) es una métrica que combina la precisión y la sensibilidad en un solo valor. Cuanto más cercano a 1 sea el puntaje F1, mejor será el equilibrio entre precisión y sensibilidad. En este caso, el modelo tiene un puntaje F1 bastante alto, lo que indica un buen rendimiento general.\n",
        "\n"
      ],
      "metadata": {
        "id": "f-7r_IA5cubV"
      }
    },
    {
      "cell_type": "markdown",
      "source": [
        "PARTE 2.2 ARBOL DE DECISIÓN"
      ],
      "metadata": {
        "id": "2soJDy3ldos7"
      }
    },
    {
      "cell_type": "markdown",
      "source": [
        "De igual manera que con la LR sklearn nos permite realizar esto de manera sencilla, vamos a crearnos un clase"
      ],
      "metadata": {
        "id": "yG3dEVQEdr1i"
      }
    },
    {
      "cell_type": "code",
      "source": [
        "def Dt (x_train, y_train):\n",
        "    clf = tree.DecisionTreeClassifier(random_state=42, max_depth=5) #en este caso he modificado la profundidad maxima ya que no tenemos un conjunto de datos enorme\n",
        "    clf.fit(x_train, y_train)#entrenamos\n",
        "    y_pred = clf.predict(x_test)#test\n",
        "    return y_pred#devolvemos resultados"
      ],
      "metadata": {
        "id": "8OsE2KY4dnRA"
      },
      "execution_count": 74,
      "outputs": []
    },
    {
      "cell_type": "markdown",
      "source": [
        "Vamos a crear nuestro modelo y vemos las metricas"
      ],
      "metadata": {
        "id": "OWVgM-EceHM5"
      }
    },
    {
      "cell_type": "code",
      "source": [
        "model2 = Dt(x_under, y_under)\n",
        "metrics(y_test, model2)"
      ],
      "metadata": {
        "colab": {
          "base_uri": "https://localhost:8080/",
          "height": 522
        },
        "id": "G3vjFkMJeLoj",
        "outputId": "c73cb5b7-aecd-4a2d-e78c-2b483e9cc5cf"
      },
      "execution_count": 75,
      "outputs": [
        {
          "output_type": "stream",
          "name": "stdout",
          "text": [
            "Error: 0.29812834224598933\n",
            "Accuracy: 0.7018716577540107\n",
            "F1: 0.7806939516107841\n",
            "Recall: 0.7272727272727273\n"
          ]
        },
        {
          "output_type": "display_data",
          "data": {
            "text/plain": [
              "<Figure size 640x480 with 2 Axes>"
            ],
            "image/png": "[encoded data removed]"
          },
          "metadata": {}
        }
      ]
    },
    {
      "cell_type": "markdown",
      "source": [
        "Al igual que con la LR no son un resultados espectaculares pero esta claro que podrian ser peor, en este caso la matriz de conf nos muestra como es algo mejor prediciendo infartos, vamos a hacer un resumen de los resultados y comparamos los dos:\n",
        "\n",
        "Error: 0.29812834224598933: El error, en este caso, indica que aproximadamente el 29.81% de las predicciones del modelo son incorrectas.\n",
        "\n",
        "Accuracy: 0.7018716577540107: En este caso, el 70.19% de las predicciones del modelo son correctas.\n",
        "\n",
        "Recall: 0.7272727272727273: En este caso, el modelo ha identificado correctamente el 72.73% de los casos positivos.\n",
        "\n",
        "F1: 0.7806939516107841: En este caso, el modelo tiene un puntaje F1 de aproximadamente 0.781, lo que indica un buen equilibrio entre la precisión y la capacidad del modelo para identificar correctamente casos positivos.\n",
        "\n",
        "\n"
      ],
      "metadata": {
        "id": "Tvi7C60ZfOGr"
      }
    },
    {
      "cell_type": "markdown",
      "source": [
        "**PARTE 3. COMPARACIÓN Y ELECCIÓN DEL MODELO**"
      ],
      "metadata": {
        "id": "AySzgIZtfuYt"
      }
    },
    {
      "cell_type": "markdown",
      "source": [
        "Aqui debo hacer un disclaimer y es que esta comparación no es universal, es decir la eleccion no es universal, es muy probable que haciendo un search de los parametros los resultados sena totalmente diferentes y la eleccion del tipo de modelo cambie."
      ],
      "metadata": {
        "id": "a-dak9tGglca"
      }
    },
    {
      "cell_type": "markdown",
      "source": [
        "**Regresión Logística** (Primer Modelo):\n",
        "\n",
        "> **Error:** 0.23663101604278075\n",
        "\n",
        "> **Accuracy:** 0.7633689839572193\n",
        "\n",
        "> **F1:** 0.8245944767797072\n",
        "\n",
        "> **Recall:** 0.8181818181818182\n",
        "\n",
        "**Árbol de Decisión** (Segundo Modelo):\n",
        "\n",
        "> **Error:** 0.29812834224598933\n",
        "\n",
        "> **Accuracy:** 0.7018716577540107\n",
        "\n",
        "> **F1:** 0.7806939516107841\n",
        "\n",
        "> **Recall:** 0.7272727272727273\n",
        "\n",
        "Creo que la comparación es evidente, excepto en el F1 score la LR es de media un 10% mejor que el Arbol en este caso, y el F1 alrededor del 5%. Además si nos fijabamos en las matirces de confusion la mejora del 10% es simetrica (incluso algo mas del 10%) ya que la precision aumentaba tanto para los casos de infarto como para los del no infarto en incrementos parecidos.\n",
        "\n",
        "En este experimento la elección es evidente: El modelo de regresión logística nos arroja mejores resultados"
      ],
      "metadata": {
        "id": "lY4Z62d3g5zX"
      }
    }
  ]
}