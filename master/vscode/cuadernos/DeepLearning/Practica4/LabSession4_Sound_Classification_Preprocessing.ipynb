{
  "nbformat": 4,
  "nbformat_minor": 0,
  "metadata": {
    "colab": {
      "provenance": []
    },
    "kernelspec": {
      "name": "python3",
      "display_name": "Python 3"
    }
  },
  "cells": [
    {
      "cell_type": "markdown",
      "source": [
        "# PRÁCTICA 4 - APRENDIZAJE PROFUNDO - MASTER EN INTELIGENCIA ARTIFICIAL APLICADA\n",
        "\n",
        "# JOSÉ LORENTE LÓPEZ - DNI: 48842308Z"
      ],
      "metadata": {
        "id": "JR_GpLK_7oLw"
      }
    },
    {
      "cell_type": "markdown",
      "source": [
        "Práctica asociada a la clasificación por etiquetas de sonidas usando Deep Learning.\n",
        "\n",
        "En este primer ipynb tomaremos el dataset con los audios y preprocesaremos los mismos para poder trabajar con ellos."
      ],
      "metadata": {
        "id": "8ojp_lo18Oo3"
      }
    },
    {
      "cell_type": "markdown",
      "metadata": {
        "id": "IW6u46qHXPWw"
      },
      "source": [
        "# Sound Classification using Deep Learning - Preprocessing\n",
        "## >> Database Download and Feature Extraction"
      ]
    },
    {
      "cell_type": "markdown",
      "metadata": {
        "id": "wSG_EBH3fLEU"
      },
      "source": [
        "![uc3m](http://materplat.org/wp-content/uploads/LogoUC3M.jpg)\n",
        "## Mount Google Drive, install dependencies, download the database and perform the feature extraction process\n",
        "\n",
        "**It is recommendable to execute this script before the lab session because the whole process can take up more than 1 hour to be executed.**\n",
        "\n",
        "Once the process is finished, you should find in your Google Drive directory the following items:\n",
        "\n",
        "\n",
        "\n",
        "*   A directory called *UrbanSound8k* that contains the speech files in wav format\n",
        "*   A zip file called *us8k_features.pkl* that contains the corresponding features (log-mel spectrograms)\n",
        "\n",
        "\n",
        "**Note that you only need to run this function once.**\n",
        "\n",
        "\n",
        "\n"
      ]
    },
    {
      "cell_type": "code",
      "source": [
        "# Load the Drive helper and mount\n",
        "from google.colab import drive\n",
        "\n",
        "# This will prompt for authorization.\n",
        "drive.mount('/content/drive')"
      ],
      "metadata": {
        "colab": {
          "base_uri": "https://localhost:8080/"
        },
        "id": "R8PtuE4YCjPw",
        "outputId": "904a9f26-d937-4096-a137-e2ee64333c40"
      },
      "execution_count": null,
      "outputs": [
        {
          "output_type": "stream",
          "name": "stdout",
          "text": [
            "Drive already mounted at /content/drive; to attempt to forcibly remount, call drive.mount(\"/content/drive\", force_remount=True).\n"
          ]
        }
      ]
    },
    {
      "cell_type": "code",
      "metadata": {
        "id": "n7ZT22BAhKUz"
      },
      "source": [
        "# Create a new folder in your drive and change to that directory as: \n",
        "# /content/drive/My_Drive/new_dir_that_you_just_created_for_this_lab\n",
        "import os\n",
        "os.chdir('/content/drive/MyDrive/Master Inteligencia Artificial Aplicada - UCIIIM/p4DL/Dataset')"
      ],
      "execution_count": null,
      "outputs": []
    },
    {
      "cell_type": "markdown",
      "metadata": {
        "id": "VsGk0b8gURNP"
      },
      "source": [
        "## Required Python libraries for the lab session\n",
        "\n",
        "You may need to install librosa using pip as follows:\n",
        "\n",
        "> **!pip install librosa==0.8.0**\n"
      ]
    },
    {
      "cell_type": "code",
      "metadata": {
        "id": "6JizWUZGNS2q"
      },
      "source": [
        "# Importamos las librerías necesarias para el desarrollo de la práctica\n",
        "\n",
        "import os\n",
        "\n",
        "import librosa\n",
        "import numpy as np\n",
        "import pandas as pd\n",
        "\n",
        "from tqdm import tqdm"
      ],
      "execution_count": null,
      "outputs": []
    },
    {
      "cell_type": "markdown",
      "metadata": {
        "id": "oOPAYJmbUzRS"
      },
      "source": [
        "---"
      ]
    },
    {
      "cell_type": "markdown",
      "metadata": {
        "id": "zhbAwDJgZsCU"
      },
      "source": [
        "## 1. Download and Uncompress the Audio Data\n",
        "The database used in this lab session is the [UrbanSound8k dataset](https://urbansounddataset.weebly.com/urbansound8k.html) that contains 8732 labeled sound excerpts (<=4s) of urban sounds from 10 classes:\n",
        "\n",
        "* air_conditioner\n",
        "* car_horn\n",
        "* children_playing\n",
        "* dog_bark\n",
        "* drilling\n",
        "* enginge_idling\n",
        "* gun_shot\n",
        "* jackhammer\n",
        "* siren\n",
        "* street_music\n",
        "\n",
        "All files have been recorded at a sampling frequency of 22050 Hz.\n",
        "\n",
        "\n"
      ]
    },
    {
      "cell_type": "markdown",
      "source": [
        "Utilizaremos el dataset \"UrbanSound8k\". Esta base de datos cuenta con 8732 sonidos (de menos de 4 segundos) etiquetas en 10 clases diferentes (aire acondicionado, niños jugando, disparo de pistola, sirena, ...).\n",
        "\n",
        "Contamos con una frecuencia de muestreo \"fs\" de 22050 Hz (Ts = 1/fs = \"periodo de muestreo\" es el tiempo entre muestra y muestra al muestrear la señal analógica de audio).\n",
        "\n"
      ],
      "metadata": {
        "id": "bTaXmfnH8Is3"
      }
    },
    {
      "cell_type": "code",
      "metadata": {
        "id": "duUqS0jbdZkf",
        "colab": {
          "base_uri": "https://localhost:8080/"
        },
        "outputId": "4cc5df21-c70e-4d26-a726-59db716bca8d"
      },
      "source": [
        "# Download the UrbanSound8k dataset\n",
        "DOWNLOAD_DATASET = True\n",
        "EXTRACT_DATASET = True\n",
        "DELETE_DATASET_TAR = True\n",
        "\n",
        "DATASET_URL = \"https://goo.gl/8hY5ER\"\n",
        "\n",
        "if DOWNLOAD_DATASET:\n",
        "    !wget $DATASET_URL\n",
        "\n",
        "if EXTRACT_DATASET:\n",
        "    !tar xf 8hY5ER\n",
        "\n",
        "if DELETE_DATASET_TAR:\n",
        "    !rm -f 8hY5ER    "
      ],
      "execution_count": null,
      "outputs": [
        {
          "output_type": "stream",
          "name": "stdout",
          "text": [
            "--2022-12-21 23:36:05--  https://goo.gl/8hY5ER\n",
            "Resolving goo.gl (goo.gl)... 108.177.127.100, 108.177.127.139, 108.177.127.138, ...\n",
            "Connecting to goo.gl (goo.gl)|108.177.127.100|:443... connected.\n",
            "HTTP request sent, awaiting response... 302 Found\n",
            "Location: https://zenodo.org/record/1203745/files/UrbanSound8K.tar.gz [following]\n",
            "--2022-12-21 23:36:05--  https://zenodo.org/record/1203745/files/UrbanSound8K.tar.gz\n",
            "Resolving zenodo.org (zenodo.org)... 188.185.124.72\n",
            "Connecting to zenodo.org (zenodo.org)|188.185.124.72|:443... connected.\n",
            "HTTP request sent, awaiting response... 200 OK\n",
            "Length: 6023741708 (5.6G) [application/octet-stream]\n",
            "Saving to: ‘8hY5ER’\n",
            "\n",
            "8hY5ER              100%[===================>]   5.61G  55.3MB/s    in 2m 15s  \n",
            "\n",
            "2022-12-21 23:38:21 (42.4 MB/s) - ‘8hY5ER’ saved [6023741708/6023741708]\n",
            "\n"
          ]
        }
      ]
    },
    {
      "cell_type": "code",
      "metadata": {
        "id": "L0Y7DDnxXrZX",
        "colab": {
          "base_uri": "https://localhost:8080/",
          "height": 424
        },
        "outputId": "ad1e293e-74b0-42d3-e355-19a0793fb1d3"
      },
      "source": [
        "# Set paths to the UrbanSound8K dataset and metadata file\n",
        "US8K_AUDIO_PATH = os.path.abspath('UrbanSound8K/audio/')\n",
        "US8K_METADATA_PATH = os.path.abspath('UrbanSound8K/metadata/UrbanSound8K.csv')\n",
        "\n",
        "# Load the csv metadata file into a Pandas DataFrame structure\n",
        "us8k_metadata_df = pd.read_csv(US8K_METADATA_PATH,\n",
        "                               usecols=[\"slice_file_name\", \"fold\", \"classID\"],\n",
        "                               dtype={\"fold\": \"uint8\", \"classID\" : \"uint8\"})\n",
        "\n",
        "us8k_metadata_df"
      ],
      "execution_count": null,
      "outputs": [
        {
          "output_type": "execute_result",
          "data": {
            "text/plain": [
              "         slice_file_name  fold  classID\n",
              "0       100032-3-0-0.wav     5        3\n",
              "1     100263-2-0-117.wav     5        2\n",
              "2     100263-2-0-121.wav     5        2\n",
              "3     100263-2-0-126.wav     5        2\n",
              "4     100263-2-0-137.wav     5        2\n",
              "...                  ...   ...      ...\n",
              "8727     99812-1-2-0.wav     7        1\n",
              "8728     99812-1-3-0.wav     7        1\n",
              "8729     99812-1-4-0.wav     7        1\n",
              "8730     99812-1-5-0.wav     7        1\n",
              "8731     99812-1-6-0.wav     7        1\n",
              "\n",
              "[8732 rows x 3 columns]"
            ],
            "text/html": [
              "\n",
              "  <div id=\"df-90aa6003-0f16-410f-bd31-b11475d0a8c2\">\n",
              "    <div class=\"colab-df-container\">\n",
              "      <div>\n",
              "<style scoped>\n",
              "    .dataframe tbody tr th:only-of-type {\n",
              "        vertical-align: middle;\n",
              "    }\n",
              "\n",
              "    .dataframe tbody tr th {\n",
              "        vertical-align: top;\n",
              "    }\n",
              "\n",
              "    .dataframe thead th {\n",
              "        text-align: right;\n",
              "    }\n",
              "</style>\n",
              "<table border=\"1\" class=\"dataframe\">\n",
              "  <thead>\n",
              "    <tr style=\"text-align: right;\">\n",
              "      <th></th>\n",
              "      <th>slice_file_name</th>\n",
              "      <th>fold</th>\n",
              "      <th>classID</th>\n",
              "    </tr>\n",
              "  </thead>\n",
              "  <tbody>\n",
              "    <tr>\n",
              "      <th>0</th>\n",
              "      <td>100032-3-0-0.wav</td>\n",
              "      <td>5</td>\n",
              "      <td>3</td>\n",
              "    </tr>\n",
              "    <tr>\n",
              "      <th>1</th>\n",
              "      <td>100263-2-0-117.wav</td>\n",
              "      <td>5</td>\n",
              "      <td>2</td>\n",
              "    </tr>\n",
              "    <tr>\n",
              "      <th>2</th>\n",
              "      <td>100263-2-0-121.wav</td>\n",
              "      <td>5</td>\n",
              "      <td>2</td>\n",
              "    </tr>\n",
              "    <tr>\n",
              "      <th>3</th>\n",
              "      <td>100263-2-0-126.wav</td>\n",
              "      <td>5</td>\n",
              "      <td>2</td>\n",
              "    </tr>\n",
              "    <tr>\n",
              "      <th>4</th>\n",
              "      <td>100263-2-0-137.wav</td>\n",
              "      <td>5</td>\n",
              "      <td>2</td>\n",
              "    </tr>\n",
              "    <tr>\n",
              "      <th>...</th>\n",
              "      <td>...</td>\n",
              "      <td>...</td>\n",
              "      <td>...</td>\n",
              "    </tr>\n",
              "    <tr>\n",
              "      <th>8727</th>\n",
              "      <td>99812-1-2-0.wav</td>\n",
              "      <td>7</td>\n",
              "      <td>1</td>\n",
              "    </tr>\n",
              "    <tr>\n",
              "      <th>8728</th>\n",
              "      <td>99812-1-3-0.wav</td>\n",
              "      <td>7</td>\n",
              "      <td>1</td>\n",
              "    </tr>\n",
              "    <tr>\n",
              "      <th>8729</th>\n",
              "      <td>99812-1-4-0.wav</td>\n",
              "      <td>7</td>\n",
              "      <td>1</td>\n",
              "    </tr>\n",
              "    <tr>\n",
              "      <th>8730</th>\n",
              "      <td>99812-1-5-0.wav</td>\n",
              "      <td>7</td>\n",
              "      <td>1</td>\n",
              "    </tr>\n",
              "    <tr>\n",
              "      <th>8731</th>\n",
              "      <td>99812-1-6-0.wav</td>\n",
              "      <td>7</td>\n",
              "      <td>1</td>\n",
              "    </tr>\n",
              "  </tbody>\n",
              "</table>\n",
              "<p>8732 rows × 3 columns</p>\n",
              "</div>\n",
              "      <button class=\"colab-df-convert\" onclick=\"convertToInteractive('df-90aa6003-0f16-410f-bd31-b11475d0a8c2')\"\n",
              "              title=\"Convert this dataframe to an interactive table.\"\n",
              "              style=\"display:none;\">\n",
              "        \n",
              "  <svg xmlns=\"http://www.w3.org/2000/svg\" height=\"24px\"viewBox=\"0 0 24 24\"\n",
              "       width=\"24px\">\n",
              "    <path d=\"M0 0h24v24H0V0z\" fill=\"none\"/>\n",
              "    <path d=\"M18.56 5.44l.94 2.06.94-2.06 2.06-.94-2.06-.94-.94-2.06-.94 2.06-2.06.94zm-11 1L8.5 8.5l.94-2.06 2.06-.94-2.06-.94L8.5 2.5l-.94 2.06-2.06.94zm10 10l.94 2.06.94-2.06 2.06-.94-2.06-.94-.94-2.06-.94 2.06-2.06.94z\"/><path d=\"M17.41 7.96l-1.37-1.37c-.4-.4-.92-.59-1.43-.59-.52 0-1.04.2-1.43.59L10.3 9.45l-7.72 7.72c-.78.78-.78 2.05 0 2.83L4 21.41c.39.39.9.59 1.41.59.51 0 1.02-.2 1.41-.59l7.78-7.78 2.81-2.81c.8-.78.8-2.07 0-2.86zM5.41 20L4 18.59l7.72-7.72 1.47 1.35L5.41 20z\"/>\n",
              "  </svg>\n",
              "      </button>\n",
              "      \n",
              "  <style>\n",
              "    .colab-df-container {\n",
              "      display:flex;\n",
              "      flex-wrap:wrap;\n",
              "      gap: 12px;\n",
              "    }\n",
              "\n",
              "    .colab-df-convert {\n",
              "      background-color: #E8F0FE;\n",
              "      border: none;\n",
              "      border-radius: 50%;\n",
              "      cursor: pointer;\n",
              "      display: none;\n",
              "      fill: #1967D2;\n",
              "      height: 32px;\n",
              "      padding: 0 0 0 0;\n",
              "      width: 32px;\n",
              "    }\n",
              "\n",
              "    .colab-df-convert:hover {\n",
              "      background-color: #E2EBFA;\n",
              "      box-shadow: 0px 1px 2px rgba(60, 64, 67, 0.3), 0px 1px 3px 1px rgba(60, 64, 67, 0.15);\n",
              "      fill: #174EA6;\n",
              "    }\n",
              "\n",
              "    [theme=dark] .colab-df-convert {\n",
              "      background-color: #3B4455;\n",
              "      fill: #D2E3FC;\n",
              "    }\n",
              "\n",
              "    [theme=dark] .colab-df-convert:hover {\n",
              "      background-color: #434B5C;\n",
              "      box-shadow: 0px 1px 3px 1px rgba(0, 0, 0, 0.15);\n",
              "      filter: drop-shadow(0px 1px 2px rgba(0, 0, 0, 0.3));\n",
              "      fill: #FFFFFF;\n",
              "    }\n",
              "  </style>\n",
              "\n",
              "      <script>\n",
              "        const buttonEl =\n",
              "          document.querySelector('#df-90aa6003-0f16-410f-bd31-b11475d0a8c2 button.colab-df-convert');\n",
              "        buttonEl.style.display =\n",
              "          google.colab.kernel.accessAllowed ? 'block' : 'none';\n",
              "\n",
              "        async function convertToInteractive(key) {\n",
              "          const element = document.querySelector('#df-90aa6003-0f16-410f-bd31-b11475d0a8c2');\n",
              "          const dataTable =\n",
              "            await google.colab.kernel.invokeFunction('convertToInteractive',\n",
              "                                                     [key], {});\n",
              "          if (!dataTable) return;\n",
              "\n",
              "          const docLinkHtml = 'Like what you see? Visit the ' +\n",
              "            '<a target=\"_blank\" href=https://colab.research.google.com/notebooks/data_table.ipynb>data table notebook</a>'\n",
              "            + ' to learn more about interactive tables.';\n",
              "          element.innerHTML = '';\n",
              "          dataTable['output_type'] = 'display_data';\n",
              "          await google.colab.output.renderOutput(dataTable, element);\n",
              "          const docLink = document.createElement('div');\n",
              "          docLink.innerHTML = docLinkHtml;\n",
              "          element.appendChild(docLink);\n",
              "        }\n",
              "      </script>\n",
              "    </div>\n",
              "  </div>\n",
              "  "
            ]
          },
          "metadata": {},
          "execution_count": 7
        }
      ]
    },
    {
      "cell_type": "markdown",
      "source": [
        "Descargamos el dataset (10 carpetas donde en cada una de ellas están los audios de cada etiqueta) y creamos un csv con: nombre de audio, carpeta en la que se encuentra, etiqueta."
      ],
      "metadata": {
        "id": "A6KcUQa2L8eX"
      }
    },
    {
      "cell_type": "markdown",
      "metadata": {
        "id": "AcBXauxHhwUS"
      },
      "source": [
        "## 2. Feature Extraction\n",
        "The feature sequences consist of the log-mel spectrograms of the audio files belonging to the UrbanSound8K database.\n",
        "\n",
        "In particular, the log-mel spectrograms are computed using the following configuration:\n",
        "\n",
        "* Frame period or hop length = 512 samples (512 / 22050 = 23.25 ms)\n",
        "* Size (length) of the analysis window = 1024 samples (1024 / 22050 = 46.5 ms)\n",
        "* Number of filters in the mel filterbank = 128\n",
        "\n",
        "For the log-mel spectrogram computation, we have used the function **melspectrogram** from the module *feature* of the *librosa* package. This function has, among others, the following input arguments:\n",
        "\n",
        "* y: speech signal \n",
        "* sr: sampling frequency\n",
        "* hop_length: frame period or hop length (in samples)\n",
        "* win_length: window size (in samples)\n",
        "* n_mels: number of filters in the mel filterbank\n",
        "\n",
        "Note that in this function the window size and the hop length must be expressed in samples. Taking into account that the sampling frequency (sr) indicates that 1 second correspond to fs samples (in our case, as sr = 22050 Hz, 1 second corresponds to 22050 samples), the conversion from **samples** to **seconds** is performed by:\n",
        "\n",
        "```\n",
        "seconds = samples/sr = samples/22050\n",
        "```\n"
      ]
    },
    {
      "cell_type": "markdown",
      "source": [
        "Definimos una función que obtenga los espectrogramas de cada uno de los audios del dataset. "
      ],
      "metadata": {
        "id": "Cy5G6VjCMSr3"
      }
    },
    {
      "cell_type": "code",
      "metadata": {
        "id": "mGOr9ZEseJF0"
      },
      "source": [
        "# Extract a log-mel spectrogram for each audio file in the dataset and store it\n",
        "# into a Pandas DataFrame along with its class and fold label.\n",
        "\n",
        "# Note that the resulting log-mel spectrograms (that can be seen as sequences of\n",
        "# features) are forced to have a fixed length that is determined by the input\n",
        "# argument \"num_of_frames\". Sequences longer than this quantity are cut, whereas\n",
        "# sequences shorter than this quantity are padded at the beginning and the\n",
        "# end with a predefined constant value.\n",
        "\n",
        "# Configuration variables for log-mel spectrogram computation\n",
        "WINDOW_LENGTH = 1024  # length of the analysis window in samples\n",
        "HOP_LENGTH = 512      # number of samples between successive frames (frame period or hop length)\n",
        "N_MEL = 128           # number of Mel bands to generate\n",
        "\n",
        "\n",
        "def compute_melspectrogram_with_fixed_length(audio, sampling_rate, num_of_frames=128):\n",
        "    try:\n",
        "        # compute a mel-scaled spectrogram\n",
        "        melspectrogram = librosa.feature.melspectrogram(y=audio, \n",
        "                                                        sr=sampling_rate, \n",
        "                                                        hop_length=HOP_LENGTH,\n",
        "                                                        win_length=WINDOW_LENGTH, \n",
        "                                                        n_mels=N_MEL)\n",
        "\n",
        "        # convert a power spectrogram to decibel units (log-mel spectrogram)\n",
        "        melspectrogram_db = librosa.power_to_db(melspectrogram, ref=np.max)\n",
        "        \n",
        "        melspectrogram_length = melspectrogram_db.shape[1]\n",
        "        \n",
        "        # pad or fix the length of spectrogram \n",
        "        if melspectrogram_length != num_of_frames:\n",
        "            melspectrogram_db = librosa.util.fix_length(melspectrogram_db, \n",
        "                                                        size=num_of_frames, \n",
        "                                                        axis=1, \n",
        "                                                        constant_values=(-80.0, -80.0))\n",
        "    except Exception as e:\n",
        "        print(\"\\nError encountered while parsing files\\n>>\", e)\n",
        "        return None \n",
        "    \n",
        "    return melspectrogram_db"
      ],
      "execution_count": null,
      "outputs": []
    },
    {
      "cell_type": "markdown",
      "source": [
        "Recortamos los audios para que todos duren 3 segundos y creamos un csv donde cada muestra es un audio y sus atributos son: valores_espectograma, etiqueta, carpeta_ubicada"
      ],
      "metadata": {
        "id": "O3tiAd0gMhY2"
      }
    },
    {
      "cell_type": "code",
      "metadata": {
        "id": "ei7J4d-tdjs6",
        "colab": {
          "base_uri": "https://localhost:8080/"
        },
        "outputId": "c0afc370-0685-41d6-b1c4-5d0038556df0"
      },
      "source": [
        "# Extract the log-mel spectrograms of the whole audio database.\n",
        "# The length of the log-mel sequences is fixed to NUM_OF_FRAMES = 128 frames,\n",
        "# that corresponds to NUM_OF_FRAMES*HOP_LENGTH, i.e. approximately, 3 seconds \n",
        "\n",
        "# Configuration variables for feature extraction\n",
        "SOUND_DURATION = 3.0    # fixed duration of an audio excerpt in seconds\n",
        "NUM_OF_FRAMES = 128     # fixed duration in frames\n",
        "\n",
        "features = []\n",
        "\n",
        "# iterate through all dataset examples and compute log-mel spectrograms\n",
        "for index, row in tqdm(us8k_metadata_df.iterrows(), total=len(us8k_metadata_df)):\n",
        "    file_path = f'{US8K_AUDIO_PATH}/fold{row[\"fold\"]}/{row[\"slice_file_name\"]}'\n",
        "    audio, sample_rate = librosa.load(file_path, duration=SOUND_DURATION, res_type='kaiser_fast')\n",
        "\n",
        "    melspectrogram = compute_melspectrogram_with_fixed_length(audio, sample_rate, num_of_frames=NUM_OF_FRAMES)\n",
        "    label = row[\"classID\"]\n",
        "    fold = row[\"fold\"]\n",
        "    \n",
        "    features.append([melspectrogram, label, fold])\n",
        "\n",
        "# convert into a Pandas DataFrame \n",
        "us8k_features = pd.DataFrame(features, columns=[\"melspectrogram\", \"label\", \"fold\"])"
      ],
      "execution_count": null,
      "outputs": [
        {
          "output_type": "stream",
          "name": "stderr",
          "text": [
            " 41%|████      | 3555/8732 [03:43<05:04, 17.01it/s]/usr/local/lib/python3.8/dist-packages/librosa/core/spectrum.py:222: UserWarning: n_fft=2048 is too small for input signal of length=1323\n",
            "  warnings.warn(\n",
            " 95%|█████████▌| 8326/8732 [08:21<00:16, 25.15it/s]/usr/local/lib/python3.8/dist-packages/librosa/core/spectrum.py:222: UserWarning: n_fft=2048 is too small for input signal of length=1103\n",
            "  warnings.warn(\n",
            "/usr/local/lib/python3.8/dist-packages/librosa/core/spectrum.py:222: UserWarning: n_fft=2048 is too small for input signal of length=1523\n",
            "  warnings.warn(\n",
            "100%|██████████| 8732/8732 [08:43<00:00, 16.68it/s]\n"
          ]
        }
      ]
    },
    {
      "cell_type": "markdown",
      "metadata": {
        "id": "1zgmwIW1p64C"
      },
      "source": [
        "### Store the data"
      ]
    },
    {
      "cell_type": "markdown",
      "source": [
        "Guardamos el último csv creado"
      ],
      "metadata": {
        "id": "rdkIbJCRMtJG"
      }
    },
    {
      "cell_type": "code",
      "metadata": {
        "id": "9OVKTKBlnKb8"
      },
      "source": [
        "# Store the data\n",
        "\n",
        "# Write the Pandas DataFrame object to .pkl file\n",
        "WRITE_DATA = True\n",
        "\n",
        "if WRITE_DATA:\n",
        "  us8k_features.to_pickle(\"us8k_features.pkl\")"
      ],
      "execution_count": null,
      "outputs": []
    }
  ]
}