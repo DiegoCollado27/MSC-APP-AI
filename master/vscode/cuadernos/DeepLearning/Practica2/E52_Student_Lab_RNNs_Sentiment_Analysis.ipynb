{
  "cells": [
    {
      "cell_type": "markdown",
      "id": "YA03a4WElfXT",
      "metadata": {
        "id": "YA03a4WElfXT"
      },
      "source": [
        "# Lab: RNNs for Sentiment Analysis\n",
        "\n",
        "\n",
        "------------------------------------------------------\n",
        "\n",
        "*Pablo M. Olmos pamartin@ing.uc3m.es*\n",
        "\n",
        "\n",
        "------------------------------------------------------\n",
        "\n",
        "In this notebook we will deploy RNNs to perform sentiment analysis in a real dataset of finantial news. The required preprocesing using standard NLP libraries will be given to you (you have a course on NLP in the second term to learn this part) and your goal will be to define the RNN model, train it and validate the results.\n",
        "\n",
        "\n",
        "We will use the [Finantial Phrase Bank](https://www.researchgate.net/profile/Pekka-Malo/publication/251231364_FinancialPhraseBank-v10/data/0c96051eee4fb1d56e000000/FinancialPhraseBank-v10.zip), which contains  near 5000 sentences from finantial news:\n",
        "\n",
        "\n",
        ">*This release of the financial phrase bank covers a collection of 4840 sentences. The selected collection of phrases was annotated by 16 people with adequate background knowledge on financial markets. Three of the annotators were researchers and the remaining 13 annotators were master’s students at Aalto University School of Business with majors primarily in finance, accounting, and economics.*\n",
        ">\n",
        ">*The objective of the phrase level annotation task was to classify each example sentence into a positive, negative or neutral category by considering only the information explicitly available in the given sentence. Since the study is focused only on financial and economic domains, the annotators were asked to consider the sentences from the view point of an investor only; i.e. whether the news may have positive, negative or neutral influence on the stock price. As a result, sentences which have a sentiment that is not relevant from an economic or financial perspective are considered neutral.*\n",
        "\n",
        "Lets load the database and preprocess it using [SpaCy](https://spacy.io/). This part is all given to you, so no need to worry much.\n",
        "\n",
        "\n"
      ]
    },
    {
      "cell_type": "code",
      "execution_count": null,
      "id": "yhk-tXZOlfXW",
      "metadata": {
        "colab": {
          "base_uri": "https://localhost:8080/"
        },
        "id": "yhk-tXZOlfXW",
        "outputId": "5a83305d-5d2b-4944-e7b4-d98135f46ee6"
      },
      "outputs": [
        {
          "name": "stdout",
          "output_type": "stream",
          "text": [
            "Looking in indexes: https://pypi.org/simple, https://us-python.pkg.dev/colab-wheels/public/simple/\n",
            "Requirement already satisfied: spacy in /usr/local/lib/python3.7/dist-packages (3.4.3)\n",
            "Requirement already satisfied: spacy-loggers<2.0.0,>=1.0.0 in /usr/local/lib/python3.7/dist-packages (from spacy) (1.0.3)\n",
            "Requirement already satisfied: pathy>=0.3.5 in /usr/local/lib/python3.7/dist-packages (from spacy) (0.8.1)\n",
            "Requirement already satisfied: catalogue<2.1.0,>=2.0.6 in /usr/local/lib/python3.7/dist-packages (from spacy) (2.0.8)\n",
            "Requirement already satisfied: srsly<3.0.0,>=2.4.3 in /usr/local/lib/python3.7/dist-packages (from spacy) (2.4.5)\n",
            "Requirement already satisfied: cymem<2.1.0,>=2.0.2 in /usr/local/lib/python3.7/dist-packages (from spacy) (2.0.7)\n",
            "Requirement already satisfied: typing-extensions<4.2.0,>=3.7.4 in /usr/local/lib/python3.7/dist-packages (from spacy) (4.1.1)\n",
            "Requirement already satisfied: requests<3.0.0,>=2.13.0 in /usr/local/lib/python3.7/dist-packages (from spacy) (2.23.0)\n",
            "Requirement already satisfied: jinja2 in /usr/local/lib/python3.7/dist-packages (from spacy) (2.11.3)\n",
            "Requirement already satisfied: packaging>=20.0 in /usr/local/lib/python3.7/dist-packages (from spacy) (21.3)\n",
            "Requirement already satisfied: pydantic!=1.8,!=1.8.1,<1.11.0,>=1.7.4 in /usr/local/lib/python3.7/dist-packages (from spacy) (1.10.2)\n",
            "Requirement already satisfied: tqdm<5.0.0,>=4.38.0 in /usr/local/lib/python3.7/dist-packages (from spacy) (4.64.1)\n",
            "Requirement already satisfied: numpy>=1.15.0 in /usr/local/lib/python3.7/dist-packages (from spacy) (1.21.6)\n",
            "Requirement already satisfied: typer<0.8.0,>=0.3.0 in /usr/local/lib/python3.7/dist-packages (from spacy) (0.7.0)\n",
            "Requirement already satisfied: langcodes<4.0.0,>=3.2.0 in /usr/local/lib/python3.7/dist-packages (from spacy) (3.3.0)\n",
            "Requirement already satisfied: murmurhash<1.1.0,>=0.28.0 in /usr/local/lib/python3.7/dist-packages (from spacy) (1.0.9)\n",
            "Requirement already satisfied: wasabi<1.1.0,>=0.9.1 in /usr/local/lib/python3.7/dist-packages (from spacy) (0.10.1)\n",
            "Requirement already satisfied: spacy-legacy<3.1.0,>=3.0.10 in /usr/local/lib/python3.7/dist-packages (from spacy) (3.0.10)\n",
            "Requirement already satisfied: setuptools in /usr/local/lib/python3.7/dist-packages (from spacy) (57.4.0)\n",
            "Requirement already satisfied: preshed<3.1.0,>=3.0.2 in /usr/local/lib/python3.7/dist-packages (from spacy) (3.0.8)\n",
            "Requirement already satisfied: thinc<8.2.0,>=8.1.0 in /usr/local/lib/python3.7/dist-packages (from spacy) (8.1.5)\n",
            "Requirement already satisfied: zipp>=0.5 in /usr/local/lib/python3.7/dist-packages (from catalogue<2.1.0,>=2.0.6->spacy) (3.10.0)\n",
            "Requirement already satisfied: pyparsing!=3.0.5,>=2.0.2 in /usr/local/lib/python3.7/dist-packages (from packaging>=20.0->spacy) (3.0.9)\n",
            "Requirement already satisfied: smart-open<6.0.0,>=5.2.1 in /usr/local/lib/python3.7/dist-packages (from pathy>=0.3.5->spacy) (5.2.1)\n",
            "Requirement already satisfied: certifi>=2017.4.17 in /usr/local/lib/python3.7/dist-packages (from requests<3.0.0,>=2.13.0->spacy) (2022.9.24)\n",
            "Requirement already satisfied: urllib3!=1.25.0,!=1.25.1,<1.26,>=1.21.1 in /usr/local/lib/python3.7/dist-packages (from requests<3.0.0,>=2.13.0->spacy) (1.24.3)\n",
            "Requirement already satisfied: chardet<4,>=3.0.2 in /usr/local/lib/python3.7/dist-packages (from requests<3.0.0,>=2.13.0->spacy) (3.0.4)\n",
            "Requirement already satisfied: idna<3,>=2.5 in /usr/local/lib/python3.7/dist-packages (from requests<3.0.0,>=2.13.0->spacy) (2.10)\n",
            "Requirement already satisfied: confection<1.0.0,>=0.0.1 in /usr/local/lib/python3.7/dist-packages (from thinc<8.2.0,>=8.1.0->spacy) (0.0.3)\n",
            "Requirement already satisfied: blis<0.8.0,>=0.7.8 in /usr/local/lib/python3.7/dist-packages (from thinc<8.2.0,>=8.1.0->spacy) (0.7.9)\n",
            "Requirement already satisfied: click<9.0.0,>=7.1.1 in /usr/local/lib/python3.7/dist-packages (from typer<0.8.0,>=0.3.0->spacy) (7.1.2)\n",
            "Requirement already satisfied: MarkupSafe>=0.23 in /usr/local/lib/python3.7/dist-packages (from jinja2->spacy) (2.0.1)\n"
          ]
        }
      ],
      "source": [
        "# To use it in colab, update spacy \n",
        "!pip install --upgrade spacy "
      ]
    },
    {
      "cell_type": "code",
      "execution_count": null,
      "id": "OrccsI9dlfXX",
      "metadata": {
        "colab": {
          "base_uri": "https://localhost:8080/"
        },
        "id": "OrccsI9dlfXX",
        "outputId": "e666edc5-4c4d-4409-cae8-a13b5c984c05"
      },
      "outputs": [
        {
          "name": "stdout",
          "output_type": "stream",
          "text": [
            "2022-11-28 14:14:29.819325: E tensorflow/stream_executor/cuda/cuda_driver.cc:271] failed call to cuInit: CUDA_ERROR_NO_DEVICE: no CUDA-capable device is detected\n",
            "Looking in indexes: https://pypi.org/simple, https://us-python.pkg.dev/colab-wheels/public/simple/\n",
            "Collecting en-core-web-lg==3.4.1\n",
            "  Downloading https://github.com/explosion/spacy-models/releases/download/en_core_web_lg-3.4.1/en_core_web_lg-3.4.1-py3-none-any.whl (587.7 MB)\n",
            "\u001b[K     |████████████████████████████████| 587.7 MB 16 kB/s \n",
            "\u001b[?25hRequirement already satisfied: spacy<3.5.0,>=3.4.0 in /usr/local/lib/python3.7/dist-packages (from en-core-web-lg==3.4.1) (3.4.3)\n",
            "Requirement already satisfied: preshed<3.1.0,>=3.0.2 in /usr/local/lib/python3.7/dist-packages (from spacy<3.5.0,>=3.4.0->en-core-web-lg==3.4.1) (3.0.8)\n",
            "Requirement already satisfied: tqdm<5.0.0,>=4.38.0 in /usr/local/lib/python3.7/dist-packages (from spacy<3.5.0,>=3.4.0->en-core-web-lg==3.4.1) (4.64.1)\n",
            "Requirement already satisfied: typer<0.8.0,>=0.3.0 in /usr/local/lib/python3.7/dist-packages (from spacy<3.5.0,>=3.4.0->en-core-web-lg==3.4.1) (0.7.0)\n",
            "Requirement already satisfied: catalogue<2.1.0,>=2.0.6 in /usr/local/lib/python3.7/dist-packages (from spacy<3.5.0,>=3.4.0->en-core-web-lg==3.4.1) (2.0.8)\n",
            "Requirement already satisfied: murmurhash<1.1.0,>=0.28.0 in /usr/local/lib/python3.7/dist-packages (from spacy<3.5.0,>=3.4.0->en-core-web-lg==3.4.1) (1.0.9)\n",
            "Requirement already satisfied: setuptools in /usr/local/lib/python3.7/dist-packages (from spacy<3.5.0,>=3.4.0->en-core-web-lg==3.4.1) (57.4.0)\n",
            "Requirement already satisfied: jinja2 in /usr/local/lib/python3.7/dist-packages (from spacy<3.5.0,>=3.4.0->en-core-web-lg==3.4.1) (2.11.3)\n",
            "Requirement already satisfied: numpy>=1.15.0 in /usr/local/lib/python3.7/dist-packages (from spacy<3.5.0,>=3.4.0->en-core-web-lg==3.4.1) (1.21.6)\n",
            "Requirement already satisfied: spacy-legacy<3.1.0,>=3.0.10 in /usr/local/lib/python3.7/dist-packages (from spacy<3.5.0,>=3.4.0->en-core-web-lg==3.4.1) (3.0.10)\n",
            "Requirement already satisfied: srsly<3.0.0,>=2.4.3 in /usr/local/lib/python3.7/dist-packages (from spacy<3.5.0,>=3.4.0->en-core-web-lg==3.4.1) (2.4.5)\n",
            "Requirement already satisfied: wasabi<1.1.0,>=0.9.1 in /usr/local/lib/python3.7/dist-packages (from spacy<3.5.0,>=3.4.0->en-core-web-lg==3.4.1) (0.10.1)\n",
            "Requirement already satisfied: typing-extensions<4.2.0,>=3.7.4 in /usr/local/lib/python3.7/dist-packages (from spacy<3.5.0,>=3.4.0->en-core-web-lg==3.4.1) (4.1.1)\n",
            "Requirement already satisfied: requests<3.0.0,>=2.13.0 in /usr/local/lib/python3.7/dist-packages (from spacy<3.5.0,>=3.4.0->en-core-web-lg==3.4.1) (2.23.0)\n",
            "Requirement already satisfied: langcodes<4.0.0,>=3.2.0 in /usr/local/lib/python3.7/dist-packages (from spacy<3.5.0,>=3.4.0->en-core-web-lg==3.4.1) (3.3.0)\n",
            "Requirement already satisfied: thinc<8.2.0,>=8.1.0 in /usr/local/lib/python3.7/dist-packages (from spacy<3.5.0,>=3.4.0->en-core-web-lg==3.4.1) (8.1.5)\n",
            "Requirement already satisfied: spacy-loggers<2.0.0,>=1.0.0 in /usr/local/lib/python3.7/dist-packages (from spacy<3.5.0,>=3.4.0->en-core-web-lg==3.4.1) (1.0.3)\n",
            "Requirement already satisfied: packaging>=20.0 in /usr/local/lib/python3.7/dist-packages (from spacy<3.5.0,>=3.4.0->en-core-web-lg==3.4.1) (21.3)\n",
            "Requirement already satisfied: pydantic!=1.8,!=1.8.1,<1.11.0,>=1.7.4 in /usr/local/lib/python3.7/dist-packages (from spacy<3.5.0,>=3.4.0->en-core-web-lg==3.4.1) (1.10.2)\n",
            "Requirement already satisfied: cymem<2.1.0,>=2.0.2 in /usr/local/lib/python3.7/dist-packages (from spacy<3.5.0,>=3.4.0->en-core-web-lg==3.4.1) (2.0.7)\n",
            "Requirement already satisfied: pathy>=0.3.5 in /usr/local/lib/python3.7/dist-packages (from spacy<3.5.0,>=3.4.0->en-core-web-lg==3.4.1) (0.8.1)\n",
            "Requirement already satisfied: zipp>=0.5 in /usr/local/lib/python3.7/dist-packages (from catalogue<2.1.0,>=2.0.6->spacy<3.5.0,>=3.4.0->en-core-web-lg==3.4.1) (3.10.0)\n",
            "Requirement already satisfied: pyparsing!=3.0.5,>=2.0.2 in /usr/local/lib/python3.7/dist-packages (from packaging>=20.0->spacy<3.5.0,>=3.4.0->en-core-web-lg==3.4.1) (3.0.9)\n",
            "Requirement already satisfied: smart-open<6.0.0,>=5.2.1 in /usr/local/lib/python3.7/dist-packages (from pathy>=0.3.5->spacy<3.5.0,>=3.4.0->en-core-web-lg==3.4.1) (5.2.1)\n",
            "Requirement already satisfied: idna<3,>=2.5 in /usr/local/lib/python3.7/dist-packages (from requests<3.0.0,>=2.13.0->spacy<3.5.0,>=3.4.0->en-core-web-lg==3.4.1) (2.10)\n",
            "Requirement already satisfied: certifi>=2017.4.17 in /usr/local/lib/python3.7/dist-packages (from requests<3.0.0,>=2.13.0->spacy<3.5.0,>=3.4.0->en-core-web-lg==3.4.1) (2022.9.24)\n",
            "Requirement already satisfied: chardet<4,>=3.0.2 in /usr/local/lib/python3.7/dist-packages (from requests<3.0.0,>=2.13.0->spacy<3.5.0,>=3.4.0->en-core-web-lg==3.4.1) (3.0.4)\n",
            "Requirement already satisfied: urllib3!=1.25.0,!=1.25.1,<1.26,>=1.21.1 in /usr/local/lib/python3.7/dist-packages (from requests<3.0.0,>=2.13.0->spacy<3.5.0,>=3.4.0->en-core-web-lg==3.4.1) (1.24.3)\n",
            "Requirement already satisfied: blis<0.8.0,>=0.7.8 in /usr/local/lib/python3.7/dist-packages (from thinc<8.2.0,>=8.1.0->spacy<3.5.0,>=3.4.0->en-core-web-lg==3.4.1) (0.7.9)\n",
            "Requirement already satisfied: confection<1.0.0,>=0.0.1 in /usr/local/lib/python3.7/dist-packages (from thinc<8.2.0,>=8.1.0->spacy<3.5.0,>=3.4.0->en-core-web-lg==3.4.1) (0.0.3)\n",
            "Requirement already satisfied: click<9.0.0,>=7.1.1 in /usr/local/lib/python3.7/dist-packages (from typer<0.8.0,>=0.3.0->spacy<3.5.0,>=3.4.0->en-core-web-lg==3.4.1) (7.1.2)\n",
            "Requirement already satisfied: MarkupSafe>=0.23 in /usr/local/lib/python3.7/dist-packages (from jinja2->spacy<3.5.0,>=3.4.0->en-core-web-lg==3.4.1) (2.0.1)\n",
            "Installing collected packages: en-core-web-lg\n",
            "Successfully installed en-core-web-lg-3.4.1\n",
            "\u001b[38;5;2m✔ Download and installation successful\u001b[0m\n",
            "You can now load the package via spacy.load('en_core_web_lg')\n"
          ]
        }
      ],
      "source": [
        "# Download language model\n",
        "\n",
        "!python -m spacy download en_core_web_lg"
      ]
    },
    {
      "cell_type": "code",
      "execution_count": null,
      "id": "ba3UIK4BlfXX",
      "metadata": {
        "id": "ba3UIK4BlfXX"
      },
      "outputs": [],
      "source": [
        "import numpy as np\n",
        "import pandas as pd\n",
        "import spacy\n",
        "\n",
        "\n",
        "%matplotlib inline\n",
        "%config InlineBackend.figure_format = 'retina' \n",
        "import matplotlib.pyplot as plt"
      ]
    },
    {
      "cell_type": "code",
      "execution_count": null,
      "id": "0bNuLl1M8aAi",
      "metadata": {
        "colab": {
          "base_uri": "https://localhost:8080/"
        },
        "id": "0bNuLl1M8aAi",
        "outputId": "0d522728-9b24-4002-afa3-bf8f1a9eec31"
      },
      "outputs": [
        {
          "name": "stdout",
          "output_type": "stream",
          "text": [
            "Drive already mounted at /content/drive; to attempt to forcibly remount, call drive.mount(\"/content/drive\", force_remount=True).\n"
          ]
        }
      ],
      "source": [
        "# Aditional lines to connect to colab\n",
        "from google.colab import drive\n",
        "drive.mount('/content/drive')\n",
        "\n",
        "ruta = '/content/drive/My Drive/Colab Notebooks/DL/'"
      ]
    },
    {
      "cell_type": "code",
      "execution_count": null,
      "id": "xICjPhwclfXX",
      "metadata": {
        "id": "xICjPhwclfXX"
      },
      "outputs": [],
      "source": [
        "with open(\"Sentences.txt\", \"r\", encoding=\"ISO-8859-1\") as sentences:\n",
        "    lines = sentences.readlines()"
      ]
    },
    {
      "cell_type": "markdown",
      "id": "qiZIgqmClfXX",
      "metadata": {
        "id": "qiZIgqmClfXX"
      },
      "source": [
        "In lines, we have a list of sentences and an associted label, separated by the character `@`"
      ]
    },
    {
      "cell_type": "code",
      "execution_count": null,
      "id": "X97Wdm7XlfXY",
      "metadata": {
        "colab": {
          "base_uri": "https://localhost:8080/"
        },
        "id": "X97Wdm7XlfXY",
        "outputId": "8a3d07ea-6485-4aab-de16-9845592581f5"
      },
      "outputs": [
        {
          "name": "stdout",
          "output_type": "stream",
          "text": [
            "According to Gran , the company has no plans to move all production to Russia , although that is where the company is growing .@neutral\n",
            "\n"
          ]
        }
      ],
      "source": [
        "print(lines[0])"
      ]
    },
    {
      "cell_type": "markdown",
      "id": "dZjf4ORclfXY",
      "metadata": {
        "id": "dZjf4ORclfXY"
      },
      "source": [
        "We split the sentence and we code with 0 neutral labels, with 1 negative labels, and with 2 positive labels"
      ]
    },
    {
      "cell_type": "code",
      "execution_count": null,
      "id": "I2w6nRkQlfXY",
      "metadata": {
        "id": "I2w6nRkQlfXY"
      },
      "outputs": [],
      "source": [
        "phrases = [l.split('@')[0] for l in lines]\n",
        "opinions = [l.split('@')[1] for l in lines]\n",
        "\n",
        "def code_opinion(l):\n",
        "    d = 0\n",
        "    if (l=='negative\\n'):\n",
        "        d = 1\n",
        "    elif (l=='positive\\n'):\n",
        "        d = 2\n",
        "    return d\n",
        "\n",
        "labels = np.array([code_opinion(l) for l in opinions])\n",
        "    "
      ]
    },
    {
      "cell_type": "code",
      "execution_count": null,
      "id": "rDLr7KKrlfXY",
      "metadata": {
        "colab": {
          "base_uri": "https://localhost:8080/",
          "height": 424
        },
        "id": "rDLr7KKrlfXY",
        "outputId": "09873b37-cecf-4273-ba05-6e9e445f7062"
      },
      "outputs": [
        {
          "data": {
            "text/html": [
              "\n",
              "  <div id=\"df-6e172985-812b-4b55-90e7-74a96640f49e\">\n",
              "    <div class=\"colab-df-container\">\n",
              "      <div>\n",
              "<style scoped>\n",
              "    .dataframe tbody tr th:only-of-type {\n",
              "        vertical-align: middle;\n",
              "    }\n",
              "\n",
              "    .dataframe tbody tr th {\n",
              "        vertical-align: top;\n",
              "    }\n",
              "\n",
              "    .dataframe thead th {\n",
              "        text-align: right;\n",
              "    }\n",
              "</style>\n",
              "<table border=\"1\" class=\"dataframe\">\n",
              "  <thead>\n",
              "    <tr style=\"text-align: right;\">\n",
              "      <th></th>\n",
              "      <th>Phrase</th>\n",
              "      <th>Opinion</th>\n",
              "    </tr>\n",
              "  </thead>\n",
              "  <tbody>\n",
              "    <tr>\n",
              "      <th>0</th>\n",
              "      <td>According to Gran , the company has no plans t...</td>\n",
              "      <td>neutral\\n</td>\n",
              "    </tr>\n",
              "    <tr>\n",
              "      <th>1</th>\n",
              "      <td>With the new production plant the company woul...</td>\n",
              "      <td>positive\\n</td>\n",
              "    </tr>\n",
              "    <tr>\n",
              "      <th>2</th>\n",
              "      <td>For the last quarter of 2010 , Componenta 's n...</td>\n",
              "      <td>positive\\n</td>\n",
              "    </tr>\n",
              "    <tr>\n",
              "      <th>3</th>\n",
              "      <td>In the third quarter of 2010 , net sales incre...</td>\n",
              "      <td>positive\\n</td>\n",
              "    </tr>\n",
              "    <tr>\n",
              "      <th>4</th>\n",
              "      <td>Operating profit rose to EUR 13.1 mn from EUR ...</td>\n",
              "      <td>positive\\n</td>\n",
              "    </tr>\n",
              "    <tr>\n",
              "      <th>...</th>\n",
              "      <td>...</td>\n",
              "      <td>...</td>\n",
              "    </tr>\n",
              "    <tr>\n",
              "      <th>5712</th>\n",
              "      <td>Operating result for the 12-month period decre...</td>\n",
              "      <td>negative\\n</td>\n",
              "    </tr>\n",
              "    <tr>\n",
              "      <th>5713</th>\n",
              "      <td>HELSINKI Thomson Financial - Shares in Cargote...</td>\n",
              "      <td>negative\\n</td>\n",
              "    </tr>\n",
              "    <tr>\n",
              "      <th>5714</th>\n",
              "      <td>LONDON MarketWatch -- Share prices ended lower...</td>\n",
              "      <td>negative\\n</td>\n",
              "    </tr>\n",
              "    <tr>\n",
              "      <th>5715</th>\n",
              "      <td>Operating profit fell to EUR 35.4 mn from EUR ...</td>\n",
              "      <td>negative\\n</td>\n",
              "    </tr>\n",
              "    <tr>\n",
              "      <th>5716</th>\n",
              "      <td>Sales in Finland decreased by 10.5 % in Januar...</td>\n",
              "      <td>negative\\n</td>\n",
              "    </tr>\n",
              "  </tbody>\n",
              "</table>\n",
              "<p>5717 rows × 2 columns</p>\n",
              "</div>\n",
              "      <button class=\"colab-df-convert\" onclick=\"convertToInteractive('df-6e172985-812b-4b55-90e7-74a96640f49e')\"\n",
              "              title=\"Convert this dataframe to an interactive table.\"\n",
              "              style=\"display:none;\">\n",
              "        \n",
              "  <svg xmlns=\"http://www.w3.org/2000/svg\" height=\"24px\"viewBox=\"0 0 24 24\"\n",
              "       width=\"24px\">\n",
              "    <path d=\"M0 0h24v24H0V0z\" fill=\"none\"/>\n",
              "    <path d=\"M18.56 5.44l.94 2.06.94-2.06 2.06-.94-2.06-.94-.94-2.06-.94 2.06-2.06.94zm-11 1L8.5 8.5l.94-2.06 2.06-.94-2.06-.94L8.5 2.5l-.94 2.06-2.06.94zm10 10l.94 2.06.94-2.06 2.06-.94-2.06-.94-.94-2.06-.94 2.06-2.06.94z\"/><path d=\"M17.41 7.96l-1.37-1.37c-.4-.4-.92-.59-1.43-.59-.52 0-1.04.2-1.43.59L10.3 9.45l-7.72 7.72c-.78.78-.78 2.05 0 2.83L4 21.41c.39.39.9.59 1.41.59.51 0 1.02-.2 1.41-.59l7.78-7.78 2.81-2.81c.8-.78.8-2.07 0-2.86zM5.41 20L4 18.59l7.72-7.72 1.47 1.35L5.41 20z\"/>\n",
              "  </svg>\n",
              "      </button>\n",
              "      \n",
              "  <style>\n",
              "    .colab-df-container {\n",
              "      display:flex;\n",
              "      flex-wrap:wrap;\n",
              "      gap: 12px;\n",
              "    }\n",
              "\n",
              "    .colab-df-convert {\n",
              "      background-color: #E8F0FE;\n",
              "      border: none;\n",
              "      border-radius: 50%;\n",
              "      cursor: pointer;\n",
              "      display: none;\n",
              "      fill: #1967D2;\n",
              "      height: 32px;\n",
              "      padding: 0 0 0 0;\n",
              "      width: 32px;\n",
              "    }\n",
              "\n",
              "    .colab-df-convert:hover {\n",
              "      background-color: #E2EBFA;\n",
              "      box-shadow: 0px 1px 2px rgba(60, 64, 67, 0.3), 0px 1px 3px 1px rgba(60, 64, 67, 0.15);\n",
              "      fill: #174EA6;\n",
              "    }\n",
              "\n",
              "    [theme=dark] .colab-df-convert {\n",
              "      background-color: #3B4455;\n",
              "      fill: #D2E3FC;\n",
              "    }\n",
              "\n",
              "    [theme=dark] .colab-df-convert:hover {\n",
              "      background-color: #434B5C;\n",
              "      box-shadow: 0px 1px 3px 1px rgba(0, 0, 0, 0.15);\n",
              "      filter: drop-shadow(0px 1px 2px rgba(0, 0, 0, 0.3));\n",
              "      fill: #FFFFFF;\n",
              "    }\n",
              "  </style>\n",
              "\n",
              "      <script>\n",
              "        const buttonEl =\n",
              "          document.querySelector('#df-6e172985-812b-4b55-90e7-74a96640f49e button.colab-df-convert');\n",
              "        buttonEl.style.display =\n",
              "          google.colab.kernel.accessAllowed ? 'block' : 'none';\n",
              "\n",
              "        async function convertToInteractive(key) {\n",
              "          const element = document.querySelector('#df-6e172985-812b-4b55-90e7-74a96640f49e');\n",
              "          const dataTable =\n",
              "            await google.colab.kernel.invokeFunction('convertToInteractive',\n",
              "                                                     [key], {});\n",
              "          if (!dataTable) return;\n",
              "\n",
              "          const docLinkHtml = 'Like what you see? Visit the ' +\n",
              "            '<a target=\"_blank\" href=https://colab.research.google.com/notebooks/data_table.ipynb>data table notebook</a>'\n",
              "            + ' to learn more about interactive tables.';\n",
              "          element.innerHTML = '';\n",
              "          dataTable['output_type'] = 'display_data';\n",
              "          await google.colab.output.renderOutput(dataTable, element);\n",
              "          const docLink = document.createElement('div');\n",
              "          docLink.innerHTML = docLinkHtml;\n",
              "          element.appendChild(docLink);\n",
              "        }\n",
              "      </script>\n",
              "    </div>\n",
              "  </div>\n",
              "  "
            ],
            "text/plain": [
              "                                                 Phrase     Opinion\n",
              "0     According to Gran , the company has no plans t...   neutral\\n\n",
              "1     With the new production plant the company woul...  positive\\n\n",
              "2     For the last quarter of 2010 , Componenta 's n...  positive\\n\n",
              "3     In the third quarter of 2010 , net sales incre...  positive\\n\n",
              "4     Operating profit rose to EUR 13.1 mn from EUR ...  positive\\n\n",
              "...                                                 ...         ...\n",
              "5712  Operating result for the 12-month period decre...  negative\\n\n",
              "5713  HELSINKI Thomson Financial - Shares in Cargote...  negative\\n\n",
              "5714  LONDON MarketWatch -- Share prices ended lower...  negative\\n\n",
              "5715  Operating profit fell to EUR 35.4 mn from EUR ...  negative\\n\n",
              "5716  Sales in Finland decreased by 10.5 % in Januar...  negative\\n\n",
              "\n",
              "[5717 rows x 2 columns]"
            ]
          },
          "execution_count": 10,
          "metadata": {},
          "output_type": "execute_result"
        }
      ],
      "source": [
        "df = pd.DataFrame({\"Phrase\":phrases,\n",
        "                  \"Opinion\":opinions})\n",
        "df"
      ]
    },
    {
      "cell_type": "markdown",
      "id": "ShmRdf1zlfXZ",
      "metadata": {
        "id": "ShmRdf1zlfXZ"
      },
      "source": [
        "Lets plot the histogram of the labels ..."
      ]
    },
    {
      "cell_type": "code",
      "execution_count": null,
      "id": "_A80R9fplfXZ",
      "metadata": {
        "colab": {
          "base_uri": "https://localhost:8080/",
          "height": 294
        },
        "id": "_A80R9fplfXZ",
        "outputId": "ca8c61e3-c58f-4d00-b90c-7d28f20a063a"
      },
      "outputs": [
        {
          "data": {
            "image/png": "[encoded data removed]",
            "text/plain": [
              "<Figure size 432x288 with 1 Axes>"
            ]
          },
          "metadata": {
            "image/png": {
              "height": 277,
              "width": 383
            },
            "needs_background": "light"
          },
          "output_type": "display_data"
        }
      ],
      "source": [
        "fig,ax = plt.subplots(1,1)\n",
        "\n",
        "ax.hist(labels)\n",
        "ax.set_xticks([0,1,2])\n",
        "ax.set_xticklabels(['Neutral','Negative','Positive'],rotation=45)\n",
        "ax.grid()"
      ]
    },
    {
      "cell_type": "markdown",
      "id": "ZWAtocIclfXZ",
      "metadata": {
        "id": "ZWAtocIclfXZ"
      },
      "source": [
        "To simplify the problem, we're fusing together *Neutral* and *Positive* labels. So label 1 is *Negative review* and label 0 is *Positive+Neutral*. Also, we separate between train, validation and test."
      ]
    },
    {
      "cell_type": "code",
      "execution_count": null,
      "id": "WA7oOj9clfXZ",
      "metadata": {
        "id": "WA7oOj9clfXZ"
      },
      "outputs": [],
      "source": [
        "from sklearn.model_selection import train_test_split\n",
        "\n",
        "labels_bin = labels.copy()\n",
        "\n",
        "labels_bin[labels_bin==2] = 0 \n",
        "\n",
        "idx_data = np.arange(0,len(df),1)\n",
        "\n",
        "# Separamos train de test\n",
        "idx_train, idx_test, y_train, y_test = train_test_split(idx_data, labels_bin, test_size=0.2, random_state=0)\n",
        "\n",
        "# Separamos train de val\n",
        "idx_train, idx_val, y_train, y_val = train_test_split(idx_train, y_train, test_size=0.2, random_state=0)\n",
        "\n",
        "acc_baseline_train = np.sum(y_train==0)/y_train.shape[0]"
      ]
    },
    {
      "cell_type": "markdown",
      "id": "Gck9xyNslfXa",
      "metadata": {
        "id": "Gck9xyNslfXa"
      },
      "source": [
        "### Text pre-processing"
      ]
    },
    {
      "cell_type": "markdown",
      "id": "c7j0Ze2elfXa",
      "metadata": {
        "id": "c7j0Ze2elfXa"
      },
      "source": [
        "With the following code, we pre-process using Spacy each sentence by removing words that are punctuation marks.  As a result, we have the list `norm_docs`. \n",
        "\n",
        "Note that are better preprocessing steps that we can take, such as removing [stopping words](https://nlp.stanford.edu/IR-book/html/htmledition/dropping-common-terms-stop-words-1.html). But we leave these ideas to other courses more focused on NLP."
      ]
    },
    {
      "cell_type": "code",
      "execution_count": null,
      "id": "FDmFuUTIlfXa",
      "metadata": {
        "id": "FDmFuUTIlfXa"
      },
      "outputs": [],
      "source": [
        "nlp = spacy.load(\"en_core_web_lg\") # Language model\n",
        "\n",
        "docs = [nlp(c) for c in phrases]\n",
        "\n",
        "# We remove punctuation marks (.,;:?!...) \n",
        "def normalize(doc):\n",
        "    return [w for w in doc if w.has_vector and not w.is_punct]\n",
        "\n",
        "norm_docs = [normalize(d) for d in docs]\n"
      ]
    },
    {
      "cell_type": "markdown",
      "id": "SAbkjx27lfXa",
      "metadata": {
        "id": "SAbkjx27lfXa"
      },
      "source": [
        "Every item of `norm_docs` corresponds to each of the sentences in the dataset. Each item is itself a list of spacy tokens (basically words with different attributes). The most important attribute for us the the *word embedding vector*. For instance, lets print the first sentence"
      ]
    },
    {
      "cell_type": "code",
      "execution_count": null,
      "id": "gM33VVI0lfXa",
      "metadata": {
        "colab": {
          "base_uri": "https://localhost:8080/"
        },
        "id": "gM33VVI0lfXa",
        "outputId": "ad8f7af2-23d8-4f0f-fc98-24b39bf7fda9"
      },
      "outputs": [
        {
          "name": "stdout",
          "output_type": "stream",
          "text": [
            "The first original sentence is: According to Gran , the company has no plans to move all production to Russia , although that is where the company is growing .\n",
            "\n",
            "The first normalized sentence is: [According, to, Gran, the, company, has, no, plans, to, move, all, production, to, Russia, although, that, is, where, the, company, is, growing]. The length of the document is 22 tokens\n"
          ]
        }
      ],
      "source": [
        "print(f'The first original sentence is: {phrases[0]}\\n')\n",
        "\n",
        "print(f'The first normalized sentence is: {norm_docs[0]}. The length of the document is {len(norm_docs[0])} tokens')"
      ]
    },
    {
      "cell_type": "markdown",
      "id": "Hg6yiQvYlfXa",
      "metadata": {
        "id": "Hg6yiQvYlfXa"
      },
      "source": [
        "We can access to the word embedding of each token using the attribute `.vector`:"
      ]
    },
    {
      "cell_type": "code",
      "execution_count": null,
      "id": "b16TdtDrlfXb",
      "metadata": {
        "colab": {
          "base_uri": "https://localhost:8080/"
        },
        "id": "b16TdtDrlfXb",
        "outputId": "c00133de-403d-4156-a2ec-6f5fcdfd88d4"
      },
      "outputs": [
        {
          "name": "stdout",
          "output_type": "stream",
          "text": [
            "The word embedding associated with the token According is\n",
            "\n",
            "[-7.2518e-01 -6.5831e+00  1.9781e+00  1.5750e+00  3.7848e+00 -7.7536e-01\n",
            "  1.6243e+00  1.3813e+00 -7.4554e-01 -3.3811e+00  5.6047e-01  1.1629e+00\n",
            " -9.7465e-01  6.6956e-01  4.2558e-01  4.1766e+00  4.6478e+00  3.5616e+00\n",
            "  7.3597e-01  3.6554e-01 -2.2610e+00 -4.1928e+00 -6.7455e-01  1.7693e+00\n",
            " -1.5665e-01 -1.1390e+00  1.8747e+00  2.9538e+00  5.5879e-01  3.0424e-01\n",
            "  2.3027e-01  3.6405e-02  8.8395e-01  1.0494e+00 -1.7269e+00 -3.3406e-01\n",
            " -1.0464e+00 -9.8123e-01 -2.1267e+00 -2.9542e+00 -4.3075e+00 -1.5900e+00\n",
            " -8.9226e-01  3.6363e-01 -3.7703e+00 -1.8992e+00 -5.3433e-01  4.0256e+00\n",
            " -1.8628e+00 -1.9761e+00  1.2977e+00  3.6029e+00  1.6310e+00 -2.5195e+00\n",
            "  2.0482e+00 -1.4805e+00 -1.4294e-01 -2.7591e+00 -3.4827e-01 -6.1484e+00\n",
            " -5.9045e-01 -5.3691e-01 -7.3631e-01  3.1585e+00  5.7914e+00 -1.1208e+00\n",
            " -2.5045e+00 -2.2957e+00  2.7173e+00  1.1104e+00  2.0943e+00 -2.6719e+00\n",
            " -2.6322e+00 -3.9377e+00 -1.3198e+00  3.5639e+00 -1.3974e+00  2.7111e+00\n",
            " -6.2090e-01 -2.3193e-01 -3.0279e+00 -2.5807e+00 -5.7340e+00  2.5679e+00\n",
            "  4.5394e+00  1.3059e+00 -1.4290e+00 -8.0410e+00  3.7872e+00 -2.6190e+00\n",
            " -2.4969e+00  2.0261e+00 -3.2318e-01  1.5180e+00  2.2187e+00 -6.2623e-01\n",
            " -2.6769e+00 -2.5853e+00  1.2575e+00  2.9008e-02  2.9603e+00  8.5375e-01\n",
            "  2.0921e+00  5.0746e+00  6.7107e-01  2.8114e+00  1.4761e+00 -3.0179e+00\n",
            "  6.2414e+00 -3.2877e+00  3.6328e+00  4.6257e+00 -3.1342e+00 -6.6164e-01\n",
            "  3.6587e+00  2.8041e+00 -4.1617e+00 -8.4523e-01 -7.7168e+00 -3.4145e-01\n",
            " -2.1865e+00 -1.7390e+00  7.3350e+00 -2.8873e+00 -7.7150e-01 -1.4559e+00\n",
            "  1.0630e+00  3.0779e+00  4.4266e+00 -1.4543e+00 -2.6580e+00  3.5960e-01\n",
            "  5.1154e-01 -2.4728e+00  4.0341e-01  2.3585e-01 -2.9317e-01 -1.7299e+00\n",
            "  6.4465e-01  1.0732e+00 -2.6035e+00  4.4864e-01 -1.7523e+00  7.7338e-01\n",
            "  9.5763e-01 -9.9747e-01  9.1260e-01  2.5927e+00  2.2700e+00  7.4303e-01\n",
            "  3.4108e+00 -3.2150e+00  7.2797e-01  2.4298e+00 -3.6641e+00 -1.6404e+00\n",
            " -1.3251e+00 -1.4031e+00 -9.2013e-01  3.0618e-01  1.4421e+00  1.2889e+00\n",
            "  4.2948e+00  4.1745e-01 -9.6250e-01  1.1570e-01 -1.7441e+00  3.4052e+00\n",
            " -3.0673e+00 -8.1124e-01  1.7430e-01 -1.0956e+00  1.8748e+00 -4.5274e+00\n",
            "  3.8751e+00  1.8821e+00  1.3005e+00  6.3196e-01 -4.8692e+00 -3.6120e+00\n",
            " -1.8972e+00  2.3703e+00  2.1723e+00  1.9241e+00  4.3380e+00 -5.2026e+00\n",
            "  4.0781e-01  2.6293e+00  1.5326e+00  7.1357e-01  1.9856e+00 -3.3091e+00\n",
            " -1.7667e+00 -2.1850e+00  6.2716e-01  3.8435e+00 -5.5904e+00 -1.5953e+00\n",
            "  4.6628e+00  2.6750e+00 -1.0864e-01 -1.5554e-02 -3.4484e-01 -3.0744e-01\n",
            "  7.1115e+00  3.9519e+00 -3.7144e+00  8.7165e-01 -8.2713e-01 -1.2254e+00\n",
            "  3.1691e-01 -2.2795e+00 -1.4480e+00 -1.4007e+00  2.5799e+00 -2.1328e+00\n",
            "  1.6681e+00  7.9704e-01  7.8460e-02 -2.6866e+00 -1.1266e+00 -2.5029e-01\n",
            " -4.3104e+00  9.1187e-01 -5.7045e+00  4.1761e+00  1.3865e-01  1.0966e+00\n",
            " -7.0929e-01 -1.1949e+00  6.1319e+00 -2.9803e+00 -1.1781e-01 -1.8872e-01\n",
            " -6.2545e-01  4.0206e-01  3.3657e-01 -9.0313e-01  1.0398e+00  1.0206e+00\n",
            " -7.8774e-01 -1.9990e-01  4.0301e+00  4.5494e-01 -3.7520e-01  6.3347e+00\n",
            " -1.0689e+00 -3.9164e+00 -4.3000e+00  2.8301e+00  7.6479e-01 -5.9875e+00\n",
            " -1.7156e+00 -6.4597e-01  3.6218e+00 -4.8193e+00  4.0800e+00 -2.8690e+00\n",
            "  3.1495e+00 -2.3462e+00 -2.6407e+00  1.0276e-01 -2.1990e+00 -9.3786e-01\n",
            "  2.6392e-01 -8.6170e-03  2.3608e+00  7.8696e-01 -1.3221e-01 -2.1368e+00\n",
            " -2.5576e+00  1.7999e+00  3.2999e-01  2.5983e+00  1.2352e+00 -9.7384e-01\n",
            "  3.1915e+00 -5.2086e+00  7.7067e-01  6.7537e-01  4.9745e+00  7.5804e-01\n",
            "  1.4203e+00 -2.4101e+00  1.0189e+00 -4.0113e+00  3.8668e+00  3.7377e+00\n",
            " -6.8873e-02 -3.3919e-03  1.0146e+00  3.8635e-01 -3.3157e+00  2.0304e+00\n",
            " -3.4978e+00  1.4078e-01 -2.1018e-01 -3.4944e+00  4.3694e+00 -3.6644e+00]\n"
          ]
        }
      ],
      "source": [
        "print(f'The word embedding associated with the token {norm_docs[0][0].text} is\\n')\n",
        "print(norm_docs[0][0].vector)"
      ]
    },
    {
      "cell_type": "markdown",
      "id": "eBSeBjdSlfXb",
      "metadata": {
        "id": "eBSeBjdSlfXb"
      },
      "source": [
        "You can check that the word embedding dimension is 300 ..."
      ]
    },
    {
      "cell_type": "code",
      "execution_count": null,
      "id": "TyIJfgM8lfXb",
      "metadata": {
        "colab": {
          "base_uri": "https://localhost:8080/"
        },
        "id": "TyIJfgM8lfXb",
        "outputId": "492b6278-293f-4173-aac8-bb4070639762"
      },
      "outputs": [
        {
          "name": "stdout",
          "output_type": "stream",
          "text": [
            "The WE dimension is (300,)\n"
          ]
        }
      ],
      "source": [
        "print(f'The WE dimension is {norm_docs[0][0].vector.shape}')"
      ]
    },
    {
      "cell_type": "markdown",
      "id": "uMuwynAFlfXb",
      "metadata": {
        "id": "uMuwynAFlfXb"
      },
      "source": [
        "### Length normalization\n",
        "\n",
        "Note that in this problem we're working with sequences of text of different length. This is in principle not a problem for RNNs. However, there's one additional pre-processing step that we have to do. When we feed the RNN function **all sequences in the mini-batch must have the same length**. Then we will use the corresponding state to make the prediction.\n",
        "\n",
        "For simplicity, we are taking here a non-efficient solution. Instead of normalize lengths at a batch level, we are normalizing the whole dataset so all sequences have the same length. To do so, we're adding **junk tokens** to all sentences so they artificially are of the same length. However, we will keep in a list the real length of each data, since the sentiment analysis prediction will be made using the RNN state corresponding to the **last real token**.\n",
        "\n"
      ]
    },
    {
      "cell_type": "code",
      "execution_count": null,
      "id": "progl4DolfXb",
      "metadata": {
        "id": "progl4DolfXb"
      },
      "outputs": [],
      "source": [
        "# List with the length for each sentence\n",
        "lengths = [len(d) for d in norm_docs]\n",
        "\n",
        "# Maximum length (in train!)\n",
        "max_l = np.max([lengths[d] for d in idx_train])"
      ]
    },
    {
      "cell_type": "code",
      "execution_count": null,
      "id": "l1v9Yw2_lfXc",
      "metadata": {
        "id": "l1v9Yw2_lfXc"
      },
      "outputs": [],
      "source": [
        "# We add as many junk tokens (#) as needed to equalize the length of each sentence to max_l\n",
        "garbage_token = nlp('#') # Junk token --> #\n",
        "\n",
        "# We normalize the dataset\n",
        "norm_docs_eq_length = [norm_docs[d]+[garbage_token]*(max_l-lengths[d]) for d in range(len(norm_docs))]\n",
        "\n",
        "# Train documents\n",
        "docs_train = [norm_docs_eq_length[d] for d in idx_train]\n",
        "len_train = [lengths[d] for d in idx_train]\n",
        "\n",
        "# Validation documents\n",
        "docs_val = [norm_docs_eq_length[d] for d in idx_val]\n",
        "len_val = [lengths[d] for d in idx_val]\n",
        "\n",
        "# documentos test\n",
        "docs_test = [norm_docs_eq_length[d] for d in idx_test]\n",
        "len_test = [lengths[d] for d in idx_test]"
      ]
    },
    {
      "cell_type": "markdown",
      "id": "b0zNvc-rlfXc",
      "metadata": {
        "id": "b0zNvc-rlfXc"
      },
      "source": [
        "Recall that for each document, the sequence of word embeddings is obtained using the `.vector` attribute per token ..."
      ]
    },
    {
      "cell_type": "markdown",
      "id": "jgH6AUVMlfXc",
      "metadata": {
        "id": "jgH6AUVMlfXc"
      },
      "source": [
        "### RNN classification\n",
        "\n",
        "Our goal is to implement an LSTM that takes as input the sequence of word embeddings and predicts the binary label. In the list `lengths` we have the length per document (before adding the junk tokens). The LSTM prediction **must be done using the LSTM state after processing the last real token**. That means we ignore the LSTM states after we start processing the junk tokens.\n",
        "\n",
        "\n",
        "A few comments:\n",
        "\n",
        "- The LSTM is trained using mini-batches. So the input is a tensor of dimension (batch_size, seq_length, max_l). You have to generate this tensor using the lists implemented before (`docs_train`, `docs_val`, `docs_test`).\n",
        "- You don't care about the LSTM initializaiton. Use the default one.\n",
        "- The LSTM provides the list of states upon processing the sequences of max_l word embeddings. For each sentence, you have to predict the label using the appropiate state (the one after processing the last real word). My advise is that you store in a list the decision states for each data in the minibatch and then concatenate them in a tensor using `torch.stack`.\n",
        "- We will use a single MLP layer to perform the prediction. Between the LSTM and the MLP, we include a dropout layer. \n",
        "- The network will take some time to train, so my advise is to save the network parameters after each epoch (in a separate file), so early stopping can be implemented without re-training.\n",
        "- Validate the dimension of the LSTM state.\n",
        "\n",
        "<img src='http://www.tsc.uc3m.es/~olmos/BBVA/RNN.png' width=800 />\n",
        "\n",
        "\n"
      ]
    },
    {
      "cell_type": "code",
      "execution_count": null,
      "id": "nlefw28dlfXc",
      "metadata": {
        "id": "nlefw28dlfXc"
      },
      "outputs": [],
      "source": [
        "from torch import nn\n",
        "from torch import optim\n",
        "import torch"
      ]
    },
    {
      "cell_type": "markdown",
      "id": "y0mly8helfXc",
      "metadata": {
        "id": "y0mly8helfXc"
      },
      "source": [
        ">**Exercise:** Complete the following code to construct the RNN classifier"
      ]
    },
    {
      "cell_type": "code",
      "execution_count": null,
      "id": "EWfuHsYKlfXd",
      "metadata": {
        "id": "EWfuHsYKlfXd"
      },
      "outputs": [],
      "source": [
        "class RNN(nn.Module):\n",
        "    def __init__(self, input_size, output_size, hidden_dim, n_layers,prob=0.5):\n",
        "        super().__init__()\n",
        "        \n",
        "        self.hidden_dim = hidden_dim\n",
        "        self.input_size = input_size\n",
        "        \n",
        "        # LSTM layer\n",
        "        self.rnn = nn.RNN(input_size=self.input_size, hidden_size=self.hidden_dim, num_layers=n_layers, \n",
        "                          nonlinearity='relu',batch_first=True) #YOUR CODE HERE\n",
        "        \n",
        "        # last, fully-connected layer\n",
        "        self.fc1 = nn.Linear(hidden_dim, output_size) \n",
        "        \n",
        "        self.logsoftmax = nn.LogSoftmax(dim=1) \n",
        "        \n",
        "        # Capa dropout \n",
        "        self.dropout = nn.Dropout(p=prob)\n",
        "\n",
        "    def forward(self, x, lengths, h0=None):\n",
        "        '''\n",
        "        - x: Sequences of word embeddings. Dimensions (batch_size, max_l, word_embedding_size)\n",
        "        - lengths: The real length of each sequence, excluding the junk # tokens! You use this to know what\n",
        "          RNN state you should use to classify\n",
        "        '''\n",
        "        \n",
        "        batch_size = x.size(0) \n",
        "        seq_length = x.size(1) \n",
        "        \n",
        "        # Compute the RNN output (sequence of states for the whole input)\n",
        "        # r_out is the sequence of states # Notes from the previous notebook\n",
        "        # hidden is just the last state (we will use it for forecasting)\n",
        "        # r_out, hidden = self.rnn(x, h0)\n",
        "        r_out, _ = self.rnn(x, h0)  #YOUR CODE HERE\n",
        "\n",
        "        # Now it comes the tricky part. You have to stack in a (batch_size, hidden_dim) tensor, the right state\n",
        "        # for each sequece. Namely, the state after processing the last real token (not the junk # ones)\n",
        "        # The function torch.stack() can be handy\n",
        "    \n",
        "        # In r_out[[d],lengths[d]-1,:], we select the lengths[d]-1 in order to select the last usefull word, and : to take the entire word embeding\n",
        "        aux = torch.stack([r_out[[d],lengths[d]-1,:] for d in range(batch_size)]).reshape([-1,self.hidden_dim]) #YOUR CODE HERE (2nd dim r_out)\n",
        "        \n",
        "        # We classify using such tensor (don't forget the dropout!)\n",
        "        output = self.logsoftmax(self.dropout(self.fc1(aux))) #YOUR CODE HERE\n",
        "        \n",
        "        return output"
      ]
    },
    {
      "cell_type": "markdown",
      "id": "rjYscGazlfXd",
      "metadata": {
        "id": "rjYscGazlfXd"
      },
      "source": [
        "Let's first illustrate how we can get the output of the (untrained) RNN network given our texts. For example, let's get the RNN output for the first three training texts. The first step is to get the **sequences of word embeddings** of each of them..."
      ]
    },
    {
      "cell_type": "code",
      "execution_count": null,
      "id": "HcCU9O8LlfXd",
      "metadata": {
        "id": "HcCU9O8LlfXd"
      },
      "outputs": [],
      "source": [
        "idx = [1,2,3]\n",
        "\n",
        "#[w.vector for w in docs_train[d]] generates the list of word vectors for the d-th document \n",
        "x_input = torch.Tensor([[w.vector for w in docs_train[d]] for d in idx])"
      ]
    },
    {
      "cell_type": "code",
      "execution_count": null,
      "id": "30a0UMcxlfXd",
      "metadata": {
        "colab": {
          "base_uri": "https://localhost:8080/"
        },
        "id": "30a0UMcxlfXd",
        "outputId": "abe7752e-be81-46c2-e327-4c5550414334"
      },
      "outputs": [
        {
          "data": {
            "text/plain": [
              "(20, 300)"
            ]
          },
          "execution_count": 37,
          "metadata": {},
          "output_type": "execute_result"
        }
      ],
      "source": [
        "d=1\n",
        "\n",
        "np.array([docs_train[d][w].vector for w in range(len_train[d])]).shape\n",
        "# Select the phrase 1, which has 20 words and 300 dimensions each"
      ]
    },
    {
      "cell_type": "code",
      "execution_count": null,
      "id": "WSKLSVv4lfXd",
      "metadata": {
        "id": "WSKLSVv4lfXd"
      },
      "outputs": [],
      "source": [
        "aux = torch.Tensor([np.mean([docs_train[d][w].vector for w in range(len_train[d])],0) for d in idx])"
      ]
    },
    {
      "cell_type": "markdown",
      "id": "foQSnusXlfXe",
      "metadata": {
        "id": "foQSnusXlfXe"
      },
      "source": [
        "The shape of `x_input` should be (3,max_l,300)"
      ]
    },
    {
      "cell_type": "code",
      "execution_count": null,
      "id": "loyVcYGNlfXe",
      "metadata": {
        "colab": {
          "base_uri": "https://localhost:8080/"
        },
        "id": "loyVcYGNlfXe",
        "outputId": "f72b5919-f8c0-4713-a3fe-084bf8c2541f"
      },
      "outputs": [
        {
          "data": {
            "text/plain": [
              "torch.Size([3, 52, 300])"
            ]
          },
          "execution_count": 24,
          "metadata": {},
          "output_type": "execute_result"
        }
      ],
      "source": [
        "x_input.shape"
      ]
    },
    {
      "cell_type": "markdown",
      "id": "zmOEMgOflfXe",
      "metadata": {
        "id": "zmOEMgOflfXe"
      },
      "source": [
        "Let's instantiate the RNN class"
      ]
    },
    {
      "cell_type": "code",
      "execution_count": null,
      "id": "UWiNh6VglfXe",
      "metadata": {
        "id": "UWiNh6VglfXe"
      },
      "outputs": [],
      "source": [
        "my_RNN = RNN(300,2,20,1)"
      ]
    },
    {
      "cell_type": "markdown",
      "id": "Mu-sT4U-lfXe",
      "metadata": {
        "id": "Mu-sT4U-lfXe"
      },
      "source": [
        "> **Exercise:** evaluate the RNN otuput for `x_input` and check that the ouput dimensions make sense"
      ]
    },
    {
      "cell_type": "code",
      "execution_count": null,
      "id": "uYFakaF8lfXe",
      "metadata": {
        "colab": {
          "base_uri": "https://localhost:8080/"
        },
        "id": "uYFakaF8lfXe",
        "outputId": "43a4bf46-3885-4513-9d73-c16d44d00b4d"
      },
      "outputs": [
        {
          "name": "stdout",
          "output_type": "stream",
          "text": [
            "r_out.shape=torch.Size([3, 52, 20])\n"
          ]
        }
      ],
      "source": [
        "o = my_RNN.forward(x_input,[lengths[d] for d in idx]) #YOUR CODE HERE (1st arg of forward)"
      ]
    },
    {
      "cell_type": "code",
      "execution_count": null,
      "id": "5ZzYih3HlfXe",
      "metadata": {
        "colab": {
          "base_uri": "https://localhost:8080/"
        },
        "id": "5ZzYih3HlfXe",
        "outputId": "0c72d92a-709b-4a0c-b0e1-8b1baac3ae89"
      },
      "outputs": [
        {
          "name": "stdout",
          "output_type": "stream",
          "text": [
            "tensor([[-8.5547e+00, -1.9262e-04],\n",
            "        [-8.5547e+00, -1.9262e-04],\n",
            "        [-8.0159e+00, -3.3027e-04]], grad_fn=<LogSoftmaxBackward0>)\n"
          ]
        }
      ],
      "source": [
        "print(o)"
      ]
    },
    {
      "cell_type": "code",
      "execution_count": null,
      "id": "jvR7hXJylfXf",
      "metadata": {
        "colab": {
          "base_uri": "https://localhost:8080/"
        },
        "id": "jvR7hXJylfXf",
        "outputId": "d954e0c2-d887-4aa2-cb52-0acce18435a9"
      },
      "outputs": [
        {
          "data": {
            "text/plain": [
              "torch.Size([3, 2])"
            ]
          },
          "execution_count": 97,
          "metadata": {},
          "output_type": "execute_result"
        }
      ],
      "source": [
        "o.shape"
      ]
    },
    {
      "cell_type": "markdown",
      "id": "jHwhYKEDlfXf",
      "metadata": {
        "id": "jHwhYKEDlfXf"
      },
      "source": [
        "> **Exercise:** Complete the following class, which inherits the previous one and it adds a training loop, an evaluation method, and functionalities to save the model every few epochs"
      ]
    },
    {
      "cell_type": "code",
      "execution_count": null,
      "id": "e0vFuJ3XlfXf",
      "metadata": {
        "id": "e0vFuJ3XlfXf"
      },
      "outputs": [],
      "source": [
        "class RNN_with_train(RNN):\n",
        "    \n",
        "    #def __init__(self,input_size, output_size, hidden_dim, n_layers,prob=0.0,batch_size=50,lr=0.0005,saved_files='./saved_models/RNN_sentiment_analysis'):\n",
        "    def __init__(self,input_size, output_size, hidden_dim, n_layers,prob=0.0,batch_size=50,lr=0.0005,saved_files=ruta):   # Ruta for colab\n",
        "        super().__init__(input_size, output_size, hidden_dim, n_layers,prob)  \n",
        "        \n",
        "        self.lr = lr # Learning Rate\n",
        "        \n",
        "        self.optim = optim.Adam(self.parameters(), self.lr) # Optimizer\n",
        "        \n",
        "        self.criterion = nn.NLLLoss()               \n",
        "        \n",
        "        self.loss_during_training = [] \n",
        "        \n",
        "        self.valid_loss_during_training = [] \n",
        "        \n",
        "        self.batch_size = batch_size\n",
        "        \n",
        "        self.saved_files = saved_files\n",
        "        \n",
        "        \n",
        "    def predict_proba(self,docs,lengths,Y=None):\n",
        "        \n",
        "        '''\n",
        "        We use this method to get the output of the network given a set of documents. If label is provided,\n",
        "        we get accuracy.\n",
        "        \n",
        "        - docs: documents, each encoded as a list of spacy tokens. They are length-normalized.\n",
        "        - lengths: real length of each document.\n",
        "        - Y: labels\n",
        "        '''\n",
        "        accuracy = 0.0\n",
        "        \n",
        "        with torch.no_grad(): \n",
        "        \n",
        "            x_input = torch.Tensor([[w.vector for w in d] for d in docs])\n",
        "        \n",
        "            logprobs = self.forward(x_input,lengths).detach().numpy() #YOUR CODE HERE (forward 2nd argument)\n",
        "            \n",
        "            if(len(Y)>0):\n",
        "            \n",
        "                accuracy = np.sum(np.argmax(logprobs,1)==Y)/np.shape(Y)[0]\n",
        "            \n",
        "        return logprobs,accuracy\n",
        "            \n",
        "        \n",
        "    def fit(self,docs_train,docs_val,Y,Yval,len_train,len_val,epochs=100,print_every=5):\n",
        "        \n",
        "        '''\n",
        "        Método de entrenamiento.\n",
        "        \n",
        "        - docs_train, docs_val: training/validation documents (each is a list of spacy tokens). \n",
        "          Normalized in length!\n",
        "        - len_train/len_val: real lengths\n",
        "        '''\n",
        "        \n",
        "        self.print_every = print_every\n",
        "        \n",
        "        self.epochs=epochs\n",
        "        \n",
        "        # Optimization Loop\n",
        "        \n",
        "        self.num_train = len(docs_train) # Number of training points\n",
        "        \n",
        "        self.num_batchs = np.floor(self.num_train/self.batch_size) # Number of training batches\n",
        "        \n",
        "        self.num_val = len(docs_val) # Number of validation points\n",
        "        \n",
        "        self.num_batchs_val = np.floor(self.num_val/self.batch_size) # Numer of validation batches\n",
        "        \n",
        "        labels = torch.Tensor(Y).type(torch.LongTensor) # Training labels\n",
        "        \n",
        "        labelsval = torch.Tensor(Yval).type(torch.LongTensor) # Validation labels\n",
        "        \n",
        "        \n",
        "        for e in range(int(self.epochs)):\n",
        "            \n",
        "            self.train() # Activate dropout\n",
        "            \n",
        "            # Random data permutation\n",
        "            idx = np.random.permutation(self.num_train)\n",
        "            \n",
        "            running_loss = 0.\n",
        "            \n",
        "            for i in range(int(self.num_batchs)):\n",
        "                        \n",
        "                self.optim.zero_grad()  \n",
        "\n",
        "                # Indices of the data entering the batch\n",
        "                idx_batch = idx[i*self.batch_size:(i+1)*self.batch_size]\n",
        "                \n",
        "                # We code each document using the sequences of word embeddings\n",
        "                x_input = torch.Tensor([[w.vector for w in docs_train[d]] for d in idx_batch]) #YOUR CODE HERE (last word)\n",
        "                \n",
        "                # We compute the classifier output for every data\n",
        "                out = self.forward(x_input,[len_train[d] for d in idx_batch]) #YOUR  CODE HERE (arg of len_train)\n",
        "                \n",
        "                # Cost function and gradient descent step\n",
        "                loss = self.criterion(out,labels[idx_batch])\n",
        "                \n",
        "                running_loss += loss.item()\n",
        "\n",
        "                loss.backward()\n",
        "\n",
        "                # Gradient clipping\n",
        "                nn.utils.clip_grad_norm_(self.parameters(), 2.0)\n",
        "                \n",
        "                # SGD steps\n",
        "                self.optim.step()\n",
        "                \n",
        "            self.loss_during_training.append(running_loss/self.num_batchs)\n",
        "            \n",
        "            # We save model parameters\n",
        "            torch.save(self.state_dict(), self.saved_files+'_epoch_'+str(e)+'.pth')\n",
        "            \n",
        "            # We repeat for validation\n",
        "            with torch.no_grad(): \n",
        "                \n",
        "                # set model to evaluation mode\n",
        "                self.eval()\n",
        "                \n",
        "                running_loss = 0.\n",
        "                \n",
        "                idx = np.random.permutation(self.num_val)\n",
        "\n",
        "                running_loss = 0.\n",
        "                \n",
        "                for i in range(int(self.num_batchs_val)):\n",
        "                    \n",
        "                    idx_batch = idx[i*self.batch_size:(i+1)*self.batch_size] \n",
        "                    \n",
        "                    x_input = torch.Tensor([[w.vector for w in docs_val[d]] for d in idx_batch]) #YOUR  CODE HERE (arg of Tensor)\n",
        "\n",
        "                    out = self.forward(x_input,[len_val[d] for d in idx_batch])\n",
        "\n",
        "                    loss = self.criterion(out,labelsval[idx_batch])\n",
        "\n",
        "                    running_loss += loss.item() \n",
        "                    \n",
        "                self.valid_loss_during_training.append(running_loss/self.num_batchs_val)    \n",
        "                    \n",
        "                \n",
        "\n",
        "            if(e % self.print_every == 0): \n",
        "\n",
        "                print(f\"Training loss after {e} epochs: {self.loss_during_training[-1]}. Validation loss: {self.valid_loss_during_training[-1]}\")"
      ]
    },
    {
      "cell_type": "markdown",
      "id": "FVsz7BiIlfXf",
      "metadata": {
        "id": "FVsz7BiIlfXf"
      },
      "source": [
        "> **Exercise:** Instantiate and train the class using a hidden state of 20 dimensions and dropout probability equal to 0.3. Train for 40 epochs (can take a while)"
      ]
    },
    {
      "cell_type": "code",
      "execution_count": null,
      "id": "LEz-k2GglfXg",
      "metadata": {
        "colab": {
          "base_uri": "https://localhost:8080/"
        },
        "id": "LEz-k2GglfXg",
        "outputId": "d9ff1faf-f71b-474f-f0bc-785d170b47c6"
      },
      "outputs": [
        {
          "name": "stdout",
          "output_type": "stream",
          "text": [
            "Training loss after 0 epochs: 1.110473265182482. Validation loss: 0.46158669392267865\n",
            "Training loss after 1 epochs: 0.5250125515134367. Validation loss: 0.4040778378645579\n",
            "Training loss after 2 epochs: 0.4488292248689965. Validation loss: 0.3658362064096663\n",
            "Training loss after 3 epochs: 0.4175442446992822. Validation loss: 0.35075937542650437\n",
            "Training loss after 4 epochs: 0.4138134381134216. Validation loss: 0.3389817488690217\n",
            "Training loss after 5 epochs: 0.38894886676579304. Validation loss: 0.3365284634961022\n",
            "Training loss after 6 epochs: 0.3728805270097027. Validation loss: 0.31813330782784355\n",
            "Training loss after 7 epochs: 0.36078416076425. Validation loss: 0.3155520690812005\n",
            "Training loss after 8 epochs: 0.3480212714982359. Validation loss: 0.319682771133052\n",
            "Training loss after 9 epochs: 0.3497099860073769. Validation loss: 0.309667213095559\n",
            "Training loss after 10 epochs: 0.3409896045923233. Validation loss: 0.3161641988489363\n",
            "Training loss after 11 epochs: 0.34005160772637144. Validation loss: 0.30691027889649075\n",
            "Training loss after 12 epochs: 0.3218159798073442. Validation loss: 0.30788564516438377\n",
            "Training loss after 13 epochs: 0.32025062160132683. Validation loss: 0.3019067876868778\n",
            "Training loss after 14 epochs: 0.3139912686119341. Validation loss: 0.2983165971106953\n",
            "Training loss after 15 epochs: 0.32252010009060167. Validation loss: 0.30190379006995094\n",
            "Training loss after 16 epochs: 0.3031559508957275. Validation loss: 0.2923988161815537\n",
            "Training loss after 17 epochs: 0.2902620408224733. Validation loss: 0.3072386880715688\n",
            "Training loss after 18 epochs: 0.3031609678921634. Validation loss: 0.30141808092594147\n",
            "Training loss after 19 epochs: 0.2960410928481246. Validation loss: 0.3088688502709071\n",
            "Training loss after 20 epochs: 0.29079226414634757. Validation loss: 0.28958288745747673\n",
            "Training loss after 21 epochs: 0.2835415562946502. Validation loss: 0.30370739681853187\n",
            "Training loss after 22 epochs: 0.2830898949544724. Validation loss: 0.30158785730600357\n",
            "Training loss after 23 epochs: 0.2750933864345289. Validation loss: 0.2942170492476887\n",
            "Training loss after 24 epochs: 0.2813384173667594. Validation loss: 0.3006676601039039\n",
            "Training loss after 25 epochs: 0.2720379833489248. Validation loss: 0.29670316394832397\n",
            "Training loss after 26 epochs: 0.27300052548924536. Validation loss: 0.2880658739142948\n",
            "Training loss after 27 epochs: 0.2632738866218149. Validation loss: 0.2893897485401895\n",
            "Training loss after 28 epochs: 0.2578629781938579. Validation loss: 0.29473648965358734\n",
            "Training loss after 29 epochs: 0.25348837592013895. Validation loss: 0.2920149680640962\n",
            "Training loss after 30 epochs: 0.24952489994976618. Validation loss: 0.29327741182512707\n",
            "Training loss after 31 epochs: 0.2644512647227065. Validation loss: 0.2882597769300143\n",
            "Training loss after 32 epochs: 0.24700851860928208. Validation loss: 0.3010621207455794\n",
            "Training loss after 33 epochs: 0.24320145400419627. Validation loss: 0.2997680968708462\n",
            "Training loss after 34 epochs: 0.24524416111103475. Validation loss: 0.3041091702050633\n",
            "Training loss after 35 epochs: 0.23642121296222895. Validation loss: 0.31047819389237297\n",
            "Training loss after 36 epochs: 0.2390497354407833. Validation loss: 0.304868657555845\n",
            "Training loss after 37 epochs: 0.23904447757626232. Validation loss: 0.3063278454873297\n",
            "Training loss after 38 epochs: 0.23288571671263814. Validation loss: 0.2900966608689891\n",
            "Training loss after 39 epochs: 0.23498214342414517. Validation loss: 0.28750911189450157\n"
          ]
        }
      ],
      "source": [
        "my_RNN = RNN_with_train(input_size=300, output_size=2, hidden_dim=20, n_layers=1, prob=0.3) #YOUR  CODE HERE\n",
        "# (300,2,20,1)\n",
        "#Call train\n",
        "my_RNN.fit(docs_train,docs_val,torch.Tensor(y_train),torch.Tensor(y_val),len_train,len_val,epochs=40,print_every=1)\n"
      ]
    },
    {
      "cell_type": "markdown",
      "id": "SVdS4vd3lfXg",
      "metadata": {
        "id": "SVdS4vd3lfXg"
      },
      "source": [
        "> **Exercise:** Plot both validation and training loss. Recover the model parameters for the epoch that minimized the validation loss. To do so, note that at every epoch the model parameters are save in a certain file named  `RNN_sentiment_analysis_epoch_X.pth` (unless you changed the default value), where `X` is the epoch. The function to re-state the parameters of the network are  `state_dict = my_RNN.load_state_dict(torch.load('RNN_sentiment_analysis_epoch_X.pth'))\n",
        "`"
      ]
    },
    {
      "cell_type": "code",
      "execution_count": null,
      "id": "6NSpGj10lfXg",
      "metadata": {
        "colab": {
          "base_uri": "https://localhost:8080/",
          "height": 294
        },
        "id": "6NSpGj10lfXg",
        "outputId": "36e35b22-9d2d-49cc-94a9-5f2f71a192b9"
      },
      "outputs": [
        {
          "data": {
            "image/png": "[encoded data removed]",
            "text/plain": [
              "<Figure size 432x288 with 1 Axes>"
            ]
          },
          "metadata": {
            "image/png": {
              "height": 277,
              "width": 372
            },
            "needs_background": "light"
          },
          "output_type": "display_data"
        }
      ],
      "source": [
        "# Plotting the train/val loss\n",
        "#YOUR  CODE HERE\n",
        "plt.plot(my_RNN.loss_during_training, label='loss_during_training')\n",
        "plt.plot(my_RNN.valid_loss_during_training, label='valid_loss_during_training')\n",
        "plt.xlabel('Epochs')\n",
        "plt.title('Loss')\n",
        "plt.grid()\n",
        "plt.legend();\n"
      ]
    },
    {
      "cell_type": "code",
      "execution_count": null,
      "id": "GztiWu3ElfXg",
      "metadata": {
        "colab": {
          "base_uri": "https://localhost:8080/"
        },
        "id": "GztiWu3ElfXg",
        "outputId": "9ba4756c-b4da-4e5e-8a01-d3bb20c3c14f"
      },
      "outputs": [
        {
          "data": {
            "text/plain": [
              "<All keys matched successfully>"
            ]
          },
          "execution_count": 107,
          "metadata": {},
          "output_type": "execute_result"
        }
      ],
      "source": [
        "# Recovering the best validation parameters\n",
        "\n",
        "idx_min = np.argsort(my_RNN.valid_loss_during_training) #YOUR  CODE HERE\n",
        "\n",
        "my_RNN.load_state_dict(torch.load(my_RNN.saved_files+'_epoch_'+str(idx_min[0])+'.pth'))"
      ]
    },
    {
      "cell_type": "markdown",
      "id": "AL2uPflGlfXg",
      "metadata": {
        "id": "AL2uPflGlfXg"
      },
      "source": [
        "> **Exercise:** Using the method `predict_proba`, compute the accuracy and class probabilities for the data in the test set. Note that the method returns log-probabilities that you have to exponentiate."
      ]
    },
    {
      "cell_type": "code",
      "execution_count": null,
      "id": "aK7GpxTBlfXg",
      "metadata": {
        "colab": {
          "base_uri": "https://localhost:8080/"
        },
        "id": "aK7GpxTBlfXg",
        "outputId": "972693c2-c477-47f2-970d-9bed8fd9ec96"
      },
      "outputs": [
        {
          "name": "stdout",
          "output_type": "stream",
          "text": [
            "The test accuracy is 0.8872377622377622\n"
          ]
        }
      ],
      "source": [
        "logprobs,acc = my_RNN.predict_proba(docs_test, len_test, y_test) #YOUR CODE HERE \n",
        "\n",
        "probs = np.exp(logprobs)  #YOUR CODE HERE\n",
        "\n",
        "print(f\"The test accuracy is {acc}\")"
      ]
    },
    {
      "cell_type": "markdown",
      "id": "Rv-QjFQ0lfXg",
      "metadata": {
        "id": "Rv-QjFQ0lfXg"
      },
      "source": [
        "The following code plots the ROC curve of the classifiers, and it computes the area under the curve:"
      ]
    },
    {
      "cell_type": "code",
      "execution_count": null,
      "id": "5yoW00EKlfXh",
      "metadata": {
        "colab": {
          "base_uri": "https://localhost:8080/",
          "height": 311
        },
        "id": "5yoW00EKlfXh",
        "outputId": "5ec68f1f-3ceb-4953-87f7-4d4ac739a410"
      },
      "outputs": [
        {
          "data": {
            "image/png": "[encoded data removed]",
            "text/plain": [
              "<Figure size 432x288 with 1 Axes>"
            ]
          },
          "metadata": {
            "image/png": {
              "height": 277,
              "width": 385
            },
            "needs_background": "light"
          },
          "output_type": "display_data"
        },
        {
          "name": "stdout",
          "output_type": "stream",
          "text": [
            "AUC ROC for LSTM is 0.8320076835515082\n"
          ]
        }
      ],
      "source": [
        "from sklearn import metrics\n",
        "\n",
        "fpr, recall, thresholds = metrics.roc_curve(y_test, probs[:,1], pos_label=1) \n",
        "\n",
        "fig,ax = plt.subplots()\n",
        "plt.plot(fpr,recall,lw=2.5,label='ROC curve LSTM')\n",
        "plt.legend(loc=7)\n",
        "plt.grid(b=True, which='major', color='gray', alpha=0.6, linestyle='dotted', lw=1.5)\n",
        "plt.xlabel('False Positive Rate')\n",
        "plt.ylabel('Recall (R)')\n",
        "plt.title('Curva ROC')\n",
        "plt.show()\n",
        "\n",
        "area_roc_LSTM = metrics.roc_auc_score(y_test, probs[:,1])\n",
        "\n",
        "print(f\"AUC ROC for LSTM is {area_roc_LSTM}\")"
      ]
    },
    {
      "cell_type": "markdown",
      "id": "j_xggc-0lfXh",
      "metadata": {
        "id": "j_xggc-0lfXh"
      },
      "source": [
        "### (OPTIONAL FOR AND ADDITIONAL 0.5 GRADE) \n",
        "\n",
        "Compare the accuracy/ROC with those achieved by the MLP classifier that predicts the label using the **mean of the word embeddings** (without junk tokens). Consider a three layer MLP with 10 and 5 hidden units respectively.\n",
        "\n",
        "\n",
        "<img src='http://www.tsc.uc3m.es/~olmos/BBVA/MLP.png' width=800 />"
      ]
    },
    {
      "cell_type": "code",
      "execution_count": null,
      "id": "x_88KqSYlfXh",
      "metadata": {
        "id": "x_88KqSYlfXh"
      },
      "outputs": [],
      "source": [
        "#YOUR CODE HERE"
      ]
    },
    {
      "cell_type": "code",
      "execution_count": null,
      "id": "xk0kA2qAlfXh",
      "metadata": {
        "id": "xk0kA2qAlfXh"
      },
      "outputs": [],
      "source": []
    }
  ],
  "metadata": {
    "colab": {
      "provenance": []
    },
    "kernelspec": {
      "display_name": "Python 3.10.6 ('ids')",
      "language": "python",
      "name": "python3"
    },
    "language_info": {
      "codemirror_mode": {
        "name": "ipython",
        "version": 3
      },
      "file_extension": ".py",
      "mimetype": "text/x-python",
      "name": "python",
      "nbconvert_exporter": "python",
      "pygments_lexer": "ipython3",
      "version": "3.10.6"
    },
    "vscode": {
      "interpreter": {
        "hash": "4f4b3e375183431ea8a402488496d3aca3ba53f2cb8b44eeb3f5fe53d953a410"
      }
    }
  },
  "nbformat": 4,
  "nbformat_minor": 5
}
