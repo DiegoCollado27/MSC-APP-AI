{
 "cells": [
  {
   "cell_type": "code",
   "execution_count": null,
   "metadata": {},
   "outputs": [],
   "source": []
  },
  {
   "cell_type": "code",
   "execution_count": 2,
   "metadata": {},
   "outputs": [
    {
     "ename": "ModuleNotFoundError",
     "evalue": "No module named 'google'",
     "output_type": "error",
     "traceback": [
      "\u001b[1;31m---------------------------------------------------------------------------\u001b[0m",
      "\u001b[1;31mModuleNotFoundError\u001b[0m                       Traceback (most recent call last)",
      "\u001b[1;32mc:\\Users\\Horiz\\Desktop\\4 CURSO\\master ia\\vscode\\cuadernos\\SERIES-WALMART\\FLUJO1.IPYNB Cell 1\u001b[0m line \u001b[0;36m1\n\u001b[1;32m----> <a href='vscode-notebook-cell:/c%3A/Users/Horiz/Desktop/4%20CURSO/master%20ia/vscode/cuadernos/SERIES-WALMART/FLUJO1.IPYNB#W0sZmlsZQ%3D%3D?line=0'>1</a>\u001b[0m \u001b[39mfrom\u001b[39;00m \u001b[39mgoogle\u001b[39;00m\u001b[39m.\u001b[39;00m\u001b[39mcolab\u001b[39;00m \u001b[39mimport\u001b[39;00m drive\n\u001b[0;32m      <a href='vscode-notebook-cell:/c%3A/Users/Horiz/Desktop/4%20CURSO/master%20ia/vscode/cuadernos/SERIES-WALMART/FLUJO1.IPYNB#W0sZmlsZQ%3D%3D?line=1'>2</a>\u001b[0m drive\u001b[39m.\u001b[39mmount(\u001b[39m'\u001b[39m\u001b[39m/content/drive\u001b[39m\u001b[39m'\u001b[39m)\n\u001b[0;32m      <a href='vscode-notebook-cell:/c%3A/Users/Horiz/Desktop/4%20CURSO/master%20ia/vscode/cuadernos/SERIES-WALMART/FLUJO1.IPYNB#W0sZmlsZQ%3D%3D?line=2'>3</a>\u001b[0m get_ipython()\u001b[39m.\u001b[39msystem(\u001b[39m'\u001b[39m\u001b[39mpip install scikit-multiflow\u001b[39m\u001b[39m'\u001b[39m)\n",
      "\u001b[1;31mModuleNotFoundError\u001b[0m: No module named 'google'"
     ]
    },
    {
     "ename": "",
     "evalue": "",
     "output_type": "error",
     "traceback": [
      "\u001b[1;31mThe Kernel crashed while executing code in the the current cell or a previous cell. Please review the code in the cell(s) to identify a possible cause of the failure. Click <a href='https://aka.ms/vscodeJupyterKernelCrash'>here</a> for more info. View Jupyter <a href='command:jupyter.viewOutput'>log</a> for further details."
     ]
    }
   ],
   "source": [
    "# Importa las bibliotecas necesarias\n",
    "from river.drift import ADWIN\n",
    "from river.ensemble import HoeffdingTreeClassifier\n",
    "from river import datasets\n",
    "from river import metrics\n",
    "from river import anomaly\n",
    "\n",
    "# Crea instancias de los algoritmos y métricas\n",
    "adwin = ADWIN()\n",
    "ensemble = HoeffdingTreeClassifier()\n",
    "metric_acc = metrics.Accuracy()\n",
    "metric_f1 = metrics.F1Score()\n",
    "\n",
    "# Inicializa el detector de outliers\n",
    "isolation_forest = anomaly.IsolationForest()\n",
    "\n",
    "# Carga el conjunto de datos\n",
    "data = datasets.CreditCard()\n",
    "\n",
    "# Inicializa variables para el seguimiento\n",
    "n_samples = 0\n",
    "change_detected = False\n",
    "\n",
    "# Divide el conjunto de datos en entrenamiento y tiempo real\n",
    "train_data, real_time_data = data.split(n=50000)\n",
    "\n",
    "# Realiza el entrenamiento inicial\n",
    "for x, y in train_data:\n",
    "    y_pred = ensemble.predict_one(x)\n",
    "    ensemble.learn_one(x, y)\n",
    "    metric_acc.update(y, y_pred)\n",
    "    metric_f1.update(y, y_pred)\n",
    "    n_samples += 1\n",
    "\n",
    "# Itera a través de los datos en tiempo real\n",
    "for x, y in real_time_data:\n",
    "    n_samples += 1\n",
    "\n",
    "    # Realiza la detección de cambios\n",
    "    if adwin.update(y):\n",
    "        change_detected = True\n",
    "        print(f\"Change detected at sample {n_samples}\")\n",
    "\n",
    "    # Realiza la detección de outliers\n",
    "    is_outlier = isolation_forest.score_one(x) < 0.5\n",
    "\n",
    "    # Actualiza el clasificador de ensamble con los nuevos datos\n",
    "    y_pred = ensemble.predict_one(x)\n",
    "    ensemble.learn_one(x, y)\n",
    "\n",
    "    # Evalúa el rendimiento\n",
    "    metric_acc.update(y, y_pred)\n",
    "    metric_f1.update(y, y_pred)\n",
    "\n",
    "    # Si es un outlier, puedes tomar medidas específicas, como notificar o registrar el evento\n",
    "    if is_outlier:\n",
    "        print(f\"Outlier detected at sample {n_samples}\")\n",
    "\n",
    "# Muestra las métricas finales\n",
    "print(f\"Number of samples: {n_samples}\")\n",
    "print(\"Accuracy:\", metric_acc.get())\n",
    "print(\"F1 Score:\", metric_f1.get())\n"
   ]
  },
  {
   "cell_type": "code",
   "execution_count": null,
   "metadata": {},
   "outputs": [],
   "source": []
  }
 ],
 "metadata": {
  "kernelspec": {
   "display_name": "base",
   "language": "python",
   "name": "python3"
  },
  "language_info": {
   "codemirror_mode": {
    "name": "ipython",
    "version": 3
   },
   "file_extension": ".py",
   "mimetype": "text/x-python",
   "name": "python",
   "nbconvert_exporter": "python",
   "pygments_lexer": "ipython3",
   "version": "3.8.18"
  },
  "orig_nbformat": 4
 },
 "nbformat": 4,
 "nbformat_minor": 2
}
