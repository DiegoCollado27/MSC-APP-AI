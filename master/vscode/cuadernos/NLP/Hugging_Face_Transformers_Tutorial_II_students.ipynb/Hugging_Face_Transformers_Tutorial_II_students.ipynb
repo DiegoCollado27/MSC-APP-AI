{
  "cells": [
    {
      "cell_type": "markdown",
      "metadata": {
        "id": "eU_gqVHcSuHE"
      },
      "source": [
        "# <font color='#2B4865'>**Hugging Face 🤗 Transformers Tutorial II**</font>\n",
        "\n",
        "---\n",
        "### Natural Language Processing\n",
        "Date: Dec 21, 2022\n",
        "\n",
        "Last Update: Nov 26, 2023\n",
        "\n",
        "Author: Lorena Calvo-Bartolomé (lcalvo@pa.uc3m.es)\n",
        "\n",
        "Version 1.1\n",
        "\n",
        "---\n",
        "This notebook is based on the [Hugging Face course](https://huggingface.co/course/chapter1/1) and documentation available at the Hugging Face website.\n",
        "\n",
        "It constitutes the second tutorial notebook on the usage of Hugging Face libraries as well as its application for solving a series of NLP tasks.\n",
        "\n",
        "Its main **goal** is to revise the specific inference and fine-tuning examples of the Question Answering and Summarization tasks at the same time that more advanced functionalities of the Hugging Face 🤗 Python library are learned.\n",
        "\n",
        "---\n",
        "\n",
        "<font color='#E0144C'>**For this notebook's execution, we highly encourage you to use Google Colaboratory. While for the inference part it is not necessary, you will highly speed up the execution if you make use of a GPU. For doing so, follow the following steps:**</font>\n",
        "\n",
        "<font color='#E0144C'>**1. Connect to hosted runtime**</font>\n",
        "\n",
        "<font color='#E0144C'>**2. Enable GPU setting by clicking Edit -> Notebook Settings -> Select GPU in Hardware Acceleration Tab -> Save**</font>"
      ]
    },
    {
      "cell_type": "markdown",
      "metadata": {
        "id": "H_ak68EcROir"
      },
      "source": [
        "## <font color='#2B4865'>Installing necessary packages, imports and auxiliary functions</font>"
      ]
    },
    {
      "cell_type": "code",
      "execution_count": null,
      "metadata": {
        "colab": {
          "base_uri": "https://localhost:8080/"
        },
        "id": "jNmR0A9v3gG7",
        "outputId": "9de6738f-0445-45da-8dd3-6a9ba18d478a"
      },
      "outputs": [
        {
          "name": "stdout",
          "output_type": "stream",
          "text": [
            "Installing package transformers[sentencepiece,torch]\n",
            "Package datasets already installed!\n",
            "Package wikipedia already installed!\n",
            "Package nltk already installed!\n"
          ]
        }
      ],
      "source": [
        "# Install necessary packages\n",
        "import importlib, os\n",
        "\n",
        "necessary_packages = ['transformers[sentencepiece,torch]', 'datasets', 'colored', 'wikipedia', 'evaluate', 'nltk', 'rouge_score']\n",
        "def import_missing(packages):\n",
        "  for p in packages:\n",
        "    try:\n",
        "      mod = importlib.import_module(p)\n",
        "      print(f\"Package {p} already installed!\")\n",
        "      packages.remove(p)\n",
        "    except ModuleNotFoundError:\n",
        "      print(f\"Installing package {p}\")\n",
        "      with open(\"requirements.txt\", 'w') as f:\n",
        "        f.write(\"\\n\".join(str(i) for i in packages))\n",
        "  if os.path.isfile(\"requirements.txt\"):\n",
        "    %pip install --quiet -r \"requirements.txt\"\n",
        "\n",
        "import_missing(necessary_packages)"
      ]
    },
    {
      "cell_type": "code",
      "execution_count": null,
      "metadata": {
        "colab": {
          "base_uri": "https://localhost:8080/"
        },
        "id": "VszD2tguTJcS",
        "outputId": "af1e9074-27c9-40a2-fca9-bf149d4addb9"
      },
      "outputs": [
        {
          "name": "stderr",
          "output_type": "stream",
          "text": [
            "[nltk_data] Downloading package punkt to /root/nltk_data...\n",
            "[nltk_data]   Package punkt is already up-to-date!\n"
          ]
        }
      ],
      "source": [
        "# Common imports\n",
        "import os\n",
        "import numpy as np\n",
        "import pandas as pd\n",
        "from termcolor import colored\n",
        "import seaborn as sns\n",
        "import matplotlib.pyplot as plt\n",
        "import tqdm\n",
        "import scipy\n",
        "from colored import Fore, Back, Style\n",
        "import torch\n",
        "import json\n",
        "import nltk\n",
        "nltk.download(\"punkt\")\n",
        "\n",
        "# Figures plotted inside the notebook\n",
        "%matplotlib inline\n",
        "# High quality figures\n",
        "%config InlineBackend.figure_format = 'retina'\n",
        "# Figues size\n",
        "plt.rcParams['figure.figsize'] = [8, 6]\n",
        "\n",
        "import warnings\n",
        "warnings.simplefilter(action='ignore', category=FutureWarning)\n",
        "warnings.filterwarnings(action='ignore',module='gradio')"
      ]
    },
    {
      "cell_type": "code",
      "execution_count": null,
      "metadata": {
        "id": "lhwq7n9ETRuL"
      },
      "outputs": [],
      "source": [
        "# To wrap long text lines\n",
        "from IPython.display import HTML, display\n",
        "\n",
        "def set_css():\n",
        "  display(HTML('''\n",
        "  <Style>\n",
        "    pre {\n",
        "        white-space: pre-wrap;\n",
        "    }\n",
        "  </Style>\n",
        "  '''))\n",
        "get_ipython().events.register('pre_run_cell', set_css)\n",
        "\n",
        "# For fancy table Display\n",
        "%load_ext google.colab.data_table"
      ]
    },
    {
      "cell_type": "code",
      "execution_count": null,
      "metadata": {
        "colab": {
          "base_uri": "https://localhost:8080/",
          "height": 17
        },
        "id": "cyl8upfClMag",
        "outputId": "872048a4-22ff-4f6f-e45d-164f7def6359"
      },
      "outputs": [
        {
          "data": {
            "text/html": [
              "\n",
              "  <Style>\n",
              "    pre {\n",
              "        white-space: pre-wrap;\n",
              "    }\n",
              "  </Style>\n",
              "  "
            ],
            "text/plain": [
              "<IPython.core.display.HTML object>"
            ]
          },
          "metadata": {},
          "output_type": "display_data"
        }
      ],
      "source": [
        "# Auxiliary funcion to print Trasnformer encodings\n",
        "def print_encoding(model_inputs, indent=4):\n",
        "    indent_str = \" \" * indent\n",
        "    print(\"{\")\n",
        "    for k, v in model_inputs.items():\n",
        "        print(indent_str + k + \":\")\n",
        "        print(indent_str + indent_str + str(v))\n",
        "    print(\"}\")"
      ]
    },
    {
      "cell_type": "markdown",
      "metadata": {
        "id": "NMwVQsO_eHs1"
      },
      "source": [
        "We are going to save all the files in this notebook generated into Drive. Fill the variable ``path_to_folder`` in the next with your Drive's folder in which you want to save the files."
      ]
    },
    {
      "cell_type": "code",
      "execution_count": null,
      "metadata": {
        "colab": {
          "base_uri": "https://localhost:8080/",
          "height": 34
        },
        "id": "h7wQkXVnvnvu",
        "outputId": "966823e1-171e-446a-c834-81ed23d688fc"
      },
      "outputs": [
        {
          "data": {
            "text/html": [
              "\n",
              "  <Style>\n",
              "    pre {\n",
              "        white-space: pre-wrap;\n",
              "    }\n",
              "  </Style>\n",
              "  "
            ],
            "text/plain": [
              "<IPython.core.display.HTML object>"
            ]
          },
          "metadata": {},
          "output_type": "display_data"
        },
        {
          "name": "stdout",
          "output_type": "stream",
          "text": [
            "Drive already mounted at /content/drive; to attempt to forcibly remount, call drive.mount(\"/content/drive\", force_remount=True).\n"
          ]
        }
      ],
      "source": [
        "path_to_folder = '/content/drive/My Drive/NLP_IA'  # UPDATE THIS ACCORDING TO WHERE YOU WANT TO SAVE THE FILES!!!!\n",
        "\n",
        "# Load the Drive helper and mount\n",
        "from google.colab import drive\n",
        "\n",
        "# This will prompt for authorization.\n",
        "drive.mount('/content/drive')\n",
        "\n",
        "# Change to assignment directory\n",
        "os.chdir(path_to_folder)"
      ]
    },
    {
      "cell_type": "markdown",
      "metadata": {
        "id": "VZqNyqb80hXm"
      },
      "source": [
        "## <font color='#2B4865'>**2. Question Answering**\n",
        "---\n",
        "</font>"
      ]
    },
    {
      "cell_type": "markdown",
      "metadata": {
        "id": "v5Z5JWlx1OJ6"
      },
      "source": [
        "**Question Answering (QA)** is the task of retrieving the answer to a question from a given text, which is useful for searching for an answer in a document. Some question answering models can even generate answers without context."
      ]
    },
    {
      "cell_type": "markdown",
      "metadata": {
        "id": "Z6pqM0ki3SQG"
      },
      "source": [
        "##### <font color='#2B4865'>**Architecture for approaching the task**</font>"
      ]
    },
    {
      "cell_type": "markdown",
      "metadata": {
        "id": "DAHk3V312jrE"
      },
      "source": [
        "There are different QA variants based on the inputs and outputs:\n",
        "\n",
        "<table>\n",
        "    <thead>\n",
        "        <tr>\n",
        "            <th> </th>\n",
        "            <th><font color='#256D85'>Definition</font></th>\n",
        "            <th><font color='#256D85'>Solved By</font></th>\n",
        "            <th><font color='#256D85'>Good At</font></th>\n",
        "        </tr>\n",
        "    </thead>\n",
        "    <tbody>\n",
        "        <tr>\n",
        "            <td><b>EXTRACTIVE</b></td>\n",
        "            <td>The model extracts an answer from <br>a\n",
        "            given context (e.g., a text, a <br>\n",
        "            table, an HTML, etc.)\n",
        "            </td>\n",
        "            <td>Encoder-only models<br>(e.g., BERT)\n",
        "            </td>\n",
        "            <td>\n",
        "            Answering factoid questions:<br> e.g.: \"Who\n",
        "            invented the transformers<br>\n",
        "            architecture?\"\n",
        "            </td>\n",
        "        </tr>\n",
        "        <tr>\n",
        "            <td><b>OPEN GENERATIVE</b></td>\n",
        "            <td>The model generates free text<br>\n",
        "            directly based on the context.\n",
        "            </td>\n",
        "            <td rowspan=2>Encoder-decoder models<br>\n",
        "            (e.g., T5)</td>\n",
        "            <td rowspan=2>Answering open-ended\n",
        "            questions:<br>\n",
        "            e.g.: \"Why the sky is blue?\"\n",
        "            </td>\n",
        "        </tr>\n",
        "        <tr>\n",
        "            <td><b>CLOSED GENERATIVE</b></td>\n",
        "            <td>No context is provided so the<br>\n",
        "            answer is generated completely by<br>\n",
        "            the model.\n",
        "            </td>\n",
        "        </tr>\n",
        "    </tbody>\n",
        "</table>"
      ]
    },
    {
      "cell_type": "markdown",
      "metadata": {
        "id": "CIu20pZG3XIE"
      },
      "source": [
        "##### <font color='#2B4865'>**Evaluation metrics**</font>"
      ]
    },
    {
      "cell_type": "markdown",
      "metadata": {
        "id": "a6KW6t8t4Bhm"
      },
      "source": [
        "**Typical metrics** for Question Answering are:\n",
        "\n",
        "\n",
        "*   **Exact-match**, which is based on the strict character match of the predicted answer and the right answer. For answers predicted correctly, the Exact Match will be $1$. Even if only one character is different, the Exact Match will be $0$.\n",
        "*   **F1-Score** metric is useful if we value both false positives and false negatives equally. The F1-Score is calculated on each word in the predicted sequence against the correct answer. It ranges from $0$ to $1$, where $0$ is the worst possible score and $1$ is a perfect score indicating that the model predicts each observation correctly."
      ]
    },
    {
      "cell_type": "markdown",
      "metadata": {
        "id": "yDDj3KeJ0i_G"
      },
      "source": [
        "In the what is left of this section, we will be working with **Extractive Question Answering**."
      ]
    },
    {
      "cell_type": "markdown",
      "metadata": {
        "id": "IaBtAvwr1nBQ"
      },
      "source": [
        "### <font color='#2B4865'>*2.1. Inference*</font>"
      ]
    },
    {
      "cell_type": "markdown",
      "metadata": {
        "id": "AMCTABzVdkYZ"
      },
      "source": [
        "As you know from Section 1.1, the first step to perform inference with any Hugging Face pipeline is to find a model on [the hub](https://huggingface.co/models). Here, we will be using ``DistilBERT``, a Transformer model trained by distilling BERT base, that was proposed in [this paper](https://arxiv.org/pdf/1910.01108.pdf). In particular, we will be using [this fine-tune checkpoint](https://huggingface.co/distilbert-base-cased-distilled-squad) of ``DistilBERT-base-cased``."
      ]
    },
    {
      "cell_type": "markdown",
      "metadata": {
        "id": "TCM0moPlOjll"
      },
      "source": [
        "###### **Exercise 2.1**\n",
        "\n",
        "Create a QA pipeline named ``question_answerer`` by invoking ``pipeline()`` with the task identifier ``\"question-answering\"`` and the checkpoint mentioned above. What type of object does it return?"
      ]
    },
    {
      "cell_type": "code",
      "execution_count": null,
      "metadata": {
        "colab": {
          "base_uri": "https://localhost:8080/",
          "height": 17
        },
        "id": "GLoZisp7fQrl",
        "outputId": "3cc0637f-9b72-4682-a627-3be9f48e86e6"
      },
      "outputs": [
        {
          "data": {
            "text/html": [
              "\n",
              "  <Style>\n",
              "    pre {\n",
              "        white-space: pre-wrap;\n",
              "    }\n",
              "  </Style>\n",
              "  "
            ],
            "text/plain": [
              "<IPython.core.display.HTML object>"
            ]
          },
          "metadata": {},
          "output_type": "display_data"
        }
      ],
      "source": [
        "checkpoint_name = \"distilbert-base-cased-distilled-squad\"\n",
        "\n",
        "# <SOL>\n",
        "# TODO: Add necessary imports\n",
        "\n",
        "\n",
        "# TODO: Create pipeline\n",
        "# </SOL>"
      ]
    },
    {
      "cell_type": "markdown",
      "metadata": {
        "id": "bi7j-5Pkum-2"
      },
      "source": [
        "After running the last cell, we have a pipeline for performing question answering given a context string. For example, the variable ``context1`` in the next cell defines the first few paragraphs from the [Wikipedia entry for David (son of Heraclius)](https://en.wikipedia.org/wiki/David_(son_of_Heraclius)) that we will be using as context."
      ]
    },
    {
      "cell_type": "code",
      "execution_count": null,
      "metadata": {
        "colab": {
          "base_uri": "https://localhost:8080/",
          "height": 191
        },
        "id": "h732y0g3MJJt",
        "outputId": "bd3a683f-0375-407b-9919-8399e9c03788"
      },
      "outputs": [
        {
          "data": {
            "text/html": [
              "\n",
              "  <Style>\n",
              "    pre {\n",
              "        white-space: pre-wrap;\n",
              "    }\n",
              "  </Style>\n",
              "  "
            ],
            "text/plain": [
              "<IPython.core.display.HTML object>"
            ]
          },
          "metadata": {},
          "output_type": "display_data"
        },
        {
          "name": "stdout",
          "output_type": "stream",
          "text": [
            "David (Greek: Δαυίδ; fl. 630–641) was one of three co-emperors of Byzantium for a few months in late 641, and had the regnal name Tiberius. David was the son of Emperor Heraclius and his wife and niece Empress Martina. He was born after the emperor and empress had visited Jerusalem and his given name reflects a deliberate attempt to link the imperial family with the Biblical David. The David Plates, which depict the life of King David, may likewise have been created for the young prince or to commemorate his birth. David was given the senior court title caesar in 638, in a ceremony during which he received the kamelaukion cap previously worn by his older brother Heraclonas.\n",
            "After the death of Emperor Heraclius in February 641, when David was 10 years old, a power struggle ensued between different branches of the imperial family. As part of a compromise, David was raised to be co-emperor, ruling with his brother Heraclonas and their nephew Constans II. The Byzantine state faced serious challenges while Tiberius was co-emperor, with the ongoing Muslim conquest of Egypt and continuing religious strife over monothelitism and other Christological doctrines. All three emperors were children and the Empress Dowager Martina acted as regent. Martina was deeply unpopular due to her incestuous relationship with Heraclius, her unconventional habits, and her ambition. Her regime was deposed in a rebellion, probably by January 642. She and her sons were exiled to Rhodes and, in an early example of Byzantine political mutilation, Martina's tongue was cut out and the noses of her sons were cut off. There is no further historical record of Tiberius, and some historians speculate that he and his family lived out the rest of their lives peacefully.\n"
          ]
        }
      ],
      "source": [
        "import wikipedia\n",
        "\n",
        "context1 = wikipedia.summary(\"David (son of Heraclius)\",auto_suggest=False).strip()\n",
        "print(context1)"
      ]
    },
    {
      "cell_type": "code",
      "execution_count": null,
      "metadata": {
        "colab": {
          "base_uri": "https://localhost:8080/",
          "height": 52
        },
        "id": "ceB6AmCnwMPZ",
        "outputId": "dc1cc963-b36c-4ca9-d6df-7887cafde0e4"
      },
      "outputs": [
        {
          "data": {
            "text/html": [
              "\n",
              "  <Style>\n",
              "    pre {\n",
              "        white-space: pre-wrap;\n",
              "    }\n",
              "  </Style>\n",
              "  "
            ],
            "text/plain": [
              "<IPython.core.display.HTML object>"
            ]
          },
          "metadata": {},
          "output_type": "display_data"
        },
        {
          "name": "stdout",
          "output_type": "stream",
          "text": [
            "\u001b[38;5;12m\u001b[1mQ: What was the regnal name of David?\u001b[0m\n",
            "\u001b[38;5;1mA: Tiberius\u001b[0m\n"
          ]
        }
      ],
      "source": [
        "question1 = \"What was the regnal name of David?\"\n",
        "r = question_answerer(question=question1, context=context1)\n",
        "print(Fore.LIGHT_BLUE + Style.BOLD + f'Q: {question1}' + Style.RESET)\n",
        "print(Fore.RED + \"A: \" + r['answer'] + Style.RESET)"
      ]
    },
    {
      "cell_type": "markdown",
      "metadata": {
        "id": "Kn6jBWOLFbW0"
      },
      "source": [
        "We can also ask multiple questions at once by providing the pipeline with them  within a list:"
      ]
    },
    {
      "cell_type": "code",
      "execution_count": null,
      "metadata": {
        "colab": {
          "base_uri": "https://localhost:8080/",
          "height": 121
        },
        "id": "Q4eS-dSrFanL",
        "outputId": "ec3327a0-d30c-4b61-a6c4-3bbb0dc92ba4"
      },
      "outputs": [
        {
          "data": {
            "text/html": [
              "\n",
              "  <Style>\n",
              "    pre {\n",
              "        white-space: pre-wrap;\n",
              "    }\n",
              "  </Style>\n",
              "  "
            ],
            "text/plain": [
              "<IPython.core.display.HTML object>"
            ]
          },
          "metadata": {},
          "output_type": "display_data"
        },
        {
          "name": "stdout",
          "output_type": "stream",
          "text": [
            "\u001b[38;5;12m\u001b[1mQ: Who was the father of David?\u001b[0m\n",
            "\u001b[38;5;1mA: Emperor Heraclius\u001b[0m\n",
            "\u001b[38;5;12m\u001b[1mQ: What does David's name reflect?\u001b[0m\n",
            "\u001b[38;5;1mA: a deliberate attempt to link the imperial family with the Biblical David\u001b[0m\n",
            "\u001b[38;5;12m\u001b[1mQ: When did Emperor Heraclius die?\u001b[0m\n",
            "\u001b[38;5;1mA: February 641\u001b[0m\n"
          ]
        }
      ],
      "source": [
        "questions = [\"Who was the father of David?\",\n",
        "             \"What does David's name reflect?\",\n",
        "             \"When did Emperor Heraclius die?\"]\n",
        "\n",
        "results = question_answerer(question=questions, context=context1)\n",
        "\n",
        "for q, r in zip(questions, results):\n",
        "  print(Fore.LIGHT_BLUE + Style.BOLD + f'Q: {q}' + Style.RESET)\n",
        "  print(Fore.RED + \"A: \" + r['answer'] + Style.RESET)"
      ]
    },
    {
      "cell_type": "markdown",
      "metadata": {
        "id": "o6hYzlr_Kq2s"
      },
      "source": [
        "Although the models used in the Hugging Face pipelines generally give outstanding results, sometimes you will have particular examples where they don't perform so well. Let's use the following example with a context string about the [Golden Age of Comic Books](https://en.wikipedia.org/wiki/Golden_Age_of_Comic_Books):"
      ]
    },
    {
      "cell_type": "code",
      "execution_count": null,
      "metadata": {
        "colab": {
          "base_uri": "https://localhost:8080/",
          "height": 1000
        },
        "id": "mL2Kh-r5Ebal",
        "outputId": "0bc07ed9-4b3f-417c-ad7e-425102ac024f"
      },
      "outputs": [
        {
          "data": {
            "text/html": [
              "\n",
              "  <Style>\n",
              "    pre {\n",
              "        white-space: pre-wrap;\n",
              "    }\n",
              "  </Style>\n",
              "  "
            ],
            "text/plain": [
              "<IPython.core.display.HTML object>"
            ]
          },
          "metadata": {},
          "output_type": "display_data"
        },
        {
          "name": "stdout",
          "output_type": "stream",
          "text": [
            "The Golden Age of Comic Books describes an era in the history of American comic books from 1938 to 1956. During this time, modern comic books were first published and rapidly increased in popularity. The superhero archetype was created and many well-known characters were introduced, including Superman, Batman, Robin, Captain Marvel, Captain America, and Wonder Woman. Between 1939 and 1941 Detective Comics and its sister company, All-American Publications, introduced popular superheroes such as Batman and Robin, Wonder Woman, the Flash, Green Lantern, Doctor Fate, the Atom, Hawkman, Green Arrow and Aquaman. Timely Comics, the 1940s predecessor of Marvel Comics, had million-selling titles featuring the Human Torch, the Sub-Mariner, and Captain America. Although DC and Timely characters are well remembered today, circulation figures suggest that the best-selling superhero title of the era was Fawcett Comics' Captain Marvel Adventures with sales of about 1.4 million copies per issue. The comic was published biweekly at one point to capitalize on its popularity. Another notable series was The Spirit by Will Eisner, which deviated from the usual publishing model of the period as a weekly multi-page supplement in the Register and Tribune Syndicate newspapers that Eisner held the copyright, a rare consideration for creators of that period. \n",
            "Patriotic heroes donning red, white, and blue were particularly popular during the time of the Second World War following the Shield's debut in 1940. Many heroes of this time period battled the Axis powers, with covers such as Captain America Comics #1 (cover-dated March 1941) showing the title character punching Nazi leader Adolf Hitler.As comic books grew in popularity, publishers began launching titles that expanded into a variety of genres. Dell Comics' non-superhero characters (particularly the licensed Walt Disney animated-character comics) outsold the superhero comics of the day. The publisher featured licensed movie and literary characters such as Mickey Mouse, Donald Duck, Roy Rogers and Tarzan. It was during this era that noted Donald Duck writer-artist Carl Barks rose to prominence. Additionally, MLJ's introduction of Archie Andrews in Pep Comics #22 (December 1941) gave rise to teen humor comics, with the Archie Andrews character remaining in print well into the 21st century.At the same time in Canada, American comic books were prohibited importation under the War Exchange Conservation Act which restricted the importation of non-essential goods. Canadian publishers responded to this lack of competition by producing titles of their own, informally called the Canadian Whites. While these titles flourished during the war, they did not survive the lifting of trade restrictions afterwards.\n",
            "\n",
            "\n",
            "=== Post-war and shift from superheroes ===\n",
            "A brief time period after the war until the mid-1950s is sometimes referred to as the Atomic Age of Comic Books. Some authors consider this an interregnum period or an era in its own right, but most regard it as still part of the Golden Age. During this time, the popularity of superhero comics waned. To retain reader interest, comic publishers diversified into other genres, such as war, Westerns, science fiction, romance, crime and horror. Many superhero titles were canceled or converted to other genres.In 1946, DC Comics' Superboy, Aquaman and Green Arrow were switched from More Fun Comics into Adventure Comics so More Fun could focus on humor. In 1948 All-American Comics, featuring Green Lantern, Johnny Thunder and Dr. Mid-Nite, was replaced with All-American Western. The following year, Flash Comics and Green Lantern were canceled. In 1951 All Star Comics, featuring the Justice Society of America, became All-Star Western. The next year Star Spangled Comics, featuring Robin, was retitled Star Spangled War Stories. Sensation Comics, featuring Wonder Woman, was canceled in 1953. The only superhero comics published continuously through the entire 1950s were Action Comics, Adventure Comics, Batman, Detective Comics, Superboy, Superman, Wonder Woman and World's Finest Comics.Plastic Man appeared in Quality Comics' Police Comics until 1950, when its focus switched to detective stories; his solo title continued bimonthly until issue 52, cover-dated February 1955. Timely Comics' The Human Torch was canceled with issue #35 (March 1949) and Marvel Mystery Comics, featuring the Human Torch, with issue #93 (Aug. 1949) became the horror comic Marvel Tales. Sub-Mariner Comics was canceled with issue #42 (June 1949) and Captain America Comics, by then Captain America's Weird Tales, with #75 (Feb. 1950). Harvey Comics' Black Cat was canceled in 1951 and rebooted as a horror comic later that year—the title would change to Black Cat Mystery, Black Cat Mystic, and eventually Black Cat Western for the final two issues, which included Black Cat stories. Lev Gleason Publications' Daredevil was edged out of his title by the Little Wise Guys in 1950. Fawcett Comics' Whiz Comics, Master Comics and Captain Marvel Adventures were canceled in 1953, and The Marvel Family was canceled the following year.Also during this period, the mass media with the advent of television were forcing media companies to put out comics that reflected the popular culture of the time period. Comic books focused on space, mystery, and suspense that television and other forms of media were turning to in the march toward scientific progress.\n",
            "According to historian Michael A. Amundson, appealing comic-book characters helped ease young readers' fear of nuclear war and neutralize anxiety about the questions posed by atomic power. It was during this period that long-running humor comics debuted, including EC Comics' series Mad and Dell's series Uncle Scrooge (both in 1952).\n",
            "\n",
            "\n",
            "=== End of the era ===\n",
            "In 1953, the comic book industry hit a setback when the United States Senate Subcommittee on Juvenile Delinquency was created in order to investigate the problem of juvenile delinquency. After the publication of Fredric Wertham's Seduction of the Innocent the following year that claimed comics sparked illegal behavior among minors, comic book publishers such as EC's William Gaines were subpoenaed to testify in public hearings. As a result, the Comics Code Authority was created by the Association of Comics Magazine Publishers to enact self-censorship by comic book publishers. At this time, EC canceled its crime and horror titles and focused primarily on Mad. The Silver Age of Comic Books is recognized by some as beginning with the debut of the first successful new superhero since the Golden Age, DC Comics' new Flash, in Showcase #4 (Oct. 1956). However, others point to either the end of World War II in 1945, or in 1948 with the first outcry of Fredric Wertham as the end of the Golden Age. \n",
            "\n",
            "\n",
            "== See also ==\n",
            "Silver Age of Comic Books\n",
            "Bronze Age of Comic Books\n",
            "Modern Age of Comic Books\n",
            "List of Golden Age comics publishers\n",
            "List of Marvel Comics Golden Age characters\n",
            "\n",
            "\n",
            "== References ==\n",
            "\n",
            "\n",
            "== External links ==\n",
            "Comic Book Plus (scans of presumed public domain Golden Age comics)\n",
            "Digital Comic Museum (scans of presumed public domain Golden Age comics)\n",
            "Don Markstein's Toonopedia\n",
            "International Catalogue of Superheroes\n",
            "Jess Nevins' Encyclopedia of Golden Age Superheroes\n",
            "Villain Paper Archived 2021-12-26 at the Wayback Machine a Golden Age Comics Subscription Service\n"
          ]
        }
      ],
      "source": [
        "context2 = wikipedia.summary(\"Golden Age of Comic Books\",auto_suggest=False).strip() + \" \" + \\\n",
        "           wikipedia.page(\"Golden Age of Comic Books\").content\\\n",
        "            .split(\"=== World War II ===\")[1]\\\n",
        "            .split(\"=== After the wars ===\")[0].strip()\n",
        "print(context2)"
      ]
    },
    {
      "cell_type": "code",
      "execution_count": null,
      "metadata": {
        "colab": {
          "base_uri": "https://localhost:8080/",
          "height": 191
        },
        "id": "vQ4XtmFkEc_J",
        "outputId": "02f1ae38-9ebf-4f84-acb6-0d38e933dc9b"
      },
      "outputs": [
        {
          "data": {
            "text/html": [
              "\n",
              "  <Style>\n",
              "    pre {\n",
              "        white-space: pre-wrap;\n",
              "    }\n",
              "  </Style>\n",
              "  "
            ],
            "text/plain": [
              "<IPython.core.display.HTML object>"
            ]
          },
          "metadata": {},
          "output_type": "display_data"
        },
        {
          "name": "stdout",
          "output_type": "stream",
          "text": [
            "\u001b[38;5;12m\u001b[1mQ: What popular superheroes were introduced between 1939 and 1941?\u001b[0m\n",
            "\u001b[38;5;1mA: DC Comics' new Flash\u001b[0m\n",
            "\u001b[38;5;12m\u001b[1mQ: What superheroes were introduced between 1939 and 1941 by Detective Comics and its sister company?\u001b[0m\n",
            "\u001b[38;5;1mA: DC Comics' new Flash\u001b[0m\n",
            "\u001b[38;5;12m\u001b[1mQ: What comic book characters were created between 1939 and 1941?\u001b[0m\n",
            "\u001b[38;5;1mA: Superman, Batman, Robin, Captain Marvel, Captain America, and Wonder Woman\u001b[0m\n",
            "\u001b[38;5;12m\u001b[1mQ: What well-known characters were created between 1939 and 1941?\u001b[0m\n",
            "\u001b[38;5;1mA: Superman, Batman, Robin, Captain Marvel, Captain America, and Wonder Woman\u001b[0m\n",
            "\u001b[38;5;12m\u001b[1mQ: What well-known superheroes were introduced between 1939 and 1941 by Detective Comics?\u001b[0m\n",
            "\u001b[38;5;1mA: Plastic Man\u001b[0m\n"
          ]
        }
      ],
      "source": [
        "questions = [\"What popular superheroes were introduced between 1939 and 1941?\",\n",
        "             \"What superheroes were introduced between 1939 and 1941 by Detective Comics and its sister company?\",\n",
        "             \"What comic book characters were created between 1939 and 1941?\",\n",
        "             \"What well-known characters were created between 1939 and 1941?\",\n",
        "             \"What well-known superheroes were introduced between 1939 and 1941 by Detective Comics?\"]\n",
        "\n",
        "results = question_answerer(question=questions, context=context2)\n",
        "\n",
        "for q, r in zip(questions, results):\n",
        "  print(Fore.LIGHT_BLUE + Style.BOLD + f'Q: {q}' + Style.RESET)\n",
        "  print(Fore.RED + \"A: \" + r['answer'] + Style.RESET)"
      ]
    },
    {
      "cell_type": "markdown",
      "metadata": {
        "id": "QqI-0fP8Q_GP"
      },
      "source": [
        "As you can see, our pipeline is not giving us really good results for this example. This example belongs to the[ TyDi QA dataset](https://github.com/google-research-datasets/tydiqa), a dataset from Google for question/answering in diverse languages. To achieve better results, we need to consider fine-tuning our model.\n",
        "\n",
        "But beFore entering into the fine-tuning part, let's see what is behind the ``QuestionAnswering`` pipeline."
      ]
    },
    {
      "cell_type": "markdown",
      "metadata": {
        "id": "m8xlOaBhp-gE"
      },
      "source": [
        "#### <font color='#2B4865'>*2.1.1. Behind the QA pipeline*</font>"
      ]
    },
    {
      "cell_type": "markdown",
      "metadata": {
        "id": "sQcJJot8qiFM"
      },
      "source": [
        "###### **Exercise 2.2**\n",
        "Complete the following code to mimic the steps happening behind the QA pipeline above instantiated.\n",
        "\n",
        "**Note:** Make sure you use the Fast version of the checkpoint's tokenizer. You can achieve this by checking the tokenizer's attribute ``is_fast`` once you have instantiated it."
      ]
    },
    {
      "cell_type": "code",
      "execution_count": null,
      "metadata": {
        "colab": {
          "base_uri": "https://localhost:8080/",
          "height": 17
        },
        "id": "xYT0MaKvqD4Y",
        "outputId": "c919ec38-afe9-4323-c279-6217bb84cae8"
      },
      "outputs": [
        {
          "data": {
            "text/html": [
              "\n",
              "  <Style>\n",
              "    pre {\n",
              "        white-space: pre-wrap;\n",
              "    }\n",
              "  </Style>\n",
              "  "
            ],
            "text/plain": [
              "<IPython.core.display.HTML object>"
            ]
          },
          "metadata": {},
          "output_type": "display_data"
        }
      ],
      "source": [
        "# <SOL>\n",
        "from transformers import AutoTokenizer, AutoModelForQuestionAnswering\n",
        "## TODO: Add necessary imports\n",
        "\n",
        "tokenizer = # TODO: Create tokenizer from checkpoint_name\n",
        "model =  # TODO: Create model from checkpoint_name\n",
        "\n",
        "inputs =  #TODO: Obtain tokenizer's output\n",
        "outputs = # TODO: Obtain model's outputs\n",
        "# </SOL>"
      ]
    },
    {
      "cell_type": "code",
      "execution_count": null,
      "metadata": {
        "colab": {
          "base_uri": "https://localhost:8080/",
          "height": 34
        },
        "id": "3enWOcjfD-Nn",
        "outputId": "07587736-f83e-4212-abb9-273c93712187"
      },
      "outputs": [
        {
          "data": {
            "text/html": [
              "\n",
              "  <Style>\n",
              "    pre {\n",
              "        white-space: pre-wrap;\n",
              "    }\n",
              "  </Style>\n",
              "  "
            ],
            "text/plain": [
              "<IPython.core.display.HTML object>"
            ]
          },
          "metadata": {},
          "output_type": "display_data"
        },
        {
          "data": {
            "text/plain": [
              "True"
            ]
          },
          "execution_count": 13,
          "metadata": {},
          "output_type": "execute_result"
        }
      ],
      "source": [
        "# <SOL>\n",
        "## TODO: Check if you are using the Fast version of the tokenizer\n",
        "# </SOL>"
      ]
    },
    {
      "cell_type": "markdown",
      "metadata": {
        "id": "p3g2x02arOFb"
      },
      "source": [
        "QA models work a little differently from what we have seen in Section 1 since they are trained on **predicting the index of the token starting the answer and the index of the token where the answer ends**. Because of this, these models **do not return one tensor of logits but two**: one for the logits corresponding to the start token of the answer, and one for the logits corresponding to the end token of the answer:"
      ]
    },
    {
      "cell_type": "code",
      "execution_count": null,
      "metadata": {
        "colab": {
          "base_uri": "https://localhost:8080/",
          "height": 34
        },
        "id": "GMm1GkUMrQsC",
        "outputId": "906fd0e9-e908-4fa4-b925-59f60895bd86"
      },
      "outputs": [
        {
          "data": {
            "text/html": [
              "\n",
              "  <Style>\n",
              "    pre {\n",
              "        white-space: pre-wrap;\n",
              "    }\n",
              "  </Style>\n",
              "  "
            ],
            "text/plain": [
              "<IPython.core.display.HTML object>"
            ]
          },
          "metadata": {},
          "output_type": "display_data"
        },
        {
          "name": "stdout",
          "output_type": "stream",
          "text": [
            "torch.Size([1, 403]) torch.Size([1, 403])\n"
          ]
        }
      ],
      "source": [
        "start_logits = outputs.start_logits\n",
        "end_logits = outputs.end_logits\n",
        "print(start_logits.shape, end_logits.shape)"
      ]
    },
    {
      "cell_type": "markdown",
      "metadata": {
        "id": "O9qJtEDnsYXg"
      },
      "source": [
        "**To convert those logits into probabilities**, we will apply a **softmax function**. Yet, before doing so, we need to make sure we **mask the indices that are not part of the context**.\n",
        "\n",
        "One important thing to check before starting with the tokenization is **whether the model expects padding on the left or the right**:"
      ]
    },
    {
      "cell_type": "code",
      "execution_count": null,
      "metadata": {
        "colab": {
          "base_uri": "https://localhost:8080/",
          "height": 35
        },
        "id": "UIOAyWy6voHC",
        "outputId": "b1d963ef-2329-4d8e-870d-eb7a57e73e84"
      },
      "outputs": [
        {
          "data": {
            "text/html": [
              "\n",
              "  <Style>\n",
              "    pre {\n",
              "        white-space: pre-wrap;\n",
              "    }\n",
              "  </Style>\n",
              "  "
            ],
            "text/plain": [
              "<IPython.core.display.HTML object>"
            ]
          },
          "metadata": {},
          "output_type": "display_data"
        },
        {
          "data": {
            "application/vnd.google.colaboratory.intrinsic+json": {
              "type": "string"
            },
            "text/plain": [
              "'right'"
            ]
          },
          "execution_count": 15,
          "metadata": {},
          "output_type": "execute_result"
        }
      ],
      "source": [
        "tokenizer.padding_side"
      ]
    },
    {
      "cell_type": "markdown",
      "metadata": {
        "id": "FbD3YjDlvoHC"
      },
      "source": [
        "Since our tokenizer expects padding on the right, we can pass to it **first the question and then the context together** (note that if ``padding_side`` were ``left``, we would switch the order of the question and the context), and it will properly insert the special tokens to form a sentence like:\n",
        "\n",
        "```\n",
        "[CLS] question [SEP] context [SEP]\n",
        "```"
      ]
    },
    {
      "cell_type": "markdown",
      "metadata": {
        "id": "b3dvnde9vzZg"
      },
      "source": [
        "Knowing how our input is, we need to **mask the tokens of the question as well as the ``[SEP]`` token**. Since some models use the ``[CLS]`` token to indicate that the answer is not in the context (as it is the case for our checkpoint), we will keep the ``[CLS]`` unmasked.\n",
        "\n",
        "<br><center><img src=\"https://drive.google.com/uc?id=1aIGmJuZQ8-HCmEkbDVWDql7V8G0L1Hu7\" width=\"60%\"></center><br>\n",
        "\n",
        "Since we will apply a softmax afterward, we just need to replace the logits we want to mask with a large negative number. We can identify the logits we want to mask by means of the ``sequence_ids()`` method, which  returns:\n",
        "\n",
        "* ``None`` for the special tokens\n",
        "*  $0$ or $1$ depending on whether the corresponding token comes from the first sentence past (the question) or the second (the context):"
      ]
    },
    {
      "cell_type": "code",
      "execution_count": null,
      "metadata": {
        "colab": {
          "base_uri": "https://localhost:8080/",
          "height": 138
        },
        "id": "Fn1ETYx7nz6e",
        "outputId": "0f10c1c3-de15-4f79-88f4-b70853e80e54"
      },
      "outputs": [
        {
          "data": {
            "text/html": [
              "\n",
              "  <Style>\n",
              "    pre {\n",
              "        white-space: pre-wrap;\n",
              "    }\n",
              "  </Style>\n",
              "  "
            ],
            "text/plain": [
              "<IPython.core.display.HTML object>"
            ]
          },
          "metadata": {},
          "output_type": "display_data"
        },
        {
          "name": "stdout",
          "output_type": "stream",
          "text": [
            "[None, 0, 0, 0, 0, 0, 0, 0, 0, 0, 0, None, 1, 1, 1, 1, 1, 1, 1, 1, 1, 1, 1, 1, 1, 1, 1, 1, 1, 1, 1, 1, 1, 1, 1, 1, 1, 1, 1, 1, 1, 1, 1, 1, 1, 1, 1, 1, 1, 1, 1, 1, 1, 1, 1, 1, 1, 1, 1, 1, 1, 1, 1, 1, 1, 1, 1, 1, 1, 1, 1, 1, 1, 1, 1, 1, 1, 1, 1, 1, 1, 1, 1, 1, 1, 1, 1, 1, 1, 1, 1, 1, 1, 1, 1, 1, 1, 1, 1, 1, 1, 1, 1, 1, 1, 1, 1, 1, 1, 1, 1, 1, 1, 1, 1, 1, 1, 1, 1, 1, 1, 1, 1, 1, 1, 1, 1, 1, 1, 1, 1, 1, 1, 1, 1, 1, 1, 1, 1, 1, 1, 1, 1, 1, 1, 1, 1, 1, 1, 1, 1, 1, 1, 1, 1, 1, 1, 1, 1, 1, 1, 1, 1, 1, 1, 1, 1, 1, 1, 1, 1, 1, 1, 1, 1, 1, 1, 1, 1, 1, 1, 1, 1, 1, 1, 1, 1, 1, 1, 1, 1, 1, 1, 1, 1, 1, 1, 1, 1, 1, 1, 1, 1, 1, 1, 1, 1, 1, 1, 1, 1, 1, 1, 1, 1, 1, 1, 1, 1, 1, 1, 1, 1, 1, 1, 1, 1, 1, 1, 1, 1, 1, 1, 1, 1, 1, 1, 1, 1, 1, 1, 1, 1, 1, 1, 1, 1, 1, 1, 1, 1, 1, 1, 1, 1, 1, 1, 1, 1, 1, 1, 1, 1, 1, 1, 1, 1, 1, 1, 1, 1, 1, 1, 1, 1, 1, 1, 1, 1, 1, 1, 1, 1, 1, 1, 1, 1, 1, 1, 1, 1, 1, 1, 1, 1, 1, 1, 1, 1, 1, 1, 1, 1, 1, 1, 1, 1, 1, 1, 1, 1, 1, 1, 1, 1, 1, 1, 1, 1, 1, 1, 1, 1, 1, 1, 1, 1, 1, 1, 1, 1, 1, 1, 1, 1, 1, 1, 1, 1, 1, 1, 1, 1, 1, 1, 1, 1, 1, 1, 1, 1, 1, 1, 1, 1, 1, 1, 1, 1, 1, 1, 1, 1, 1, 1, 1, 1, 1, 1, 1, 1, 1, 1, 1, 1, 1, 1, 1, 1, 1, 1, 1, 1, 1, 1, 1, 1, 1, 1, 1, 1, 1, 1, 1, 1, 1, 1, 1, 1, 1, 1, 1, None]\n"
          ]
        }
      ],
      "source": [
        "sequence_ids = inputs.sequence_ids()\n",
        "print(sequence_ids)"
      ]
    },
    {
      "cell_type": "code",
      "execution_count": null,
      "metadata": {
        "colab": {
          "base_uri": "https://localhost:8080/",
          "height": 17
        },
        "id": "8tjTNQh-sarp",
        "outputId": "1c11e78e-3b11-4fc7-80c4-a288e82dbcb3"
      },
      "outputs": [
        {
          "data": {
            "text/html": [
              "\n",
              "  <Style>\n",
              "    pre {\n",
              "        white-space: pre-wrap;\n",
              "    }\n",
              "  </Style>\n",
              "  "
            ],
            "text/plain": [
              "<IPython.core.display.HTML object>"
            ]
          },
          "metadata": {},
          "output_type": "display_data"
        }
      ],
      "source": [
        "import torch\n",
        "\n",
        "# Mask everything apart from the tokens of the context\n",
        "mask = [i != 1 for i in sequence_ids]\n",
        "# Unmask the [CLS] token\n",
        "mask[0] = False\n",
        "mask = torch.tensor(mask)[None]\n",
        "\n",
        "start_logits[mask] = -10000\n",
        "end_logits[mask] = -10000"
      ]
    },
    {
      "cell_type": "markdown",
      "metadata": {
        "id": "xDZ6h1eDsebe"
      },
      "source": [
        "Now that we have properly masked the logits corresponding to positions we don’t want to predict, we can apply the softmax:"
      ]
    },
    {
      "cell_type": "code",
      "execution_count": null,
      "metadata": {
        "colab": {
          "base_uri": "https://localhost:8080/",
          "height": 17
        },
        "id": "ebDcuLGRsdb8",
        "outputId": "75d30983-9118-408d-92a5-d37efb2d042a"
      },
      "outputs": [
        {
          "data": {
            "text/html": [
              "\n",
              "  <Style>\n",
              "    pre {\n",
              "        white-space: pre-wrap;\n",
              "    }\n",
              "  </Style>\n",
              "  "
            ],
            "text/plain": [
              "<IPython.core.display.HTML object>"
            ]
          },
          "metadata": {},
          "output_type": "display_data"
        }
      ],
      "source": [
        "start_probabilities = torch.nn.functional.softmax(start_logits, dim=-1)[0]\n",
        "end_probabilities = torch.nn.functional.softmax(end_logits, dim=-1)[0]"
      ]
    },
    {
      "cell_type": "markdown",
      "metadata": {
        "id": "GpJwBYnWsisp"
      },
      "source": [
        "At this stage, we could take the argmax of the start and end probabilities. However, by doing so we might end up with a ``start_index`` that is greater than the ``end_index``. To avoid this, we will compute the probabilities of each possible ``start_index`` and ``end_index`` under the condition that ``start_index <= end_index``, and then take the tuple ``(start_index,end_index)`` with the highest probability.\n",
        "\n",
        "Assuming the events:\n",
        "*   *E1 = \"The answer starts at ``start_index``*\n",
        "*   *E2 = \"The answer ends at ``end_index``*\n",
        "\n",
        "to be independent, the probability ``P`` that the answer starts at ``start_index``and ends at ``end_index`` is:\n",
        "\n",
        "``P = start_probabilities[start_index] x end_probabilities[end_index]``\n",
        "\n",
        "So, to compute all the scores, we just need to compute all the ``P`` for ``start_index <= end_index``."
      ]
    },
    {
      "cell_type": "code",
      "execution_count": null,
      "metadata": {
        "colab": {
          "base_uri": "https://localhost:8080/",
          "height": 17
        },
        "id": "lyH7R7iuslu8",
        "outputId": "9de41c41-1928-4392-b815-a0bc06998a48"
      },
      "outputs": [
        {
          "data": {
            "text/html": [
              "\n",
              "  <Style>\n",
              "    pre {\n",
              "        white-space: pre-wrap;\n",
              "    }\n",
              "  </Style>\n",
              "  "
            ],
            "text/plain": [
              "<IPython.core.display.HTML object>"
            ]
          },
          "metadata": {},
          "output_type": "display_data"
        }
      ],
      "source": [
        "scores = start_probabilities[:, None] * end_probabilities[None, :]"
      ]
    },
    {
      "cell_type": "markdown",
      "metadata": {
        "id": "LmCnitmosoOS"
      },
      "source": [
        "Then we’ll mask the values where ``start_index > end_index`` by setting them to $0$ (the other probabilities are all positive numbers). The ``torch.triu()`` function returns the upper triangular part of the 2D tensor passed as an argument, so it will do that masking for us:"
      ]
    },
    {
      "cell_type": "code",
      "execution_count": null,
      "metadata": {
        "colab": {
          "base_uri": "https://localhost:8080/",
          "height": 17
        },
        "id": "XsmRY8ADsqZn",
        "outputId": "111de240-045f-450a-d779-7becbb9ac788"
      },
      "outputs": [
        {
          "data": {
            "text/html": [
              "\n",
              "  <Style>\n",
              "    pre {\n",
              "        white-space: pre-wrap;\n",
              "    }\n",
              "  </Style>\n",
              "  "
            ],
            "text/plain": [
              "<IPython.core.display.HTML object>"
            ]
          },
          "metadata": {},
          "output_type": "display_data"
        }
      ],
      "source": [
        "scores = torch.triu(scores)"
      ]
    },
    {
      "cell_type": "markdown",
      "metadata": {
        "id": "chWG_oqcstEM"
      },
      "source": [
        "Now we just have to get the index of the maximum. Since PyTorch will return the index in the flattened tensor, we need to use the floor division ``//`` and modulus ``%`` operations to get the ``start_index`` and ``end_index``:"
      ]
    },
    {
      "cell_type": "code",
      "execution_count": null,
      "metadata": {
        "colab": {
          "base_uri": "https://localhost:8080/",
          "height": 34
        },
        "id": "6Jf76P-Usuyn",
        "outputId": "897680f3-96c1-4dad-cffa-356d548c5d7c"
      },
      "outputs": [
        {
          "data": {
            "text/html": [
              "\n",
              "  <Style>\n",
              "    pre {\n",
              "        white-space: pre-wrap;\n",
              "    }\n",
              "  </Style>\n",
              "  "
            ],
            "text/plain": [
              "<IPython.core.display.HTML object>"
            ]
          },
          "metadata": {},
          "output_type": "display_data"
        },
        {
          "name": "stdout",
          "output_type": "stream",
          "text": [
            "tensor(0.9917, grad_fn=<SelectBackward0>)\n"
          ]
        }
      ],
      "source": [
        "max_index = scores.argmax().item()\n",
        "start_index = max_index // scores.shape[1]\n",
        "end_index = max_index % scores.shape[1]\n",
        "print(scores[start_index, end_index])"
      ]
    },
    {
      "cell_type": "markdown",
      "metadata": {
        "id": "dWvDPHEas9PI"
      },
      "source": [
        "###### **Exercise 2.3**\n",
        "\n",
        "Compute the start and end indices for the **five** most likely answers."
      ]
    },
    {
      "cell_type": "code",
      "execution_count": null,
      "metadata": {
        "colab": {
          "base_uri": "https://localhost:8080/",
          "height": 34
        },
        "id": "AAFL_86J14J7",
        "outputId": "33bf33db-329c-4f6b-8620-6ba7bf052ad6"
      },
      "outputs": [
        {
          "data": {
            "text/html": [
              "\n",
              "  <Style>\n",
              "    pre {\n",
              "        white-space: pre-wrap;\n",
              "    }\n",
              "  </Style>\n",
              "  "
            ],
            "text/plain": [
              "<IPython.core.display.HTML object>"
            ]
          },
          "metadata": {},
          "output_type": "display_data"
        },
        {
          "data": {
            "text/plain": [
              "[(57, 59), (57, 60), (53, 59), (57, 76), (12, 59)]"
            ]
          },
          "execution_count": 22,
          "metadata": {},
          "output_type": "execute_result"
        }
      ],
      "source": [
        "# <SOL>\n",
        "\n",
        "# </SOL>"
      ]
    },
    {
      "cell_type": "markdown",
      "metadata": {
        "id": "k3P4pxtEs8XH"
      },
      "source": [
        "We have the ``start_index`` and ``end_index`` of the answer in **terms of tokens**, so now we just need to convert them to the character indices in the context. However, due to the tokenization process, less frequent words may get split into subword units (as is the case for our tokenizer). We can easily deal with this through the tokenizer option ``return_offsets_mapping``. This will add a new key in the tokenizer's output, namely the ``offset_mapping`` which, **for each sub-token returned by the tokenizer**, gives us a **tuple indicating the sub-token's start position and end position** relative to the original token it was split from. Then, if we have the character offsets in the original text, we can map them with the output of the tokenizer:\n",
        "\n",
        "*   the very first token ``([CLS])`` has ``(0, 0)`` because it doesn't correspond to any part of the question/answer\n",
        "*   the second token returned by the tokenizer is the same as the characters $0$ to $4$ of the question\n",
        "*   ...\n"
      ]
    },
    {
      "cell_type": "code",
      "execution_count": null,
      "metadata": {
        "colab": {
          "base_uri": "https://localhost:8080/",
          "height": 34
        },
        "id": "XtOy6fnjsxBT",
        "outputId": "4d55d567-06be-48f3-e567-fa1e9072fc0b"
      },
      "outputs": [
        {
          "data": {
            "text/html": [
              "\n",
              "  <Style>\n",
              "    pre {\n",
              "        white-space: pre-wrap;\n",
              "    }\n",
              "  </Style>\n",
              "  "
            ],
            "text/plain": [
              "<IPython.core.display.HTML object>"
            ]
          },
          "metadata": {},
          "output_type": "display_data"
        },
        {
          "name": "stdout",
          "output_type": "stream",
          "text": [
            "[(0, 0), (0, 4), (5, 8), (9, 12), (13, 15), (15, 18), (18, 19), (20, 24), (25, 27), (28, 33)]\n"
          ]
        }
      ],
      "source": [
        "inputs_with_offsets = tokenizer(question1, context1, return_offsets_mapping=True)\n",
        "offsets = inputs_with_offsets[\"offset_mapping\"]\n",
        "\n",
        "print(offsets[0:10])"
      ]
    },
    {
      "cell_type": "markdown",
      "metadata": {
        "id": "i0XQbKCXn7DS"
      },
      "source": [
        "Finally, with the offsets we can find the start and end indices in the original context and get the answer based on them:"
      ]
    },
    {
      "cell_type": "code",
      "execution_count": null,
      "metadata": {
        "colab": {
          "base_uri": "https://localhost:8080/",
          "height": 34
        },
        "id": "ydvW-7Io__Gu",
        "outputId": "e69e8a15-0a90-462a-f1b6-7e4f7051b1e9"
      },
      "outputs": [
        {
          "data": {
            "text/html": [
              "\n",
              "  <Style>\n",
              "    pre {\n",
              "        white-space: pre-wrap;\n",
              "    }\n",
              "  </Style>\n",
              "  "
            ],
            "text/plain": [
              "<IPython.core.display.HTML object>"
            ]
          },
          "metadata": {},
          "output_type": "display_data"
        },
        {
          "name": "stdout",
          "output_type": "stream",
          "text": [
            "{'answer': 'Tiberius', 'start': 130, 'end': 138, 'score': tensor(0.9917, grad_fn=<SelectBackward0>)}\n"
          ]
        }
      ],
      "source": [
        "start_char, _ = offsets[start_index] # start_char is the start index in the original context1\n",
        "_, end_char = offsets[end_index] # end_char is the end index in the original context1\n",
        "answer = context1[start_char:end_char]\n",
        "\n",
        "result = {\n",
        "    \"answer\": answer,\n",
        "    \"start\": start_char,\n",
        "    \"end\": end_char,\n",
        "    \"score\": scores[start_index, end_index],\n",
        "}\n",
        "print(result)"
      ]
    },
    {
      "cell_type": "markdown",
      "metadata": {
        "id": "S_rsBt7t1ovJ"
      },
      "source": [
        "### <font color='#2B4865'>*2.2. Fine-tuning*</font>"
      ]
    },
    {
      "cell_type": "markdown",
      "metadata": {
        "id": "zExYk8-Kx9EJ"
      },
      "source": [
        "Here we will be fine-tuning a pre-trained DistilBERT model on the TyDi QA dataset. In particular, we will be using the same checkpoint that we used for the inference task (``distilbert-base-cased-distilled-squad``)."
      ]
    },
    {
      "cell_type": "markdown",
      "metadata": {
        "id": "sD3k4awb1XXb"
      },
      "source": [
        "#### <font color='#2B4865'>*2.2.1. Loading in the dataset*</font>"
      ]
    },
    {
      "cell_type": "markdown",
      "metadata": {
        "id": "XkGnCF-MSiRf"
      },
      "source": [
        "Let's start by loading the [TyDi QA dataset from the Hub](https://huggingface.co/datasets/tydiqa). If you check the documentation, you will see that the dataset provides two types of tasks (primary and secondary). Yet, here we will only be making use of the primary task, since as the authors stated \"*these are a fuller and more robust representative of information-seeking question answering*\". Once we have the dataset, we will keep only English samples."
      ]
    },
    {
      "cell_type": "markdown",
      "metadata": {
        "id": "rf_obd90TgfO"
      },
      "source": [
        "###### **Exercise 2.4**\n",
        "\n",
        "Download the TyDi QA dataset for the primary tasks from the Hub. Save the ``DatasetDict`` object in a variable named ``tydiqa_dataset``.\n",
        "\n",
        "**Hint:** Make use of the parameter ``task`` to specify for which tasks we are going to prepare the dataset:\n",
        "\n",
        "From the docs: [``datasets.load_dataset``](https://huggingface.co/docs/datasets/v2.15.0/en/package_reference/loading_methods#datasets.load_dataset)\n",
        "\n",
        "* **Parameters**\n",
        "  * ``path (str)`` — Path or name of the dataset. Depending on path, the dataset builder that is used comes from a generic dataset script (JSON, CSV, Parquet, text etc.) or from the dataset script (a python file) inside the dataset directory. -> The one we have been using until now.\n",
        "  * ``task (str)`` — The task to prepare the dataset for during training and evaluation. Casts the dataset’s Features to standardized column names and types as detailed in datasets.tasks.\n"
      ]
    },
    {
      "cell_type": "code",
      "execution_count": null,
      "metadata": {
        "colab": {
          "base_uri": "https://localhost:8080/",
          "height": 191
        },
        "id": "vQVDwKZjqjV6",
        "outputId": "adbd894c-ae6f-4e31-97d2-05f7d49f4519"
      },
      "outputs": [
        {
          "data": {
            "text/html": [
              "\n",
              "  <Style>\n",
              "    pre {\n",
              "        white-space: pre-wrap;\n",
              "    }\n",
              "  </Style>\n",
              "  "
            ],
            "text/plain": [
              "<IPython.core.display.HTML object>"
            ]
          },
          "metadata": {},
          "output_type": "display_data"
        },
        {
          "data": {
            "text/plain": [
              "DatasetDict({\n",
              "    train: Dataset({\n",
              "        features: ['passage_answer_candidates', 'question_text', 'document_title', 'language', 'annotations', 'document_plaintext', 'document_url'],\n",
              "        num_rows: 166916\n",
              "    })\n",
              "    validation: Dataset({\n",
              "        features: ['passage_answer_candidates', 'question_text', 'document_title', 'language', 'annotations', 'document_plaintext', 'document_url'],\n",
              "        num_rows: 18670\n",
              "    })\n",
              "})"
            ]
          },
          "execution_count": 70,
          "metadata": {},
          "output_type": "execute_result"
        }
      ],
      "source": [
        "# <SOL>\n",
        "\n",
        "# <SOL>\n",
        "\n",
        "tydiqa_dataset"
      ]
    },
    {
      "cell_type": "markdown",
      "metadata": {
        "id": "gS4ZEHEhqicU"
      },
      "source": [
        "For the purpose of this example, we exclusively focus on English samples by filtering out any non-English ones:"
      ]
    },
    {
      "cell_type": "code",
      "execution_count": null,
      "metadata": {
        "colab": {
          "base_uri": "https://localhost:8080/",
          "height": 208
        },
        "id": "N6M6XnkiARct",
        "outputId": "bd28febb-fa11-4b43-c366-36f84064bde2"
      },
      "outputs": [
        {
          "data": {
            "text/html": [
              "\n",
              "  <Style>\n",
              "    pre {\n",
              "        white-space: pre-wrap;\n",
              "    }\n",
              "  </Style>\n",
              "  "
            ],
            "text/plain": [
              "<IPython.core.display.HTML object>"
            ]
          },
          "metadata": {},
          "output_type": "display_data"
        },
        {
          "name": "stdout",
          "output_type": "stream",
          "text": [
            "\n"
          ]
        },
        {
          "data": {
            "text/plain": [
              "DatasetDict({\n",
              "    train: Dataset({\n",
              "        features: ['passage_answer_candidates', 'question_text', 'document_title', 'language', 'annotations', 'document_plaintext', 'document_url'],\n",
              "        num_rows: 9211\n",
              "    })\n",
              "    validation: Dataset({\n",
              "        features: ['passage_answer_candidates', 'question_text', 'document_title', 'language', 'annotations', 'document_plaintext', 'document_url'],\n",
              "        num_rows: 1031\n",
              "    })\n",
              "})"
            ]
          },
          "execution_count": 71,
          "metadata": {},
          "output_type": "execute_result"
        }
      ],
      "source": [
        "# We filter out non-English samples\n",
        "tydiqa_dataset = tydiqa_dataset.filter(lambda example: example['language'] == 'english')\n",
        "print()\n",
        "\n",
        "tydiqa_dataset"
      ]
    },
    {
      "cell_type": "markdown",
      "metadata": {
        "id": "2xRO1yIkvpUt"
      },
      "source": [
        "As you can see, this dataset consists of:\n",
        "\n",
        "*   ``passage_answer_candidates`` for the Passage selection task, that we are not going to use\n",
        "*   questions (``question_text``)\n",
        "*   contexts (``document_plaintext``)\n",
        "*   information related to the oringal document the context comes (``document_title``, ``language``, and ``document_url``)\n",
        "*   and a dictionary accessible through the ``annotations`` key containing:\n",
        "  * the index of the passage index candidate (``passage_answer_candidate_index``)    \n",
        "  * the point to the start and end position of the answer inside the context (``minimal_answers_start_byte`` and ``minimal_answers_end_byte``). If the question is a \"yes/no\" answer or unanswerable, the former indexes will be equal to ``-1``.\n",
        "  * whether the question has a \"yes/no\" answer (``yes_no_answer``)"
      ]
    },
    {
      "cell_type": "markdown",
      "metadata": {
        "id": "2puCxO90q1xG"
      },
      "source": [
        "Prior to moving forward, we eliminate the ``passage_answer_candidates`` as it won't be utilized in subsequent steps:"
      ]
    },
    {
      "cell_type": "code",
      "execution_count": null,
      "metadata": {
        "colab": {
          "base_uri": "https://localhost:8080/",
          "height": 17
        },
        "id": "_wz_yaM0Z-4C",
        "outputId": "93478be6-ccfc-4879-ac9c-5698326c092a"
      },
      "outputs": [
        {
          "data": {
            "text/html": [
              "\n",
              "  <Style>\n",
              "    pre {\n",
              "        white-space: pre-wrap;\n",
              "    }\n",
              "  </Style>\n",
              "  "
            ],
            "text/plain": [
              "<IPython.core.display.HTML object>"
            ]
          },
          "metadata": {},
          "output_type": "display_data"
        }
      ],
      "source": [
        "tydiqa_dataset =  tydiqa_dataset.remove_columns([\"passage_answer_candidates\"])"
      ]
    },
    {
      "cell_type": "markdown",
      "metadata": {
        "id": "uwOf2UhqBBxD"
      },
      "source": [
        "###### **Exercise 2.5**\n",
        "\n",
        "\n",
        "To have easier access to each of the features in the dataset, let's transform its current nested structure of several types into separate columns using the ``Dataset.flatten()`` method.\n",
        "\n",
        "Once you have the flattened dataset, complete the code in the cell below to display an example's Question, Context, and True answer. Truncate the context to 512 words.\n",
        "\n"
      ]
    },
    {
      "cell_type": "code",
      "execution_count": null,
      "metadata": {
        "colab": {
          "base_uri": "https://localhost:8080/",
          "height": 225
        },
        "id": "LpyAgWz1BWwi",
        "outputId": "4a4d98c0-672d-41a8-95dc-0f31970370d4"
      },
      "outputs": [
        {
          "data": {
            "text/html": [
              "\n",
              "  <Style>\n",
              "    pre {\n",
              "        white-space: pre-wrap;\n",
              "    }\n",
              "  </Style>\n",
              "  "
            ],
            "text/plain": [
              "<IPython.core.display.HTML object>"
            ]
          },
          "metadata": {},
          "output_type": "display_data"
        },
        {
          "data": {
            "text/plain": [
              "DatasetDict({\n",
              "    train: Dataset({\n",
              "        features: ['question_text', 'document_title', 'language', 'annotations.passage_answer_candidate_index', 'annotations.minimal_answers_start_byte', 'annotations.minimal_answers_end_byte', 'annotations.yes_no_answer', 'document_plaintext', 'document_url'],\n",
              "        num_rows: 9211\n",
              "    })\n",
              "    validation: Dataset({\n",
              "        features: ['question_text', 'document_title', 'language', 'annotations.passage_answer_candidate_index', 'annotations.minimal_answers_start_byte', 'annotations.minimal_answers_end_byte', 'annotations.yes_no_answer', 'document_plaintext', 'document_url'],\n",
              "        num_rows: 1031\n",
              "    })\n",
              "})"
            ]
          },
          "execution_count": 73,
          "metadata": {},
          "output_type": "execute_result"
        }
      ],
      "source": [
        "tydiqa_dataset = # TODO: flatten the dataset\n",
        "tydiqa_dataset"
      ]
    },
    {
      "cell_type": "code",
      "execution_count": null,
      "metadata": {
        "colab": {
          "base_uri": "https://localhost:8080/",
          "height": 208
        },
        "id": "KNVpW6lADk92",
        "outputId": "e5e6406b-5f6a-4c16-d7db-7a26acf21a19"
      },
      "outputs": [
        {
          "data": {
            "text/html": [
              "\n",
              "  <Style>\n",
              "    pre {\n",
              "        white-space: pre-wrap;\n",
              "    }\n",
              "  </Style>\n",
              "  "
            ],
            "text/plain": [
              "<IPython.core.display.HTML object>"
            ]
          },
          "metadata": {},
          "output_type": "display_data"
        },
        {
          "name": "stdout",
          "output_type": "stream",
          "text": [
            "\u001b[38;5;12m\u001b[1mQuestion: \u001b[0mWhat is the most used language in Europe?\n",
            "\u001b[38;5;10m\u001b[1m\n",
            "Context (truncated): \u001b[0m\n",
            "\n",
            "\n",
            "The languages of the European Union are languages used by people within the member states of the European Union (EU).\n",
            "The EU has 24 official languages, of which three (English, French and German) have the higher status of \"procedural\" languages[4] of the European Commission (whereas the European Parliament accepts all official languages as working languages[5]). One language (Irish) previously had the lower status of \"treaty language\" before being upgraded to an official and working language in 2007, alt...\n",
            "\u001b[38;5;9m\u001b[1m\n",
            "Answer: \u001b[0mEnglish\n"
          ]
        }
      ],
      "source": [
        "idx = 500\n",
        "\n",
        "start_index = # TODO: Get start index of the answer in the context\n",
        "\n",
        "end_index = # TODO: Get end index of the answer in the context\n",
        "\n",
        "question = # TODO: Get question\n",
        "\n",
        "context = # TODO: Get truncated context\n",
        "\n",
        "answer = # TODO: Get true answer\n",
        "\n",
        "print(Fore.LIGHT_BLUE + Style.BOLD + 'Question: ' + Style.RESET + question)\n",
        "print(Fore.LIGHT_GREEN + Style.BOLD + '\\nContext (truncated): ' + Style.RESET + context + '...')\n",
        "print(Fore.LIGHT_RED + Style.BOLD + '\\nAnswer: ' + Style.RESET  + answer)"
      ]
    },
    {
      "cell_type": "markdown",
      "metadata": {
        "id": "hHA0Ie6mfiLy"
      },
      "source": [
        "BeFore starting with the preprocessing, we will create a test subset from the validation one so we have one set for testing that has not been seen during the training of the model. Also, to make the training faster, we will extract a subset from each of the latter."
      ]
    },
    {
      "cell_type": "markdown",
      "metadata": {
        "id": "LtJQeSAuJocE"
      },
      "source": [
        "###### **Exercise 2.6**\n",
        "To generate the final dataset that we are going to use, perform the following steps:\n",
        "\n",
        "1.   Split the validation subset with an $80/20$ ratio\n",
        "2.   Select the first $3000$ entries from the original train set as the final train set.\n",
        "3.   Assign as test and validation subsets the result of splitting the original validation subset: The first $800$ samples of the resulting training subset after the train_test_split will be the final validation set, and the first $200$ of the test subset, the final test set."
      ]
    },
    {
      "cell_type": "code",
      "execution_count": null,
      "metadata": {
        "colab": {
          "base_uri": "https://localhost:8080/",
          "height": 312
        },
        "id": "5tNXT_aGe4fv",
        "outputId": "bbe4b18f-bf9e-479b-9ad0-a1ad10e998d4"
      },
      "outputs": [
        {
          "data": {
            "text/html": [
              "\n",
              "  <Style>\n",
              "    pre {\n",
              "        white-space: pre-wrap;\n",
              "    }\n",
              "  </Style>\n",
              "  "
            ],
            "text/plain": [
              "<IPython.core.display.HTML object>"
            ]
          },
          "metadata": {},
          "output_type": "display_data"
        },
        {
          "data": {
            "text/plain": [
              "DatasetDict({\n",
              "    train: Dataset({\n",
              "        features: ['question_text', 'document_title', 'language', 'annotations.passage_answer_candidate_index', 'annotations.minimal_answers_start_byte', 'annotations.minimal_answers_end_byte', 'annotations.yes_no_answer', 'document_plaintext', 'document_url'],\n",
              "        num_rows: 3000\n",
              "    })\n",
              "    val: Dataset({\n",
              "        features: ['question_text', 'document_title', 'language', 'annotations.passage_answer_candidate_index', 'annotations.minimal_answers_start_byte', 'annotations.minimal_answers_end_byte', 'annotations.yes_no_answer', 'document_plaintext', 'document_url'],\n",
              "        num_rows: 800\n",
              "    })\n",
              "    test: Dataset({\n",
              "        features: ['question_text', 'document_title', 'language', 'annotations.passage_answer_candidate_index', 'annotations.minimal_answers_start_byte', 'annotations.minimal_answers_end_byte', 'annotations.yes_no_answer', 'document_plaintext', 'document_url'],\n",
              "        num_rows: 200\n",
              "    })\n",
              "})"
            ]
          },
          "execution_count": 75,
          "metadata": {},
          "output_type": "execute_result"
        }
      ],
      "source": [
        "# <SOL>\n",
        "\n",
        "# <SOL>\n",
        "tydiqa_dataset"
      ]
    },
    {
      "cell_type": "markdown",
      "metadata": {
        "id": "DKMtFdJFi5Vs"
      },
      "source": [
        "#### <font color='#2B4865'>*2.2.2. Dataset preprocessing*</font>"
      ]
    },
    {
      "cell_type": "markdown",
      "metadata": {
        "id": "Z-lZgDTEYm74"
      },
      "source": [
        "Let's first convert the text in the input into IDs the model can make sense of, using a tokenizer."
      ]
    },
    {
      "cell_type": "code",
      "execution_count": null,
      "metadata": {
        "colab": {
          "base_uri": "https://localhost:8080/",
          "height": 17
        },
        "id": "LInV3b_HyAIF",
        "outputId": "27b63160-0035-460e-e37d-42b6ab8a2408"
      },
      "outputs": [
        {
          "data": {
            "text/html": [
              "\n",
              "  <Style>\n",
              "    pre {\n",
              "        white-space: pre-wrap;\n",
              "    }\n",
              "  </Style>\n",
              "  "
            ],
            "text/plain": [
              "<IPython.core.display.HTML object>"
            ]
          },
          "metadata": {},
          "output_type": "display_data"
        }
      ],
      "source": [
        "from transformers import AutoTokenizer\n",
        "\n",
        "tokenizer = AutoTokenizer.from_pretrained(checkpoint_name)"
      ]
    },
    {
      "cell_type": "markdown",
      "metadata": {
        "id": "_J0s3sjkkdy2"
      },
      "source": [
        "We know from the previous subsection that our tokenizer expects **padding on the right**, so to tokenize our data we will input first the question and then the context, getting something as follows:\n",
        "\n",
        "```\n",
        "[CLS] question [SEP] context [SEP]\n",
        "```\n",
        "\n",
        "The **labels** will then be the **index of the tokens starting and ending the answer**, and the model will be tasked to predict **one start and end logit** per token in the input, with the theoretical labels being as follow:\n",
        "\n",
        "<br><center><img src=\"https://drive.google.com/uc?id=1KHPILmRPTp_i4WaksmepLsFAvg8beBL_\" width=\"60%\"></center><br>"
      ]
    },
    {
      "cell_type": "markdown",
      "metadata": {
        "id": "zotc4WZwf_un"
      },
      "source": [
        "Below is the ``preprocess_dataset`` function for the extractive question-answering task. When calling the tokenizer, note the following:\n",
        "\n",
        "* Tokenization truncates only the context; specify this with ``truncation=\"only_first\"`` or ``truncation=\"only_second\"`` based on where padding is expected.\n",
        "* Padding is set to the model's maximum supported length.\n",
        "* Set ``return_offsets_mapping``to True so we can map each sub-token's start position and end position relative to the original token it was split from.\n",
        "\n",
        "After tokenization, we remove the text features that are in the dataset."
      ]
    },
    {
      "cell_type": "code",
      "execution_count": null,
      "metadata": {
        "colab": {
          "base_uri": "https://localhost:8080/",
          "height": 17
        },
        "id": "SQ0gGQ2auBs7",
        "outputId": "18d26510-a2c2-402e-92a1-d73db6cae28e"
      },
      "outputs": [
        {
          "data": {
            "text/html": [
              "\n",
              "  <Style>\n",
              "    pre {\n",
              "        white-space: pre-wrap;\n",
              "    }\n",
              "  </Style>\n",
              "  "
            ],
            "text/plain": [
              "<IPython.core.display.HTML object>"
            ]
          },
          "metadata": {},
          "output_type": "display_data"
        }
      ],
      "source": [
        "def preprocess_dataset(examples):\n",
        "\n",
        "    # Carry out tokenization\n",
        "    questions = [q.strip() for q in examples[\"question_text\"]]\n",
        "    inputs = tokenizer(\n",
        "        questions,\n",
        "        examples[\"document_plaintext\"],\n",
        "        max_length=384,\n",
        "        truncation=\"only_second\",\n",
        "        return_offsets_mapping=True,\n",
        "        padding=\"max_length\",\n",
        "    )\n",
        "\n",
        "    # Extract offset mappings from the inputs\n",
        "    offset_mapping = inputs.pop(\"offset_mapping\")\n",
        "\n",
        "    # Lists to store start and end positions for each example\n",
        "    start_positions = []\n",
        "    end_positions = []\n",
        "\n",
        "    # Iterate over examples in the batch and their corresponding offset mappings\n",
        "    for i, offset in enumerate(offset_mapping):\n",
        "\n",
        "        # Extract the start and end character positions of the minimal answer\n",
        "        start_char = examples[\"annotations.minimal_answers_start_byte\"][i][0]\n",
        "        end_char = examples['annotations.minimal_answers_end_byte'][i][0]\n",
        "        answer = examples[\"document_plaintext\"][i][start_char:end_char]\n",
        "\n",
        "        # Get sequence_ids for the current example\n",
        "        sequence_ids = inputs.sequence_ids(i)\n",
        "\n",
        "        # Find the start and end of the context\n",
        "        idx = 0\n",
        "        while sequence_ids[idx] != 1:\n",
        "            idx += 1\n",
        "        context_start = idx\n",
        "        while sequence_ids[idx] == 1:\n",
        "            idx += 1\n",
        "        context_end = idx - 1\n",
        "\n",
        "        # If the answer is not fully inside the context, label it (0, 0)\n",
        "        if offset[context_start][0] > end_char or offset[context_end][1] < start_char:\n",
        "            start_positions.append(0)\n",
        "            end_positions.append(0)\n",
        "        else:\n",
        "            # Otherwise it's the start and end token positions\n",
        "            idx = context_start\n",
        "            while idx <= context_end and offset[idx][0] <= start_char:\n",
        "                idx += 1\n",
        "            start_positions.append(idx - 1)\n",
        "\n",
        "            idx = context_end\n",
        "            while idx >= context_start and offset[idx][1] >= end_char:\n",
        "                idx -= 1\n",
        "            end_positions.append(idx + 1)\n",
        "\n",
        "    inputs[\"start_positions\"] = start_positions\n",
        "    inputs[\"end_positions\"] = end_positions\n",
        "    return inputs"
      ]
    },
    {
      "cell_type": "code",
      "execution_count": null,
      "metadata": {
        "colab": {
          "base_uri": "https://localhost:8080/",
          "height": 113,
          "referenced_widgets": [
            "93d9350383fa474ab8e483fcf26980af",
            "c6bf94550ed74e4ba957f5acd548fcf1",
            "c6bc14984204437989891c10dadf4a5b",
            "639dd3db877b463a81500557ed114cc4",
            "8b5055c5af7747c08b1cadc122512a3c",
            "e0c7724d189d468bbeead7401f5abf31",
            "80050567ed734572818838676f600f96",
            "7b359bd4b76b48ee9ed0bd707ac7aa27",
            "f719664f22c3489899183cae64a2fbaf",
            "4cc2fd9884354a0f94b44c27b2e185e8",
            "3d50f6814a7c4fe99a34090add1a8ec5",
            "6cb91697dac34e0ebd2249bad83e60f3",
            "d2f3abd3a9e948ac8506626685e01fd6",
            "af254ea0698a4b31a654296727e6a940",
            "877196f7bffd497697e3da96ca9df5a8",
            "ace83fd07e9a40059325650b905164c4",
            "69b8a4a548984453854bd51b688c61d7",
            "6856e67388814595810aff160eca9081",
            "bd0f14a200004cfeb3b4d71fcf6ca97e",
            "e5a19dd63b5f4d5f9bad5294534a4803",
            "c9a7fff03a8e4b6eb3887e7f20a49e95",
            "c189f465ae2140cdb876efb01e2504b4",
            "e03981e6a0ff4243b6d5d27c0da3f1c1",
            "99f14ecfbfc64378869c9fa91e4a6d1f",
            "d53ab39810734710a4d31c30c35b963b",
            "85586d6ae62f433f94b6acf101b133fe",
            "790d6266581b4db0af1ba53cd03c3bd6",
            "13517d0cb5044be799e81f183193a7bc",
            "562e1afc822f4c0d89a21ad74be2be4c",
            "865d3a9bc851455ea639959def320fe7",
            "6220dba6bc924f9ebf9e4484d2f8d6a8",
            "c63ce75de42848d6bc7a0b3f6be45887",
            "4405912bd1a542de99b43d9af053c060"
          ]
        },
        "id": "jNqbEYLCNUGX",
        "outputId": "3dff7c39-e36d-4bf5-8958-39014152bb66"
      },
      "outputs": [
        {
          "data": {
            "text/html": [
              "\n",
              "  <Style>\n",
              "    pre {\n",
              "        white-space: pre-wrap;\n",
              "    }\n",
              "  </Style>\n",
              "  "
            ],
            "text/plain": [
              "<IPython.core.display.HTML object>"
            ]
          },
          "metadata": {},
          "output_type": "display_data"
        },
        {
          "data": {
            "application/vnd.jupyter.widget-view+json": {
              "model_id": "93d9350383fa474ab8e483fcf26980af",
              "version_major": 2,
              "version_minor": 0
            },
            "text/plain": [
              "Map:   0%|          | 0/3000 [00:00<?, ? examples/s]"
            ]
          },
          "metadata": {},
          "output_type": "display_data"
        },
        {
          "data": {
            "application/vnd.jupyter.widget-view+json": {
              "model_id": "6cb91697dac34e0ebd2249bad83e60f3",
              "version_major": 2,
              "version_minor": 0
            },
            "text/plain": [
              "Map:   0%|          | 0/800 [00:00<?, ? examples/s]"
            ]
          },
          "metadata": {},
          "output_type": "display_data"
        },
        {
          "data": {
            "application/vnd.jupyter.widget-view+json": {
              "model_id": "e03981e6a0ff4243b6d5d27c0da3f1c1",
              "version_major": 2,
              "version_minor": 0
            },
            "text/plain": [
              "Map:   0%|          | 0/200 [00:00<?, ? examples/s]"
            ]
          },
          "metadata": {},
          "output_type": "display_data"
        }
      ],
      "source": [
        "# <SOL>\n",
        "tokenized_tydiqa_dataset = tydiqa_dataset.map(preprocess_dataset, remove_columns=tydiqa_dataset[\"train\"].column_names, batched=True)\n",
        "# </SOL>"
      ]
    },
    {
      "cell_type": "code",
      "execution_count": null,
      "metadata": {
        "colab": {
          "base_uri": "https://localhost:8080/",
          "height": 260
        },
        "id": "xKm4mLIxeO5q",
        "outputId": "e36e6267-53cc-465f-ee86-4971e0af80c7"
      },
      "outputs": [
        {
          "data": {
            "text/html": [
              "\n",
              "  <Style>\n",
              "    pre {\n",
              "        white-space: pre-wrap;\n",
              "    }\n",
              "  </Style>\n",
              "  "
            ],
            "text/plain": [
              "<IPython.core.display.HTML object>"
            ]
          },
          "metadata": {},
          "output_type": "display_data"
        },
        {
          "data": {
            "text/plain": [
              "DatasetDict({\n",
              "    train: Dataset({\n",
              "        features: ['input_ids', 'attention_mask', 'start_positions', 'end_positions'],\n",
              "        num_rows: 3000\n",
              "    })\n",
              "    val: Dataset({\n",
              "        features: ['input_ids', 'attention_mask', 'start_positions', 'end_positions'],\n",
              "        num_rows: 800\n",
              "    })\n",
              "    test: Dataset({\n",
              "        features: ['input_ids', 'attention_mask', 'start_positions', 'end_positions'],\n",
              "        num_rows: 200\n",
              "    })\n",
              "})"
            ]
          },
          "execution_count": 81,
          "metadata": {},
          "output_type": "execute_result"
        }
      ],
      "source": [
        "tokenized_tydiqa_dataset"
      ]
    },
    {
      "cell_type": "markdown",
      "metadata": {
        "id": "iqVCSOg6loSv"
      },
      "source": [
        "#### <font color='#2B4865'>*2.2.3. Fine-tuning*</font>"
      ]
    },
    {
      "cell_type": "markdown",
      "metadata": {
        "id": "JVUI0Z2XM42f"
      },
      "source": [
        "We will be using there the F1 score as a metric to evaluate our model's performance, as defined in the ``compute_f1_metrics`` function below."
      ]
    },
    {
      "cell_type": "code",
      "execution_count": null,
      "metadata": {
        "colab": {
          "base_uri": "https://localhost:8080/",
          "height": 17
        },
        "id": "Kisl-WXyM42f",
        "outputId": "2a4acff9-b3d5-4cde-f9c5-bf7872b8acfa"
      },
      "outputs": [
        {
          "data": {
            "text/html": [
              "\n",
              "  <Style>\n",
              "    pre {\n",
              "        white-space: pre-wrap;\n",
              "    }\n",
              "  </Style>\n",
              "  "
            ],
            "text/plain": [
              "<IPython.core.display.HTML object>"
            ]
          },
          "metadata": {},
          "output_type": "display_data"
        }
      ],
      "source": [
        "from sklearn.metrics import f1_score\n",
        "\n",
        "def compute_f1_metrics(pred):\n",
        "    start_labels = pred.label_ids[0]\n",
        "    start_preds = pred.predictions[0].argmax(-1)\n",
        "    end_labels = pred.label_ids[1]\n",
        "    end_preds = pred.predictions[1].argmax(-1)\n",
        "\n",
        "    f1_start = f1_score(start_labels, start_preds, average='macro')\n",
        "    f1_end = f1_score(end_labels, end_preds, average='macro')\n",
        "\n",
        "    return {\n",
        "        'f1_start': f1_start,\n",
        "        'f1_end': f1_end,\n",
        "    }"
      ]
    },
    {
      "cell_type": "markdown",
      "metadata": {
        "id": "LQqY07uamHyX"
      },
      "source": [
        "###### **Exercise 2.7**\n",
        "Carry out the fine-tuning of the model. Do not make use of dynamic padding as we have already included padding during the tokenization.\n",
        "\n",
        "Once complete, evaluate the performance of the model with the test set."
      ]
    },
    {
      "cell_type": "code",
      "execution_count": null,
      "metadata": {
        "colab": {
          "base_uri": "https://localhost:8080/",
          "height": 207
        },
        "id": "Mtd3SW2JNYqw",
        "outputId": "f267b4e1-fa78-4396-bd72-a9e3f1c92582"
      },
      "outputs": [
        {
          "data": {
            "text/html": [
              "\n",
              "  <Style>\n",
              "    pre {\n",
              "        white-space: pre-wrap;\n",
              "    }\n",
              "  </Style>\n",
              "  "
            ],
            "text/plain": [
              "<IPython.core.display.HTML object>"
            ]
          },
          "metadata": {},
          "output_type": "display_data"
        },
        {
          "name": "stderr",
          "output_type": "stream",
          "text": [
            "You're using a DistilBertTokenizerFast tokenizer. Please note that with a fast tokenizer, using the `__call__` method is faster than using a method to encode the text followed by a call to the `pad` method to get a padded encoding.\n"
          ]
        },
        {
          "data": {
            "text/html": [
              "\n",
              "    <div>\n",
              "      \n",
              "      <progress value='376' max='1880' style='width:300px; height:20px; vertical-align: middle;'></progress>\n",
              "      [ 376/1880 04:52 < 19:37, 1.28 it/s, Epoch 2/10]\n",
              "    </div>\n",
              "    <table border=\"1\" class=\"dataframe\">\n",
              "  <thead>\n",
              " <tr style=\"text-align: left;\">\n",
              "      <th>Epoch</th>\n",
              "      <th>Training Loss</th>\n",
              "      <th>Validation Loss</th>\n",
              "      <th>F1 Start</th>\n",
              "      <th>F1 End</th>\n",
              "    </tr>\n",
              "  </thead>\n",
              "  <tbody>\n",
              "    <tr>\n",
              "      <td>1</td>\n",
              "      <td>1.309100</td>\n",
              "      <td>1.351250</td>\n",
              "      <td>0.213547</td>\n",
              "      <td>0.144109</td>\n",
              "    </tr>\n",
              "    <tr>\n",
              "      <td>2</td>\n",
              "      <td>0.907000</td>\n",
              "      <td>1.355567</td>\n",
              "      <td>0.185121</td>\n",
              "      <td>0.162478</td>\n",
              "    </tr>\n",
              "  </tbody>\n",
              "</table><p>"
            ],
            "text/plain": [
              "<IPython.core.display.HTML object>"
            ]
          },
          "metadata": {},
          "output_type": "display_data"
        },
        {
          "data": {
            "text/plain": [
              "TrainOutput(global_step=376, training_loss=1.1080421691245221, metrics={'train_runtime': 293.9, 'train_samples_per_second': 102.076, 'train_steps_per_second': 6.397, 'total_flos': 587938950144000.0, 'train_loss': 1.1080421691245221, 'epoch': 2.0})"
            ]
          },
          "execution_count": 83,
          "metadata": {},
          "output_type": "execute_result"
        }
      ],
      "source": [
        "# <SOL>\n",
        "\n",
        "# </SOL>"
      ]
    },
    {
      "cell_type": "code",
      "execution_count": null,
      "metadata": {
        "colab": {
          "base_uri": "https://localhost:8080/",
          "height": 158
        },
        "id": "orKxQf5JnGY8",
        "outputId": "32641adb-a196-4021-9aef-ad999ff3e6af"
      },
      "outputs": [
        {
          "data": {
            "text/html": [
              "\n",
              "  <Style>\n",
              "    pre {\n",
              "        white-space: pre-wrap;\n",
              "    }\n",
              "  </Style>\n",
              "  "
            ],
            "text/plain": [
              "<IPython.core.display.HTML object>"
            ]
          },
          "metadata": {},
          "output_type": "display_data"
        },
        {
          "data": {
            "text/html": [
              "\n",
              "    <div>\n",
              "      \n",
              "      <progress value='13' max='13' style='width:300px; height:20px; vertical-align: middle;'></progress>\n",
              "      [13/13 00:02]\n",
              "    </div>\n",
              "    "
            ],
            "text/plain": [
              "<IPython.core.display.HTML object>"
            ]
          },
          "metadata": {},
          "output_type": "display_data"
        },
        {
          "data": {
            "text/plain": [
              "{'eval_loss': 1.3274760246276855,\n",
              " 'eval_f1_start': 0.16458530432040366,\n",
              " 'eval_f1_end': 0.18496764151716227,\n",
              " 'eval_runtime': 2.6827,\n",
              " 'eval_samples_per_second': 74.552,\n",
              " 'eval_steps_per_second': 4.846,\n",
              " 'epoch': 2.0}"
            ]
          },
          "execution_count": 84,
          "metadata": {},
          "output_type": "execute_result"
        }
      ],
      "source": [
        "trainer.evaluate(tokenized_tydiqa_dataset['test'])"
      ]
    },
    {
      "cell_type": "markdown",
      "metadata": {
        "id": "ISrMr36mmc57"
      },
      "source": [
        "#### <font color='#2B4865'>*2.2.4. Make predictions with the fine-tuned model*</font>"
      ]
    },
    {
      "cell_type": "markdown",
      "metadata": {
        "id": "c0Ykq2ipyA2v"
      },
      "source": [
        "We can now test our fine-tuned model. Let's first check how it answers the questions about the Golden Age of Comic Books:"
      ]
    },
    {
      "cell_type": "code",
      "execution_count": null,
      "metadata": {
        "colab": {
          "base_uri": "https://localhost:8080/",
          "height": 17
        },
        "id": "QVP2ksJ1O9iW",
        "outputId": "a40a02bd-21d6-4f43-b946-891cadc956d7"
      },
      "outputs": [
        {
          "data": {
            "text/html": [
              "\n",
              "  <Style>\n",
              "    pre {\n",
              "        white-space: pre-wrap;\n",
              "    }\n",
              "  </Style>\n",
              "  "
            ],
            "text/plain": [
              "<IPython.core.display.HTML object>"
            ]
          },
          "metadata": {},
          "output_type": "display_data"
        }
      ],
      "source": [
        "checkpoint = 376\n",
        "checkpoint_new = f\"{path_to_folder}/{checkpoint_name}-finetuned-tydiqa/checkpoint-{checkpoint}\" ## TODO: Update this path to the last saved checkpoint in the former cell"
      ]
    },
    {
      "cell_type": "code",
      "execution_count": null,
      "metadata": {
        "colab": {
          "base_uri": "https://localhost:8080/",
          "height": 191
        },
        "id": "ZYYyfuM0m_SU",
        "outputId": "272dd680-c2ac-48f4-aa69-69cc1eb87b55"
      },
      "outputs": [
        {
          "data": {
            "text/html": [
              "\n",
              "  <Style>\n",
              "    pre {\n",
              "        white-space: pre-wrap;\n",
              "    }\n",
              "  </Style>\n",
              "  "
            ],
            "text/plain": [
              "<IPython.core.display.HTML object>"
            ]
          },
          "metadata": {},
          "output_type": "display_data"
        },
        {
          "name": "stdout",
          "output_type": "stream",
          "text": [
            "\u001b[38;5;12m\u001b[1mQ: What popular superheroes were introduced between 1939 and 1941?\u001b[0m\n",
            "\u001b[38;5;1mA: Batman and Robin, Wonder Woman\u001b[0m\n",
            "\u001b[38;5;12m\u001b[1mQ: What superheroes were introduced between 1939 and 1941 by Detective Comics and its sister company?\u001b[0m\n",
            "\u001b[38;5;1mA: Batman and Robin, Wonder Woman\u001b[0m\n",
            "\u001b[38;5;12m\u001b[1mQ: What comic book characters were created between 1939 and 1941?\u001b[0m\n",
            "\u001b[38;5;1mA: Superman, Batman, Robin, Captain Marvel, Captain America, and Wonder Woman\u001b[0m\n",
            "\u001b[38;5;12m\u001b[1mQ: What well-known characters were created between 1939 and 1941?\u001b[0m\n",
            "\u001b[38;5;1mA: Superman, Batman, Robin, Captain Marvel, Captain America, and Wonder Woman\u001b[0m\n",
            "\u001b[38;5;12m\u001b[1mQ: What well-known superheroes were introduced between 1939 and 1941 by Detective Comics?\u001b[0m\n",
            "\u001b[38;5;1mA: Superman, Batman, Robin, Captain Marvel, Captain America, and Wonder Woman\u001b[0m\n"
          ]
        }
      ],
      "source": [
        "questions = [\"What popular superheroes were introduced between 1939 and 1941?\",\n",
        "             \"What superheroes were introduced between 1939 and 1941 by Detective Comics and its sister company?\",\n",
        "             \"What comic book characters were created between 1939 and 1941?\",\n",
        "             \"What well-known characters were created between 1939 and 1941?\",\n",
        "             \"What well-known superheroes were introduced between 1939 and 1941 by Detective Comics?\"]\n",
        "\n",
        "question_answerer = pipeline(task='question-answering', model=checkpoint_new)\n",
        "\n",
        "results = question_answerer(question=questions, context=context2)\n",
        "\n",
        "for q, r in zip(questions, results):\n",
        "  print(Fore.LIGHT_BLUE + Style.BOLD + f'Q: {q}' + Style.RESET)\n",
        "  print(Fore.RED + \"A: \" + r['answer'] + Style.RESET)"
      ]
    },
    {
      "cell_type": "markdown",
      "metadata": {
        "id": "j5PJillsyMZB"
      },
      "source": [
        "You should see an improvement in the answer in comparison to what we were obtaining before the fine-tuning."
      ]
    },
    {
      "cell_type": "markdown",
      "metadata": {
        "id": "Y2q8SA_V72c9"
      },
      "source": [
        "#### <font color='#2B4865'>*2.2.5. Some final notes about fine-tuning a Q&A system*</font>"
      ]
    },
    {
      "cell_type": "markdown",
      "metadata": {
        "id": "0_UlBv--7zFU"
      },
      "source": [
        "Though, you should note that even when we improved the performance of our Question Answering system, it still does not perform perfectly. You can test this by checking how it answers some of the questions in the test set. The main reason behind this is that we are truncating the contexts, which leads to losing the answer we are looking for on many occasions. Hugging Face does provide a better way of handling long contexts: let the long examples in our dataset give several input features, each of length shorter than the maximum length of the model. This can be achieved via the parameter ``return_overflowing_tokens=True`` and some additional configuration. If you want to know more about the topic, you can check [Hugging Face documentation about it](https://huggingface.co/course/chapter6/3b?fw=pt).\n",
        "\n",
        "You should also take into account that here we have used the F1 score as a metric to evaluate our model's performance. Yet, using this metric is just a simplification of how to deal with the evaluation, since it is based on the start and end values predicted by the model. If you want to dig deeper into other metrics that can be used for a Q&A, you can also check [this colab notebook](https://github.com/huggingface/notebooks/blob/main/examples/question_answering.ipynb) resource from the Hugging Face team."
      ]
    },
    {
      "cell_type": "markdown",
      "metadata": {
        "id": "MOJKwLtujCyb"
      },
      "source": [
        "## <font color='#2B4865'>**3. Summarization**\n",
        "---\n",
        "</font>"
      ]
    },
    {
      "cell_type": "markdown",
      "metadata": {
        "id": "MmnIWqWDsrEz"
      },
      "source": [
        "**Summarization** is the task of producing a shorter version of a document while preserving its important information. Along with translation, it is another example of a task that can be formulated as a **sequence-to-sequence** task, i.e., we can formulate it as going from one sequence to another."
      ]
    },
    {
      "cell_type": "markdown",
      "metadata": {
        "id": "Q5cvtkkRoMTE"
      },
      "source": [
        "##### <font color='#2B4865'>**Architecture for approaching the task**</font>"
      ]
    },
    {
      "cell_type": "markdown",
      "metadata": {
        "id": "aJ2etKXsEY-L"
      },
      "source": [
        "As we saw in the introductory session, there exist two types of summarization:\n",
        "* **Extractive**, when the summary consists of text extracted from the original input.\n",
        "* **Abstractive**, when the models can generate entirely new text.\n",
        "\n",
        "Accordingly, to its **sequence-to-sequence nature**, most Transformer models for summarization adopt the **encoder-decoder** architecture, although there are **some exceptions like the GPT family** of models which can also be used for summarization in few-shot settings."
      ]
    },
    {
      "cell_type": "markdown",
      "metadata": {
        "id": "uwi4s87QoSsN"
      },
      "source": [
        "##### <font color='#2B4865'>**Evaluation metrics**</font>"
      ]
    },
    {
      "cell_type": "markdown",
      "metadata": {
        "id": "YpfShPKJmHSB"
      },
      "source": [
        "In comparison to the other tasks that we have covered in this tutorial, measuring the performance of text generation tasks such as summarization or translation is not straightforward.\n",
        "\n",
        "For instance, let's imagine that we want to generate a summary for the sentence \"*I loved watching Spiderman*\". We can find multiple valid summaries, such as \"*I loved Spiderman*\" or \"*Spiderman is a great movie\"*. Due to this, attempting to measure the performance by matching the generated summary and the label is not a good solution.\n",
        "\n",
        "For summarization, one of the most commonly used metrics is the **ROUGE score** (Recall-Oriented Understudy for Gisting Evaluation). Its basic idea is to compare a generated summary against a set of reference summaries that are typically created by humans.\n",
        "\n",
        "More precisely, suppose we want to compare the following two summaries:\n",
        "```\n",
        "generated_summary = \"I absolutely loved watching Spiderman\"\n",
        "reference_summary = \"I loved watching Spiderman\"\n",
        "```\n",
        "\n",
        "One way of comparing them would be to count the number of overlapping words ($6$ here). Since this is not really refined, ROUGE alternatively computes a metric based on the precision and recall scores for the overlap\n",
        "\n",
        "The **recall** measures how much of the reference summary is captured by the generated one. If we are just comparing words, recall can be calculated as follows:\n",
        "\n",
        "$$Recall = \\frac{\\text{Number of overlapping words}}{\\text{Total number of words in reference summary}}$$\n",
        "\n",
        "\n",
        "For the above example, the recall takes a value of $4/4=1$, i.e., a perfect recall (all the words in the reference summary have been produced by the model). Still, we could have that the generated summary was \"*I really really loved watching Spiderman all night*\" which will have also a perfect recall, even though it is a much worse summary (it is verbose).  \n",
        "\n",
        "To deal with the former scenarios, we utilize the **precision** to measure how much of the generated summary was relevant as:\n",
        "\n",
        "$$Precision = \\frac{\\text{Number of overlapping words}}{\\text{Total number of words in generated summary}}$$\n",
        "\n",
        "\n",
        "Applying this to our verbose summary gives a precision of $4/8 = 0.5$, which is considerably worse than the precision of $4/5 = 0.8$ obtained by our shorter one. In practice, both precision and recall are usually computed, and then the F1-score (the harmonic mean of precision and recall) is reported."
      ]
    },
    {
      "cell_type": "markdown",
      "metadata": {
        "id": "wDoZhmGj2MPc"
      },
      "source": [
        "### <font color='#2B4865'>*3.1. Inference*</font>"
      ]
    },
    {
      "cell_type": "markdown",
      "metadata": {
        "id": "THKmG-Wu9hjh"
      },
      "source": [
        "As we have seen in the previous sections, we can perform inference on any task by means of a pipeline. For the specific case of summarization, we just need to add the task identifier ``summarization``, in addition to the checkpoint model we want to use; when the latter is not specified, the default model will be used ([``sshleifer/distilbart-cnn-12-6``](https://huggingface.co/sshleifer/distilbart-cnn-12-6))."
      ]
    },
    {
      "cell_type": "markdown",
      "metadata": {
        "id": "ib_nayXs-v07"
      },
      "source": [
        "###### **Exercise 3.1**\n",
        "\n",
        "Choose a model for English summarization [from the Hub](https://huggingface.co/models?pipeline_tag=summarization) (but different from the pipeline's default) and use it to create a summarization pipeline. Extract any text from the Wikipedia of your choice through the Wikipedia API and use the pipeline to summarize it. The task identifier for the summarization task is ``summarization``."
      ]
    },
    {
      "cell_type": "code",
      "execution_count": null,
      "metadata": {
        "id": "JYMqpPDdHZlX"
      },
      "outputs": [],
      "source": [
        "# <SOL>\n",
        "\n",
        "# </SOL>"
      ]
    },
    {
      "cell_type": "code",
      "execution_count": null,
      "metadata": {
        "colab": {
          "base_uri": "https://localhost:8080/",
          "height": 277
        },
        "id": "wK8ZOsigH5hJ",
        "outputId": "27679cf5-ad8f-4286-83a8-362ee0eee4fe"
      },
      "outputs": [
        {
          "data": {
            "text/html": [
              "\n",
              "  <Style>\n",
              "    pre {\n",
              "        white-space: pre-wrap;\n",
              "    }\n",
              "  </Style>\n",
              "  "
            ],
            "text/plain": [
              "<IPython.core.display.HTML object>"
            ]
          },
          "metadata": {},
          "output_type": "display_data"
        },
        {
          "name": "stdout",
          "output_type": "stream",
          "text": [
            "\u001b[38;5;12m\u001b[1mText to summarize:\u001b[0m\n",
            "In statistics and natural language processing, a topic model is a type of statistical model for discovering the abstract \"topics\" that occur in a collection of documents. Topic modeling is a frequently used text-mining tool for discovery of hidden semantic structures in a text body. Intuitively, given that a document is about a particular topic, one would expect particular words to appear in the document more or less frequently: \"dog\" and \"bone\" will appear more often in documents about dogs, \"cat\" and \"meow\" will appear in documents about cats, and \"the\" and \"is\" will appear approximately equally in both. A document typically concerns multiple topics in different proportions; thus, in a document that is 10% about cats and 90% about dogs, there would probably be about 9 times more dog words than cat words. The \"topics\" produced by topic modeling techniques are clusters of similar words. A topic model captures this intuition in a mathematical framework, which allows examining a set of documents and discovering, based on the statistics of the words in each, what the topics might be and what each document's balance of topics is.\n",
            "Topic models are also referred to as probabilistic topic models, which refers to statistical algorithms for discovering the latent semantic structures of an extensive text body. In the age of information, the amount of the written material we encounter each day is simply beyond our processing capacity. Topic models can help to organize and offer insights for us to understand large collections of unstructured text bodies. Originally developed as a text-mining tool, topic models have been used to detect instructive structures in data such as genetic information, images, and networks. They also have applications in other fields such as bioinformatics and computer vision.\n",
            "\n",
            "\u001b[38;5;12m\u001b[1mSummary:\u001b[0m\n",
            "In statistics and natural language processing, a topic model is a type of statistical model for discovering the abstract \"topics\" that occur in a collection of documents. Originally developed as a text-mining tool, topic models have been used to detect instructive structures in data such as genetic information, images and networks.\n"
          ]
        }
      ],
      "source": [
        "# <SOL>\n",
        "import wikipedia\n",
        "\n",
        "text_to_summarize = # TODO\n",
        "summary = # TODO\n",
        "# <SOL>\n",
        "\n",
        "print(Fore.LIGHT_BLUE + Style.BOLD + 'Text to summarize:' + Style.RESET)\n",
        "print(text_to_summarize)\n",
        "print()\n",
        "print(Fore.LIGHT_BLUE + Style.BOLD + 'Summary:' + Style.RESET)\n",
        "print(summary[0]['summary_text'])"
      ]
    },
    {
      "cell_type": "markdown",
      "metadata": {
        "id": "jVRmwqiqKju7"
      },
      "source": [
        "This works pretty well. However, if our objective is to generate summaries in a specific context, a fine-tuned model in such a context will be a better match. Let's see how to fine-tune a model for making summaries out of English news."
      ]
    },
    {
      "cell_type": "markdown",
      "metadata": {
        "id": "-8YV7co1KhNM"
      },
      "source": [
        "### <font color='#2B4865'>*3.2. Fine-tuning*</font>"
      ]
    },
    {
      "cell_type": "markdown",
      "metadata": {
        "id": "K7hm1WMvOCxH"
      },
      "source": [
        "#### <font color='#2B4865'>*3.2.1. Loading in the dataset*</font>"
      ]
    },
    {
      "cell_type": "markdown",
      "metadata": {
        "id": "MPiV-PRJOEgU"
      },
      "source": [
        "We will use the [CNN Dailymail Datasets](https://huggingface.co/datasets/cnn_dailymail) dataset to create our ad-hoc summarizer. It consists of English  news articles written by journalists at CNN and the Daily Mail."
      ]
    },
    {
      "cell_type": "markdown",
      "metadata": {
        "id": "LQFnW4CkO8MD"
      },
      "source": [
        "###### **Exercise 3.2**\n",
        "\n",
        "Download the version \"3.0.0\" from the CNN Dailymail Dataset. Save the ``DatasetDict`` object in variable named ``cnn_dataset``. To download the subset specific to the asked version, you just need to add the identifier, in this case ``3.0.0``, to the dataset loading function."
      ]
    },
    {
      "cell_type": "code",
      "execution_count": null,
      "metadata": {
        "colab": {
          "base_uri": "https://localhost:8080/",
          "height": 260
        },
        "id": "t_GuOPv7O7JZ",
        "outputId": "256acfe6-19fc-4ebf-910c-bad694ed2c76"
      },
      "outputs": [
        {
          "data": {
            "text/html": [
              "\n",
              "  <Style>\n",
              "    pre {\n",
              "        white-space: pre-wrap;\n",
              "    }\n",
              "  </Style>\n",
              "  "
            ],
            "text/plain": [
              "<IPython.core.display.HTML object>"
            ]
          },
          "metadata": {},
          "output_type": "display_data"
        },
        {
          "data": {
            "text/plain": [
              "DatasetDict({\n",
              "    train: Dataset({\n",
              "        features: ['article', 'highlights', 'id'],\n",
              "        num_rows: 287113\n",
              "    })\n",
              "    validation: Dataset({\n",
              "        features: ['article', 'highlights', 'id'],\n",
              "        num_rows: 13368\n",
              "    })\n",
              "    test: Dataset({\n",
              "        features: ['article', 'highlights', 'id'],\n",
              "        num_rows: 11490\n",
              "    })\n",
              "})"
            ]
          },
          "execution_count": 20,
          "metadata": {},
          "output_type": "execute_result"
        }
      ],
      "source": [
        "# <SOL>\n",
        "\n",
        "# </SOL>\n",
        "cnn_dataset"
      ]
    },
    {
      "cell_type": "markdown",
      "metadata": {
        "id": "7rs8wRHiSV1B"
      },
      "source": [
        "As shown, we have $287,113$, $13,368$, and $501,149,000$ article-highlight pairs for the train, validation, and test sets, respectively. Given the large volume of data, we'll choose a subset of $3,000$, $800$, and $200$ samples for the train, validation, and test sets in this notebook."
      ]
    },
    {
      "cell_type": "code",
      "execution_count": null,
      "metadata": {
        "colab": {
          "base_uri": "https://localhost:8080/",
          "height": 17
        },
        "id": "0t6W518y-5cI",
        "outputId": "b8c5093a-7f66-48d8-8b18-0c1e9a01b91a"
      },
      "outputs": [
        {
          "data": {
            "text/html": [
              "\n",
              "  <Style>\n",
              "    pre {\n",
              "        white-space: pre-wrap;\n",
              "    }\n",
              "  </Style>\n",
              "  "
            ],
            "text/plain": [
              "<IPython.core.display.HTML object>"
            ]
          },
          "metadata": {},
          "output_type": "display_data"
        }
      ],
      "source": [
        "cnn_dataset = DatasetDict({\n",
        "    \"train\": cnn_dataset[\"train\"].select(range(3000)),\n",
        "    \"val\": cnn_dataset[\"validation\"].select(range(800)),\n",
        "    \"test\": cnn_dataset[\"test\"].select(range(200)),\n",
        "})"
      ]
    },
    {
      "cell_type": "markdown",
      "metadata": {
        "id": "DhrynkmWumgS"
      },
      "source": [
        "Now, let's display a few samples to gain insight into their characteristics:"
      ]
    },
    {
      "cell_type": "code",
      "execution_count": null,
      "metadata": {
        "colab": {
          "base_uri": "https://localhost:8080/",
          "height": 1000
        },
        "id": "3Pvk5-m6j7q8",
        "outputId": "3f0b86ed-a2ab-435c-f4f6-a4827fc3423a"
      },
      "outputs": [
        {
          "data": {
            "text/html": [
              "\n",
              "  <Style>\n",
              "    pre {\n",
              "        white-space: pre-wrap;\n",
              "    }\n",
              "  </Style>\n",
              "  "
            ],
            "text/plain": [
              "<IPython.core.display.HTML object>"
            ]
          },
          "metadata": {},
          "output_type": "display_data"
        },
        {
          "name": "stdout",
          "output_type": "stream",
          "text": [
            "\u001b[38;5;12m\u001b[1m\n",
            ">> Highlights:\u001b[0m Julian E. Zelizer: The Obama presidency resembles that of Lyndon B. Johnson .\n",
            "Zelizer says both aimed high and worked skillfully with congressional leaders .\n",
            "A president can shape legislation without dictating the details, professor says .\n",
            "Zelizer: Obama has gotten big results from Congress by keeping leaders on his side .\n",
            "\u001b[38;5;2m\u001b[1m>> Article:\u001b[0m Editor's note: Julian E. Zelizer is a professor of history and public affairs at Princeton University's Woodrow Wilson School. His new book, \"Arsenal of Democracy: The Politics of National Security -- From World War II to the War on Terrorism,\" will be published this fall by Basic Books. Zelizer writes widely on current events. Julian E. Zelizer says so far the Obama presidency resembles that of Lyndon B. Johnson. PRINCETON, New Jersey (CNN) -- While pundits have compared President Obama to Franklin Delano Roosevelt, John F. Kennedy, Jimmy Carter and Ronald Reagan, less attention has been paid to another, perhaps more apt parallel -- Lyndon Baines Johnson. Sometimes the similarities are striking. Both aimed high, seeking major legislation to reshape America -- Johnson with civil rights and Medicare, Obama with health care and energy legislation. Both Johnson and Obama understood that Congress was a credit-claiming institution whose members did not like to have proposals rammed down their throats. Johnson's style of political leadership was famous. A creature of the Senate, Johnson loved to lean on legislators and intimidate them into supporting his agenda. As Senate majority leader from 1955 to 1961, Johnson had been famous for subjecting colleagues to the \"Treatment\" whereby the hulking Texan cornered a legislator in the hallway, stood eye to eye and made his arguments about a bill until he received assurances of support for particular legislation. Although Johnson slightly changed his posture once he was president, he still relied on this kind of interaction to build support. As president from November 1963 until January 1969, Johnson worked closely with the Southern committee chairmen and ranking Republicans who dominated the House and Senate. Johnson sought to achieve a delicate mix of maintaining control over deliberations -- thinking of ways to obtain what he wanted without giving the appearance of it being a presidential-led idea -- all while responding to the concerns of the chairmen. The back-and-forth deliberations with House Ways and Means Chairman Wilbur Mills over the creation of Medicare in 1965 have become the classic example of how a president can work the chamber while allowing a congressional leader into the room to shape a bill in ways with which he'll be comfortable. Johnson agreed to redesign the particulars of the legislation so that the final program would protect the fiscal integrity of Social Security (under which it was included) and contain long-run costs. Thus far, Obama has taken a similar approach with the economic stimulus and, more recently, with his budget proposal. The president outlined to Congress the basic ideas he wanted in the final product but then left to lawmakers the work of designing the details. While the downside has been that Obama relinquished control over the structure of the legislation, House and Senate Democrats have felt invested and empowered to produce what Obama's team viewed as successful results. The second similarity is that Johnson, like Obama, distanced himself from the arguments of liberals who said that conservatives did not need to be feared. Johnson was consumed by his fears of a right-wing resurgence, even after trouncing Republican Barry Goldwater in the 1964 election. Johnson constantly warned advisers that the most dangerous political force in the country as far as he was concerned was not the left on college campuses but what he called the \"reactionary element\" within the GOP, and he took this into consideration when shaping legislative proposals. With domestic policy, Johnson avoided programs that could be tagged as \"socialistic,\" and on foreign policy he worked hard to demonstrate a tough stance against communism. Recently released telephone conversations have revealed that Johnson was obsessed with the 1966 midterm elections after the 1964 election was over, realizing that historically those results were not likely to be good for the White House. Obama has been reluctant to embrace liberal arguments about an end to the Age of Reagan, courting conservative journalists such as David Brooks instead of liberal pundits such as Paul Krugman. He accepted compromises on legislation in response to moderates in both parties and agreed to a financial bailout that pleased Wall Street, not Main Street. And his administration has steered clear of explicitly nationalizing banks, a step that could be called socialist. Obama has even touched on sensitive subjects such as deficit reduction and Social Security reform, which are much more appealing to the right than left. During one important conversation, Obama told the centrist Democratic Sen. Evan Bayh of Indiana that he need not worry about his administration going too far on spending since he identified himself as a New Democrat, a reference to members of the party who in the Clinton years believed that they needed to accept some of the arguments of the conservative movement. Finally, both presidents understood the strategic importance of leveraging social movements to their political advantage. During the height of the struggles over civil rights, Johnson frequently pointed to the growing power of the grass-roots civil rights movement as he tried to pressure undecided legislators to support legislation to end public segregation and then to ensure voting rights for African-Americans. Johnson made it clear that the movement had become a potent force in American life, winning the hearts and minds of citizens, and that it could cause political trouble for his opponents. Obama has shown glimmers of a similar strategy with regard to the budget. The administration recently announced that it was trying to mobilize the \"net roots\" operation from the 2008 campaign to build pressure on wavering representatives and senators to support his plans on health care and the environment. The comparisons between Johnson and Obama likewise offer reminders about what could go wrong for the current president. After all, Johnson was a politician who looked like a transformative president in 1965 but within three years found himself to be a defeated man who withdrew from the Democratic primaries. Johnson's fears of the right, moreover, pushed him and America deeper into the deadly war in Vietnam. The social movements that LBJ used to his benefit in 1964 and 1965 turned against him as the administration plunged deeper into Vietnam, a lesson worth thinking about for the current administration. Johnson's policy of respect for committee chairmen prompted him to make compromises over social policy -- such as cuts in social spending in 1968 -- that weakened his support among the very Democrats he needed to win re-election. Johnson was never fully aware of how his greatest political skills could also become the source of his downfall. Obama's challenge is to harness the best parts of this comparison -- such as how Johnson handled Congress to produce dramatic legislative results -- without repeating the destructive characteristics that shattered Johnson's White House. The opinions expressed in this commentary are solely those of Julian E. Zelizer.\n",
            "{'----------'}\n",
            "\u001b[38;5;12m\u001b[1m\n",
            ">> Highlights:\u001b[0m Chelsea Clinton steps up her role in her mother's  campaign .\n",
            "The Clintons have always shielded their daughter from the media spotlight .\n",
            "Ex-first daughter, who soon turns 28, will campaign in Hawaii for Tuesday caucuses .\n",
            "\u001b[38;5;2m\u001b[1m>> Article:\u001b[0m WASHINGTON (CNN) -- She's faced the glare of public life since she was a girl, but Chelsea Clinton must contend with renewed press scrutiny as she increasingly assumes a role in her mother's campaign for president. Chelsea Clinton accompanies her mother to the polls on Super Tuesday in Chappaqua, New York. The former first daughter always has been off-limits to the media, especially while she was growing up in the White House. But pressure to burst this protective bubble is likely to grow as the soon-to-be 28-year-old campaigns across the country for Sen. Hillary Clinton, even heading to Hawaii -- Sen. Barack Obama's home turf. Chelsea Clinton will spend three days there to strum up last-minute votes before the state's Tuesday caucuses, said a source from her mother's campaign. In the rough-and-tumble world of politics, her parents always have been protective of her -- including most recently after a TV correspondent's comment that the Clinton campaign found inappropriate.  Watch how controversy goes with the last name » . \"Doesn't it seem as if Chelsea is being pimped out in some weird sort of way?\" MSNBC correspondent David Shuster said this month about her reputed calls to superdelegates. Clinton communications director Howard Wolfson excoriated Shuster and called his remarks \"beneath contempt\" and disgusting. The senator from New York even sent a damning letter to NBC and demanded \"appropriate action.\" \"I am a mom first and a candidate second, and I found the remark incredibly offensive,\" she said. (Shuster was suspended indefinitely for the remark, made February 7 when he was a guest host for Tucker Carlson. MSNBC said Thursday that the suspension will end February 22.) Even a fourth-grader apparently can't get through to the press-shy Chelsea Clinton. Scholastic News \"kid reporter\" Sydney Rieckhoff was in pursuit of a story as she questioned presidential candidates last month on the campaign trail in Iowa, according to The Associated Press. Approaching Chelsea Clinton, she reportedly asked, \"Do you think your dad would be a good 'first man' in the White House?\" But Clinton wasn't talking. \"I'm sorry, I don't talk to the press and that applies to you, unfortunately. Even though I think you're cute,\" she said, according to the AP. During a campaign stop at the Luckie Food Lounge in Atlanta, Georgia, in mid-January, one supporter asked Clinton to reveal something that nobody else knew about her. She responded she would love to -- if all the cameras weren't around. Clinton has proven to be an effective campaigner for her mother, according to a campaign source, saying there's a strong correlation between her visits and improved performance. At this point, the campaign has become a fight for delegates, and even narrowing a loss has a big impact, a source said. This election cycle, Clinton campaigned for her mother in California, the first state where the senator won the youth vote. A rural congressional district in Nebraska where she campaigned reportedly outperformed others in the state. Politicians protecting their children from the spotlight is hardly new. The Bushes complained when daughters Jenna and Barbara became fodder for late-night comics and media outlets. Vice President Dick Cheney also has been reticent when it comes to his daughter Mary, who had a child with her lesbian partner. During a debate with Cheney in 2004, Democratic vice presidential candidate John Edwards broached the topic, saying, \"I think the vice president and his wife love their daughter. I think they love her very much. And you can't have anything but respect for the fact that they're willing to talk about the fact that they have a gay daughter.\" Cheney responded, \"Let me simply thank the senator for the kind words he said about my family and our daughter. I appreciate that very much. ... That's it.\" But the vice president later slammed Sen. John Kerry for his remarks about Mary Cheney when asked about homosexuality during a debate with President Bush. The vice president said Kerry was \"out of line;\" wife Lynne Cheney called him \"not a good man.\" These exchanges show that as Chelsea Clinton's public persona rises, so too will questions about why she doesn't make herself available to reporters. The Clinton campaign said Chelsea Clinton is trying to reach as many people as possible and has \"appeared in dozens of venues in more than 20 states.\" But she's still not granting interviews. E-mail to a friend . CNN's Trisha Henry, Frank Sesno, Rebecca Sinderbrand and Jessica Yellin contributed to this report. Copyright 2008 CNN. All rights reserved.This material may not be published, broadcast, rewritten, or redistributed. Associated Press contributed to this report.\n",
            "{'----------'}\n",
            "\u001b[38;5;12m\u001b[1m\n",
            ">> Highlights:\u001b[0m Incest dad twice holidayed in Thailand while daughter remained in cellar .\n",
            "Austrian family terrorized by decades of incest meet for the first time .\n",
            "Josef Fritzl kept daughter imprisoned under home for 24 years, police say .\n",
            "Fritzl, who appeared in court Tuesday, has admitted guilt and faces 15 years| .\n",
            "\u001b[38;5;2m\u001b[1m>> Article:\u001b[0m AMSTETTEN, Austria (CNN)  -- Josef Fritzl, who Austrian police say has confessed to imprisoning his daughter for 24 years and fathering seven of her children, twice holidayed in Thailand while she remained trapped in a cellar below his house, according to German media reports. Josef Fritzl appeared in court after admitting raping his daughter and fathering her seven children. Germany's Bild newspaper quoted a holiday companion, identified only as Paul H, who said he and 73-year-old Fritzl traveled to Thailand together twice and spent time in each other's homes. \"He went [to Thailand] without his wife; apparently she had to look after the children. ... Once he had a very long massage from a young Thai girl at the beach. He really loved that,\" Paul H told the newspaper, which featured video of Fritzl laughing and receiving a massage in Thailand on its Web site. \"Once I saw how Josef bought an evening dress and racy lingerie for a very slim woman in Pattaya [Thailand] on the beach. He got really angry when he realized I saw him. Then he told me that he has a girlfriend on the side. The items were meant for her. He told me not to tell his wife.\"  Watch footage of Fritzl on vacation at a Thai beach resort » . The pair had also ventured to Oktoberfest. Paul H said he had visited Fritzl's house three times, the last in 2005. \"We sat out on the terrace and had a really nice evening. ... The kids were well-behaved, however; they had a great respect for their father. They were never allowed downstairs into the cellar, but we never thought anything of it,\" he told Bild. \"Now that I think of the dungeon down there, I feel really sick in the stomach.\" Paul H said Fritzl was a DIY \"genius,\" constantly extending and building on to the house. Meanwhile, family members at the center of the incest and imprisonment case have held an \"astonishing\" reunion, medical officials said. \"They met each other on Sunday morning,\" clinic director Berthold Kepplinger said Tuesday. \"And it is astonishing how easy it worked, that the children came together, and also it was astonishing how easy it happened that the grandmother and the mother came together.\" Investigators say Fritzl held his daughter, Elisabeth, captive in a cellar for 24 years. He raped her repeatedly, they say, and eventually fathered seven of her children. Elisabeth and two of her children were reunited Sunday with three of her other children and her mother, Kepplinger said Tuesday. The three children and her mother lived in the home above the cellar. Elisabeth's eldest child, 19-year-old Kerstin Fritzl, remains in hospital. A seventh child died years ago, shortly after birth. Fritzl told police he burned the infant's body in a furnace. The story of the family's imprisonment began to unravel a week ago, when Kerstin fell seriously ill with convulsions and was hospitalized. Austrian police Wednesday denied reports that they were investigating possible links between Fritzl and the unsolved murder of a woman. Franz Polzer, director of the Lower Austrian Bureau of Criminal Affairs, said Fritzl had owned an Austrian hotel near where a woman was found murdered decades ago. However, they were not investigating the incident at this stage. Meanwhile, an Austrian girl who was held prisoner in a basement for eight years said the family faced a long period of adjustment.  See how Austrians are troubled by the case » . Natascha Kampusch was 10 years old when she was kidnapped on her way to school in March 1998. She escaped from a bunker below the house of Wolfgang Priklopil in a suburb of Vienna in August 2007. Priklopil killed himself by throwing himself under a train only hours later. \"Although they are now in a secret location, I believe it might have been even better to leave them where they were, but that was probably impossible,\" she said of the Fritzl family Tuesday. \"Yes, because that was of course the environment they were used to, and now they're somewhere else. Pulling them abruptly out of this situation, without transition, to hold them and isolating them to some extent, it can't be good for them.\" Officials said Tuesday that DNA testing had confirmed Fritzl fathered the children. His DNA also was found on a letter sent to the Fritzl family that was made to look like it was from his daughter, Elisabeth, Polzer said.  See inside the 'House of horrors' » . Authorities said Fritzl sent other letters over the years, leading the family to believe that Elisabeth was a runaway who had abandoned three of her children on their doorstep. He dictated at least one of the letters to his daughter, they said. Authorities said it did not appear that Fritzl's wife, Rosemarie, knew about her husband's activities. Reports have surfaced in The Times of London and Austria's Presse that Fritzl was convicted of sexual assault in the 1960s, but there is nothing in his record to confirm this, said District Governor Hans Heinz Lenze. He added, however, that records were expunged after a certain number of years. Prosecutors were checking archives to find the information, said Gerhard Sedlacek, prosecutor for the state of Poelten. The Times of London quoted a 50-year-old neighbor who said that when he was 10, he remembered \"how we children were afraid to play near Mr. Fritzl's house because of the rumors that he had raped a woman and spent some time in jail for it.\"  Watch a report of how the case unfolded. » . Fritzl led police to the cellar Sunday. A day later, he confessed to raping his daughter, now 42, and keeping her and their children in captivity, police said. Fritzl was able to convince social service workers, friends and family that Elisabeth had run away in 1984, when she was about 18. The father, who police described as an authoritarian figure, forbade anyone from entering the cellar. In the cellar with Elisabeth were Kerstin and two sons, aged 5 and 18. E-mail to a friend . CNN's Phil Black, Nadine Schmidt and Eileen Hsieh contributed to this story.\n",
            "{'----------'}\n",
            "\u001b[38;5;12m\u001b[1m\n",
            ">> Highlights:\u001b[0m Sens. Clinton and Obama hold a unity rally in Unity, New Hampshire .\n",
            "Crowley: A \"day of togetherness that Barack Obama had wanted\"\n",
            "\"It was not entirely believable, but politics is the art of pragmatism,\" Crowley adds .\n",
            "\u001b[38;5;2m\u001b[1m>> Article:\u001b[0m UNITY, New Hampshire (CNN) -- The day began with a kiss. Sen. Hillary Clinton and Sen. Barack Obama leave Washington on Friday for a rally in New Hampshire. Sen. Barack Obama, on the tarmac at Reagan Washington National Airport, reached out to shake Sen. Hillary Clinton's hand and leaned down to kiss her cheek. It went on from there. Wearing a tie that matched her suit, he put his hand on her back, guiding the way up the plane steps. They sat side-by-side for the flight up to Manchester, New Hampshire, chatting amiably. One overheard conversation was about the plane. Clinton had used it during the primary season. They hopped on a souped-up bus for the 1½-hour ride to Unity, New Hampshire. The honorary mayor of Unity introduced the pair, admitting that he was a Republican who voted for John McCain in the primary. He didn't seem so sure about the general election. They walked onstage to the tune of \"Beautiful Day.\" Arms around each other's waists, they smiled and waved at the crowd. Every camera angle had UNITY signs, big and little, in the backdrop. She said she wants to help elect him president. He gave an ode to Hillary: \"She rocks.\"  Watch more from Unity » . One woman stood at the back, periodically yelling, \"Hillary for VP!\" A few others, older women, stubbornly held up tattered Hillary For President placards. But the vast majority cheered her, \"Thank you, Hillary!\" and him, \"Yes, we can!\" They held new signs for the new times: \"UNITY FOR CHANGE.\" As the dynamic duo glowed onstage, a Clinton staffer circulated through the press corps with word that Hillary and Bill Clinton had gone online to give the maximum contribution allowed by law to the Obama for President campaign. It was the picture-perfect day of togetherness that Barack Obama had wanted. It was not entirely believable, but politics is the art of pragmatism.\n",
            "{'----------'}\n",
            "\u001b[38;5;12m\u001b[1m\n",
            ">> Highlights:\u001b[0m NEW: Test pilot David Cooley, 49, of Palmdale, California, dies in crash .\n",
            "F-22A fighter jet crashes 35 miles northeast of Edwards AFB around 10:30 a.m.\n",
            "The one-seater jet was on a test mission when it crashed .\n",
            "At $150 million apiece, the F-22A is the most expensive Air Force fighter .\n",
            "\u001b[38;5;2m\u001b[1m>> Article:\u001b[0m WASHINGTON (CNN) -- An Air Force F-22A fighter jet crashed Wednesday near Edwards Air Force Base in California, killing the test pilot, the Air Force said. An F-22A fighter jet similar to this one crashed Wednesday during a test mission in California. The single-seater crashed about 10:30 a.m. (1:30 p.m. ET) for unknown reasons, Air Force officials said. Lockheed Martin said the test pilot, David Cooley, 49, of Palmdale, California, joined the company in 2003 and was a 21-year veteran of the U.S. Air Force. The fighter was on a test mission when it crashed about 35 miles northeast of  Edwards AFB, where it was stationed, the Air Force said in a news release. At $150 million apiece, the F-22A is the most expensive Air Force fighter. In 2004, an F-22 Raptor crashed on a training mission in the Nevada desert. The pilot ejected and was not hurt, though the jet was destroyed. The plane was designed in the 1980s to provide a stealthy method to enter Soviet air space and strike Soviet bombers if the USSR attempted a nuclear strike. Once the Cold War ended, the Air Force found a new mission for the F-22 as a long-range fighter with a sophisticated stealth design and state-of-the-art equipment that no other plane could rival. However, the rising cost of the plane and numerous design and software problems threatened the program, which was almost eliminated by Congress. In the end, the aircraft survived, and most of the problems were fixed -- except for the price tag, which forced the Air Force to buy fewer aircraft.\n",
            "{'----------'}\n"
          ]
        }
      ],
      "source": [
        "def show_samples(dataset, num_samples=2, seed=42):\n",
        "    sample = dataset[\"train\"].shuffle(seed=seed).select(range(num_samples))\n",
        "    for example in sample:\n",
        "        print(Fore.LIGHT_BLUE + Style.BOLD + '\\n>> Highlights:' + Style.RESET, example['highlights'])\n",
        "        print(Fore.GREEN + Style.BOLD + '>> Article:' + Style.RESET, example['article'])\n",
        "        print({\"-\" * 10})\n",
        "\n",
        "show_samples(cnn_dataset, num_samples=5)"
      ]
    },
    {
      "cell_type": "markdown",
      "metadata": {
        "id": "qZPEuStZ3kLM"
      },
      "source": [
        "Now that we have a training corpus, one final thing to check is the distribution of words in the articles-hightlights pairs. This is especially important for summarization tasks, where short reference summaries in the data can bias the model to only output one or two words in the generated summaries."
      ]
    },
    {
      "cell_type": "markdown",
      "metadata": {
        "id": "slCLv4qO35VF"
      },
      "source": [
        "###### **Exercise 3.3**\n",
        "\n",
        "Plot two histograms: one for the word distribution in the reviews and another one for those in the titles (summaries) in the **train** subset. Also, calculate the average number of tokens per review and summary. For easiness, convert the training dataset into a Pandas DataFrame.\n",
        "\n",
        "You can convert a ``DatasetDict`` object into a ``pandas.DataFrame`` by applying ``DatasetDict.set_format(\"pandas\")``.\n",
        "\n",
        "Once you are finished with the exercise, do not forget to restore the dataset to its original format with the ``reset_format()`` method."
      ]
    },
    {
      "cell_type": "code",
      "execution_count": null,
      "metadata": {
        "colab": {
          "base_uri": "https://localhost:8080/",
          "height": 17
        },
        "id": "QvQEAEvo5NO6",
        "outputId": "248a1d90-5c50-4640-d8ce-f7f47e5e7157"
      },
      "outputs": [
        {
          "data": {
            "text/html": [
              "\n",
              "  <Style>\n",
              "    pre {\n",
              "        white-space: pre-wrap;\n",
              "    }\n",
              "  </Style>\n",
              "  "
            ],
            "text/plain": [
              "<IPython.core.display.HTML object>"
            ]
          },
          "metadata": {},
          "output_type": "display_data"
        }
      ],
      "source": [
        "# <SOL>\n",
        "# TODO: Transform cnn_dataset into pandas DataFrame and take train subset\n",
        "\n",
        "# TODO: Tokenize train subset's documents and summaries\n",
        "\n",
        "# TODO: Save tokenized subsets in dataframe\n",
        "\n",
        "# </SOL>"
      ]
    },
    {
      "cell_type": "code",
      "execution_count": null,
      "metadata": {
        "colab": {
          "base_uri": "https://localhost:8080/",
          "height": 440
        },
        "id": "-I1OJQFZAAD4",
        "outputId": "c543bf78-ab8f-4697-b5c1-9a2fe0a148ed"
      },
      "outputs": [
        {
          "data": {
            "text/html": [
              "\n",
              "  <Style>\n",
              "    pre {\n",
              "        white-space: pre-wrap;\n",
              "    }\n",
              "  </Style>\n",
              "  "
            ],
            "text/plain": [
              "<IPython.core.display.HTML object>"
            ]
          },
          "metadata": {},
          "output_type": "display_data"
        },
        {
          "name": "stdout",
          "output_type": "stream",
          "text": [
            "Average number of tokens per review: 605.7106666666666\n",
            "Average number of tokens per summary: 43.471333333333334\n"
          ]
        },
        {
          "data": {
            "image/png": "[encoded data removed]",
            "text/plain": [
              "<Figure size 1200x400 with 2 Axes>"
            ]
          },
          "metadata": {
            "image/png": {
              "height": 388,
              "width": 1190
            }
          },
          "output_type": "display_data"
        }
      ],
      "source": [
        "# <SOL>\n",
        "# TODO: Plot histograms\n",
        "\n",
        "# </SOL>"
      ]
    },
    {
      "cell_type": "code",
      "execution_count": null,
      "metadata": {
        "colab": {
          "base_uri": "https://localhost:8080/",
          "height": 17
        },
        "id": "5WFGfg109ibc",
        "outputId": "9933b40b-c0e5-4781-8b58-47d159ac88b7"
      },
      "outputs": [
        {
          "data": {
            "text/html": [
              "\n",
              "  <Style>\n",
              "    pre {\n",
              "        white-space: pre-wrap;\n",
              "    }\n",
              "  </Style>\n",
              "  "
            ],
            "text/plain": [
              "<IPython.core.display.HTML object>"
            ]
          },
          "metadata": {},
          "output_type": "display_data"
        }
      ],
      "source": [
        "# <SOL>\n",
        "# TODO: Reset format of cnn_dataset\n",
        "\n",
        "# </SOL>"
      ]
    },
    {
      "cell_type": "markdown",
      "metadata": {
        "id": "Gg7ZSFro8Q_k"
      },
      "source": [
        "The distribution of both articles and highlights is generally well-balanced, requiring no additional processing at this stage. It's worth noting, however, that if, for instance, the highlights were heavily skewed towards 0 words, filtering out examples with very short titles may be necessary to ensure our model generates more meaningful summaries."
      ]
    },
    {
      "cell_type": "markdown",
      "metadata": {
        "id": "hYW2CgKBIqN8"
      },
      "source": [
        "Now that we have our dataset ready, it is time to look for the model. In this case, we are going to use the small version of the **T5** model.\n",
        "\n",
        "As we saw in class, in T5, every NLP task is defined in terms of a prompt prefix, such as summarise, which causes the model to adjust the output text to the prompt, thus making T5 quite versatile in the sense that solves many tasks within a single model:\n",
        "\n",
        "<br><center><img src=\"https://drive.google.com/uc?id=1OFzqv_1NCqoc_sRzwsK154XOCOIcZHG6\" width=\"60%\"></center><br>\n",
        "\n"
      ]
    },
    {
      "cell_type": "markdown",
      "metadata": {
        "id": "DYWH57OcE3E3"
      },
      "source": [
        "#### <font color='#2B4865'>*3.2.2. Dataset preprocessing*</font>"
      ]
    },
    {
      "cell_type": "markdown",
      "metadata": {
        "id": "HF_Yx3B6E8Q-"
      },
      "source": [
        "Our next task is to **tokenize and encode** our document-summary pairs. We will be using ``t5-small`` as our model checkpoint."
      ]
    },
    {
      "cell_type": "markdown",
      "metadata": {
        "id": "WqNExvHzQvPB"
      },
      "source": [
        "###### **Exercise 3.4**\n",
        "\n",
        "Load the tokenizer associated with the pretrained model checkpoint."
      ]
    },
    {
      "cell_type": "code",
      "execution_count": null,
      "metadata": {
        "colab": {
          "base_uri": "https://localhost:8080/",
          "height": 17
        },
        "id": "BK1KuP6GE-dW",
        "outputId": "9b4d9df1-56ab-4482-bfa3-c74bbcb39602"
      },
      "outputs": [
        {
          "data": {
            "text/html": [
              "\n",
              "  <Style>\n",
              "    pre {\n",
              "        white-space: pre-wrap;\n",
              "    }\n",
              "  </Style>\n",
              "  "
            ],
            "text/plain": [
              "<IPython.core.display.HTML object>"
            ]
          },
          "metadata": {},
          "output_type": "display_data"
        }
      ],
      "source": [
        "# <SOL>\n",
        "model_checkpoint = \"t5-small\"\n",
        "tokenizer = # TODO\n",
        "# </SOL>"
      ]
    },
    {
      "cell_type": "markdown",
      "metadata": {
        "id": "juynYNmPGFwW"
      },
      "source": [
        "Let’s start by testing out the T5 tokenizer on a small example:"
      ]
    },
    {
      "cell_type": "code",
      "execution_count": null,
      "metadata": {
        "colab": {
          "base_uri": "https://localhost:8080/",
          "height": 121
        },
        "id": "knlVef_1GIK0",
        "outputId": "e0992583-148e-4313-f6c0-3c1d2b2f7870"
      },
      "outputs": [
        {
          "data": {
            "text/html": [
              "\n",
              "  <Style>\n",
              "    pre {\n",
              "        white-space: pre-wrap;\n",
              "    }\n",
              "  </Style>\n",
              "  "
            ],
            "text/plain": [
              "<IPython.core.display.HTML object>"
            ]
          },
          "metadata": {},
          "output_type": "display_data"
        },
        {
          "name": "stdout",
          "output_type": "stream",
          "text": [
            "{\n",
            "    input_ids:\n",
            "        [27, 1858, 3355, 18617, 348, 55, 1]\n",
            "    attention_mask:\n",
            "        [1, 1, 1, 1, 1, 1, 1]\n",
            "}\n"
          ]
        }
      ],
      "source": [
        "inputs = tokenizer(\"I loved watching Spiderman!\")\n",
        "print_encoding(inputs)"
      ]
    },
    {
      "cell_type": "markdown",
      "metadata": {
        "id": "kP1cIIv3GKsA"
      },
      "source": [
        "As usual, we see the ``input_ids`` and ``attention_mask`` we have been dealing with until now. Let’s decode these input IDs to see the kind of tokenizer we’re utilzing:"
      ]
    },
    {
      "cell_type": "code",
      "execution_count": null,
      "metadata": {
        "colab": {
          "base_uri": "https://localhost:8080/",
          "height": 34
        },
        "id": "iOxzljCDGRPD",
        "outputId": "b8bda491-d1b4-45a2-f424-e072edb386b9"
      },
      "outputs": [
        {
          "data": {
            "text/html": [
              "\n",
              "  <Style>\n",
              "    pre {\n",
              "        white-space: pre-wrap;\n",
              "    }\n",
              "  </Style>\n",
              "  "
            ],
            "text/plain": [
              "<IPython.core.display.HTML object>"
            ]
          },
          "metadata": {},
          "output_type": "display_data"
        },
        {
          "data": {
            "text/plain": [
              "['▁I', '▁loved', '▁watching', '▁Spider', 'man', '!', '</s>']"
            ]
          },
          "execution_count": 28,
          "metadata": {},
          "output_type": "execute_result"
        }
      ],
      "source": [
        "tokenizer.convert_ids_to_tokens(inputs.input_ids)"
      ]
    },
    {
      "cell_type": "markdown",
      "metadata": {
        "id": "2ajv2N62GVav"
      },
      "source": [
        "The special Unicode character ▁ and end-of-sequence token </s> indicate that we’re dealing with the **SentencePiece tokenizer**.\n",
        "\n",
        "> **Unigram:** Subword tokenization algorithm introduced [here](https://arxiv.org/pdf/1804.10959.pdf). Instead of starting with a group of base symbols and learning merges with some rule, like BPE, it starts from a large vocabulary (for instance, all pretokenized words and the most common substrings) that it will trim down progressively.\n",
        "\n",
        "> **SentencePiece:** Tokenization algorithm that is agnostic about accents, punctuation, and the fact that many languages, like Japanese, do not have whitespace characters. It achieves this by treating the input as a raw stream, including the space in the set of characters to use and then using the unigram tokenization to construct the appropriate vocabulary. The ‘▁’ characters represent here spaces."
      ]
    },
    {
      "cell_type": "markdown",
      "metadata": {
        "id": "-gppLbBEG2Jz"
      },
      "source": [
        "To tokenize our corpus, we must contend with a summarization-related complication: because our labels are also text, they may exceed the model's maximum context size. To avoid passing extremely long inputs to our model, we must apply truncation to both the articles and their highlights. Transformers' tokenizers allow us to do this via the ``text_target`` argument, thanks to which we can tokenize the labels in parallel to the inputs."
      ]
    },
    {
      "cell_type": "markdown",
      "metadata": {
        "id": "lwvPbp6DmB2H"
      },
      "source": [
        "###### **Exercise 3.5**\n",
        "\n",
        "Implement the function ``preprocess_dataset`` that carries out the preprocessing of the inputs and targets for T5. Note that the variables ```max_input_length``` and ```max_target_length``` define the upper limits for how long the documents and summaries are going to be.\n",
        "\n",
        "Take into account the following for the implementation of the ``preprocess_dataset`` function:\n",
        "\n",
        "*  You need to call the tokenizer twice: once for carrying out the preprocessing of the articles (``article``) and once for that of the summaries (``highlights``).\n",
        "*  For the tokenization of the reviews:\n",
        "  * Prefix the inputs with ``\"summarize:\"``\n",
        "  * Use the options ``max_length=max_input_length`` and ``truncation=True``.\n",
        "*  For the tokenization of the summaries:\n",
        "  * Use the options ``max_length=max_target_length`` and ``truncation=True``.\n",
        "\n",
        "\n",
        "Once the preprocessing function is defined, use the ``map()`` function to apply it to the whole dataset. For doing so, use the following parameters:\n",
        "*   ```batched=True``` to operate with batches of example (of default batch size $1,000$)\n",
        "*   ```remove_columns``` to get rid of the string columns that we do not need anymore"
      ]
    },
    {
      "cell_type": "code",
      "execution_count": null,
      "metadata": {
        "colab": {
          "base_uri": "https://localhost:8080/",
          "height": 49,
          "referenced_widgets": [
            "ae2001c5bec24d55a78ebe8c524e8454",
            "8f747039ca084a529080974dffdc5d97",
            "674a8bdc92934e9bbcac12a1059be395",
            "cddf6c483b844ae0b249ddead8767eab",
            "702de1c00d434936b589bc9377212d97",
            "1bfa793ced1045e1aab4f39a015340bf",
            "79b1468b6a234c61b232ca9234e34dff",
            "6145d797ecc24708941f4eb46b4879b6",
            "d9e76c404df84dcf9736c34432ef7e66",
            "91399a6445214a9c901dcd2137dff976",
            "e0351ce4d87b499191bc6d0101d252f1"
          ]
        },
        "id": "YEluOj5xG0l0",
        "outputId": "d5215a1f-175f-42cc-8d58-22af2ebef2ee"
      },
      "outputs": [
        {
          "data": {
            "text/html": [
              "\n",
              "  <Style>\n",
              "    pre {\n",
              "        white-space: pre-wrap;\n",
              "    }\n",
              "  </Style>\n",
              "  "
            ],
            "text/plain": [
              "<IPython.core.display.HTML object>"
            ]
          },
          "metadata": {},
          "output_type": "display_data"
        },
        {
          "data": {
            "application/vnd.jupyter.widget-view+json": {
              "model_id": "ae2001c5bec24d55a78ebe8c524e8454",
              "version_major": 2,
              "version_minor": 0
            },
            "text/plain": [
              "Map:   0%|          | 0/800 [00:00<?, ? examples/s]"
            ]
          },
          "metadata": {},
          "output_type": "display_data"
        }
      ],
      "source": [
        "max_input_length = 1024\n",
        "max_target_length = 128\n",
        "\n",
        "def preprocess_dataset(examples):\n",
        "    # <SOL>\n",
        "    # TODO: Implement body\n",
        "\n",
        "    # </SOL>\n",
        "    return model_inputs\n",
        "\n",
        "# <SOL>\n",
        "# TODO: Tokenize dataset\n",
        "tokenized_cnn_dataset = cnn_dataset.map(preprocess_dataset, batched=True, remove_columns=cnn_dataset[\"train\"].column_names)\n",
        "# <SOL>"
      ]
    },
    {
      "cell_type": "code",
      "execution_count": null,
      "metadata": {
        "colab": {
          "base_uri": "https://localhost:8080/",
          "height": 260
        },
        "id": "TCzau7gU4dyC",
        "outputId": "6d53dee9-0321-4440-d656-baff16b6dc32"
      },
      "outputs": [
        {
          "data": {
            "text/html": [
              "\n",
              "  <Style>\n",
              "    pre {\n",
              "        white-space: pre-wrap;\n",
              "    }\n",
              "  </Style>\n",
              "  "
            ],
            "text/plain": [
              "<IPython.core.display.HTML object>"
            ]
          },
          "metadata": {},
          "output_type": "display_data"
        },
        {
          "data": {
            "text/plain": [
              "DatasetDict({\n",
              "    train: Dataset({\n",
              "        features: ['article', 'highlights', 'id'],\n",
              "        num_rows: 3000\n",
              "    })\n",
              "    val: Dataset({\n",
              "        features: ['article', 'highlights', 'id'],\n",
              "        num_rows: 800\n",
              "    })\n",
              "    test: Dataset({\n",
              "        features: ['article', 'highlights', 'id'],\n",
              "        num_rows: 200\n",
              "    })\n",
              "})"
            ]
          },
          "execution_count": 30,
          "metadata": {},
          "output_type": "execute_result"
        }
      ],
      "source": [
        "cnn_dataset"
      ]
    },
    {
      "cell_type": "markdown",
      "metadata": {
        "id": "woSGGbh7kNW_"
      },
      "source": [
        "#### <font color='#2B4865'>*3.2.3. Fine-tuning*</font>"
      ]
    },
    {
      "cell_type": "markdown",
      "metadata": {
        "id": "LSv0RD43oAAZ"
      },
      "source": [
        "As evaluation metrics, we are going to use the ROUGE score explained in the Summarization introduction, which is available within the ```rouge_score``` package:"
      ]
    },
    {
      "cell_type": "code",
      "execution_count": null,
      "metadata": {
        "colab": {
          "base_uri": "https://localhost:8080/",
          "height": 17
        },
        "id": "Aph58zFLoOEQ",
        "outputId": "d8d63640-b4a7-4534-d6a2-e7910a71ac96"
      },
      "outputs": [
        {
          "data": {
            "text/html": [
              "\n",
              "  <Style>\n",
              "    pre {\n",
              "        white-space: pre-wrap;\n",
              "    }\n",
              "  </Style>\n",
              "  "
            ],
            "text/plain": [
              "<IPython.core.display.HTML object>"
            ]
          },
          "metadata": {},
          "output_type": "display_data"
        }
      ],
      "source": [
        "import evaluate\n",
        "\n",
        "rouge_score = evaluate.load(\"rouge\")"
      ]
    },
    {
      "cell_type": "code",
      "execution_count": null,
      "metadata": {
        "colab": {
          "base_uri": "https://localhost:8080/",
          "height": 17
        },
        "id": "1iJBwJfIoRGY",
        "outputId": "4456a736-be7d-4798-c1a6-df77905c6e40"
      },
      "outputs": [
        {
          "data": {
            "text/html": [
              "\n",
              "  <Style>\n",
              "    pre {\n",
              "        white-space: pre-wrap;\n",
              "    }\n",
              "  </Style>\n",
              "  "
            ],
            "text/plain": [
              "<IPython.core.display.HTML object>"
            ]
          },
          "metadata": {},
          "output_type": "display_data"
        }
      ],
      "source": [
        "generated_summary = \"I absolutely loved watching Spiderman\"\n",
        "reference_summary = \"I loved watching Spiderman\""
      ]
    },
    {
      "cell_type": "code",
      "execution_count": null,
      "metadata": {
        "colab": {
          "base_uri": "https://localhost:8080/",
          "height": 86
        },
        "id": "puBJz8xooT1I",
        "outputId": "78689c71-c5b5-4f87-e933-f73dadf5742a"
      },
      "outputs": [
        {
          "data": {
            "text/html": [
              "\n",
              "  <Style>\n",
              "    pre {\n",
              "        white-space: pre-wrap;\n",
              "    }\n",
              "  </Style>\n",
              "  "
            ],
            "text/plain": [
              "<IPython.core.display.HTML object>"
            ]
          },
          "metadata": {},
          "output_type": "display_data"
        },
        {
          "data": {
            "text/plain": [
              "{'rouge1': 0.888888888888889,\n",
              " 'rouge2': 0.5714285714285715,\n",
              " 'rougeL': 0.888888888888889,\n",
              " 'rougeLsum': 0.888888888888889}"
            ]
          },
          "execution_count": 33,
          "metadata": {},
          "output_type": "execute_result"
        }
      ],
      "source": [
        "scores = rouge_score.compute(\n",
        "    predictions=[generated_summary], references=[reference_summary]\n",
        ")\n",
        "scores"
      ]
    },
    {
      "cell_type": "markdown",
      "metadata": {
        "id": "JiP6D4jdo8jP"
      },
      "source": [
        "We can see that the output is a dictionary with a variety of ROUGE scores which are based on different types of text granularity when comparing the generated and reference summaries. From these, the ```rouge1``` variant is the metric we have discussed in the introduction. ```rouge2``` measures the overlap between bigrams (pairs of words), while ```rougeL``` and ```rougeLsum``` measure the longest matching sequences of words by looking for the longest common substrings in the generated and reference summaries. The difference between the latter two comes from the fact that ```rougeLsum``` is computed over a whole summary, while ```rougeL```is the average over individual sentences."
      ]
    },
    {
      "cell_type": "markdown",
      "metadata": {
        "id": "nTFnxBKsoYs5"
      },
      "source": [
        "We are going to use these ROUGE scores to track the performance of our model, but first, we must define a strong baseline. For text summarization, it is pretty common to attain this baseline by taking the first three sentences of a baseline (the lead-3 baseline). To track the sentence boundaries, we could use full stops, but this will fail on acronyms such as U.S.A. Hence, we will use nltk's sentence tokenizer instead."
      ]
    },
    {
      "cell_type": "markdown",
      "metadata": {
        "id": "HgNAMKPepmVn"
      },
      "source": [
        "###### **Exercise 3.6**\n",
        "\n",
        "Implement the body of the function ```three_sentence_summary``` which given an example in our dataset, it returns the first three sentences in its document. Return the three found sentences joined with a  newline (```\"\\n\"```). Test it on a training example."
      ]
    },
    {
      "cell_type": "code",
      "execution_count": null,
      "metadata": {
        "colab": {
          "base_uri": "https://localhost:8080/",
          "height": 69
        },
        "id": "k2XlTg8WpsMX",
        "outputId": "5f5e7fcd-0adc-4388-e570-e653802fe653"
      },
      "outputs": [
        {
          "data": {
            "text/html": [
              "\n",
              "  <Style>\n",
              "    pre {\n",
              "        white-space: pre-wrap;\n",
              "    }\n",
              "  </Style>\n",
              "  "
            ],
            "text/plain": [
              "<IPython.core.display.HTML object>"
            ]
          },
          "metadata": {},
          "output_type": "display_data"
        },
        {
          "name": "stdout",
          "output_type": "stream",
          "text": [
            "Editor's note: In our Behind the Scenes series, CNN correspondents share their experiences in covering news and analyze the stories behind the events.\n",
            "Here, Soledad O'Brien takes users inside a jail where many of the inmates are mentally ill. An inmate housed on the \"forgotten floor,\" where many mentally ill inmates are housed in Miami before trial.\n",
            "MIAMI, Florida (CNN) -- The ninth floor of the Miami-Dade pretrial detention facility is dubbed the \"forgotten floor.\"\n"
          ]
        }
      ],
      "source": [
        "# <SOL>\n",
        "from nltk.tokenize import sent_tokenize\n",
        "\n",
        "def three_sentence_summary(text):\n",
        "    # TODO: Implement body\n",
        "    return summary\n",
        "\n",
        "print(three_sentence_summary(cnn_dataset[\"train\"][1][\"article\"]))\n",
        "# </SOL>"
      ]
    },
    {
      "cell_type": "markdown",
      "metadata": {
        "id": "Vujk07gdqu2P"
      },
      "source": [
        "###### **Exercise 3.7**\n",
        "\n",
        "Implement the body of the function ```evaluate_lead3_baseline```, which given a dataset and an instance of the metric class, computes the given metric for the three sentence summaries extracted from the dataset. Then use this function to compute the ROUGE scores over the validation set."
      ]
    },
    {
      "cell_type": "code",
      "execution_count": null,
      "metadata": {
        "colab": {
          "base_uri": "https://localhost:8080/",
          "height": 86
        },
        "id": "mtZbGtFjp4ES",
        "outputId": "3fec0d7c-3e30-43cd-cba9-5ac991f19a6d"
      },
      "outputs": [
        {
          "data": {
            "text/html": [
              "\n",
              "  <Style>\n",
              "    pre {\n",
              "        white-space: pre-wrap;\n",
              "    }\n",
              "  </Style>\n",
              "  "
            ],
            "text/plain": [
              "<IPython.core.display.HTML object>"
            ]
          },
          "metadata": {},
          "output_type": "display_data"
        },
        {
          "data": {
            "text/plain": [
              "{'rouge1': 27.587462923326456,\n",
              " 'rouge2': 10.356732932817884,\n",
              " 'rougeL': 18.638068385674504,\n",
              " 'rougeLsum': 24.66859712196244}"
            ]
          },
          "execution_count": 35,
          "metadata": {},
          "output_type": "execute_result"
        }
      ],
      "source": [
        "# <SOL>\n",
        "def evaluate_lead3_baseline(dataset, metric):\n",
        "    # TODO: Implement body\n",
        "    return score\n",
        "# </SOL>\n",
        "\n",
        "score_dict = evaluate_lead3_baseline(cnn_dataset[\"val\"], rouge_score)\n",
        "score_dict"
      ]
    },
    {
      "cell_type": "markdown",
      "metadata": {
        "id": "tjpsjo576vmd"
      },
      "source": [
        "Now that we have baseline scores to compare with, we can start with the fine-tuning of our model. Let's start by loading the pretrained model from the t5-small checkpoint."
      ]
    },
    {
      "cell_type": "markdown",
      "metadata": {
        "id": "L2U8R4gucLsZ"
      },
      "source": [
        "###### **Exercise 3.8**\n",
        "\n",
        "Load the pretrained model in a variable named ``model``. For doing so, take into account that Summarization is a **sequence-to-sequence** task when you create your AutoModel instance."
      ]
    },
    {
      "cell_type": "code",
      "execution_count": null,
      "metadata": {
        "colab": {
          "base_uri": "https://localhost:8080/",
          "height": 17
        },
        "id": "iuLXX1xoqUxh",
        "outputId": "4773ea6a-0caf-4c1f-bbae-5c158d5abee8"
      },
      "outputs": [
        {
          "data": {
            "text/html": [
              "\n",
              "  <Style>\n",
              "    pre {\n",
              "        white-space: pre-wrap;\n",
              "    }\n",
              "  </Style>\n",
              "  "
            ],
            "text/plain": [
              "<IPython.core.display.HTML object>"
            ]
          },
          "metadata": {},
          "output_type": "display_data"
        }
      ],
      "source": [
        "# <SOL>\n",
        "\n",
        "# </SOL>"
      ]
    },
    {
      "cell_type": "markdown",
      "metadata": {
        "id": "E7WE4ttucsf0"
      },
      "source": [
        "If you’re wondering why you don’t see any warnings about fine-tuning the model on a downstream task, that’s because **for sequence-to-sequence tasks we keep all the weights of the network**; this is different from what we have encountered until now, where the head of the pretrained model was replaced with a randomly initialized network."
      ]
    },
    {
      "cell_type": "markdown",
      "metadata": {
        "id": "m_73I6Ubb-E0"
      },
      "source": [
        "Fine-tuning a model for summarization is very similar to what have been doing until now for other tasks, but with a few exceptions:\n",
        "\n",
        "1. To compute the ROUGE scores, we need to generate summaries. 🤗 Transformers makes this automatically for us through two dedicated classes ``Seq2SeqTrainingArguments`` and ``Seq2SeqTrainer``. Hence, instead of instantiating objects from the classes ``TrainingArguments`` and ``Trainer``, we will use the Seq2Seq-specific ones.\n",
        "  * When using the ``Seq2SeqTrainingArguments`` class, we need to care of the following arguments:\n",
        "      * ``predict_with_generate=True`` to generate summaries during evaluation so that we can compute ROUGE scores for each epoch. The Transformer's decoder performs inference by predicting tokens one by one, and this is implemented by the model’s ``generate()`` method. Setting ``predict_with_generate=True`` tells the Seq2SeqTrainer to use that method for evaluation.\n",
        "      *   ``save_total_limit`` to limit the number of checkpoints saved during training. This is necessary since even the \"small\" version of T5 uses around a GB of hard drive space, and we can save a bit of room by limiting the number of copies we save.\n",
        "  * The usage of the ``Seq2SeqTrainer`` class is equivalent to that of the ``Trainer`` class.\n",
        "2. Since T5 is an **encoder-decoder Transformer model**, during decoding, we need to shift the labels to the right by one when preparing our batches. This is necessary to ensure that the decoder only sees the previous ground truth labels and not the current or future ones, which would be easy for the model to memorize. 🤗 Transformers provides a ``DataCollatorForSeq2Seq`` collator that will dynamically pad the inputs and the labels for us. The way we instantiate this collator is by providing the tokenizer and model. From this dynamic padding, there are two main things that we need to take into account:\n",
        "  * ``input_ids`` and ``attention_mask`` of shorter sentences get padded on the right with a [PAD] token (whose ID is 0)\n",
        "  * its associated labels are padded with $-100$s, to make sure the padding tokens are ignored by the loss function."
      ]
    },
    {
      "cell_type": "markdown",
      "metadata": {
        "id": "bRFZ3E47D_wW"
      },
      "source": [
        "Having this in mind, proceed with the following exercises to complete the fine-tuning."
      ]
    },
    {
      "cell_type": "markdown",
      "metadata": {
        "id": "6962Z05r7LBt"
      },
      "source": [
        "###### **Exercise 3.9**\n",
        "\n",
        "Implement the body of the ``compute_metrics`` function by following the provided guidelines."
      ]
    },
    {
      "cell_type": "code",
      "execution_count": null,
      "metadata": {
        "colab": {
          "base_uri": "https://localhost:8080/",
          "height": 17
        },
        "id": "X0xdRqB1q1yh",
        "outputId": "a0968cc5-e2b8-406f-cc7d-6c19fa23f7a8"
      },
      "outputs": [
        {
          "data": {
            "text/html": [
              "\n",
              "  <Style>\n",
              "    pre {\n",
              "        white-space: pre-wrap;\n",
              "    }\n",
              "  </Style>\n",
              "  "
            ],
            "text/plain": [
              "<IPython.core.display.HTML object>"
            ]
          },
          "metadata": {},
          "output_type": "display_data"
        }
      ],
      "source": [
        "def compute_metrics(eval_pred):\n",
        "    # <SOL>\n",
        "\n",
        "    preds, labels = eval_pred\n",
        "\n",
        "    decoded_preds = # TODO: Decode generated summaries of a whole batch at once into text. Skip special_tokens\n",
        "\n",
        "    labels = # TODO: Replace -100 in the labels by the \"pad_token_id\"\n",
        "\n",
        "    decoded_labels = # TODO: Decode reference summaries into text of a whole batch at once into text. Skip special_tokens\n",
        "\n",
        "    # ROUGE expects a newline after each sentence\n",
        "    decoded_preds = [\"\\n\".join(sent_tokenize(pred.strip())) for pred in decoded_preds]\n",
        "    decoded_labels = [\"\\n\".join(sent_tokenize(label.strip())) for label in decoded_labels]\n",
        "\n",
        "    score = # TODO: Compute ROUGE scores\n",
        "\n",
        "    score = {key: value * 100 for key, value in score.items()}\n",
        "\n",
        "    # <SOL>\n",
        "    return score"
      ]
    },
    {
      "cell_type": "markdown",
      "metadata": {
        "id": "vq6um4g_Xzhq"
      },
      "source": [
        "###### **Exercise 3.10**\n",
        "\n",
        "Carry out the fine-tuning. For doing so:\n",
        "\n",
        "1. Define your training arguments by creating an instance of the ``Seq2SeqTrainingArguments`` class. Utilize, **at least**, the following configuration:\n",
        "  * ``save_total_limit=3``\n",
        "  * ``predict_with_generate=True``\n",
        "  \n",
        "  Try fine-tuning other parameters (e.g., learning_rate, weight_decay, eval_steps, nr epochs etc.)\n",
        "2. Create a ``DataCollatorForSeq2Seq`` object.\n",
        "3. Create a ``Seq2SeqTrainer`` object by passing all the objects until now created (model, training_args, tokenizer, etc.) Use the compute_metrics function we defined in Exercise 3.10 for evaluating the model during training.\n",
        "4. Train and evaluate the model.\n",
        "\n",
        "Save the fine-tuned model.\n",
        "\n",
        "How are the evaluation scores of our fine-tuned model? Does it outperform our lead-3 baseline?"
      ]
    },
    {
      "cell_type": "code",
      "execution_count": null,
      "metadata": {
        "colab": {
          "base_uri": "https://localhost:8080/",
          "height": 17
        },
        "id": "W77d2UP5qmlF",
        "outputId": "bb212048-9d6e-4d7e-c9a5-3f897b7693b2"
      },
      "outputs": [
        {
          "data": {
            "text/html": [
              "\n",
              "  <Style>\n",
              "    pre {\n",
              "        white-space: pre-wrap;\n",
              "    }\n",
              "  </Style>\n",
              "  "
            ],
            "text/plain": [
              "<IPython.core.display.HTML object>"
            ]
          },
          "metadata": {},
          "output_type": "display_data"
        }
      ],
      "source": [
        "# <SOL>\n",
        "\n",
        "# TODO: Add imports\n",
        "\n",
        "training_args = # TODO\n",
        "\n",
        "trainer = # TODO"
      ]
    },
    {
      "cell_type": "code",
      "execution_count": null,
      "metadata": {
        "colab": {
          "base_uri": "https://localhost:8080/",
          "height": 412
        },
        "id": "urPCHAZBrgrS",
        "outputId": "23a305b0-7563-416f-ab76-48e805574bdd"
      },
      "outputs": [
        {
          "data": {
            "text/html": [
              "\n",
              "  <Style>\n",
              "    pre {\n",
              "        white-space: pre-wrap;\n",
              "    }\n",
              "  </Style>\n",
              "  "
            ],
            "text/plain": [
              "<IPython.core.display.HTML object>"
            ]
          },
          "metadata": {},
          "output_type": "display_data"
        },
        {
          "name": "stderr",
          "output_type": "stream",
          "text": [
            "You're using a T5TokenizerFast tokenizer. Please note that with a fast tokenizer, using the `__call__` method is faster than using a method to encode the text followed by a call to the `pad` method to get a padded encoding.\n"
          ]
        },
        {
          "data": {
            "text/html": [
              "\n",
              "    <div>\n",
              "      \n",
              "      <progress value='2250' max='6000' style='width:300px; height:20px; vertical-align: middle;'></progress>\n",
              "      [2250/6000 17:53 < 29:50, 2.09 it/s, Epoch 3/8]\n",
              "    </div>\n",
              "    <table border=\"1\" class=\"dataframe\">\n",
              "  <thead>\n",
              " <tr style=\"text-align: left;\">\n",
              "      <th>Epoch</th>\n",
              "      <th>Training Loss</th>\n",
              "      <th>Validation Loss</th>\n",
              "      <th>Rouge1</th>\n",
              "      <th>Rouge2</th>\n",
              "      <th>Rougel</th>\n",
              "      <th>Rougelsum</th>\n",
              "    </tr>\n",
              "  </thead>\n",
              "  <tbody>\n",
              "    <tr>\n",
              "      <td>1</td>\n",
              "      <td>2.032100</td>\n",
              "      <td>2.002954</td>\n",
              "      <td>24.485941</td>\n",
              "      <td>9.088702</td>\n",
              "      <td>19.785590</td>\n",
              "      <td>22.241066</td>\n",
              "    </tr>\n",
              "    <tr>\n",
              "      <td>2</td>\n",
              "      <td>1.895400</td>\n",
              "      <td>2.005943</td>\n",
              "      <td>23.814575</td>\n",
              "      <td>8.921603</td>\n",
              "      <td>19.346105</td>\n",
              "      <td>21.766360</td>\n",
              "    </tr>\n",
              "    <tr>\n",
              "      <td>3</td>\n",
              "      <td>1.863200</td>\n",
              "      <td>2.017755</td>\n",
              "      <td>24.131540</td>\n",
              "      <td>8.991544</td>\n",
              "      <td>19.556298</td>\n",
              "      <td>21.938851</td>\n",
              "    </tr>\n",
              "  </tbody>\n",
              "</table><p>"
            ],
            "text/plain": [
              "<IPython.core.display.HTML object>"
            ]
          },
          "metadata": {},
          "output_type": "display_data"
        },
        {
          "name": "stderr",
          "output_type": "stream",
          "text": [
            "/usr/local/lib/python3.10/dist-packages/transformers/generation/utils.py:1273: UserWarning: Using the model-agnostic default `max_length` (=20) to control the generation length. We recommend setting `max_new_tokens` to control the maximum length of the generation.\n",
            "  warnings.warn(\n",
            "/usr/local/lib/python3.10/dist-packages/transformers/generation/utils.py:1273: UserWarning: Using the model-agnostic default `max_length` (=20) to control the generation length. We recommend setting `max_new_tokens` to control the maximum length of the generation.\n",
            "  warnings.warn(\n",
            "/usr/local/lib/python3.10/dist-packages/transformers/generation/utils.py:1273: UserWarning: Using the model-agnostic default `max_length` (=20) to control the generation length. We recommend setting `max_new_tokens` to control the maximum length of the generation.\n",
            "  warnings.warn(\n",
            "There were missing keys in the checkpoint model loaded: ['encoder.embed_tokens.weight', 'decoder.embed_tokens.weight', 'lm_head.weight'].\n"
          ]
        },
        {
          "data": {
            "text/plain": [
              "TrainOutput(global_step=2250, training_loss=1.9319733208550347, metrics={'train_runtime': 1074.5493, 'train_samples_per_second': 22.335, 'train_steps_per_second': 5.584, 'total_flos': 2352957398188032.0, 'train_loss': 1.9319733208550347, 'epoch': 3.0})"
            ]
          },
          "execution_count": 39,
          "metadata": {},
          "output_type": "execute_result"
        }
      ],
      "source": [
        "trainer.train()"
      ]
    },
    {
      "cell_type": "code",
      "execution_count": null,
      "metadata": {
        "colab": {
          "base_uri": "https://localhost:8080/",
          "height": 245
        },
        "id": "SAxOT5IVpr8G",
        "outputId": "dbc7b711-327b-463b-ebd8-a789ab727676"
      },
      "outputs": [
        {
          "data": {
            "text/html": [
              "\n",
              "  <Style>\n",
              "    pre {\n",
              "        white-space: pre-wrap;\n",
              "    }\n",
              "  </Style>\n",
              "  "
            ],
            "text/plain": [
              "<IPython.core.display.HTML object>"
            ]
          },
          "metadata": {},
          "output_type": "display_data"
        },
        {
          "name": "stderr",
          "output_type": "stream",
          "text": [
            "/usr/local/lib/python3.10/dist-packages/transformers/generation/utils.py:1273: UserWarning: Using the model-agnostic default `max_length` (=20) to control the generation length. We recommend setting `max_new_tokens` to control the maximum length of the generation.\n",
            "  warnings.warn(\n"
          ]
        },
        {
          "data": {
            "text/html": [
              "\n",
              "    <div>\n",
              "      \n",
              "      <progress value='200' max='200' style='width:300px; height:20px; vertical-align: middle;'></progress>\n",
              "      [200/200 01:27]\n",
              "    </div>\n",
              "    "
            ],
            "text/plain": [
              "<IPython.core.display.HTML object>"
            ]
          },
          "metadata": {},
          "output_type": "display_data"
        },
        {
          "data": {
            "text/plain": [
              "{'eval_loss': 2.0029544830322266,\n",
              " 'eval_rouge1': 24.485941480924698,\n",
              " 'eval_rouge2': 9.08870153531135,\n",
              " 'eval_rougeL': 19.7855897173772,\n",
              " 'eval_rougeLsum': 22.241065951663842,\n",
              " 'eval_runtime': 89.7221,\n",
              " 'eval_samples_per_second': 8.916,\n",
              " 'eval_steps_per_second': 2.229,\n",
              " 'epoch': 3.0}"
            ]
          },
          "execution_count": 40,
          "metadata": {},
          "output_type": "execute_result"
        }
      ],
      "source": [
        "trainer.evaluate()"
      ]
    },
    {
      "cell_type": "markdown",
      "metadata": {
        "id": "NudEDJuUqt0h"
      },
      "source": [
        "#### <font color='#2B4865'>*3.2.4. Make predictions with the fine-tuned model*</font>"
      ]
    },
    {
      "cell_type": "markdown",
      "metadata": {
        "id": "6oB2nmcLrsMw"
      },
      "source": [
        "We can no play with our saved model either via the inference widget or with a pipeline object, as follows:"
      ]
    },
    {
      "cell_type": "code",
      "execution_count": null,
      "metadata": {
        "colab": {
          "base_uri": "https://localhost:8080/",
          "height": 17
        },
        "id": "qSgyrCforC1w",
        "outputId": "a7caa85c-eec2-48ad-b866-bd6704868c27"
      },
      "outputs": [
        {
          "data": {
            "text/html": [
              "\n",
              "  <Style>\n",
              "    pre {\n",
              "        white-space: pre-wrap;\n",
              "    }\n",
              "  </Style>\n",
              "  "
            ],
            "text/plain": [
              "<IPython.core.display.HTML object>"
            ]
          },
          "metadata": {},
          "output_type": "display_data"
        }
      ],
      "source": [
        "# Load trained model\n",
        "from transformers import pipeline\n",
        "checkpoint = 2250\n",
        "model_path = f\"{path_to_folder}/{model_checkpoint}-finetuned-cnn/checkpoint-{checkpoint}\" ## TODO: Update this path to the last saved checkpoint in the former cell\n",
        "summarizer = pipeline(\"summarization\", model=model_path)"
      ]
    },
    {
      "cell_type": "markdown",
      "metadata": {
        "id": "lt5celbJrwoH"
      },
      "source": [
        "Let's feed some examples from the test set (which the model has not seen) to our pipeline to get a feel for the quality of the summaries."
      ]
    },
    {
      "cell_type": "code",
      "execution_count": null,
      "metadata": {
        "colab": {
          "base_uri": "https://localhost:8080/",
          "height": 17
        },
        "id": "Q06DbOV4iE_B",
        "outputId": "22c90fb6-f919-422a-eb1f-1315471a4968"
      },
      "outputs": [
        {
          "data": {
            "text/html": [
              "\n",
              "  <Style>\n",
              "    pre {\n",
              "        white-space: pre-wrap;\n",
              "    }\n",
              "  </Style>\n",
              "  "
            ],
            "text/plain": [
              "<IPython.core.display.HTML object>"
            ]
          },
          "metadata": {},
          "output_type": "display_data"
        }
      ],
      "source": [
        "def print_summary(dataset, num_samples=2, seed=42):\n",
        "    sample = dataset[\"test\"].shuffle(seed=seed).select(range(num_samples))\n",
        "    for example in sample:\n",
        "      review = example[\"article\"]\n",
        "      title = example[\"highlights\"]\n",
        "      summary = summarizer(review)[0][\"summary_text\"]\n",
        "\n",
        "      print(Fore.GREEN + Style.BOLD + '\\n>> Article:' + Style.RESET, review)\n",
        "      print(Fore.LIGHT_BLUE + Style.BOLD + '>> Highlights:' + Style.RESET, title)\n",
        "      print(Fore.RED + Style.BOLD + '>> Summary:' + Style.RESET, summary)"
      ]
    },
    {
      "cell_type": "code",
      "execution_count": null,
      "metadata": {
        "colab": {
          "base_uri": "https://localhost:8080/",
          "height": 1000
        },
        "id": "n80nQaUhryUK",
        "outputId": "d0075ae6-6e98-481e-9b2e-d707919878d3"
      },
      "outputs": [
        {
          "data": {
            "text/html": [
              "\n",
              "  <Style>\n",
              "    pre {\n",
              "        white-space: pre-wrap;\n",
              "    }\n",
              "  </Style>\n",
              "  "
            ],
            "text/plain": [
              "<IPython.core.display.HTML object>"
            ]
          },
          "metadata": {},
          "output_type": "display_data"
        },
        {
          "name": "stdout",
          "output_type": "stream",
          "text": [
            "\u001b[38;5;2m\u001b[1m\n",
            ">> Article:\u001b[0m (CNN)Gastrointestinal illness has gripped 100 people on the cruise ship Celebrity Infinity, according to a report from the Centers for Disease Control. Of the ship's 2,117 passengers, 95 have suffered from vomiting, diarrhea and other symptoms, the CDC said. The illness has also affected five members of the 964-person crew. The CDC has yet to determine what's causing the ailments. Two staffers from the agency are scheduled to meet the West Coast-based ship in San Diego on Monday. The Infinity left San Diego on March 29. It made its last stop in Puerto Vallarta, Mexico, on April 10, according to MarineTraffic.com. Celebrity Cruises has been taking action since the outbreak began, including increasing cleaning and disinfection procedures, keeping passengers informed and taking specimens from the afflicted for testing by the CDC, the agency says. According to the Maritime Executive, this is the third time the Celebrity Infinity has suffered an outbreak of gastrointestinal illness, with others occurring in 2006 and 2013. The ship was built in 2001 and refurbished in 2011.\n",
            "\u001b[38;5;12m\u001b[1m>> Highlights:\u001b[0m 100 passengers and crew members have been sickened on Celebrity Infinity .\n",
            "The ship, which is based on the West Coast, left San Diego in late March .\n",
            "The CDC is scheduled to board the ship Monday .\n",
            "\u001b[38;5;1m\u001b[1m>> Summary:\u001b[0m 95 of cruise ship's 2,117 passengers have suffered from vomiting, diarrhea and other symptoms . The illness has also affected five members of the 964-person crew . Celebrity Cruises has been taking action since outbreak began .\n"
          ]
        },
        {
          "name": "stderr",
          "output_type": "stream",
          "text": [
            "Token indices sequence length is longer than the specified maximum sequence length for this model (528 > 512). Running this sequence through the model will result in indexing errors\n"
          ]
        },
        {
          "name": "stdout",
          "output_type": "stream",
          "text": [
            "\u001b[38;5;2m\u001b[1m\n",
            ">> Article:\u001b[0m (CNN)When singer Avril Lavigne went missing from the music scene, there was tons of speculation. Was she pregnant? In rehab? Going through a split from her husband, Nickelback front man Chad Kroeger? Focus on the mystery intensified in December after a fan Twitter account posted a direct message from Lavigne when she solicited prayers, saying she was \"having some health issues.\" Now the Canadian singer has revealed to People magazine that she was bedridden for five months after contracting Lyme disease. \"I felt like I couldn't breathe, I couldn't talk, and I couldn't move,\" she told the magazine. \"I thought I was dying.\" Lyme disease: What you should know . Lavigne believes that she was bitten by a tick last spring. What followed was months of lightheadedness and lethargy that doctors were initially unable to diagnose. The 30-year-old performer said she recuperated in her Ontario home, where her husband would use tour breaks to care for her and her mother moved in to assist. \"There were definitely times I couldn't shower for a full week because I could barely stand,\" she told People. \"It felt like having all your life sucked out of you.\" Opinion: Why you should be afraid of Lyme disease . After her direct message about her health went viral, Lavigne was inundated with concern from fans. \"The get-well messages and videos they sent touched me so deeply,\" she said. Now declaring herself \"80 percent better,\" Lavigne is releasing a new single this month to support the 2015 Special Olympics and says that being ill was a \"wake-up call\" that has given her a new perspective. \"I really just want to enjoy life from here on out,\" she said.\n",
            "\u001b[38;5;12m\u001b[1m>> Highlights:\u001b[0m The singer had been off the scene for a while .\n",
            "She says she was bedridden for months .\n",
            "Lavigne was sometimes too weak to shower .\n",
            "\u001b[38;5;1m\u001b[1m>> Summary:\u001b[0m Avril Lavigne says she was bedridden for five months after contracting Lyme disease . The singer has released a new single to support the 2015 Special Olympics . Fans say she was bitten by a tick last spring .\n",
            "\u001b[38;5;2m\u001b[1m\n",
            ">> Article:\u001b[0m New York (CNN)When Liana Barrientos was 23 years old, she got married in Westchester County, New York. A year later, she got married again in Westchester County, but to a different man and without divorcing her first husband.  Only 18 days after that marriage, she got hitched yet again. Then, Barrientos declared \"I do\" five more times, sometimes only within two weeks of each other. In 2010, she married once more, this time in the Bronx. In an application for a marriage license, she stated it was her \"first and only\" marriage. Barrientos, now 39, is facing two criminal counts of \"offering a false instrument for filing in the first degree,\" referring to her false statements on the 2010 marriage license application, according to court documents. Prosecutors said the marriages were part of an immigration scam. On Friday, she pleaded not guilty at State Supreme Court in the Bronx, according to her attorney, Christopher Wright, who declined to comment further. After leaving court, Barrientos was arrested and charged with theft of service and criminal trespass for allegedly sneaking into the New York subway through an emergency exit, said Detective Annette Markowski, a police spokeswoman. In total, Barrientos has been married 10 times, with nine of her marriages occurring between 1999 and 2002.  All occurred either in Westchester County, Long Island, New Jersey or the Bronx. She is believed to still be married to four men, and at one time, she was married to eight men at once, prosecutors say. Prosecutors said the immigration scam involved some of her husbands, who filed for permanent residence status shortly after the marriages.  Any divorces happened only after such filings were approved. It was unclear whether any of the men will be prosecuted. The case was referred to the Bronx District Attorney's Office by Immigration and Customs Enforcement and the Department of Homeland Security's Investigation Division. Seven of the men are from so-called \"red-flagged\" countries, including Egypt, Turkey, Georgia, Pakistan and Mali. Her eighth husband, Rashid Rajput, was deported in 2006 to his native Pakistan after an investigation by the Joint Terrorism Task Force. If convicted, Barrientos faces up to four years in prison.  Her next court appearance is scheduled for May 18.\n",
            "\u001b[38;5;12m\u001b[1m>> Highlights:\u001b[0m Liana Barrientos, 39, re-arrested after court appearance for alleged fare beating .\n",
            "She has married 10 times as part of an immigration scam, prosecutors say .\n",
            "Barrientos pleaded not guilty Friday to misdemeanor charges .\n",
            "\u001b[38;5;1m\u001b[1m>> Summary:\u001b[0m Liana Barrientos, now 39, is facing two criminal counts of \"offering a false instrument\" Prosecutors say marriages were part of an immigration scam . In total, she has been married 10 times, with nine of her marriages occurring between 1999 and 2002 .\n",
            "\u001b[38;5;2m\u001b[1m\n",
            ">> Article:\u001b[0m (CNN)Imprisoned soldier Chelsea Manning can now communicate with the world  -- in 140 characters or less. Manning, who is serving a 35-year prison sentence for leaking thousands of classified documents, appears to have joined Twitter this week. In a series of tweets, the prisoner formerly known as Bradley Manning said she will be using a voice phone to dictate her tweets to  communications firm Fitzgibbon Media, which will post them on her behalf. She is not allowed Internet access in prison, according to The Guardian. \"It will be hard, but I don't want this Twitter feed to be a one-way street/conversation,\" Manning posted to her nearly 26,000-plus followers. Manning was sentenced in 2013, and in August of that year, she said she wanted to transition to a female. The Fort Leavenworth Disciplinary Barracks in Kansas, where she is serving her sentence, has authorized hormone therapy for her treatment. Manning said she suffers from gender dysphoria. Her  lawyers describe it as \"the medical diagnosis given to individuals whose gender identity -- their innate sense of being male or female -- differs from the sex they were assigned at birth, causing clinically significant distress.\" Last year, a Kansas judge granted her request to be formally known as Chelsea Elizabeth Manning. The former Army intelligence analyst was convicted of stealing and disseminating 750,000 pages of documents and videos to WikiLeaks in what has been described as the largest leak of classified material in U.S. history. She was found guilty of 20 of the 22 charges, including violations of the U.S. Espionage Act. Manning has written opinion pieces for The New York Times and The Guardian from prison.\n",
            "\u001b[38;5;12m\u001b[1m>> Highlights:\u001b[0m Manning is serving a 35-year sentence for leaking thousands of classified documents .\n",
            "She says she will be using a voice phone to dictate her tweets .\n",
            "\u001b[38;5;1m\u001b[1m>> Summary:\u001b[0m Chelsea Manning is serving a 35-year prison sentence for leaking classified documents . In a series of tweets, Manning said she will be using a voice phone to dictate her tweets . She is not allowed Internet access in prison, according to The Guardian .\n",
            "\u001b[38;5;2m\u001b[1m\n",
            ">> Article:\u001b[0m (CNN)A Connecticut teen who has been forced to have chemotherapy to treat Hodgkin lymphoma will remain in temporary custody of the state for the time being, according to her attorney, Josh Michtom. A Connecticut juvenile court judge issued a written decision Wednesday denying a motion to let the teen, identified in court documents as \"Cassandra C.,\" go home. The judge also denied a motion for visitation. The 17-year-old is in remission after nearly six months of forced chemo treatments. On March 16, Michtom tried to convince the court that she should be able to return to her mother's home because she was no longer at imminent risk of harm from her illness. Michtom and attorney Michael Taylor, who represents Cassandra's mother, Jackie Fortin, released a written statement after receiving the judge's decision Wednesday: \"We are disappointed in this ruling, not least of all because it draws a factual conclusion that is directly contradicted by the weight of the evidence. We're conferring with our clients now about next steps, including whether to take another appeal.\" Cassandra was diagnosed with Hodgkin lymphoma in September and medical experts gave her an 85% chance of survival if treated with chemotherapy. Without it, doctors said at the time, she was likely to die within two years. She started chemotherapy in November but ran away after two days, according to court documents, when she decided she did not want to put the poison of the treatment into her body. In December, a judge ordered the young woman to be under the custody of the Connecticut Department of Children and Families. At that time, she was admitted to Connecticut Children's Medical Center in Hartford and has remained there since then.  Doctors surgically implanted a port in Cassandra's chest to administer chemotherapy medications, which began in spite of legal maneuvers to halt them. Cassandra is feeling well and is in good shape as far as her health is concerned, according to Michtom. \"She's seen in her case the side effects weren't bad, and she's been well-treated by the nurses and doctors and does want to complete the treatment,\" he said. Her treatment is scheduled to wrap up this month. Michtom and Taylor failed in their effort before the Connecticut Supreme Court to make the case that Cassandra was mature enough to make her own medical decisions. Joette Katz, the commissioner of the Department of Children and Families, told CNN in March the agency is \"very pleased with Cassandra's progress toward a complete recovery. We understand how difficult this has been for Cassandra and her family, but we have had full confidence throughout that the medical professionals involved in her treatment would be successful in saving her life.\" The agency has denied CNN's request to speak with Cassandra or her physicians. According to Michtom, the Department of Children and Families could have withdrawn its position for an order of custody but hasn't. He said the department sees Cassandra as a flight risk because she has run away before. Representatives for the department have said in court and in conversations with Michtom and Taylor that they will withdraw their pending neglect petition once Cassandra completes her last round of chemo -- expected around the end of April -- and that she'll be allowed to return home. So for now, Cassandra is said to spend her days reading, watching TV and drawing. \"The hospital is effectively jail,\" Michtom said.\n",
            "\u001b[38;5;12m\u001b[1m>> Highlights:\u001b[0m Judge won't allow teen leave hospital before her last chemotherapy treatment .\n",
            "Attorneys for the teen are deciding whether to appeal .\n",
            "Cassandra C. is now in remission and is no longer opposed to the chemotherapy treatments .\n",
            "\u001b[38;5;1m\u001b[1m>> Summary:\u001b[0m Connecticut teen forced to have chemotherapy to treat Hodgkin lymphoma will remain in temporary custody . Judge denies motion to let the 17-year-old go home . Cassandra is in remission after nearly six months of forced chemo treatments .\n"
          ]
        }
      ],
      "source": [
        "print_summary(cnn_dataset, 5)"
      ]
    },
    {
      "cell_type": "markdown",
      "metadata": {
        "id": "bqpDKlZWeNBt"
      },
      "source": [
        "## <font color='#2B4865'>Summary</font>"
      ]
    },
    {
      "cell_type": "markdown",
      "metadata": {
        "id": "N7mtT_KGNc5A"
      },
      "source": [
        "In this second tutorial, we have covered the tasks of Question Answering and Summarization. The most important things you should have learned are:\n",
        "\n",
        "* How to perform extractive question answering without the pipeline\n",
        "* How to preprocess different datasets according to the task we are trying to solve\n",
        "* How the training of Sequence-to-Sequence models differs from all the others"
      ]
    },
    {
      "cell_type": "markdown",
      "metadata": {
        "id": "EjxNX8zGQaLT"
      },
      "source": [
        "### <font color='#2B4865'>Extension exercise</font>\n",
        "\n",
        "**Translation** is another sequence-to-sequence task that is pretty close to summarization, and you could adapt what we have seen here to solve it. If you want to try it out:\n",
        "\n",
        "1. Select which kind of translation model you want to create, e.g. one that translates French to German.\n",
        "2. Choose a dataset from the Hub valid for machine translation on those languages\n",
        "3. Choose a model suitable for the translation task\n",
        "\n",
        "Some things you need to take into account when carrying out the fine-tuning:\n",
        "* **During preprocessing:**\n",
        "  * You need to carry out the tokenization of both the **inputs** and the **targets** (to obtain the labels). As we did with the summarization task, you should define a ``max_input_length`` and a ``max_target_length``. You do not need to save the ``labels_mask``.\n",
        "  * Remember that if you are using a T5 model (one of the t5-xxx checkpoints), the model will expect the text inputs to have a prefix indicating the task at hand, such as ``translate: French to German:``.\n",
        "* **During fine-tuning:**\n",
        "  * As evaluation metric, try out **\"sacrebleu\"**, which, after installing the SacreBLEU library (``!pip install sacrebleu``), you can load via ``evaluate.load()``. This metric takes texts as inputs and targets and is designed to accept several acceptable targets (often multiple acceptable translations of the same sentence). So, the predictions should be a list of sentences (where sentences are strings), but the references should be a list of lists of sentences. This metric will return a dictionary, from which we are interested in the value associated with the key ``score``.\n",
        "  * You can define the ``comput_metrics`` function based on the \"sacrebleu\" in a similar way as we did with summarization. Just note that SacreBLEU does not expect the text to be tokenized."
      ]
    }
  ],
  "metadata": {
    "accelerator": "GPU",
    "colab": {
      "provenance": [],
      "toc_visible": true
    },
    "gpuClass": "standard",
    "kernelspec": {
      "display_name": "Python 3 (ipykernel)",
      "language": "python",
      "name": "python3"
    },
    "language_info": {
      "codemirror_mode": {
        "name": "ipython",
        "version": 3
      },
      "file_extension": ".py",
      "mimetype": "text/x-python",
      "name": "python",
      "nbconvert_exporter": "python",
      "pygments_lexer": "ipython3",
      "version": "3.10.11"
    },
    "widgets": {
      "application/vnd.jupyter.widget-state+json": {
        "13517d0cb5044be799e81f183193a7bc": {
          "model_module": "@jupyter-widgets/base",
          "model_module_version": "1.2.0",
          "model_name": "LayoutModel",
          "state": {
            "_model_module": "@jupyter-widgets/base",
            "_model_module_version": "1.2.0",
            "_model_name": "LayoutModel",
            "_view_count": null,
            "_view_module": "@jupyter-widgets/base",
            "_view_module_version": "1.2.0",
            "_view_name": "LayoutView",
            "align_content": null,
            "align_items": null,
            "align_self": null,
            "border": null,
            "bottom": null,
            "display": null,
            "flex": null,
            "flex_flow": null,
            "grid_area": null,
            "grid_auto_columns": null,
            "grid_auto_flow": null,
            "grid_auto_rows": null,
            "grid_column": null,
            "grid_gap": null,
            "grid_row": null,
            "grid_template_areas": null,
            "grid_template_columns": null,
            "grid_template_rows": null,
            "height": null,
            "justify_content": null,
            "justify_items": null,
            "left": null,
            "margin": null,
            "max_height": null,
            "max_width": null,
            "min_height": null,
            "min_width": null,
            "object_fit": null,
            "object_position": null,
            "order": null,
            "overflow": null,
            "overflow_x": null,
            "overflow_y": null,
            "padding": null,
            "right": null,
            "top": null,
            "visibility": null,
            "width": null
          }
        },
        "1bfa793ced1045e1aab4f39a015340bf": {
          "model_module": "@jupyter-widgets/base",
          "model_module_version": "1.2.0",
          "model_name": "LayoutModel",
          "state": {
            "_model_module": "@jupyter-widgets/base",
            "_model_module_version": "1.2.0",
            "_model_name": "LayoutModel",
            "_view_count": null,
            "_view_module": "@jupyter-widgets/base",
            "_view_module_version": "1.2.0",
            "_view_name": "LayoutView",
            "align_content": null,
            "align_items": null,
            "align_self": null,
            "border": null,
            "bottom": null,
            "display": null,
            "flex": null,
            "flex_flow": null,
            "grid_area": null,
            "grid_auto_columns": null,
            "grid_auto_flow": null,
            "grid_auto_rows": null,
            "grid_column": null,
            "grid_gap": null,
            "grid_row": null,
            "grid_template_areas": null,
            "grid_template_columns": null,
            "grid_template_rows": null,
            "height": null,
            "justify_content": null,
            "justify_items": null,
            "left": null,
            "margin": null,
            "max_height": null,
            "max_width": null,
            "min_height": null,
            "min_width": null,
            "object_fit": null,
            "object_position": null,
            "order": null,
            "overflow": null,
            "overflow_x": null,
            "overflow_y": null,
            "padding": null,
            "right": null,
            "top": null,
            "visibility": null,
            "width": null
          }
        },
        "3d50f6814a7c4fe99a34090add1a8ec5": {
          "model_module": "@jupyter-widgets/controls",
          "model_module_version": "1.5.0",
          "model_name": "DescriptionStyleModel",
          "state": {
            "_model_module": "@jupyter-widgets/controls",
            "_model_module_version": "1.5.0",
            "_model_name": "DescriptionStyleModel",
            "_view_count": null,
            "_view_module": "@jupyter-widgets/base",
            "_view_module_version": "1.2.0",
            "_view_name": "StyleView",
            "description_width": ""
          }
        },
        "4405912bd1a542de99b43d9af053c060": {
          "model_module": "@jupyter-widgets/controls",
          "model_module_version": "1.5.0",
          "model_name": "DescriptionStyleModel",
          "state": {
            "_model_module": "@jupyter-widgets/controls",
            "_model_module_version": "1.5.0",
            "_model_name": "DescriptionStyleModel",
            "_view_count": null,
            "_view_module": "@jupyter-widgets/base",
            "_view_module_version": "1.2.0",
            "_view_name": "StyleView",
            "description_width": ""
          }
        },
        "4cc2fd9884354a0f94b44c27b2e185e8": {
          "model_module": "@jupyter-widgets/base",
          "model_module_version": "1.2.0",
          "model_name": "LayoutModel",
          "state": {
            "_model_module": "@jupyter-widgets/base",
            "_model_module_version": "1.2.0",
            "_model_name": "LayoutModel",
            "_view_count": null,
            "_view_module": "@jupyter-widgets/base",
            "_view_module_version": "1.2.0",
            "_view_name": "LayoutView",
            "align_content": null,
            "align_items": null,
            "align_self": null,
            "border": null,
            "bottom": null,
            "display": null,
            "flex": null,
            "flex_flow": null,
            "grid_area": null,
            "grid_auto_columns": null,
            "grid_auto_flow": null,
            "grid_auto_rows": null,
            "grid_column": null,
            "grid_gap": null,
            "grid_row": null,
            "grid_template_areas": null,
            "grid_template_columns": null,
            "grid_template_rows": null,
            "height": null,
            "justify_content": null,
            "justify_items": null,
            "left": null,
            "margin": null,
            "max_height": null,
            "max_width": null,
            "min_height": null,
            "min_width": null,
            "object_fit": null,
            "object_position": null,
            "order": null,
            "overflow": null,
            "overflow_x": null,
            "overflow_y": null,
            "padding": null,
            "right": null,
            "top": null,
            "visibility": null,
            "width": null
          }
        },
        "562e1afc822f4c0d89a21ad74be2be4c": {
          "model_module": "@jupyter-widgets/controls",
          "model_module_version": "1.5.0",
          "model_name": "DescriptionStyleModel",
          "state": {
            "_model_module": "@jupyter-widgets/controls",
            "_model_module_version": "1.5.0",
            "_model_name": "DescriptionStyleModel",
            "_view_count": null,
            "_view_module": "@jupyter-widgets/base",
            "_view_module_version": "1.2.0",
            "_view_name": "StyleView",
            "description_width": ""
          }
        },
        "6145d797ecc24708941f4eb46b4879b6": {
          "model_module": "@jupyter-widgets/base",
          "model_module_version": "1.2.0",
          "model_name": "LayoutModel",
          "state": {
            "_model_module": "@jupyter-widgets/base",
            "_model_module_version": "1.2.0",
            "_model_name": "LayoutModel",
            "_view_count": null,
            "_view_module": "@jupyter-widgets/base",
            "_view_module_version": "1.2.0",
            "_view_name": "LayoutView",
            "align_content": null,
            "align_items": null,
            "align_self": null,
            "border": null,
            "bottom": null,
            "display": null,
            "flex": null,
            "flex_flow": null,
            "grid_area": null,
            "grid_auto_columns": null,
            "grid_auto_flow": null,
            "grid_auto_rows": null,
            "grid_column": null,
            "grid_gap": null,
            "grid_row": null,
            "grid_template_areas": null,
            "grid_template_columns": null,
            "grid_template_rows": null,
            "height": null,
            "justify_content": null,
            "justify_items": null,
            "left": null,
            "margin": null,
            "max_height": null,
            "max_width": null,
            "min_height": null,
            "min_width": null,
            "object_fit": null,
            "object_position": null,
            "order": null,
            "overflow": null,
            "overflow_x": null,
            "overflow_y": null,
            "padding": null,
            "right": null,
            "top": null,
            "visibility": null,
            "width": null
          }
        },
        "6220dba6bc924f9ebf9e4484d2f8d6a8": {
          "model_module": "@jupyter-widgets/controls",
          "model_module_version": "1.5.0",
          "model_name": "ProgressStyleModel",
          "state": {
            "_model_module": "@jupyter-widgets/controls",
            "_model_module_version": "1.5.0",
            "_model_name": "ProgressStyleModel",
            "_view_count": null,
            "_view_module": "@jupyter-widgets/base",
            "_view_module_version": "1.2.0",
            "_view_name": "StyleView",
            "bar_color": null,
            "description_width": ""
          }
        },
        "639dd3db877b463a81500557ed114cc4": {
          "model_module": "@jupyter-widgets/controls",
          "model_module_version": "1.5.0",
          "model_name": "HTMLModel",
          "state": {
            "_dom_classes": [],
            "_model_module": "@jupyter-widgets/controls",
            "_model_module_version": "1.5.0",
            "_model_name": "HTMLModel",
            "_view_count": null,
            "_view_module": "@jupyter-widgets/controls",
            "_view_module_version": "1.5.0",
            "_view_name": "HTMLView",
            "description": "",
            "description_tooltip": null,
            "layout": "IPY_MODEL_4cc2fd9884354a0f94b44c27b2e185e8",
            "placeholder": "​",
            "style": "IPY_MODEL_3d50f6814a7c4fe99a34090add1a8ec5",
            "value": " 3000/3000 [01:12&lt;00:00, 41.90 examples/s]"
          }
        },
        "674a8bdc92934e9bbcac12a1059be395": {
          "model_module": "@jupyter-widgets/controls",
          "model_module_version": "1.5.0",
          "model_name": "FloatProgressModel",
          "state": {
            "_dom_classes": [],
            "_model_module": "@jupyter-widgets/controls",
            "_model_module_version": "1.5.0",
            "_model_name": "FloatProgressModel",
            "_view_count": null,
            "_view_module": "@jupyter-widgets/controls",
            "_view_module_version": "1.5.0",
            "_view_name": "ProgressView",
            "bar_style": "success",
            "description": "",
            "description_tooltip": null,
            "layout": "IPY_MODEL_6145d797ecc24708941f4eb46b4879b6",
            "max": 800,
            "min": 0,
            "orientation": "horizontal",
            "style": "IPY_MODEL_d9e76c404df84dcf9736c34432ef7e66",
            "value": 800
          }
        },
        "6856e67388814595810aff160eca9081": {
          "model_module": "@jupyter-widgets/controls",
          "model_module_version": "1.5.0",
          "model_name": "DescriptionStyleModel",
          "state": {
            "_model_module": "@jupyter-widgets/controls",
            "_model_module_version": "1.5.0",
            "_model_name": "DescriptionStyleModel",
            "_view_count": null,
            "_view_module": "@jupyter-widgets/base",
            "_view_module_version": "1.2.0",
            "_view_name": "StyleView",
            "description_width": ""
          }
        },
        "69b8a4a548984453854bd51b688c61d7": {
          "model_module": "@jupyter-widgets/base",
          "model_module_version": "1.2.0",
          "model_name": "LayoutModel",
          "state": {
            "_model_module": "@jupyter-widgets/base",
            "_model_module_version": "1.2.0",
            "_model_name": "LayoutModel",
            "_view_count": null,
            "_view_module": "@jupyter-widgets/base",
            "_view_module_version": "1.2.0",
            "_view_name": "LayoutView",
            "align_content": null,
            "align_items": null,
            "align_self": null,
            "border": null,
            "bottom": null,
            "display": null,
            "flex": null,
            "flex_flow": null,
            "grid_area": null,
            "grid_auto_columns": null,
            "grid_auto_flow": null,
            "grid_auto_rows": null,
            "grid_column": null,
            "grid_gap": null,
            "grid_row": null,
            "grid_template_areas": null,
            "grid_template_columns": null,
            "grid_template_rows": null,
            "height": null,
            "justify_content": null,
            "justify_items": null,
            "left": null,
            "margin": null,
            "max_height": null,
            "max_width": null,
            "min_height": null,
            "min_width": null,
            "object_fit": null,
            "object_position": null,
            "order": null,
            "overflow": null,
            "overflow_x": null,
            "overflow_y": null,
            "padding": null,
            "right": null,
            "top": null,
            "visibility": null,
            "width": null
          }
        },
        "6cb91697dac34e0ebd2249bad83e60f3": {
          "model_module": "@jupyter-widgets/controls",
          "model_module_version": "1.5.0",
          "model_name": "HBoxModel",
          "state": {
            "_dom_classes": [],
            "_model_module": "@jupyter-widgets/controls",
            "_model_module_version": "1.5.0",
            "_model_name": "HBoxModel",
            "_view_count": null,
            "_view_module": "@jupyter-widgets/controls",
            "_view_module_version": "1.5.0",
            "_view_name": "HBoxView",
            "box_style": "",
            "children": [
              "IPY_MODEL_d2f3abd3a9e948ac8506626685e01fd6",
              "IPY_MODEL_af254ea0698a4b31a654296727e6a940",
              "IPY_MODEL_877196f7bffd497697e3da96ca9df5a8"
            ],
            "layout": "IPY_MODEL_ace83fd07e9a40059325650b905164c4"
          }
        },
        "702de1c00d434936b589bc9377212d97": {
          "model_module": "@jupyter-widgets/base",
          "model_module_version": "1.2.0",
          "model_name": "LayoutModel",
          "state": {
            "_model_module": "@jupyter-widgets/base",
            "_model_module_version": "1.2.0",
            "_model_name": "LayoutModel",
            "_view_count": null,
            "_view_module": "@jupyter-widgets/base",
            "_view_module_version": "1.2.0",
            "_view_name": "LayoutView",
            "align_content": null,
            "align_items": null,
            "align_self": null,
            "border": null,
            "bottom": null,
            "display": null,
            "flex": null,
            "flex_flow": null,
            "grid_area": null,
            "grid_auto_columns": null,
            "grid_auto_flow": null,
            "grid_auto_rows": null,
            "grid_column": null,
            "grid_gap": null,
            "grid_row": null,
            "grid_template_areas": null,
            "grid_template_columns": null,
            "grid_template_rows": null,
            "height": null,
            "justify_content": null,
            "justify_items": null,
            "left": null,
            "margin": null,
            "max_height": null,
            "max_width": null,
            "min_height": null,
            "min_width": null,
            "object_fit": null,
            "object_position": null,
            "order": null,
            "overflow": null,
            "overflow_x": null,
            "overflow_y": null,
            "padding": null,
            "right": null,
            "top": null,
            "visibility": null,
            "width": null
          }
        },
        "790d6266581b4db0af1ba53cd03c3bd6": {
          "model_module": "@jupyter-widgets/base",
          "model_module_version": "1.2.0",
          "model_name": "LayoutModel",
          "state": {
            "_model_module": "@jupyter-widgets/base",
            "_model_module_version": "1.2.0",
            "_model_name": "LayoutModel",
            "_view_count": null,
            "_view_module": "@jupyter-widgets/base",
            "_view_module_version": "1.2.0",
            "_view_name": "LayoutView",
            "align_content": null,
            "align_items": null,
            "align_self": null,
            "border": null,
            "bottom": null,
            "display": null,
            "flex": null,
            "flex_flow": null,
            "grid_area": null,
            "grid_auto_columns": null,
            "grid_auto_flow": null,
            "grid_auto_rows": null,
            "grid_column": null,
            "grid_gap": null,
            "grid_row": null,
            "grid_template_areas": null,
            "grid_template_columns": null,
            "grid_template_rows": null,
            "height": null,
            "justify_content": null,
            "justify_items": null,
            "left": null,
            "margin": null,
            "max_height": null,
            "max_width": null,
            "min_height": null,
            "min_width": null,
            "object_fit": null,
            "object_position": null,
            "order": null,
            "overflow": null,
            "overflow_x": null,
            "overflow_y": null,
            "padding": null,
            "right": null,
            "top": null,
            "visibility": null,
            "width": null
          }
        },
        "79b1468b6a234c61b232ca9234e34dff": {
          "model_module": "@jupyter-widgets/controls",
          "model_module_version": "1.5.0",
          "model_name": "DescriptionStyleModel",
          "state": {
            "_model_module": "@jupyter-widgets/controls",
            "_model_module_version": "1.5.0",
            "_model_name": "DescriptionStyleModel",
            "_view_count": null,
            "_view_module": "@jupyter-widgets/base",
            "_view_module_version": "1.2.0",
            "_view_name": "StyleView",
            "description_width": ""
          }
        },
        "7b359bd4b76b48ee9ed0bd707ac7aa27": {
          "model_module": "@jupyter-widgets/base",
          "model_module_version": "1.2.0",
          "model_name": "LayoutModel",
          "state": {
            "_model_module": "@jupyter-widgets/base",
            "_model_module_version": "1.2.0",
            "_model_name": "LayoutModel",
            "_view_count": null,
            "_view_module": "@jupyter-widgets/base",
            "_view_module_version": "1.2.0",
            "_view_name": "LayoutView",
            "align_content": null,
            "align_items": null,
            "align_self": null,
            "border": null,
            "bottom": null,
            "display": null,
            "flex": null,
            "flex_flow": null,
            "grid_area": null,
            "grid_auto_columns": null,
            "grid_auto_flow": null,
            "grid_auto_rows": null,
            "grid_column": null,
            "grid_gap": null,
            "grid_row": null,
            "grid_template_areas": null,
            "grid_template_columns": null,
            "grid_template_rows": null,
            "height": null,
            "justify_content": null,
            "justify_items": null,
            "left": null,
            "margin": null,
            "max_height": null,
            "max_width": null,
            "min_height": null,
            "min_width": null,
            "object_fit": null,
            "object_position": null,
            "order": null,
            "overflow": null,
            "overflow_x": null,
            "overflow_y": null,
            "padding": null,
            "right": null,
            "top": null,
            "visibility": null,
            "width": null
          }
        },
        "80050567ed734572818838676f600f96": {
          "model_module": "@jupyter-widgets/controls",
          "model_module_version": "1.5.0",
          "model_name": "DescriptionStyleModel",
          "state": {
            "_model_module": "@jupyter-widgets/controls",
            "_model_module_version": "1.5.0",
            "_model_name": "DescriptionStyleModel",
            "_view_count": null,
            "_view_module": "@jupyter-widgets/base",
            "_view_module_version": "1.2.0",
            "_view_name": "StyleView",
            "description_width": ""
          }
        },
        "85586d6ae62f433f94b6acf101b133fe": {
          "model_module": "@jupyter-widgets/controls",
          "model_module_version": "1.5.0",
          "model_name": "HTMLModel",
          "state": {
            "_dom_classes": [],
            "_model_module": "@jupyter-widgets/controls",
            "_model_module_version": "1.5.0",
            "_model_name": "HTMLModel",
            "_view_count": null,
            "_view_module": "@jupyter-widgets/controls",
            "_view_module_version": "1.5.0",
            "_view_name": "HTMLView",
            "description": "",
            "description_tooltip": null,
            "layout": "IPY_MODEL_c63ce75de42848d6bc7a0b3f6be45887",
            "placeholder": "​",
            "style": "IPY_MODEL_4405912bd1a542de99b43d9af053c060",
            "value": " 200/200 [00:04&lt;00:00, 49.86 examples/s]"
          }
        },
        "865d3a9bc851455ea639959def320fe7": {
          "model_module": "@jupyter-widgets/base",
          "model_module_version": "1.2.0",
          "model_name": "LayoutModel",
          "state": {
            "_model_module": "@jupyter-widgets/base",
            "_model_module_version": "1.2.0",
            "_model_name": "LayoutModel",
            "_view_count": null,
            "_view_module": "@jupyter-widgets/base",
            "_view_module_version": "1.2.0",
            "_view_name": "LayoutView",
            "align_content": null,
            "align_items": null,
            "align_self": null,
            "border": null,
            "bottom": null,
            "display": null,
            "flex": null,
            "flex_flow": null,
            "grid_area": null,
            "grid_auto_columns": null,
            "grid_auto_flow": null,
            "grid_auto_rows": null,
            "grid_column": null,
            "grid_gap": null,
            "grid_row": null,
            "grid_template_areas": null,
            "grid_template_columns": null,
            "grid_template_rows": null,
            "height": null,
            "justify_content": null,
            "justify_items": null,
            "left": null,
            "margin": null,
            "max_height": null,
            "max_width": null,
            "min_height": null,
            "min_width": null,
            "object_fit": null,
            "object_position": null,
            "order": null,
            "overflow": null,
            "overflow_x": null,
            "overflow_y": null,
            "padding": null,
            "right": null,
            "top": null,
            "visibility": null,
            "width": null
          }
        },
        "877196f7bffd497697e3da96ca9df5a8": {
          "model_module": "@jupyter-widgets/controls",
          "model_module_version": "1.5.0",
          "model_name": "HTMLModel",
          "state": {
            "_dom_classes": [],
            "_model_module": "@jupyter-widgets/controls",
            "_model_module_version": "1.5.0",
            "_model_name": "HTMLModel",
            "_view_count": null,
            "_view_module": "@jupyter-widgets/controls",
            "_view_module_version": "1.5.0",
            "_view_name": "HTMLView",
            "description": "",
            "description_tooltip": null,
            "layout": "IPY_MODEL_c9a7fff03a8e4b6eb3887e7f20a49e95",
            "placeholder": "​",
            "style": "IPY_MODEL_c189f465ae2140cdb876efb01e2504b4",
            "value": " 800/800 [00:19&lt;00:00, 40.16 examples/s]"
          }
        },
        "8b5055c5af7747c08b1cadc122512a3c": {
          "model_module": "@jupyter-widgets/base",
          "model_module_version": "1.2.0",
          "model_name": "LayoutModel",
          "state": {
            "_model_module": "@jupyter-widgets/base",
            "_model_module_version": "1.2.0",
            "_model_name": "LayoutModel",
            "_view_count": null,
            "_view_module": "@jupyter-widgets/base",
            "_view_module_version": "1.2.0",
            "_view_name": "LayoutView",
            "align_content": null,
            "align_items": null,
            "align_self": null,
            "border": null,
            "bottom": null,
            "display": null,
            "flex": null,
            "flex_flow": null,
            "grid_area": null,
            "grid_auto_columns": null,
            "grid_auto_flow": null,
            "grid_auto_rows": null,
            "grid_column": null,
            "grid_gap": null,
            "grid_row": null,
            "grid_template_areas": null,
            "grid_template_columns": null,
            "grid_template_rows": null,
            "height": null,
            "justify_content": null,
            "justify_items": null,
            "left": null,
            "margin": null,
            "max_height": null,
            "max_width": null,
            "min_height": null,
            "min_width": null,
            "object_fit": null,
            "object_position": null,
            "order": null,
            "overflow": null,
            "overflow_x": null,
            "overflow_y": null,
            "padding": null,
            "right": null,
            "top": null,
            "visibility": null,
            "width": null
          }
        },
        "8f747039ca084a529080974dffdc5d97": {
          "model_module": "@jupyter-widgets/controls",
          "model_module_version": "1.5.0",
          "model_name": "HTMLModel",
          "state": {
            "_dom_classes": [],
            "_model_module": "@jupyter-widgets/controls",
            "_model_module_version": "1.5.0",
            "_model_name": "HTMLModel",
            "_view_count": null,
            "_view_module": "@jupyter-widgets/controls",
            "_view_module_version": "1.5.0",
            "_view_name": "HTMLView",
            "description": "",
            "description_tooltip": null,
            "layout": "IPY_MODEL_1bfa793ced1045e1aab4f39a015340bf",
            "placeholder": "​",
            "style": "IPY_MODEL_79b1468b6a234c61b232ca9234e34dff",
            "value": "Map: 100%"
          }
        },
        "91399a6445214a9c901dcd2137dff976": {
          "model_module": "@jupyter-widgets/base",
          "model_module_version": "1.2.0",
          "model_name": "LayoutModel",
          "state": {
            "_model_module": "@jupyter-widgets/base",
            "_model_module_version": "1.2.0",
            "_model_name": "LayoutModel",
            "_view_count": null,
            "_view_module": "@jupyter-widgets/base",
            "_view_module_version": "1.2.0",
            "_view_name": "LayoutView",
            "align_content": null,
            "align_items": null,
            "align_self": null,
            "border": null,
            "bottom": null,
            "display": null,
            "flex": null,
            "flex_flow": null,
            "grid_area": null,
            "grid_auto_columns": null,
            "grid_auto_flow": null,
            "grid_auto_rows": null,
            "grid_column": null,
            "grid_gap": null,
            "grid_row": null,
            "grid_template_areas": null,
            "grid_template_columns": null,
            "grid_template_rows": null,
            "height": null,
            "justify_content": null,
            "justify_items": null,
            "left": null,
            "margin": null,
            "max_height": null,
            "max_width": null,
            "min_height": null,
            "min_width": null,
            "object_fit": null,
            "object_position": null,
            "order": null,
            "overflow": null,
            "overflow_x": null,
            "overflow_y": null,
            "padding": null,
            "right": null,
            "top": null,
            "visibility": null,
            "width": null
          }
        },
        "93d9350383fa474ab8e483fcf26980af": {
          "model_module": "@jupyter-widgets/controls",
          "model_module_version": "1.5.0",
          "model_name": "HBoxModel",
          "state": {
            "_dom_classes": [],
            "_model_module": "@jupyter-widgets/controls",
            "_model_module_version": "1.5.0",
            "_model_name": "HBoxModel",
            "_view_count": null,
            "_view_module": "@jupyter-widgets/controls",
            "_view_module_version": "1.5.0",
            "_view_name": "HBoxView",
            "box_style": "",
            "children": [
              "IPY_MODEL_c6bf94550ed74e4ba957f5acd548fcf1",
              "IPY_MODEL_c6bc14984204437989891c10dadf4a5b",
              "IPY_MODEL_639dd3db877b463a81500557ed114cc4"
            ],
            "layout": "IPY_MODEL_8b5055c5af7747c08b1cadc122512a3c"
          }
        },
        "99f14ecfbfc64378869c9fa91e4a6d1f": {
          "model_module": "@jupyter-widgets/controls",
          "model_module_version": "1.5.0",
          "model_name": "HTMLModel",
          "state": {
            "_dom_classes": [],
            "_model_module": "@jupyter-widgets/controls",
            "_model_module_version": "1.5.0",
            "_model_name": "HTMLModel",
            "_view_count": null,
            "_view_module": "@jupyter-widgets/controls",
            "_view_module_version": "1.5.0",
            "_view_name": "HTMLView",
            "description": "",
            "description_tooltip": null,
            "layout": "IPY_MODEL_13517d0cb5044be799e81f183193a7bc",
            "placeholder": "​",
            "style": "IPY_MODEL_562e1afc822f4c0d89a21ad74be2be4c",
            "value": "Map: 100%"
          }
        },
        "ace83fd07e9a40059325650b905164c4": {
          "model_module": "@jupyter-widgets/base",
          "model_module_version": "1.2.0",
          "model_name": "LayoutModel",
          "state": {
            "_model_module": "@jupyter-widgets/base",
            "_model_module_version": "1.2.0",
            "_model_name": "LayoutModel",
            "_view_count": null,
            "_view_module": "@jupyter-widgets/base",
            "_view_module_version": "1.2.0",
            "_view_name": "LayoutView",
            "align_content": null,
            "align_items": null,
            "align_self": null,
            "border": null,
            "bottom": null,
            "display": null,
            "flex": null,
            "flex_flow": null,
            "grid_area": null,
            "grid_auto_columns": null,
            "grid_auto_flow": null,
            "grid_auto_rows": null,
            "grid_column": null,
            "grid_gap": null,
            "grid_row": null,
            "grid_template_areas": null,
            "grid_template_columns": null,
            "grid_template_rows": null,
            "height": null,
            "justify_content": null,
            "justify_items": null,
            "left": null,
            "margin": null,
            "max_height": null,
            "max_width": null,
            "min_height": null,
            "min_width": null,
            "object_fit": null,
            "object_position": null,
            "order": null,
            "overflow": null,
            "overflow_x": null,
            "overflow_y": null,
            "padding": null,
            "right": null,
            "top": null,
            "visibility": null,
            "width": null
          }
        },
        "ae2001c5bec24d55a78ebe8c524e8454": {
          "model_module": "@jupyter-widgets/controls",
          "model_module_version": "1.5.0",
          "model_name": "HBoxModel",
          "state": {
            "_dom_classes": [],
            "_model_module": "@jupyter-widgets/controls",
            "_model_module_version": "1.5.0",
            "_model_name": "HBoxModel",
            "_view_count": null,
            "_view_module": "@jupyter-widgets/controls",
            "_view_module_version": "1.5.0",
            "_view_name": "HBoxView",
            "box_style": "",
            "children": [
              "IPY_MODEL_8f747039ca084a529080974dffdc5d97",
              "IPY_MODEL_674a8bdc92934e9bbcac12a1059be395",
              "IPY_MODEL_cddf6c483b844ae0b249ddead8767eab"
            ],
            "layout": "IPY_MODEL_702de1c00d434936b589bc9377212d97"
          }
        },
        "af254ea0698a4b31a654296727e6a940": {
          "model_module": "@jupyter-widgets/controls",
          "model_module_version": "1.5.0",
          "model_name": "FloatProgressModel",
          "state": {
            "_dom_classes": [],
            "_model_module": "@jupyter-widgets/controls",
            "_model_module_version": "1.5.0",
            "_model_name": "FloatProgressModel",
            "_view_count": null,
            "_view_module": "@jupyter-widgets/controls",
            "_view_module_version": "1.5.0",
            "_view_name": "ProgressView",
            "bar_style": "success",
            "description": "",
            "description_tooltip": null,
            "layout": "IPY_MODEL_bd0f14a200004cfeb3b4d71fcf6ca97e",
            "max": 800,
            "min": 0,
            "orientation": "horizontal",
            "style": "IPY_MODEL_e5a19dd63b5f4d5f9bad5294534a4803",
            "value": 800
          }
        },
        "bd0f14a200004cfeb3b4d71fcf6ca97e": {
          "model_module": "@jupyter-widgets/base",
          "model_module_version": "1.2.0",
          "model_name": "LayoutModel",
          "state": {
            "_model_module": "@jupyter-widgets/base",
            "_model_module_version": "1.2.0",
            "_model_name": "LayoutModel",
            "_view_count": null,
            "_view_module": "@jupyter-widgets/base",
            "_view_module_version": "1.2.0",
            "_view_name": "LayoutView",
            "align_content": null,
            "align_items": null,
            "align_self": null,
            "border": null,
            "bottom": null,
            "display": null,
            "flex": null,
            "flex_flow": null,
            "grid_area": null,
            "grid_auto_columns": null,
            "grid_auto_flow": null,
            "grid_auto_rows": null,
            "grid_column": null,
            "grid_gap": null,
            "grid_row": null,
            "grid_template_areas": null,
            "grid_template_columns": null,
            "grid_template_rows": null,
            "height": null,
            "justify_content": null,
            "justify_items": null,
            "left": null,
            "margin": null,
            "max_height": null,
            "max_width": null,
            "min_height": null,
            "min_width": null,
            "object_fit": null,
            "object_position": null,
            "order": null,
            "overflow": null,
            "overflow_x": null,
            "overflow_y": null,
            "padding": null,
            "right": null,
            "top": null,
            "visibility": null,
            "width": null
          }
        },
        "c189f465ae2140cdb876efb01e2504b4": {
          "model_module": "@jupyter-widgets/controls",
          "model_module_version": "1.5.0",
          "model_name": "DescriptionStyleModel",
          "state": {
            "_model_module": "@jupyter-widgets/controls",
            "_model_module_version": "1.5.0",
            "_model_name": "DescriptionStyleModel",
            "_view_count": null,
            "_view_module": "@jupyter-widgets/base",
            "_view_module_version": "1.2.0",
            "_view_name": "StyleView",
            "description_width": ""
          }
        },
        "c63ce75de42848d6bc7a0b3f6be45887": {
          "model_module": "@jupyter-widgets/base",
          "model_module_version": "1.2.0",
          "model_name": "LayoutModel",
          "state": {
            "_model_module": "@jupyter-widgets/base",
            "_model_module_version": "1.2.0",
            "_model_name": "LayoutModel",
            "_view_count": null,
            "_view_module": "@jupyter-widgets/base",
            "_view_module_version": "1.2.0",
            "_view_name": "LayoutView",
            "align_content": null,
            "align_items": null,
            "align_self": null,
            "border": null,
            "bottom": null,
            "display": null,
            "flex": null,
            "flex_flow": null,
            "grid_area": null,
            "grid_auto_columns": null,
            "grid_auto_flow": null,
            "grid_auto_rows": null,
            "grid_column": null,
            "grid_gap": null,
            "grid_row": null,
            "grid_template_areas": null,
            "grid_template_columns": null,
            "grid_template_rows": null,
            "height": null,
            "justify_content": null,
            "justify_items": null,
            "left": null,
            "margin": null,
            "max_height": null,
            "max_width": null,
            "min_height": null,
            "min_width": null,
            "object_fit": null,
            "object_position": null,
            "order": null,
            "overflow": null,
            "overflow_x": null,
            "overflow_y": null,
            "padding": null,
            "right": null,
            "top": null,
            "visibility": null,
            "width": null
          }
        },
        "c6bc14984204437989891c10dadf4a5b": {
          "model_module": "@jupyter-widgets/controls",
          "model_module_version": "1.5.0",
          "model_name": "FloatProgressModel",
          "state": {
            "_dom_classes": [],
            "_model_module": "@jupyter-widgets/controls",
            "_model_module_version": "1.5.0",
            "_model_name": "FloatProgressModel",
            "_view_count": null,
            "_view_module": "@jupyter-widgets/controls",
            "_view_module_version": "1.5.0",
            "_view_name": "ProgressView",
            "bar_style": "success",
            "description": "",
            "description_tooltip": null,
            "layout": "IPY_MODEL_7b359bd4b76b48ee9ed0bd707ac7aa27",
            "max": 3000,
            "min": 0,
            "orientation": "horizontal",
            "style": "IPY_MODEL_f719664f22c3489899183cae64a2fbaf",
            "value": 3000
          }
        },
        "c6bf94550ed74e4ba957f5acd548fcf1": {
          "model_module": "@jupyter-widgets/controls",
          "model_module_version": "1.5.0",
          "model_name": "HTMLModel",
          "state": {
            "_dom_classes": [],
            "_model_module": "@jupyter-widgets/controls",
            "_model_module_version": "1.5.0",
            "_model_name": "HTMLModel",
            "_view_count": null,
            "_view_module": "@jupyter-widgets/controls",
            "_view_module_version": "1.5.0",
            "_view_name": "HTMLView",
            "description": "",
            "description_tooltip": null,
            "layout": "IPY_MODEL_e0c7724d189d468bbeead7401f5abf31",
            "placeholder": "​",
            "style": "IPY_MODEL_80050567ed734572818838676f600f96",
            "value": "Map: 100%"
          }
        },
        "c9a7fff03a8e4b6eb3887e7f20a49e95": {
          "model_module": "@jupyter-widgets/base",
          "model_module_version": "1.2.0",
          "model_name": "LayoutModel",
          "state": {
            "_model_module": "@jupyter-widgets/base",
            "_model_module_version": "1.2.0",
            "_model_name": "LayoutModel",
            "_view_count": null,
            "_view_module": "@jupyter-widgets/base",
            "_view_module_version": "1.2.0",
            "_view_name": "LayoutView",
            "align_content": null,
            "align_items": null,
            "align_self": null,
            "border": null,
            "bottom": null,
            "display": null,
            "flex": null,
            "flex_flow": null,
            "grid_area": null,
            "grid_auto_columns": null,
            "grid_auto_flow": null,
            "grid_auto_rows": null,
            "grid_column": null,
            "grid_gap": null,
            "grid_row": null,
            "grid_template_areas": null,
            "grid_template_columns": null,
            "grid_template_rows": null,
            "height": null,
            "justify_content": null,
            "justify_items": null,
            "left": null,
            "margin": null,
            "max_height": null,
            "max_width": null,
            "min_height": null,
            "min_width": null,
            "object_fit": null,
            "object_position": null,
            "order": null,
            "overflow": null,
            "overflow_x": null,
            "overflow_y": null,
            "padding": null,
            "right": null,
            "top": null,
            "visibility": null,
            "width": null
          }
        },
        "cddf6c483b844ae0b249ddead8767eab": {
          "model_module": "@jupyter-widgets/controls",
          "model_module_version": "1.5.0",
          "model_name": "HTMLModel",
          "state": {
            "_dom_classes": [],
            "_model_module": "@jupyter-widgets/controls",
            "_model_module_version": "1.5.0",
            "_model_name": "HTMLModel",
            "_view_count": null,
            "_view_module": "@jupyter-widgets/controls",
            "_view_module_version": "1.5.0",
            "_view_name": "HTMLView",
            "description": "",
            "description_tooltip": null,
            "layout": "IPY_MODEL_91399a6445214a9c901dcd2137dff976",
            "placeholder": "​",
            "style": "IPY_MODEL_e0351ce4d87b499191bc6d0101d252f1",
            "value": " 800/800 [00:02&lt;00:00, 352.58 examples/s]"
          }
        },
        "d2f3abd3a9e948ac8506626685e01fd6": {
          "model_module": "@jupyter-widgets/controls",
          "model_module_version": "1.5.0",
          "model_name": "HTMLModel",
          "state": {
            "_dom_classes": [],
            "_model_module": "@jupyter-widgets/controls",
            "_model_module_version": "1.5.0",
            "_model_name": "HTMLModel",
            "_view_count": null,
            "_view_module": "@jupyter-widgets/controls",
            "_view_module_version": "1.5.0",
            "_view_name": "HTMLView",
            "description": "",
            "description_tooltip": null,
            "layout": "IPY_MODEL_69b8a4a548984453854bd51b688c61d7",
            "placeholder": "​",
            "style": "IPY_MODEL_6856e67388814595810aff160eca9081",
            "value": "Map: 100%"
          }
        },
        "d53ab39810734710a4d31c30c35b963b": {
          "model_module": "@jupyter-widgets/controls",
          "model_module_version": "1.5.0",
          "model_name": "FloatProgressModel",
          "state": {
            "_dom_classes": [],
            "_model_module": "@jupyter-widgets/controls",
            "_model_module_version": "1.5.0",
            "_model_name": "FloatProgressModel",
            "_view_count": null,
            "_view_module": "@jupyter-widgets/controls",
            "_view_module_version": "1.5.0",
            "_view_name": "ProgressView",
            "bar_style": "success",
            "description": "",
            "description_tooltip": null,
            "layout": "IPY_MODEL_865d3a9bc851455ea639959def320fe7",
            "max": 200,
            "min": 0,
            "orientation": "horizontal",
            "style": "IPY_MODEL_6220dba6bc924f9ebf9e4484d2f8d6a8",
            "value": 200
          }
        },
        "d9e76c404df84dcf9736c34432ef7e66": {
          "model_module": "@jupyter-widgets/controls",
          "model_module_version": "1.5.0",
          "model_name": "ProgressStyleModel",
          "state": {
            "_model_module": "@jupyter-widgets/controls",
            "_model_module_version": "1.5.0",
            "_model_name": "ProgressStyleModel",
            "_view_count": null,
            "_view_module": "@jupyter-widgets/base",
            "_view_module_version": "1.2.0",
            "_view_name": "StyleView",
            "bar_color": null,
            "description_width": ""
          }
        },
        "e0351ce4d87b499191bc6d0101d252f1": {
          "model_module": "@jupyter-widgets/controls",
          "model_module_version": "1.5.0",
          "model_name": "DescriptionStyleModel",
          "state": {
            "_model_module": "@jupyter-widgets/controls",
            "_model_module_version": "1.5.0",
            "_model_name": "DescriptionStyleModel",
            "_view_count": null,
            "_view_module": "@jupyter-widgets/base",
            "_view_module_version": "1.2.0",
            "_view_name": "StyleView",
            "description_width": ""
          }
        },
        "e03981e6a0ff4243b6d5d27c0da3f1c1": {
          "model_module": "@jupyter-widgets/controls",
          "model_module_version": "1.5.0",
          "model_name": "HBoxModel",
          "state": {
            "_dom_classes": [],
            "_model_module": "@jupyter-widgets/controls",
            "_model_module_version": "1.5.0",
            "_model_name": "HBoxModel",
            "_view_count": null,
            "_view_module": "@jupyter-widgets/controls",
            "_view_module_version": "1.5.0",
            "_view_name": "HBoxView",
            "box_style": "",
            "children": [
              "IPY_MODEL_99f14ecfbfc64378869c9fa91e4a6d1f",
              "IPY_MODEL_d53ab39810734710a4d31c30c35b963b",
              "IPY_MODEL_85586d6ae62f433f94b6acf101b133fe"
            ],
            "layout": "IPY_MODEL_790d6266581b4db0af1ba53cd03c3bd6"
          }
        },
        "e0c7724d189d468bbeead7401f5abf31": {
          "model_module": "@jupyter-widgets/base",
          "model_module_version": "1.2.0",
          "model_name": "LayoutModel",
          "state": {
            "_model_module": "@jupyter-widgets/base",
            "_model_module_version": "1.2.0",
            "_model_name": "LayoutModel",
            "_view_count": null,
            "_view_module": "@jupyter-widgets/base",
            "_view_module_version": "1.2.0",
            "_view_name": "LayoutView",
            "align_content": null,
            "align_items": null,
            "align_self": null,
            "border": null,
            "bottom": null,
            "display": null,
            "flex": null,
            "flex_flow": null,
            "grid_area": null,
            "grid_auto_columns": null,
            "grid_auto_flow": null,
            "grid_auto_rows": null,
            "grid_column": null,
            "grid_gap": null,
            "grid_row": null,
            "grid_template_areas": null,
            "grid_template_columns": null,
            "grid_template_rows": null,
            "height": null,
            "justify_content": null,
            "justify_items": null,
            "left": null,
            "margin": null,
            "max_height": null,
            "max_width": null,
            "min_height": null,
            "min_width": null,
            "object_fit": null,
            "object_position": null,
            "order": null,
            "overflow": null,
            "overflow_x": null,
            "overflow_y": null,
            "padding": null,
            "right": null,
            "top": null,
            "visibility": null,
            "width": null
          }
        },
        "e5a19dd63b5f4d5f9bad5294534a4803": {
          "model_module": "@jupyter-widgets/controls",
          "model_module_version": "1.5.0",
          "model_name": "ProgressStyleModel",
          "state": {
            "_model_module": "@jupyter-widgets/controls",
            "_model_module_version": "1.5.0",
            "_model_name": "ProgressStyleModel",
            "_view_count": null,
            "_view_module": "@jupyter-widgets/base",
            "_view_module_version": "1.2.0",
            "_view_name": "StyleView",
            "bar_color": null,
            "description_width": ""
          }
        },
        "f719664f22c3489899183cae64a2fbaf": {
          "model_module": "@jupyter-widgets/controls",
          "model_module_version": "1.5.0",
          "model_name": "ProgressStyleModel",
          "state": {
            "_model_module": "@jupyter-widgets/controls",
            "_model_module_version": "1.5.0",
            "_model_name": "ProgressStyleModel",
            "_view_count": null,
            "_view_module": "@jupyter-widgets/base",
            "_view_module_version": "1.2.0",
            "_view_name": "StyleView",
            "bar_color": null,
            "description_width": ""
          }
        }
      }
    }
  },
  "nbformat": 4,
  "nbformat_minor": 0
}
