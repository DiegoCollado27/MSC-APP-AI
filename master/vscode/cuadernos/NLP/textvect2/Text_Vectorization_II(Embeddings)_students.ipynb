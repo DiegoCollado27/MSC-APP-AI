{
  "cells": [
    {
      "cell_type": "markdown",
      "metadata": {
        "id": "RRzzl3bhJ4mk"
      },
      "source": [
        "# **Text Vectorization II**\n",
        "\n",
        "---\n",
        "### Natural Language Processing\n",
        "Date: Nov 16, 2022\n",
        "\n",
        "Author: Lorena Calvo-Bartolomé (lcalvo@pa.uc3m.es)\n",
        "\n",
        "Version 1.0\n",
        "\n",
        "---\n",
        "This notebook is based on the Gensim documentation and tutorials, as well as on Daniel Voigt Godoy's book \"Deep Learning with Pytorch Step-by-Step, Volume III: Sequences \\& NLP\".\n",
        "\n",
        "Our goal here is to provide a basic overview of the following text vectorization techniques:\n",
        "\n",
        "\n",
        "*   Word2Vec\n",
        "*   GloVe\n",
        "*   FastText\n",
        "*   ELMo\n",
        "\n",
        "as well as how to use them to solve a Text Classification task."
      ]
    },
    {
      "cell_type": "code",
      "execution_count": 1,
      "metadata": {
        "id": "T2Ng8wwPQYUn"
      },
      "outputs": [
        {
          "name": "stdout",
          "output_type": "stream",
          "text": [
            "Collecting gensim==4.2.0\n",
            "  Downloading gensim-4.2.0-cp38-cp38-win_amd64.whl (24.0 MB)\n",
            "     ---------------------------------------- 0.0/24.0 MB ? eta -:--:--\n",
            "     - -------------------------------------- 1.0/24.0 MB 22.0 MB/s eta 0:00:02\n",
            "     - -------------------------------------- 1.0/24.0 MB 22.0 MB/s eta 0:00:02\n",
            "     - -------------------------------------- 1.0/24.0 MB 22.0 MB/s eta 0:00:02\n",
            "     --- ------------------------------------ 2.1/24.0 MB 12.1 MB/s eta 0:00:02\n",
            "     --- ------------------------------------ 2.1/24.0 MB 12.1 MB/s eta 0:00:02\n",
            "     ----- ---------------------------------- 3.1/24.0 MB 11.2 MB/s eta 0:00:02\n",
            "     ----- ---------------------------------- 3.1/24.0 MB 11.2 MB/s eta 0:00:02\n",
            "     ----- ---------------------------------- 3.1/24.0 MB 11.2 MB/s eta 0:00:02\n",
            "     ------ --------------------------------- 4.2/24.0 MB 10.7 MB/s eta 0:00:02\n",
            "     ------ --------------------------------- 4.2/24.0 MB 10.7 MB/s eta 0:00:02\n",
            "     ------ --------------------------------- 4.2/24.0 MB 10.7 MB/s eta 0:00:02\n",
            "     ------ --------------------------------- 4.2/24.0 MB 10.7 MB/s eta 0:00:02\n",
            "     ------ --------------------------------- 4.2/24.0 MB 10.7 MB/s eta 0:00:02\n",
            "     ------ --------------------------------- 4.2/24.0 MB 10.7 MB/s eta 0:00:02\n",
            "     -------- ------------------------------- 5.2/24.0 MB 7.8 MB/s eta 0:00:03\n",
            "     -------- ------------------------------- 5.2/24.0 MB 7.8 MB/s eta 0:00:03\n",
            "     ---------- ----------------------------- 6.3/24.0 MB 8.2 MB/s eta 0:00:03\n",
            "     ---------- ----------------------------- 6.3/24.0 MB 8.2 MB/s eta 0:00:03\n",
            "     ---------- ----------------------------- 6.3/24.0 MB 8.2 MB/s eta 0:00:03\n",
            "     ---------- ----------------------------- 6.3/24.0 MB 8.2 MB/s eta 0:00:03\n",
            "     ---------- ----------------------------- 6.3/24.0 MB 8.2 MB/s eta 0:00:03\n",
            "     ---------- ----------------------------- 6.3/24.0 MB 8.2 MB/s eta 0:00:03\n",
            "     ------------ --------------------------- 7.3/24.0 MB 7.0 MB/s eta 0:00:03\n",
            "     ------------ --------------------------- 7.3/24.0 MB 7.0 MB/s eta 0:00:03\n",
            "     ------------- -------------------------- 8.4/24.0 MB 7.3 MB/s eta 0:00:03\n",
            "     ------------- -------------------------- 8.4/24.0 MB 7.3 MB/s eta 0:00:03\n",
            "     ------------- -------------------------- 8.4/24.0 MB 7.3 MB/s eta 0:00:03\n",
            "     ------------- -------------------------- 8.4/24.0 MB 7.3 MB/s eta 0:00:03\n",
            "     ------------- -------------------------- 8.4/24.0 MB 7.3 MB/s eta 0:00:03\n",
            "     ------------- -------------------------- 8.4/24.0 MB 7.3 MB/s eta 0:00:03\n",
            "     ------------- -------------------------- 8.4/24.0 MB 7.3 MB/s eta 0:00:03\n",
            "     ------------- -------------------------- 8.4/24.0 MB 7.3 MB/s eta 0:00:03\n",
            "     --------------- ------------------------ 9.4/24.0 MB 6.2 MB/s eta 0:00:03\n",
            "     --------------- ------------------------ 9.4/24.0 MB 6.2 MB/s eta 0:00:03\n",
            "     --------------- ------------------------ 9.4/24.0 MB 6.2 MB/s eta 0:00:03\n",
            "     ---------------- ----------------------- 10.2/24.0 MB 6.1 MB/s eta 0:00:03\n",
            "     ----------------- ---------------------- 10.2/24.0 MB 6.0 MB/s eta 0:00:03\n",
            "     ------------------- -------------------- 11.5/24.0 MB 6.3 MB/s eta 0:00:02\n",
            "     ------------------- -------------------- 11.5/24.0 MB 6.3 MB/s eta 0:00:02\n",
            "     ------------------- -------------------- 11.5/24.0 MB 6.3 MB/s eta 0:00:02\n",
            "     -------------------- ------------------- 12.5/24.0 MB 6.3 MB/s eta 0:00:02\n",
            "     -------------------- ------------------- 12.6/24.0 MB 6.1 MB/s eta 0:00:02\n",
            "     --------------------- ------------------ 12.9/24.0 MB 5.8 MB/s eta 0:00:02\n",
            "     ---------------------- ----------------- 13.6/24.0 MB 6.2 MB/s eta 0:00:02\n",
            "     ---------------------- ----------------- 13.6/24.0 MB 6.2 MB/s eta 0:00:02\n",
            "     ------------------------ --------------- 14.7/24.0 MB 6.7 MB/s eta 0:00:02\n",
            "     ------------------------- -------------- 15.1/24.0 MB 6.5 MB/s eta 0:00:02\n",
            "     -------------------------- ------------- 15.7/24.0 MB 6.9 MB/s eta 0:00:02\n",
            "     -------------------------- ------------- 15.7/24.0 MB 6.9 MB/s eta 0:00:02\n",
            "     --------------------------- ------------ 16.3/24.0 MB 6.4 MB/s eta 0:00:02\n",
            "     --------------------------- ------------ 16.8/24.0 MB 7.6 MB/s eta 0:00:01\n",
            "     ----------------------------- ---------- 17.8/24.0 MB 7.6 MB/s eta 0:00:01\n",
            "     ----------------------------- ---------- 17.8/24.0 MB 7.6 MB/s eta 0:00:01\n",
            "     ------------------------------- -------- 18.9/24.0 MB 9.9 MB/s eta 0:00:01\n",
            "     ------------------------------- -------- 18.9/24.0 MB 9.9 MB/s eta 0:00:01\n",
            "     ------------------------------- -------- 18.9/24.0 MB 9.9 MB/s eta 0:00:01\n",
            "     -------------------------------- ------ 19.9/24.0 MB 10.1 MB/s eta 0:00:01\n",
            "     -------------------------------- ------ 19.9/24.0 MB 10.1 MB/s eta 0:00:01\n",
            "     -------------------------------- ------ 19.9/24.0 MB 10.1 MB/s eta 0:00:01\n",
            "     -------------------------------- ------ 19.9/24.0 MB 10.1 MB/s eta 0:00:01\n",
            "     -------------------------------- ------ 19.9/24.0 MB 10.1 MB/s eta 0:00:01\n",
            "     -------------------------------- ------ 19.9/24.0 MB 10.1 MB/s eta 0:00:01\n",
            "     -------------------------------- ------ 19.9/24.0 MB 10.1 MB/s eta 0:00:01\n",
            "     -------------------------------- ------ 19.9/24.0 MB 10.1 MB/s eta 0:00:01\n",
            "     -------------------------------- ------ 19.9/24.0 MB 10.1 MB/s eta 0:00:01\n",
            "     -------------------------------- ------ 19.9/24.0 MB 10.1 MB/s eta 0:00:01\n",
            "     -------------------------------- ------ 19.9/24.0 MB 10.1 MB/s eta 0:00:01\n",
            "     -------------------------------- ------ 19.9/24.0 MB 10.1 MB/s eta 0:00:01\n",
            "     -------------------------------- ------ 19.9/24.0 MB 10.1 MB/s eta 0:00:01\n",
            "     -------------------------------- ------ 19.9/24.0 MB 10.1 MB/s eta 0:00:01\n",
            "     -------------------------------- ------ 19.9/24.0 MB 10.1 MB/s eta 0:00:01\n",
            "     -------------------------------- ------ 19.9/24.0 MB 10.1 MB/s eta 0:00:01\n",
            "     -------------------------------- ------ 19.9/24.0 MB 10.1 MB/s eta 0:00:01\n",
            "     -------------------------------- ------ 19.9/24.0 MB 10.1 MB/s eta 0:00:01\n",
            "     -------------------------------- ------ 19.9/24.0 MB 10.1 MB/s eta 0:00:01\n",
            "     -------------------------------- ------ 19.9/24.0 MB 10.1 MB/s eta 0:00:01\n",
            "     -------------------------------- ------ 19.9/24.0 MB 10.1 MB/s eta 0:00:01\n",
            "     ---------------------------------- ----- 21.0/24.0 MB 5.4 MB/s eta 0:00:01\n",
            "     ---------------------------------- ----- 21.0/24.0 MB 5.4 MB/s eta 0:00:01\n",
            "     ---------------------------------- ----- 21.0/24.0 MB 5.4 MB/s eta 0:00:01\n",
            "     ------------------------------------ --- 22.0/24.0 MB 5.4 MB/s eta 0:00:01\n",
            "     ------------------------------------ --- 22.0/24.0 MB 5.4 MB/s eta 0:00:01\n",
            "     ------------------------------------ --- 22.0/24.0 MB 5.4 MB/s eta 0:00:01\n",
            "     ------------------------------------ --- 22.0/24.0 MB 5.4 MB/s eta 0:00:01\n",
            "     ------------------------------------ --- 22.0/24.0 MB 5.4 MB/s eta 0:00:01\n",
            "     ------------------------------------ --- 22.0/24.0 MB 5.4 MB/s eta 0:00:01\n",
            "     ------------------------------------ --- 22.0/24.0 MB 5.4 MB/s eta 0:00:01\n",
            "     ------------------------------------ --- 22.0/24.0 MB 5.4 MB/s eta 0:00:01\n",
            "     ---------------------------------------  23.4/24.0 MB 4.7 MB/s eta 0:00:01\n",
            "     ---------------------------------------  24.0/24.0 MB 5.0 MB/s eta 0:00:01\n",
            "     ---------------------------------------- 24.0/24.0 MB 4.8 MB/s eta 0:00:00\n",
            "Collecting pqkmeans\n",
            "  Downloading pqkmeans-1.0.6.tar.gz (224 kB)\n",
            "     ---------------------------------------- 0.0/224.3 kB ? eta -:--:--\n",
            "     ------------------------------------- 224.3/224.3 kB 13.4 MB/s eta 0:00:00\n",
            "  Installing build dependencies: started\n",
            "  Installing build dependencies: finished with status 'done'\n",
            "  Getting requirements to build wheel: started\n",
            "  Getting requirements to build wheel: finished with status 'done'\n",
            "  Installing backend dependencies: started\n",
            "  Installing backend dependencies: finished with status 'done'\n",
            "  Preparing metadata (pyproject.toml): started\n",
            "  Preparing metadata (pyproject.toml): finished with status 'done'\n",
            "Requirement already satisfied: numpy>=1.17.0 in c:\\users\\horiz\\anaconda3\\lib\\site-packages (from gensim==4.2.0) (1.24.4)\n",
            "Requirement already satisfied: scipy>=0.18.1 in c:\\users\\horiz\\anaconda3\\lib\\site-packages (from gensim==4.2.0) (1.10.1)\n",
            "Requirement already satisfied: smart-open>=1.8.1 in c:\\users\\horiz\\anaconda3\\lib\\site-packages (from gensim==4.2.0) (5.2.1)\n",
            "Collecting Cython==0.29.28 (from gensim==4.2.0)\n",
            "  Downloading Cython-0.29.28-py2.py3-none-any.whl (983 kB)\n",
            "     ---------------------------------------- 0.0/983.8 kB ? eta -:--:--\n",
            "     ------------------------------------- 983.8/983.8 kB 64.9 MB/s eta 0:00:00\n",
            "Requirement already satisfied: scikit-learn in c:\\users\\horiz\\anaconda3\\lib\\site-packages (from pqkmeans) (1.2.2)\n",
            "Collecting pipe<2.0 (from pqkmeans)\n",
            "  Downloading pipe-1.6.0-py2.py3-none-any.whl (6.8 kB)\n",
            "Requirement already satisfied: six in c:\\users\\horiz\\appdata\\roaming\\python\\python38\\site-packages (from pqkmeans) (1.16.0)\n",
            "Requirement already satisfied: joblib>=1.1.1 in c:\\users\\horiz\\anaconda3\\lib\\site-packages (from scikit-learn->pqkmeans) (1.2.0)\n",
            "Requirement already satisfied: threadpoolctl>=2.0.0 in c:\\users\\horiz\\anaconda3\\lib\\site-packages (from scikit-learn->pqkmeans) (2.2.0)\n",
            "Building wheels for collected packages: pqkmeans\n",
            "  Building wheel for pqkmeans (pyproject.toml): started\n",
            "  Building wheel for pqkmeans (pyproject.toml): finished with status 'error'\n",
            "Failed to build pqkmeans\n",
            "Note: you may need to restart the kernel to use updated packages.\n"
          ]
        },
        {
          "name": "stderr",
          "output_type": "stream",
          "text": [
            "  error: subprocess-exited-with-error\n",
            "  \n",
            "  × Building wheel for pqkmeans (pyproject.toml) did not run successfully.\n",
            "  │ exit code: 1\n",
            "  ╰─> [92 lines of output]\n",
            "      running bdist_wheel\n",
            "      running build\n",
            "      running build_py\n",
            "      creating build\n",
            "      creating build\\lib.win-amd64-cpython-38\n",
            "      creating build\\lib.win-amd64-cpython-38\\pqkmeans\n",
            "      copying pqkmeans\\evaluation.py -> build\\lib.win-amd64-cpython-38\\pqkmeans\n",
            "      copying pqkmeans\\__init__.py -> build\\lib.win-amd64-cpython-38\\pqkmeans\n",
            "      creating build\\lib.win-amd64-cpython-38\\test\n",
            "      copying test\\__init__.py -> build\\lib.win-amd64-cpython-38\\test\n",
            "      creating build\\lib.win-amd64-cpython-38\\pqkmeans\\clustering\n",
            "      copying pqkmeans\\clustering\\bkmeans.py -> build\\lib.win-amd64-cpython-38\\pqkmeans\\clustering\n",
            "      copying pqkmeans\\clustering\\cpp_implemented_clustering_sample.py -> build\\lib.win-amd64-cpython-38\\pqkmeans\\clustering\n",
            "      copying pqkmeans\\clustering\\pqkmeans.py -> build\\lib.win-amd64-cpython-38\\pqkmeans\\clustering\n",
            "      copying pqkmeans\\clustering\\pure_python_clustering_sample.py -> build\\lib.win-amd64-cpython-38\\pqkmeans\\clustering\n",
            "      copying pqkmeans\\clustering\\__init__.py -> build\\lib.win-amd64-cpython-38\\pqkmeans\\clustering\n",
            "      creating build\\lib.win-amd64-cpython-38\\pqkmeans\\encoder\n",
            "      copying pqkmeans\\encoder\\encoder_base.py -> build\\lib.win-amd64-cpython-38\\pqkmeans\\encoder\n",
            "      copying pqkmeans\\encoder\\encoder_sample.py -> build\\lib.win-amd64-cpython-38\\pqkmeans\\encoder\n",
            "      copying pqkmeans\\encoder\\itq_encoder.py -> build\\lib.win-amd64-cpython-38\\pqkmeans\\encoder\n",
            "      copying pqkmeans\\encoder\\pq_encoder.py -> build\\lib.win-amd64-cpython-38\\pqkmeans\\encoder\n",
            "      copying pqkmeans\\encoder\\__init__.py -> build\\lib.win-amd64-cpython-38\\pqkmeans\\encoder\n",
            "      creating build\\lib.win-amd64-cpython-38\\test\\clustering\n",
            "      copying test\\clustering\\test_bkmeans.py -> build\\lib.win-amd64-cpython-38\\test\\clustering\n",
            "      copying test\\clustering\\test_cpp_implemented_clustering_sample.py -> build\\lib.win-amd64-cpython-38\\test\\clustering\n",
            "      copying test\\clustering\\test_pqkmeans.py -> build\\lib.win-amd64-cpython-38\\test\\clustering\n",
            "      copying test\\clustering\\test_pure_python_clustering_sample.py -> build\\lib.win-amd64-cpython-38\\test\\clustering\n",
            "      copying test\\clustering\\__init__.py -> build\\lib.win-amd64-cpython-38\\test\\clustering\n",
            "      creating build\\lib.win-amd64-cpython-38\\test\\encoder\n",
            "      copying test\\encoder\\test_encoder_sample.py -> build\\lib.win-amd64-cpython-38\\test\\encoder\n",
            "      copying test\\encoder\\test_itq_encoder.py -> build\\lib.win-amd64-cpython-38\\test\\encoder\n",
            "      copying test\\encoder\\test_pq_encoder.py -> build\\lib.win-amd64-cpython-38\\test\\encoder\n",
            "      copying test\\encoder\\__init__.py -> build\\lib.win-amd64-cpython-38\\test\\encoder\n",
            "      running build_ext\n",
            "      Traceback (most recent call last):\n",
            "        File \"<string>\", line 37, in run\n",
            "        File \"c:\\Users\\Horiz\\anaconda3\\lib\\subprocess.py\", line 415, in check_output\n",
            "          return run(*popenargs, stdout=PIPE, timeout=timeout, check=True,\n",
            "        File \"c:\\Users\\Horiz\\anaconda3\\lib\\subprocess.py\", line 493, in run\n",
            "          with Popen(*popenargs, **kwargs) as process:\n",
            "        File \"c:\\Users\\Horiz\\anaconda3\\lib\\subprocess.py\", line 858, in __init__\n",
            "          self._execute_child(args, executable, preexec_fn, close_fds,\n",
            "        File \"c:\\Users\\Horiz\\anaconda3\\lib\\subprocess.py\", line 1327, in _execute_child\n",
            "          hp, ht, pid, tid = _winapi.CreateProcess(executable, args,\n",
            "      FileNotFoundError: [WinError 2] El sistema no puede encontrar el archivo especificado\n",
            "      \n",
            "      During handling of the above exception, another exception occurred:\n",
            "      \n",
            "      Traceback (most recent call last):\n",
            "        File \"c:\\Users\\Horiz\\anaconda3\\lib\\site-packages\\pip\\_vendor\\pyproject_hooks\\_in_process\\_in_process.py\", line 353, in <module>\n",
            "          main()\n",
            "        File \"c:\\Users\\Horiz\\anaconda3\\lib\\site-packages\\pip\\_vendor\\pyproject_hooks\\_in_process\\_in_process.py\", line 335, in main\n",
            "          json_out['return_val'] = hook(**hook_input['kwargs'])\n",
            "        File \"c:\\Users\\Horiz\\anaconda3\\lib\\site-packages\\pip\\_vendor\\pyproject_hooks\\_in_process\\_in_process.py\", line 251, in build_wheel\n",
            "          return _build_backend().build_wheel(wheel_directory, config_settings,\n",
            "        File \"C:\\Users\\Horiz\\AppData\\Local\\Temp\\pip-build-env-br5jwkig\\overlay\\Lib\\site-packages\\setuptools\\build_meta.py\", line 404, in build_wheel\n",
            "          return self._build_with_temp_dir(\n",
            "        File \"C:\\Users\\Horiz\\AppData\\Local\\Temp\\pip-build-env-br5jwkig\\overlay\\Lib\\site-packages\\setuptools\\build_meta.py\", line 389, in _build_with_temp_dir\n",
            "          self.run_setup()\n",
            "        File \"C:\\Users\\Horiz\\AppData\\Local\\Temp\\pip-build-env-br5jwkig\\overlay\\Lib\\site-packages\\setuptools\\build_meta.py\", line 311, in run_setup\n",
            "          exec(code, locals())\n",
            "        File \"<string>\", line 76, in <module>\n",
            "        File \"C:\\Users\\Horiz\\AppData\\Local\\Temp\\pip-build-env-br5jwkig\\overlay\\Lib\\site-packages\\setuptools\\__init__.py\", line 103, in setup\n",
            "          return distutils.core.setup(**attrs)\n",
            "        File \"C:\\Users\\Horiz\\AppData\\Local\\Temp\\pip-build-env-br5jwkig\\overlay\\Lib\\site-packages\\setuptools\\_distutils\\core.py\", line 185, in setup\n",
            "          return run_commands(dist)\n",
            "        File \"C:\\Users\\Horiz\\AppData\\Local\\Temp\\pip-build-env-br5jwkig\\overlay\\Lib\\site-packages\\setuptools\\_distutils\\core.py\", line 201, in run_commands\n",
            "          dist.run_commands()\n",
            "        File \"C:\\Users\\Horiz\\AppData\\Local\\Temp\\pip-build-env-br5jwkig\\overlay\\Lib\\site-packages\\setuptools\\_distutils\\dist.py\", line 969, in run_commands\n",
            "          self.run_command(cmd)\n",
            "        File \"C:\\Users\\Horiz\\AppData\\Local\\Temp\\pip-build-env-br5jwkig\\overlay\\Lib\\site-packages\\setuptools\\dist.py\", line 963, in run_command\n",
            "          super().run_command(command)\n",
            "        File \"C:\\Users\\Horiz\\AppData\\Local\\Temp\\pip-build-env-br5jwkig\\overlay\\Lib\\site-packages\\setuptools\\_distutils\\dist.py\", line 988, in run_command\n",
            "          cmd_obj.run()\n",
            "        File \"C:\\Users\\Horiz\\AppData\\Local\\Temp\\pip-build-env-br5jwkig\\normal\\Lib\\site-packages\\wheel\\bdist_wheel.py\", line 368, in run\n",
            "          self.run_command(\"build\")\n",
            "        File \"C:\\Users\\Horiz\\AppData\\Local\\Temp\\pip-build-env-br5jwkig\\overlay\\Lib\\site-packages\\setuptools\\_distutils\\cmd.py\", line 318, in run_command\n",
            "          self.distribution.run_command(command)\n",
            "        File \"C:\\Users\\Horiz\\AppData\\Local\\Temp\\pip-build-env-br5jwkig\\overlay\\Lib\\site-packages\\setuptools\\dist.py\", line 963, in run_command\n",
            "          super().run_command(command)\n",
            "        File \"C:\\Users\\Horiz\\AppData\\Local\\Temp\\pip-build-env-br5jwkig\\overlay\\Lib\\site-packages\\setuptools\\_distutils\\dist.py\", line 988, in run_command\n",
            "          cmd_obj.run()\n",
            "        File \"C:\\Users\\Horiz\\AppData\\Local\\Temp\\pip-build-env-br5jwkig\\overlay\\Lib\\site-packages\\setuptools\\_distutils\\command\\build.py\", line 131, in run\n",
            "          self.run_command(cmd_name)\n",
            "        File \"C:\\Users\\Horiz\\AppData\\Local\\Temp\\pip-build-env-br5jwkig\\overlay\\Lib\\site-packages\\setuptools\\_distutils\\cmd.py\", line 318, in run_command\n",
            "          self.distribution.run_command(command)\n",
            "        File \"C:\\Users\\Horiz\\AppData\\Local\\Temp\\pip-build-env-br5jwkig\\overlay\\Lib\\site-packages\\setuptools\\dist.py\", line 963, in run_command\n",
            "          super().run_command(command)\n",
            "        File \"C:\\Users\\Horiz\\AppData\\Local\\Temp\\pip-build-env-br5jwkig\\overlay\\Lib\\site-packages\\setuptools\\_distutils\\dist.py\", line 988, in run_command\n",
            "          cmd_obj.run()\n",
            "        File \"<string>\", line 39, in run\n",
            "      RuntimeError: CMake must be installed to build the following extensions: _pqkmeans\n",
            "      [end of output]\n",
            "  \n",
            "  note: This error originates from a subprocess, and is likely not a problem with pip.\n",
            "  ERROR: Failed building wheel for pqkmeans\n",
            "ERROR: Could not build wheels for pqkmeans, which is required to install pyproject.toml-based projects\n"
          ]
        }
      ],
      "source": [
        "%pip install gensim==4.2.0 pqkmeans"
      ]
    },
    {
      "cell_type": "code",
      "execution_count": 2,
      "metadata": {
        "id": "LiLrSlf2J4JP"
      },
      "outputs": [
        {
          "name": "stderr",
          "output_type": "stream",
          "text": [
            "C:\\Users\\Horiz\\AppData\\Local\\Temp\\ipykernel_27592\\4241668263.py:18: MatplotlibDeprecationWarning: The seaborn styles shipped by Matplotlib are deprecated since 3.6, as they no longer correspond to the styles shipped by seaborn. However, they will remain available as 'seaborn-v0_8-<style>'. Alternatively, directly use the seaborn API instead.\n",
            "  plt.style.use('seaborn-whitegrid')\n"
          ]
        }
      ],
      "source": [
        "# Common imports\n",
        "import os\n",
        "import numpy as np\n",
        "import pandas as pd\n",
        "from termcolor import colored\n",
        "import seaborn as sns\n",
        "import matplotlib.pyplot as plt\n",
        "import tqdm\n",
        "import scipy\n",
        "import gc\n",
        "\n",
        "\n",
        "# Figures plotted inside the notebook\n",
        "%matplotlib inline\n",
        "# High quality figures\n",
        "%config InlineBackend.figure_format = 'retina'\n",
        "# Figures style\n",
        "plt.style.use('seaborn-whitegrid')\n",
        "sns.set_style(\"darkgrid\")\n",
        "sns.color_palette(\"deep\")\n",
        "# Figues size\n",
        "plt.rcParams['figure.figsize'] = [8, 6]\n",
        "\n",
        "# Supress future warnings\n",
        "import warnings\n",
        "warnings.simplefilter(action='ignore', category=FutureWarning)\n",
        "warnings.filterwarnings(action='ignore',module='compress_fasttext')"
      ]
    },
    {
      "cell_type": "code",
      "execution_count": 3,
      "metadata": {},
      "outputs": [
        {
          "name": "stdout",
          "output_type": "stream",
          "text": [
            "Name: pandas\n",
            "Version: 2.0.3\n",
            "Summary: Powerful data structures for data analysis, time series, and statistics\n",
            "Home-page: \n",
            "Author: \n",
            "Author-email: The Pandas Development Team <pandas-dev@python.org>\n",
            "License: BSD 3-Clause License\n",
            "        \n",
            "        Copyright (c) 2008-2011, AQR Capital Management, LLC, Lambda Foundry, Inc. and PyData Development Team\n",
            "        All rights reserved.\n",
            "        \n",
            "        Copyright (c) 2011-2023, Open source contributors.\n",
            "        \n",
            "        Redistribution and use in source and binary forms, with or without\n",
            "        modification, are permitted provided that the following conditions are met:\n",
            "        \n",
            "        * Redistributions of source code must retain the above copyright notice, this\n",
            "          list of conditions and the following disclaimer.\n",
            "        \n",
            "        * Redistributions in binary form must reproduce the above copyright notice,\n",
            "          this list of conditions and the following disclaimer in the documentation\n",
            "          and/or other materials provided with the distribution.\n",
            "        \n",
            "        * Neither the name of the copyright holder nor the names of its\n",
            "          contributors may be used to endorse or promote products derived from\n",
            "          this software without specific prior written permission.\n",
            "        \n",
            "        THIS SOFTWARE IS PROVIDED BY THE COPYRIGHT HOLDERS AND CONTRIBUTORS \"AS IS\"\n",
            "        AND ANY EXPRESS OR IMPLIED WARRANTIES, INCLUDING, BUT NOT LIMITED TO, THE\n",
            "        IMPLIED WARRANTIES OF MERCHANTABILITY AND FITNESS FOR A PARTICULAR PURPOSE ARE\n",
            "        DISCLAIMED. IN NO EVENT SHALL THE COPYRIGHT HOLDER OR CONTRIBUTORS BE LIABLE\n",
            "        FOR ANY DIRECT, INDIRECT, INCIDENTAL, SPECIAL, EXEMPLARY, OR CONSEQUENTIAL\n",
            "        DAMAGES (INCLUDING, BUT NOT LIMITED TO, PROCUREMENT OF SUBSTITUTE GOODS OR\n",
            "        SERVICES; LOSS OF USE, DATA, OR PROFITS; OR BUSINESS INTERRUPTION) HOWEVER\n",
            "        CAUSED AND ON ANY THEORY OF LIABILITY, WHETHER IN CONTRACT, STRICT LIABILITY,\n",
            "        OR TORT (INCLUDING NEGLIGENCE OR OTHERWISE) ARISING IN ANY WAY OUT OF THE USE\n",
            "        OF THIS SOFTWARE, EVEN IF ADVISED OF THE POSSIBILITY OF SUCH DAMAGE.\n",
            "        \n",
            "Location: c:\\users\\horiz\\anaconda3\\lib\\site-packages\n",
            "Requires: numpy, python-dateutil, pytz, tzdata\n",
            "Required-by: datasets, datashader, holoviews, hvplot, openmim, pyLDAvis, river, seaborn, skforecast, statsmodels, xarray\n",
            "Note: you may need to restart the kernel to use updated packages.\n"
          ]
        }
      ],
      "source": [
        "pip show pandas"
      ]
    },
    {
      "cell_type": "code",
      "execution_count": 4,
      "metadata": {
        "id": "x7lkDl2VKBeX"
      },
      "outputs": [],
      "source": [
        "# To wrap long text lines\n",
        "from IPython.display import HTML, display\n",
        "\n",
        "def set_css():\n",
        "  display(HTML('''\n",
        "  <style>\n",
        "    pre {\n",
        "        white-space: pre-wrap;\n",
        "    }\n",
        "  </style>\n",
        "  '''))\n",
        "get_ipython().events.register('pre_run_cell', set_css)"
      ]
    },
    {
      "cell_type": "code",
      "execution_count": null,
      "metadata": {
        "id": "UrPeKEF9KDc8"
      },
      "outputs": [],
      "source": [
        "# For fancy table Display\n",
        "%load_ext google.colab.data_table"
      ]
    },
    {
      "cell_type": "code",
      "execution_count": null,
      "metadata": {
        "id": "W-RqqTiMhLMx"
      },
      "outputs": [],
      "source": [
        "path_to_folder = '/content/drive/My Drive/NLP_IA'  # UPDATE THIS ACCORDING TO WHERE YOU WANT TO SAVE THE FILES!!!!"
      ]
    },
    {
      "cell_type": "code",
      "execution_count": null,
      "metadata": {
        "id": "r5fhZ7MvKHzm"
      },
      "outputs": [],
      "source": [
        "# Load the Drive helper and mount\n",
        "from google.colab import drive\n",
        "\n",
        "# This will prompt for authorization.\n",
        "drive.mount('/content/drive')\n",
        "\n",
        "# Change to assignment directory\n",
        "os.chdir(path_to_folder)"
      ]
    },
    {
      "cell_type": "markdown",
      "metadata": {
        "id": "A9TfSEJqKPNS"
      },
      "source": [
        "## **1. Data preparation**\n",
        "---\n"
      ]
    },
    {
      "cell_type": "markdown",
      "metadata": {
        "id": "w4uWbvR8KTdK"
      },
      "source": [
        "For this second text vectorization notebook, we will keep working with the **IMDB Dataset of 50K Movie Reviews**. Since we already carried out all the dataset preparation in the previous notebook, we will just load the the dataframe that we saved."
      ]
    },
    {
      "cell_type": "code",
      "execution_count": 8,
      "metadata": {
        "id": "t0OPJNeaKSxb"
      },
      "outputs": [
        {
          "data": {
            "text/html": [
              "\n",
              "  <style>\n",
              "    pre {\n",
              "        white-space: pre-wrap;\n",
              "    }\n",
              "  </style>\n",
              "  "
            ],
            "text/plain": [
              "<IPython.core.display.HTML object>"
            ]
          },
          "metadata": {},
          "output_type": "display_data"
        },
        {
          "name": "stdout",
          "output_type": "stream",
          "text": [
            "15000\n"
          ]
        }
      ],
      "source": [
        "import pickle\n",
        "\n",
        "def unpickler(file: str):\n",
        "    \"\"\"Unpickle file\"\"\"\n",
        "    with open(file, 'rb') as f:\n",
        "        return pd.compat.pickle_compat.load(f)\n",
        "\n",
        "corpus_df = unpickler(\"corpus_df_imbdb.pickle\")\n",
        "print(len(corpus_df))"
      ]
    },
    {
      "cell_type": "markdown",
      "metadata": {
        "id": "cSCNgGg4uNlI"
      },
      "source": [
        "##### **Exercise 1**\n",
        "\n",
        "Create a Gensim corpus and obtain its Gensim dictionary. With the latter, save the vocabulary of the corpus as a list. Store the Gensim corpus in a variable named ``corpus``, the Gensim dictionary in a variable named ``D``, and the vocabulary in a variable named ``vocab``.\n",
        "\n",
        "**Hint:** Make use of the Gensim dictionary' method ``token2id`` for obtaining the vocabulary list."
      ]
    },
    {
      "cell_type": "code",
      "execution_count": null,
      "metadata": {
        "id": "O2Fj9JDyXW61"
      },
      "outputs": [],
      "source": [
        "# <SOL>\n",
        "\n",
        "# </SOL>\n",
        "\n",
        "print(colored('\\n============= First 10 words in the vocabulary =============', 'blue'))\n",
        "print(vocab[0:20])"
      ]
    },
    {
      "cell_type": "markdown",
      "metadata": {
        "id": "JS6PULrlvFDa"
      },
      "source": [
        "Let's also save the sentiment of the review in a NumPy array for later use."
      ]
    },
    {
      "cell_type": "code",
      "execution_count": null,
      "metadata": {
        "id": "Zv7xzJqhA73n"
      },
      "outputs": [],
      "source": [
        "Y = corpus_df['binary_sentiment'].values"
      ]
    },
    {
      "cell_type": "markdown",
      "metadata": {
        "id": "CdKBBiR0K6oN"
      },
      "source": [
        "## **2. Word2Vec**\n",
        "---\n"
      ]
    },
    {
      "cell_type": "markdown",
      "metadata": {
        "id": "jAX4-j_-LxIy"
      },
      "source": [
        "We will use [Gensim's implementation of Word2Vec](https://radimrehurek.com/gensim/models/word2vec.html), which supports both the skip-gram and CBOW models, with either hierarchical softmax or negative sampling. Furthermore, Gensim contains a collection of functions for the exploitation of pre-trained embeddings, which can be either embeddings developed by us or pre-trained models on big corpora."
      ]
    },
    {
      "cell_type": "markdown",
      "metadata": {
        "id": "aDxgclbMLM4-"
      },
      "source": [
        "### *2.1. Implementation of Word2Vec in Gensim*"
      ]
    },
    {
      "cell_type": "markdown",
      "metadata": {
        "id": "OvHZvVznPjfW"
      },
      "source": [
        "Word2Vec models require a lot of text, e.g., the entire Wikipedia corpus. Nevertheless, we will demonstrate the principles using a small example from our IMDB dataset.\n",
        "\n",
        "Gensim's Word2Vec expects a sequence of sentences (``sentences``) as its input where each sentence is a list of words:\n",
        "\n",
        "```\n",
        "sentences = [['This', 'is', 'the', 'first', 'sentence'], ['This', 'is', 'the', 'second', 'sentence']]\n",
        "```\n",
        "\n",
        "In addition, some of the most important parameters that we may wish to configure are the following:\n",
        "\n",
        "* `vector_size`: The dimensionality of the word vectors, i.e.,  the embedding size. The default is **100**.\n",
        "* `window`: The window size, i.e., the number of adjacent words that are considered in the same context as the target word. The default is **5**.\n",
        "* `min_count`: Ignores all words with a total frequency lower than this.\n",
        "* `sg`: Training algorithm: 1 for skip-gram; otherwise CBOW.\n",
        "\n",
        "Keeping the input as a Python built-in list is convenient, but can use up a lot of RAM when the input is large. Gensim only requires the input to provide sentences sequentially, when iterated over. Hence, we can use the same principle that we utilized in the first notebook of this tutorial at ``2.5. Memory efficient computation``."
      ]
    },
    {
      "cell_type": "markdown",
      "metadata": {
        "id": "BHLz0opY6po7"
      },
      "source": [
        "##### **Exercise 2**\n",
        "\n",
        "The provided class ``IterableSentence_fromfile`` creates an iterator that yields one sentence (list of utf8 words) after another from the file ``\"imdb_lemmas_clean.txt\"``.\n",
        "\n",
        "Use the sentence iterator to create a Word2Vec skip-gram model named ``model_w2v`` with vector size **200** and window size **5**.  Words must appear in at least **10** documents to be kept in the model. Use a seed of **42**."
      ]
    },
    {
      "cell_type": "code",
      "execution_count": null,
      "metadata": {
        "id": "bD-TghawD6iR"
      },
      "outputs": [],
      "source": [
        "%%time\n",
        "from gensim.models import Word2Vec\n",
        "\n",
        "class IterableSentence_fromfile(object):\n",
        "    def __init__(self, filename):\n",
        "        self.__filename = filename\n",
        "\n",
        "    def __iter__(self):\n",
        "        for line in open(self.__filename):\n",
        "            # assume there's one sentence per line, tokens separated by whitespace\n",
        "            yield line.split()\n",
        "\n",
        "sentences = IterableSentence_fromfile(\"imdb_lemmas_clean.txt\") # a memory-friendly iterator\n",
        "\n",
        "# <SOL>\n",
        "\n",
        "# </SOL>"
      ]
    },
    {
      "cell_type": "markdown",
      "metadata": {
        "id": "6dsHfzAPLA6K"
      },
      "source": [
        "Once the model is trained, it is accessible via the ``wv`` attribute, which is the actual word vector model in which queries can be made.\n",
        "\n",
        "We can see the learned vocabulary of the model through the dictionary ``key_to_index``, that is, the target words for which we have calculated an embedding, as well as the corresponding embeddings for these words, as follows:"
      ]
    },
    {
      "cell_type": "code",
      "execution_count": null,
      "metadata": {
        "id": "XHQSvI_SFo35"
      },
      "outputs": [],
      "source": [
        "print(colored('\\n============= Word2Vec vocabulary =============', 'blue'))\n",
        "words = list(model_w2v.wv.key_to_index)\n",
        "print(words[0:50])\n",
        "print(colored('\\n============= Embedding of the first word =============', 'blue'))\n",
        "print(model_w2v.wv[words[0]])"
      ]
    },
    {
      "cell_type": "markdown",
      "metadata": {
        "id": "gAZ7LTYasFfE"
      },
      "source": [
        "We can save the trained model by calling the ``save()`` function, and we can load it again by calling the ``load()`` method."
      ]
    },
    {
      "cell_type": "code",
      "execution_count": null,
      "metadata": {
        "id": "Gvn_5zpwsUaA"
      },
      "outputs": [],
      "source": [
        "model_w2v.save(\"model_w2v_imbd_sampling03.model\")\n",
        "\n",
        "# This function will load the model, but we will not be using it here\n",
        "#model_w2v = Word2Vec.load(\"model_w2v_imbd_sampling03.model\")"
      ]
    },
    {
      "cell_type": "markdown",
      "metadata": {
        "id": "MS57-2OVrxM4"
      },
      "source": [
        "Since we are not going to keep with the training at this moment, we do not need the full model state anymore. Hence, we can store the words and their trained embeddings and load them back as ``KeyedVectors``, which is essentially a mapping between keys and vectors. This results in a much smaller and faster object that can be mapped for lightning-fast loading and sharing the vectors in RAM between processes."
      ]
    },
    {
      "cell_type": "code",
      "execution_count": null,
      "metadata": {
        "id": "m37qaMVGsDRp"
      },
      "outputs": [],
      "source": [
        "from gensim.models import KeyedVectors\n",
        "\n",
        "# Store just the words + their trained embeddings.\n",
        "word_vectors = model_w2v.wv\n",
        "word_vectors.save(\"model_w2v_imbd_sampling03.wordvectors\")\n",
        "\n",
        "# Load back with memory-mapping = read-only, shared across processes.\n",
        "wv = KeyedVectors.load(\"model_w2v_imbd_sampling03.wordvectors\", mmap='r')"
      ]
    },
    {
      "cell_type": "markdown",
      "metadata": {
        "id": "Iry7Bmb7je23"
      },
      "source": [
        "Let's free the memory.\n",
        "\n"
      ]
    },
    {
      "cell_type": "code",
      "execution_count": null,
      "metadata": {
        "id": "LXMLquuLjmJQ"
      },
      "outputs": [],
      "source": [
        "del model_w2v\n",
        "gc.collect()"
      ]
    },
    {
      "cell_type": "markdown",
      "metadata": {
        "id": "uoeTBWfuR3qe"
      },
      "source": [
        "Since we have represented our words as numerical vectors, we can utilize the Euclidean distance (or cosine similarity) among two word vectors to measure the linguistic or semantic similarity of the corresponding words. To do this, Gensim provides the function ``most_similar`` which returns the most similar words from a given word."
      ]
    },
    {
      "cell_type": "code",
      "execution_count": null,
      "metadata": {
        "id": "_B-J-jsFpFrr"
      },
      "outputs": [],
      "source": [
        "wv.most_similar(positive=\"cinema\")"
      ]
    },
    {
      "cell_type": "code",
      "execution_count": null,
      "metadata": {
        "id": "qeGSsmMiSiaX"
      },
      "outputs": [],
      "source": [
        "wv.most_similar(positive=\"restaurant\")"
      ]
    },
    {
      "cell_type": "markdown",
      "metadata": {
        "id": "TiTioJ1iWGoe"
      },
      "source": [
        "We can also check the performance of our model by visualizing the embeddings. However, although embeddings are low-dimensional vectors, even 4 dimensions are too high to visualize. [t-SNE](https://en.wikipedia.org/wiki/T-distributed_stochastic_neighbor_embedding) (*t-distributed Stochastic Neighbor Embedding*) solves this problem as it allows for visualizing high-dimensional data by reducing them to two or three-dimensional data. The technique takes in the embeddings (or any data) and aims at preserving as much as possible in 2 (or 3) dimensions the distances from the original space of the embedding dimension. This, therefore, helps us to get a feel for the space of word embedding.\n",
        "\n",
        "\n",
        "Sklearn includes an implementation of [t-SNE](https://scikit-learn.org/stable/modules/generated/sklearn.manifold.TSNE.html) that we can easily use."
      ]
    },
    {
      "cell_type": "code",
      "execution_count": null,
      "metadata": {
        "id": "a3xzHvHxFvjc"
      },
      "outputs": [],
      "source": [
        "from sklearn.manifold import TSNE\n",
        "\n",
        "tsne = TSNE(init='random')\n",
        "embed_tsne = tsne.fit_transform(wv.vectors)\n",
        "\n",
        "# We plot only 500 embeddings\n",
        "fig, ax = plt.subplots(figsize=(16, 16))\n",
        "for idx, word in enumerate((list(wv.key_to_index.keys())[:500])):\n",
        "    plt.scatter(*embed_tsne[idx, :], color='steelblue')\n",
        "    plt.annotate(word, (embed_tsne[idx, 0], embed_tsne[idx, 1]), alpha=0.7)\n",
        "\n",
        "plt.grid()"
      ]
    },
    {
      "cell_type": "code",
      "execution_count": null,
      "metadata": {
        "id": "X8W9Lt63zYe1"
      },
      "outputs": [],
      "source": [
        "del embed_tsne\n",
        "gc.collect()"
      ]
    },
    {
      "cell_type": "markdown",
      "metadata": {
        "id": "SuoGxSC1pOnR"
      },
      "source": [
        "From the above results, we can see that our word2vec model does not do a bad job, but it could still be improved. Certainly, we need to train on a much larger dataset to obtain a coherent embedding structure."
      ]
    },
    {
      "cell_type": "markdown",
      "metadata": {
        "id": "RZI1VQL6oikR"
      },
      "source": [
        "### *2.2. Sentiment Analysis with ad-hoc trained Word2Vec embeddings*"
      ]
    },
    {
      "cell_type": "markdown",
      "metadata": {
        "id": "XDoSzjZAoqJr"
      },
      "source": [
        "Since our data contains reviews and not just words, we need to figure out a way to use the word vectors from the word2vec model to create a vector representation for an entire review. One simple solution to achieve this is to take the mean of all the word vectors present in the review.\n",
        "\n",
        "Since when we constructed our Word2Vec model we filtered out those words which did not have an overall frequency of 10, we may encounter that our reviews contain some words that are not in the vocabulary of the model, i.e., they are out-of-vocabulary words (OOV)."
      ]
    },
    {
      "cell_type": "markdown",
      "metadata": {
        "id": "sbTr81jZR2se"
      },
      "source": [
        "##### **Exercise 3**\n",
        "\n",
        "Implement the function ``get_vocabulary_coverage`` which, given a ``KeyedVectors`` object and the Gensim dictionary associated with the reviews, calculates the vocabulary coverage of the model. Take into account the frequency with which the OOV words appear in the reviews.\n",
        "\n",
        "Then, calculate the coverage of the Word2Vec model on the IMDB vocabulary."
      ]
    },
    {
      "cell_type": "code",
      "execution_count": null,
      "metadata": {
        "id": "fSz5_O2ESPM_"
      },
      "outputs": [],
      "source": [
        "def get_vocabulary_coverage(model, gensim_dict):\n",
        "  # <SOL>\n",
        "  # TODO: Implement body\n",
        "  # </SOL>\n",
        "  return coverage\n",
        "\n",
        "# <SOL>\n",
        "# TODO: Use function \"get_vocabulary_coverage\" to calculate coverage and print result\n",
        "# </SOL>"
      ]
    },
    {
      "cell_type": "markdown",
      "metadata": {
        "id": "i6gP_WtFMu0S"
      },
      "source": [
        "##### **Exercise 4**\n",
        "\n",
        "Implement the function ``get_review_vector`` which, given a ``KeyedVectors`` object, and a list of tokens representing a review returns the embedding vector for such a review by taking the average of the vectors of the words present in the given review. Ignore the OOV words.\n",
        "\n",
        "Once you have the function, calculate the reviews' embedding vectors. Save them in a matrix of dimensions $[n_{reviews}, e_{size}]$, where $e_{size}$ is the embedding size of the model."
      ]
    },
    {
      "cell_type": "code",
      "execution_count": null,
      "metadata": {
        "id": "NulBrdHmospa"
      },
      "outputs": [],
      "source": [
        "def get_review_vector(model, review):\n",
        "  # <SOL>\n",
        "  # TODO: Implement body\n",
        "  # </SOL>\n",
        "  return vec\n",
        "\n",
        "# <SOL>\n",
        "# TODO: Calculate embedding vectors for each review and save them in a sparse matrix\n",
        "# </SOL>"
      ]
    },
    {
      "cell_type": "markdown",
      "metadata": {
        "id": "w5YP_5jjYxZj"
      },
      "source": [
        "##### **Exercise 5**\n",
        "Classify the reviews based on the Word2Vec embeddings representation with an SVM classifier. Split the data into a $70:30$ ratio for training and test with a $42$ random_state and use ``GridSearchCV`` to find the best hyperparameters values (``C`` and ``kernel``) for the classifier. Consider the grid search of the parameter ``C`` between 1 and 10 in intervals of 2, and try out the ``rbf`` and the ``linear`` kernels. At last, evaluate the performance of the classifier based on  its mean accuracy on the given test data and labels (``score`` function of the SVM classifier)."
      ]
    },
    {
      "cell_type": "code",
      "execution_count": null,
      "metadata": {
        "id": "f-D90EwWFBWx"
      },
      "outputs": [],
      "source": [
        "# <SOL>\n",
        "\n",
        "# </SOL>"
      ]
    },
    {
      "cell_type": "markdown",
      "metadata": {
        "id": "NJ5xyK2jLSmD"
      },
      "source": [
        "## *3. GloVe*"
      ]
    },
    {
      "cell_type": "markdown",
      "metadata": {
        "id": "ccBbDEa1wrQR"
      },
      "source": [
        "### *3.1. Pre-trained GloVe models in Gensim*"
      ]
    },
    {
      "cell_type": "markdown",
      "metadata": {
        "id": "pIC6JeEftowe"
      },
      "source": [
        "For a specific NLP task, training our own word vectors may be the optimal strategy. However, it may require a long time, a fast computer with plenty of RAM and disc space, and maybe some experience in fine-tuning the input data and training algorithm. Another option is to just utilize pre-trained word embeddings.\n",
        "\n",
        "For example, Gensim includes functions to exploit a set of [pre-trained *embeddings*](https://github.com/RaRe-Technologies/gensim-data)."
      ]
    },
    {
      "cell_type": "code",
      "execution_count": null,
      "metadata": {
        "id": "5tfkmIHeMFJ7"
      },
      "outputs": [],
      "source": [
        "from gensim import downloader\n",
        "\n",
        "print(colored('\\n============= Available pre-trained models in Gensim =============', 'blue'))\n",
        "print(list(downloader.info()['models'].keys()))"
      ]
    },
    {
      "cell_type": "markdown",
      "metadata": {
        "id": "nJ1TBheYFy6p"
      },
      "source": [
        "As we can see above, many of the pretrained models provided by Gensim are GloVe models. The pretrained GloVe embeddings come in many sizes and shapes, with dimensions in the range $[25,30]$, and vocabularies varying between $400,000$ and $2,200,000$ words.\n",
        "\n",
        "Let's use Gensim's downloader to get the ``glove-wiki-gigaword-50``, which is the smallest available GloVe model. It was trained on Wikipedia 2014 and Gigawords, contains $400,000$ vocabulary words and its embeddings have a dimension of $50$."
      ]
    },
    {
      "cell_type": "code",
      "execution_count": null,
      "metadata": {
        "id": "EhLKmdwGOa3G"
      },
      "outputs": [],
      "source": [
        "glove = downloader.load('glove-wiki-gigaword-50')\n",
        "\n",
        "print(f\"The dictionary size is {glove.vectors.shape[0]}.\\n\\\n",
        "        Each embedding has a dimension of {glove.vectors.shape[1]}\")"
      ]
    },
    {
      "cell_type": "markdown",
      "metadata": {
        "id": "YigTqqzdrz0Y"
      },
      "source": [
        "### *3.2. Semantic operations with embeddings*"
      ]
    },
    {
      "cell_type": "markdown",
      "metadata": {
        "id": "KRIbeDHA6rmq"
      },
      "source": [
        "One interesting thing that we can do with word vectors, which is easily perceptible with the GloVe-based embeddings we just loaded, is to perform algebra arithmetic with words. A famous example is the following equation:\n",
        "\n",
        "``\n",
        "queen = (king - man) + woman\n",
        "``\n",
        "\n",
        "That is, the word ``queen`` is the closest word to the operation consisting of subtracting ``man`` from ``king`` and adding the word ``woman``. The quality of \"being a man\" is replaced with that of \"being a woman\", leading to the word queen.\n",
        "\n",
        "We can perform this operation in Gensim as follows:"
      ]
    },
    {
      "cell_type": "code",
      "execution_count": null,
      "metadata": {
        "id": "Kg3PdFjAdLIx"
      },
      "outputs": [],
      "source": [
        "glove.most_similar(positive=['woman', 'king'], negative=['man'], topn=1)"
      ]
    },
    {
      "cell_type": "code",
      "execution_count": null,
      "metadata": {
        "id": "JWAvdvx3-F7f"
      },
      "outputs": [],
      "source": [
        "synthetic_queen = glove['king'] - glove['man'] + glove['woman']\n",
        "glove.similar_by_vector(synthetic_queen, topn=5)"
      ]
    },
    {
      "cell_type": "markdown",
      "metadata": {
        "id": "XprnAvcP8qYr"
      },
      "source": [
        "The above result indicates that the term most comparable to the arithmetic operation result (synthetic queen) is the original word itself. This is pretty typical when conducting word arithmetic operations, which is why we usually omit the original word from the output, thus being the most similar word to our synthetic_queen the actual queen.\n",
        "\n",
        "The general idea here is that the embeddings have learned to **encode abstract dimensions**, like gender, genealogy, or profession. Yet, none of these abstract dimensions correspond to a single numerical dimension. In its 50-dimensional feature space, the model learned to place ``the man`` as far apart from ``woman`` as ``king`` is from ``queen`` (roughly approximating the gender difference between the two). Similarly, the model learned to place ``king`` as far apart from ``man`` as ``queen`` is from ``woman`` (roughly approximating the difference of being a royal). We can visualize this concept when projected in two dimensions as shown below:\n",
        "\n",
        "<img src=\"https://drive.google.com/uc?id=1TO3WS4-RKkL_AO---ZFAEzxcDLHjEMEu\" width=\"40%\">\n",
        "\n",
        "From the figure above, it should be relatively clear that both arrows pointing up (blue) are approximately the same size, thus resulting in the equation below:\n",
        "\n",
        "\\begin{align}\n",
        "    w_{king} - w_{man} &≃ w_{queen} - w_{woman}\\\\\n",
        "    w_{king} - w_{man} &+ w_{woman} ≃ w_{queen}\n",
        "\\end{align}"
      ]
    },
    {
      "cell_type": "markdown",
      "metadata": {
        "id": "IfPNRMvas0V2"
      },
      "source": [
        "We can observe how the word vectors also include information to relate countries with nationalities, months of the year, family relationships, etc."
      ]
    },
    {
      "cell_type": "code",
      "execution_count": null,
      "metadata": {
        "colab": {
          "base_uri": "https://localhost:8080/",
          "height": 106
        },
        "id": "aqjwAlQLsnl9",
        "outputId": "41347828-01b5-4e6a-f73b-989211c7bd6b"
      },
      "outputs": [
        {
          "data": {
            "text/html": [
              "\n",
              "  <style>\n",
              "    pre {\n",
              "        white-space: pre-wrap;\n",
              "    }\n",
              "  </style>\n",
              "  "
            ],
            "text/plain": [
              "<IPython.core.display.HTML object>"
            ]
          },
          "metadata": {},
          "output_type": "display_data"
        },
        {
          "data": {
            "text/html": [
              "\n",
              "  <style>\n",
              "    pre {\n",
              "        white-space: pre-wrap;\n",
              "    }\n",
              "  </style>\n",
              "  "
            ],
            "text/plain": [
              "<IPython.core.display.HTML object>"
            ]
          },
          "metadata": {},
          "output_type": "display_data"
        },
        {
          "data": {
            "text/html": [
              "\n",
              "  <style>\n",
              "    pre {\n",
              "        white-space: pre-wrap;\n",
              "    }\n",
              "  </style>\n",
              "  "
            ],
            "text/plain": [
              "<IPython.core.display.HTML object>"
            ]
          },
          "metadata": {},
          "output_type": "display_data"
        },
        {
          "name": "stdout",
          "output_type": "stream",
          "text": [
            "King - Man + Woman =  [('queen', 0.8523604273796082)]\n",
            "France - Paris + Rome =  [('italy', 0.8614554405212402)]\n",
            "France - french + english =  [('england', 0.8093705177307129)]\n",
            "December - November + June =  [('july', 0.9906677603721619)]\n",
            "Man - Woman + Sister =  [('friend', 0.8550175428390503)]\n"
          ]
        }
      ],
      "source": [
        "result = glove.most_similar(positive=['woman', 'king'], negative=['man'], topn=1)\n",
        "print('King - Man + Woman = ',result)\n",
        "result = glove.most_similar(positive=['rome', 'france'], negative=['paris'], topn=1)\n",
        "print('France - Paris + Rome = ',result)\n",
        "result = glove.most_similar(positive=['english', 'france'], negative=['french'], topn=1)\n",
        "print('France - french + english = ',result)\n",
        "result = glove.most_similar(positive=['june', 'december'], negative=['november'], topn=1)\n",
        "print('December - November + June = ',result)\n",
        "result = glove.most_similar(positive=['sister', 'man'], negative=['woman'], topn=1)\n",
        "print('Man - Woman + Sister = ',result)"
      ]
    },
    {
      "cell_type": "markdown",
      "metadata": {
        "id": "79IF3joUsp3S"
      },
      "source": [
        "In conclusion, word embeddings are indeed quite capable of capturing and maintaining the semantic relationship between different words."
      ]
    },
    {
      "cell_type": "markdown",
      "metadata": {
        "id": "BdT-qnm3tmAy"
      },
      "source": [
        "### *3.3. Sentiment Analysis with pretrained GloVe embeddings*"
      ]
    },
    {
      "cell_type": "markdown",
      "metadata": {
        "id": "xGt_hnwotMSZ"
      },
      "source": [
        "##### **Exercise 6**\n",
        "\n",
        "Analyze the vocabulary coverage of the GloVe embeddings on the IMBD dataset. How is it in comparison to the provided Word2Vec model trained on the IMBD corpus?"
      ]
    },
    {
      "cell_type": "code",
      "execution_count": null,
      "metadata": {
        "id": "TQ1koEbkt1Sm"
      },
      "outputs": [],
      "source": [
        "# <SOL>\n",
        "\n",
        "# </SOL>"
      ]
    },
    {
      "cell_type": "markdown",
      "metadata": {
        "id": "MjCAxfWEuWxo"
      },
      "source": [
        "##### **Exercise 7**\n",
        "\n",
        "Obtain the embedding representation of the reviews based on GloVe's word vectors, train an SVM classifier with them and evaluate its accuracy. Use the same training and evaluation configuration as in Exercise 5."
      ]
    },
    {
      "cell_type": "code",
      "execution_count": null,
      "metadata": {
        "id": "vn7W4b0Nuwer"
      },
      "outputs": [],
      "source": [
        "# <SOL>\n",
        "\n",
        "# </SOL>"
      ]
    },
    {
      "cell_type": "code",
      "execution_count": null,
      "metadata": {
        "id": "KxqeqCUCzc1d"
      },
      "outputs": [],
      "source": [
        "del glove\n",
        "gc.collect()"
      ]
    },
    {
      "cell_type": "markdown",
      "metadata": {
        "id": "o53v0g-GLUy-"
      },
      "source": [
        "## *4. FastText*"
      ]
    },
    {
      "cell_type": "markdown",
      "metadata": {
        "id": "2oc7Ed2dwBtI"
      },
      "source": [
        "### *4.1. Representation of OOV with ad-hoc vs pre-trained fastText model in Gensim*"
      ]
    },
    {
      "cell_type": "markdown",
      "metadata": {
        "id": "sH4_LFKKxBTc"
      },
      "source": [
        "We will be using [Gensim's implementation to learn word representations via fastText](https://radimrehurek.com/gensim/models/fasttext.html), which allows training word embeddings from a training corpus with the additional ability to obtain word vectors for out-of-vocabulary words.\n",
        "\n",
        "Similar to what we did with Word2Vec, we can obtain the ad-hoc embeddings of our reviews based on the fastText model. Input must be given in the same format as Word2Vec, i.e., as a sequence of sentences, where each sentence is a list of words, that can be given as an iterator for efficient memory management.\n",
        "\n",
        "Many of the construction parameters are common to the Word2Vec class:\n",
        "\n",
        "* `vector_size` (embedding size): the number of dimensions for the vector representation. The default is 100.\n",
        "* `window` (window size): the number of adjacent words that are considered to be in the same context as a target word. The default is 5.\n",
        "* `min_count`: minimum number of times a word must appear in the corpus to be considered in the model.\n",
        "\n",
        "Once trained, we can similarly save/load the model as we saw in Word2Vec."
      ]
    },
    {
      "cell_type": "markdown",
      "metadata": {
        "id": "xvyvFi-Yyv0B"
      },
      "source": [
        "##### **Exercise 8**\n",
        "\n",
        "Train a FastText model named ``model_fasttext`` on the IMDB dataset. Use an embedding size of $200$, words must appear in at least $10$ documents to be kept in the model, and a window size of $5$ and random_state $42$. Use the class ``IterableSentence_fromfile`` above defined to create an iterator that yields one sentence (list of utf8 words) after another from the file ``\"imdb_lemmas_clean.txt\"``."
      ]
    },
    {
      "cell_type": "code",
      "execution_count": null,
      "metadata": {
        "id": "10GT0_4JyvQn"
      },
      "outputs": [],
      "source": [
        "%%time\n",
        "from gensim.models import FastText\n",
        "\n",
        "# <SOL>\n",
        "\n",
        "# </SOL>"
      ]
    },
    {
      "cell_type": "code",
      "execution_count": null,
      "metadata": {
        "id": "ZeynOhTj0fjS"
      },
      "outputs": [],
      "source": [
        "# Save model\n",
        "model_fasttext.save(\"model_fastText.model\")\n",
        "\n",
        "# Store just the words + their trained embeddings.\n",
        "word_vectors = model_fasttext.wv\n",
        "word_vectors.save(\"model_fastText.wordvectors\")\n",
        "\n",
        "# Load back with memory-mapping = read-only, shared across processes.\n",
        "fastText_wv = KeyedVectors.load(\"model_fastText.wordvectors\", mmap='r')"
      ]
    },
    {
      "cell_type": "code",
      "execution_count": null,
      "metadata": {
        "id": "ip9_nLuW0fjS"
      },
      "outputs": [],
      "source": [
        "del model_fasttext\n",
        "gc.collect()"
      ]
    },
    {
      "cell_type": "markdown",
      "metadata": {
        "id": "ab349ZEaQp0n"
      },
      "source": [
        "By representing the TSNE representation of the fastText embeddings we can see its better ability to group words with the same root (and similar meaning) as opposed to Word2Vec."
      ]
    },
    {
      "cell_type": "code",
      "execution_count": null,
      "metadata": {
        "id": "jCsM3NljQ3TZ"
      },
      "outputs": [],
      "source": [
        "tsne = TSNE(init='random')\n",
        "embed_tsne = tsne.fit_transform(fastText_wv.vectors[:500,:])\n",
        "fig, ax = plt.subplots(figsize=(16, 16))\n",
        "for idx, word in enumerate((list(fastText_wv.key_to_index.keys())[:500])):\n",
        "    plt.scatter(*embed_tsne[idx, :], color='steelblue')\n",
        "    plt.annotate(word, (embed_tsne[idx, 0], embed_tsne[idx, 1]), alpha=0.7)\n",
        "\n",
        "\n",
        "plt.grid()"
      ]
    },
    {
      "cell_type": "code",
      "execution_count": null,
      "metadata": {
        "id": "4CAjmw0HS_d-"
      },
      "outputs": [],
      "source": [
        "del embed_tsne\n",
        "gc.collect()"
      ]
    },
    {
      "cell_type": "markdown",
      "metadata": {
        "id": "mg_vC2eN9VWL"
      },
      "source": [
        "Another interesting thing to look at from the fastText model is its ability to group words with the same root (and similar meaning). This allows fastText's ability to obtain embeddings for out-of-dictionary (OOV) words, as opposed to Word2Vec:"
      ]
    },
    {
      "cell_type": "code",
      "execution_count": null,
      "metadata": {
        "id": "xR5A95TM20UE"
      },
      "outputs": [],
      "source": [
        "# Wor2Vec for word 'dichlorodiphenyltrichloroethane'\n",
        "word = 'dichlorodiphenyltrichloroethane'\n",
        "if (word in wv.key_to_index):\n",
        "    print(wv[word])\n",
        "else:\n",
        "    print(f'The word {word} does not belong to the dictionary. Wor2Vec cannot assign an embedding.')"
      ]
    },
    {
      "cell_type": "code",
      "execution_count": null,
      "metadata": {
        "id": "5h3gC8aw255p"
      },
      "outputs": [],
      "source": [
        "# fastText constructs an embedding from the embeddings of the constituent subwords\n",
        "if not (word in fastText_wv.key_to_index):\n",
        "    print(f'The word {word} does not belong to the dictionary. The embedding constructed from the subwords is:\\n')\n",
        "    print(fastText_wv[word])\n",
        "    print('\\nAnd its closest neighbors are:')\n",
        "    print(fastText_wv.most_similar(word))"
      ]
    },
    {
      "cell_type": "markdown",
      "metadata": {
        "id": "OocbKVBs3T4Y"
      },
      "source": [
        "The OOV embedding neighbours make little sense since the embedding dictionary was learned on a relatively tiny dataset. Let us now consider the usage of **pre-trained models**.\n",
        "\n",
        "Since we want to keep fastText ability to obtain the embedding representation of OOV, using Gensim's KeyedVectors is not an option, as it only maintains a simple word (as key) to vector (as value) mapping. To solve this issue, we are instead going to be using the library [Compress-fastText\n",
        "](https://pypi.org/project/compress-fasttext/), that allows us to load pretrained fastText models as instances of the class **CompressedFastTextKeyedVectors**, which does synthesize vectors for out-of-vocabulary words.\n"
      ]
    },
    {
      "cell_type": "code",
      "execution_count": null,
      "metadata": {
        "id": "V8t0IO5oEKFh"
      },
      "outputs": [],
      "source": [
        "try:\n",
        "  import compress_fasttext\n",
        "except ModuleNotFoundError:\n",
        "  %pip install compress-fasttext\n",
        "  import compress_fasttext"
      ]
    },
    {
      "cell_type": "code",
      "execution_count": null,
      "metadata": {
        "id": "NTfHxPJQEEpE"
      },
      "outputs": [],
      "source": [
        "fastTextPre = compress_fasttext.models.CompressedFastTextKeyedVectors.load(\n",
        "    'https://github.com/avidale/compress-fasttext/releases/download/v0.0.4/cc.en.300.compressed.bin'\n",
        ")"
      ]
    },
    {
      "cell_type": "code",
      "execution_count": null,
      "metadata": {
        "id": "fJpbeNc06NnD"
      },
      "outputs": [],
      "source": [
        "if not (word in fastTextPre.key_to_index):\n",
        "    print(f'The word {word} does not belong to the dictionary. The embedding constructed from the subwords is:\\n')\n",
        "    print(fastTextPre[word])\n",
        "    print('\\nAnd its closest neighbors are:')\n",
        "    print(fastTextPre.most_similar(word))"
      ]
    },
    {
      "cell_type": "markdown",
      "metadata": {
        "id": "aCWdcOE1Sgy-"
      },
      "source": [
        "As we can observe now, the OOV embedding neighbours do make sense."
      ]
    },
    {
      "cell_type": "markdown",
      "metadata": {
        "id": "RZ7pR81f6qD7"
      },
      "source": [
        "### *4.2. Sentiment Analysis with ad-hoc and pre-trained fastText embeddings*"
      ]
    },
    {
      "cell_type": "markdown",
      "metadata": {
        "id": "E1xvVjeb5k17"
      },
      "source": [
        "##### **Exercise 9**\n",
        "\n",
        "Obtain the embedding representation of the reviews based on the **ad-hoc fastText's word vectors obtained from the IMDB dataset**, train an SVM classifier with them, and evaluate its performance. Use the same training and evaluation configuration as in Exercise 5."
      ]
    },
    {
      "cell_type": "code",
      "execution_count": null,
      "metadata": {
        "id": "U70fRjNO3fgo"
      },
      "outputs": [],
      "source": [
        "# <SOL>\n",
        "\n",
        "# </SOL>"
      ]
    },
    {
      "cell_type": "markdown",
      "metadata": {
        "id": "w1RFt61b7TF7"
      },
      "source": [
        "##### **Exercise 10**\n",
        "\n",
        "Obtain the embedding representation of the reviews based on the **pre-trained fastText word vectors**, train an SVM classifier with them, and evaluate its performance. Use the same training and evaluation configuration as in Exercise 5."
      ]
    },
    {
      "cell_type": "code",
      "execution_count": null,
      "metadata": {
        "id": "I30oQfPU6WFZ"
      },
      "outputs": [],
      "source": [
        "# <SOL>\n",
        "# TODO: Obtain the embedding representation\n",
        "# This part is going to print a lot of message, so it is better if you make the\n",
        "# training of the classifier in the next cell\n",
        "# </SOL>"
      ]
    },
    {
      "cell_type": "code",
      "execution_count": null,
      "metadata": {
        "id": "mtaaYP-6kEM2"
      },
      "outputs": [],
      "source": [
        "# <SOL>\n",
        "# TODO: Train classifier with pre-trained fastText word vectors\n",
        "# </SOL>"
      ]
    },
    {
      "cell_type": "markdown",
      "metadata": {
        "id": "SFxfB4mDjyfc"
      },
      "source": [
        "Additionally, the Compress-fastText library allows feeding fastText embeddings to some other model via the ``FastTextTransformer`` class, which makes use of the scikit-learn interface and **represents a text as the average of the embedding of its words**. Hence, we can directly use it for training our SVM on top of fastText as follows:"
      ]
    },
    {
      "cell_type": "code",
      "execution_count": null,
      "metadata": {
        "id": "idqh4UPaTGjG"
      },
      "outputs": [],
      "source": [
        "import compress_fasttext\n",
        "from sklearn.pipeline import make_pipeline\n",
        "from compress_fasttext.feature_extraction import FastTextTransformer\n",
        "\n",
        "corpus_train = [corpus[i] for i in id_train.tolist()]\n",
        "corpus_test = [corpus[i] for i in id_test.tolist()]\n",
        "y_train = Y[id_train]\n",
        "y_test = Y[id_test]\n",
        "\n",
        "parameters = {'kernel':('linear', 'rbf'), 'C':np.arange(1,11,2)}\n",
        "classifier = make_pipeline(\n",
        "    FastTextTransformer(model=fastTextPre),\n",
        "    GridSearchCV(estimator=svm.SVC(), param_grid = parameters, cv = 2, n_jobs=-1)\n",
        ").fit(corpus_train,y_train)\n",
        "classifier.predict(corpus_test)\n",
        "score_fastText_pipeline = classifier.score(corpus_test, y_test)\n",
        "print(\"\\n Accuracy with pre-trained FastText embeddings via FastTextTransformer :\\n\",score_fastText_pipeline)"
      ]
    },
    {
      "cell_type": "code",
      "execution_count": null,
      "metadata": {
        "id": "vvSJxBYK8Hhv"
      },
      "outputs": [],
      "source": [
        "del fastTextPre\n",
        "gc.collect()"
      ]
    },
    {
      "cell_type": "markdown",
      "metadata": {
        "id": "1URYugcELYtP"
      },
      "source": [
        "## *5. ELMo*"
      ]
    },
    {
      "cell_type": "markdown",
      "metadata": {
        "id": "uJHuUDsRLoa3"
      },
      "source": [
        "The ELMo model consists of $L = 2$ biLSTM layers with $4,096$ units and $512$ dimension projections and a residual connection from the first to the second layer. It was trained on a really large corpus consisting of $5,5$ billion words. Since ELMo representations are character-based, they can handle OOV words. Additionally, it provides a contextual representation for each word which depends on the entire context in which it is used. You can find more details about both its implementation and pre-trained weights at [AllenNLP's ELMo site](https://allenai.org/allennlp/software/elmo).\n",
        "\n",
        "ELMo embeddings are **deep** because their word representations combine all layers of the deep pre-trained neural network: they result from combining traditional word embeddings and the hidden states from the two biLSTMs. Because embeddings and hidden states both have $512 $dimensions, there is one $512$-dimension embedding and two $512$-dimension hidden states in each direction (one for each layer). That's $1536$ dimensions in each direction, which makes a total of $3072$ dimensions.\n",
        "\n",
        "<img src=\"https://drive.google.com/uc?id=130IQhKGOS3d0WUZ9ameIimbjNSMqP_us\" width=\"70%\">\n",
        "\n",
        "Because both LSTMs use identical inputs, the word embeddings are duplicated. The first two pieces of 512 dimensions are identical to the first 3072 dimensions.\n",
        "\n",
        "<img src=\"https://drive.google.com/uc?id=1NhaDNcTHHYr44le7ofdR4pFa8UyC0omV\" width=\"25%\">\n",
        "\n",
        "Since the classical word embeddings are context-independent, if we obtain the ELMo embeddings of two polysemic words they will share the same values in their first $1024$ dimensions."
      ]
    },
    {
      "cell_type": "markdown",
      "metadata": {
        "id": "RXAt6l3HqkvS"
      },
      "source": [
        "### *5.1. ELMo embeddings in Flair*"
      ]
    },
    {
      "cell_type": "markdown",
      "metadata": {
        "id": "lG21PbD3qgnR"
      },
      "source": [
        "We could train an ad-hoc ELMo model for our corpus, for example through the [AllenNLP's PyTorch-based NLP framework](https://guide.allennlp.org/), but for the sake of this tutorial we are going to retrieve the ELMo embeddings using the [Flair library](https://pypi.org/project/flair/). Flair is an NLP framework built on top of Pytorch that offers a text embedding library that provides word embeddings and document embeddings for models like ELMo, and BERT, as well as classical word embeddings like GloVe."
      ]
    },
    {
      "cell_type": "code",
      "execution_count": null,
      "metadata": {
        "id": "cjmVGsoHk6m-"
      },
      "outputs": [],
      "source": [
        "%pip install allennlp==0.9.0\n",
        "import torch\n",
        "%pip install flair==0.4.3\n",
        "import flair\n",
        "%pip install overrides==3.1.0"
      ]
    },
    {
      "cell_type": "markdown",
      "metadata": {
        "id": "FkdXlPgS9_Jg"
      },
      "source": [
        "<font color='red'>Be aware that you will probably need to restart the environment after executing the former cell. You do not need to execute the whole notebook again after it if you are just going to keep on working with this section. Still, make sure that you do execute the cells concerning the imports at the beginning, as well as the steps in **Section 1**; otherwise, you will not have access to the reviews, nor the labels. </font>"
      ]
    },
    {
      "cell_type": "markdown",
      "metadata": {
        "id": "pKreANEIj-Zm"
      },
      "source": [
        "Flair data types have two objects, namely **sentence** and **token** objects. Sentences are lists of tokens that hold textual sentences. Then, every text sentence is a Sentence object that is created using the corresponding text."
      ]
    },
    {
      "cell_type": "code",
      "execution_count": null,
      "metadata": {
        "id": "iUjpfz6kfGxa"
      },
      "outputs": [],
      "source": [
        "sentence1 = \"My investment adviser at my local bank called to discuss my portfolio.\"\n",
        "sentence2 = \"Every day this sweet old lady sits on the same bank at my local park to feed the ducks.\"\n",
        "\n",
        "sentences = [sentence1, sentence2]"
      ]
    },
    {
      "cell_type": "code",
      "execution_count": null,
      "metadata": {
        "id": "H94dpiiekHj5"
      },
      "outputs": [],
      "source": [
        "from flair.data import Sentence\n",
        "\n",
        "flair_senteces = [Sentence(s) for s in sentences]\n",
        "\n",
        "print(colored('\\n============= Sentence =============', 'blue'))\n",
        "print(sentences[0])\n",
        "print(colored('\\n============= Flair sentence =============', 'blue'))\n",
        "print(flair_senteces[0])"
      ]
    },
    {
      "cell_type": "markdown",
      "metadata": {
        "id": "tys29wg1f2Mn"
      },
      "source": [
        "Specific tokens can be retrieved through either the ``get_token()`` method or the ``tokens`` attribute. Please, note that the first method assumes indexing starts at one, while the attribute approach has the typical zero-based indexing."
      ]
    },
    {
      "cell_type": "code",
      "execution_count": null,
      "metadata": {
        "id": "mlwUPv_gkJeb"
      },
      "outputs": [],
      "source": [
        "print(flair_senteces[0].get_token(7) == flair_senteces[0].tokens[6])\n",
        "print(flair_senteces[0].get_token(6))"
      ]
    },
    {
      "cell_type": "markdown",
      "metadata": {
        "id": "enPMHh9Fgbup"
      },
      "source": [
        "Now we can use these Sentence objects to retrieve their corresponding ELMo embeddings."
      ]
    },
    {
      "cell_type": "code",
      "execution_count": null,
      "metadata": {
        "id": "ZwxQ3TAog3nU"
      },
      "outputs": [],
      "source": [
        "from flair.embeddings import ELMoEmbeddings\n",
        "\n",
        "elmo_embedding = ELMoEmbeddings()\n",
        "elmo_embedding.embed(flair_senteces)"
      ]
    },
    {
      "cell_type": "markdown",
      "metadata": {
        "id": "PRl7wo7shHtw"
      },
      "source": [
        "The example sentences we created above use the word ``bank`` in a different context. We can see how ELMo embeddings take this into account by assigning two different vectors depending on the context such a word was found in."
      ]
    },
    {
      "cell_type": "code",
      "execution_count": null,
      "metadata": {
        "id": "X-FSQ-Tahr_a"
      },
      "outputs": [],
      "source": [
        "token_bank1 = flair_senteces[0].tokens[6]\n",
        "token_bank2 = flair_senteces[1].tokens[10]\n",
        "\n",
        "print(colored('\\n============= ELMo embedding of BANK in sentence 1 =============', 'blue'))\n",
        "print(token_bank1.embedding)\n",
        "print(colored('\\n============= ELMo embedding of BANK in sentence 2 =============', 'blue'))\n",
        "print(token_bank2.embedding)"
      ]
    },
    {
      "cell_type": "markdown",
      "metadata": {
        "id": "K1uVJDG_i4N1"
      },
      "source": [
        "If we calculate cosine similarity of the words through their embeddings, we can check that the two words are not so similar after all!"
      ]
    },
    {
      "cell_type": "code",
      "execution_count": null,
      "metadata": {
        "id": "S9A3miUonNAv"
      },
      "outputs": [],
      "source": [
        "import torch.nn as nn\n",
        "\n",
        "similarity = nn.CosineSimilarity(dim=0, eps=1e-6)\n",
        "print(similarity(token_bank1.embedding,token_bank2.embedding))"
      ]
    },
    {
      "cell_type": "markdown",
      "metadata": {
        "id": "cWiMySwT509a"
      },
      "source": [
        "We can additionally check the two statements that we mentioned at the beginning of this ELMo section:\n",
        "\n",
        "\n",
        "1.   Word embeddings are duplicated\n",
        "2.   Polysemeic words share their first 1024 dimensions\n",
        "\n"
      ]
    },
    {
      "cell_type": "code",
      "execution_count": null,
      "metadata": {
        "id": "XexP6JSH7xCM"
      },
      "outputs": [],
      "source": [
        "print(token_bank1.embedding[0] == token_bank1.embedding[512])\n",
        "print(token_bank1.embedding[0])\n",
        "print(colored('\\n==========================', 'blue'))\n",
        "print((token_bank1.embedding[:1024] == token_bank2.embedding[:1024]).all())"
      ]
    },
    {
      "cell_type": "markdown",
      "metadata": {
        "id": "ukkFO8dUn0HU"
      },
      "source": [
        "Focusing now on our IMBD reviews, one way of vectorizing them is to take the mean of the word embeddings within a review, as follows:\n",
        "\n",
        "  For each sentence:\n",
        "  - Generate word embedding for each word\n",
        "  - Calculate the mean of the embeddings of each word to obtain the embedding of the sentence\n",
        "\n",
        "In such a case, we need to provide the reviews to be embedded by Flair's ELMo as a list of sentences, rather than as a list of lists of tokens, which is what we have right now. So let's first transform our corpus."
      ]
    },
    {
      "cell_type": "code",
      "execution_count": null,
      "metadata": {
        "id": "CpP9BZOwtgWd"
      },
      "outputs": [],
      "source": [
        "corpus = corpus_df['clean_review'].tolist()\n",
        "corpus_join = [' '.join(i) for i in corpus]\n",
        "print(colored('\\n============= First review in corpus joint =============', 'blue'))\n",
        "corpus_join[0]"
      ]
    },
    {
      "cell_type": "markdown",
      "metadata": {
        "id": "gS14bNhUoY59"
      },
      "source": [
        "The following cell implements the approach above described. Since it takes quite a long time to execute (around 45 minutes), we have saved for you the resulting NumPy array containing the embeddings. You can download them from [here](https://drive.google.com/file/d/1O0GN_V54C7Dl3R2M98Xr0Qi87dpXtLhn/view?usp=sharing). Save them into your Drive so you can unpickle them directly."
      ]
    },
    {
      "cell_type": "code",
      "execution_count": null,
      "metadata": {
        "id": "AQ-Rl1AVI_Cm"
      },
      "outputs": [],
      "source": [
        "%%time\n",
        "\n",
        "################################################################################\n",
        "# Uncomment the following code if you want to perform the calculation\n",
        "################################################################################\n",
        "'''\n",
        "z = token_bank2.embedding.size()[0]\n",
        "s = torch.zeros(0,z) # Tensor for storing sentence embeddings\n",
        "\n",
        "for review in tqdm(corpus_join):\n",
        "  w = torch.zeros(0,z) # Tensor for words\n",
        "  sentence = Sentence(review)\n",
        "  elmo_embedding.embed(sentence)\n",
        "  for token in sentence:\n",
        "    # Store WE of each word in a sentence\n",
        "    w = torch.cat((w,token.embedding.view(-1,z)),0)\n",
        "  # Store SE (mean of embeddings of all words)\n",
        "  s = torch.cat((s, w.mean(dim = 0).view(-1, z)),0)\n",
        "X = s.numpy()\n",
        "'''\n",
        "\n",
        "################################################################################\n",
        "# Comment the following code if you uncommented the code above\n",
        "################################################################################\n",
        "X = unpickler(\"elmo_embeddings_imbd.pickle\")\n",
        "\n",
        "print(f\"The dimensions of the ELMo embeddings are {X.shape[1]}\")"
      ]
    },
    {
      "cell_type": "markdown",
      "metadata": {
        "id": "YCz9-qORqtsP"
      },
      "source": [
        "### *5.2. Sentiment Analysis with Flair's ELMo embeddings*"
      ]
    },
    {
      "cell_type": "markdown",
      "metadata": {
        "id": "WTcPR988q2E8"
      },
      "source": [
        "##### **Exercise 11**\n",
        "\n",
        "Train an SVM classifier with Flair's ELMo embeddings of the IMDB reviews and evaluate its performance. Use the same training and evaluation configuration as in Exercise 5."
      ]
    },
    {
      "cell_type": "code",
      "execution_count": null,
      "metadata": {
        "id": "Xqf8hqP_ABcC"
      },
      "outputs": [],
      "source": [
        "# <SOL>\n",
        "\n",
        "# </SOL>"
      ]
    }
  ],
  "metadata": {
    "colab": {
      "provenance": [],
      "toc_visible": true
    },
    "gpuClass": "standard",
    "kernelspec": {
      "display_name": "Python 3",
      "name": "python3"
    },
    "language_info": {
      "codemirror_mode": {
        "name": "ipython",
        "version": 3
      },
      "file_extension": ".py",
      "mimetype": "text/x-python",
      "name": "python",
      "nbconvert_exporter": "python",
      "pygments_lexer": "ipython3",
      "version": "3.8.18"
    }
  },
  "nbformat": 4,
  "nbformat_minor": 0
}
